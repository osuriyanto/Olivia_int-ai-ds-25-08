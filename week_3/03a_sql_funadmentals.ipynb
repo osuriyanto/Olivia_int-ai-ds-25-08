{
 "cells": [
  {
   "cell_type": "markdown",
   "metadata": {},
   "source": [
    "# **AI TECH INSTITUTE** · *Intermediate AI & Data Science*\n",
    "### Week 3 - Notebook 01: SQL Fundamentals for Absolute Beginners\n",
    "**Instructor:** Amir Charkhi |  **Goal:** SQL Fundamentals\n",
    "\n",
    "> Format: theory → implementation → best practices → real-world application.\n",
    "\n",
    "## Your First Steps into the World of Databases\n",
    "\n",
    "**Learning Objectives:**\n",
    "- Understand what SQL is and why it's essential for data science\n",
    "- Learn how databases differ from CSV/Excel files\n",
    "- Convert pandas DataFrames to SQL databases\n",
    "- Write your first SQL queries\n",
    "- Read from and write to databases using Python\n",
    "- Master the essential SQL commands\n",
    "\n",
    "**Prerequisites:** Basic Python and pandas knowledge\n",
    "\n"
   ]
  },
  {
   "cell_type": "markdown",
   "metadata": {},
   "source": [
    "## 🤔 Why Should I Care About SQL?\n",
    "\n",
    "Imagine you work at Netflix:\n",
    "- **500 million** users\n",
    "- **50 billion** viewing events per month\n",
    "- **10 TB** of data generated daily\n",
    "\n",
    "Can you load this into pandas? **NO!** Your computer would explode! 💥\n",
    "\n",
    "This is where SQL comes in:\n",
    "- Process **billions** of rows without loading them into memory\n",
    "- Query data that's **100x larger** than your RAM\n",
    "- Share data across **teams** without sending files\n",
    "- Get results in **seconds** instead of hours\n",
    "\n",
    "**Bottom line:** If you want a data job, you NEED SQL. It's used by:\n",
    "- 🏢 **Every** tech company (Google, Meta, Amazon, Netflix)\n",
    "- 🏦 **Every** bank and financial institution\n",
    "- 🏥 **Every** healthcare organization\n",
    "- 🛍️ **Every** retail company"
   ]
  },
  {
   "cell_type": "markdown",
   "metadata": {},
   "source": [
    "## 📚 Part 0: Essential Libraries and Tools\n",
    "\n",
    "Let's understand the Python libraries for working with databases."
   ]
  },
  {
   "cell_type": "code",
   "execution_count": 2,
   "metadata": {},
   "outputs": [
    {
     "name": "stdout",
     "output_type": "stream",
     "text": [
      "Collecting sqlalchemy\n",
      "  Downloading sqlalchemy-2.0.43-cp313-cp313-win_amd64.whl.metadata (9.8 kB)\n",
      "Collecting greenlet>=1 (from sqlalchemy)\n",
      "  Downloading greenlet-3.2.4-cp313-cp313-win_amd64.whl.metadata (4.2 kB)\n",
      "Requirement already satisfied: typing-extensions>=4.6.0 in c:\\users\\olivia\\appdata\\local\\programs\\python\\python313\\lib\\site-packages (from sqlalchemy) (4.14.1)\n",
      "Downloading sqlalchemy-2.0.43-cp313-cp313-win_amd64.whl (2.1 MB)\n",
      "   ---------------------------------------- 0.0/2.1 MB ? eta -:--:--\n",
      "   --------- ------------------------------ 0.5/2.1 MB 3.3 MB/s eta 0:00:01\n",
      "   ------------------------ --------------- 1.3/2.1 MB 3.3 MB/s eta 0:00:01\n",
      "   ---------------------------------- ----- 1.8/2.1 MB 3.2 MB/s eta 0:00:01\n",
      "   ---------------------------------------- 2.1/2.1 MB 3.1 MB/s  0:00:00\n",
      "Downloading greenlet-3.2.4-cp313-cp313-win_amd64.whl (299 kB)\n",
      "Installing collected packages: greenlet, sqlalchemy\n",
      "\n",
      "   -------------------- ------------------- 1/2 [sqlalchemy]\n",
      "   -------------------- ------------------- 1/2 [sqlalchemy]\n",
      "   -------------------- ------------------- 1/2 [sqlalchemy]\n",
      "   -------------------- ------------------- 1/2 [sqlalchemy]\n",
      "   -------------------- ------------------- 1/2 [sqlalchemy]\n",
      "   -------------------- ------------------- 1/2 [sqlalchemy]\n",
      "   -------------------- ------------------- 1/2 [sqlalchemy]\n",
      "   -------------------- ------------------- 1/2 [sqlalchemy]\n",
      "   -------------------- ------------------- 1/2 [sqlalchemy]\n",
      "   -------------------- ------------------- 1/2 [sqlalchemy]\n",
      "   -------------------- ------------------- 1/2 [sqlalchemy]\n",
      "   -------------------- ------------------- 1/2 [sqlalchemy]\n",
      "   -------------------- ------------------- 1/2 [sqlalchemy]\n",
      "   ---------------------------------------- 2/2 [sqlalchemy]\n",
      "\n",
      "Successfully installed greenlet-3.2.4 sqlalchemy-2.0.43\n"
     ]
    }
   ],
   "source": [
    "#!pip install sqlalchemy"
   ]
  },
  {
   "cell_type": "code",
   "execution_count": 4,
   "metadata": {},
   "outputs": [
    {
     "name": "stdout",
     "output_type": "stream",
     "text": [
      "📚 Library Guide:\n",
      "\n",
      "1. sqlite3: Built into Python, perfect for learning\n",
      "   - Serverless database (just a file)\n",
      "   - Great for prototypes and small projects\n",
      "   - But not as readily scalable as SQL alchemy\n",
      "\n",
      "2. pandas: Your bridge between Python and SQL\n",
      "   - pd.read_sql(): Read SQL query results into DataFrame\n",
      "   - df.to_sql(): Save DataFrame to database\n",
      "\n",
      "3. sqlalchemy: Professional database toolkit\n",
      "   - Works with any database (PostgreSQL, MySQL, etc.)\n",
      "   - Connection pooling and advanced features\n",
      "\n",
      "✅ All libraries loaded and ready!\n"
     ]
    }
   ],
   "source": [
    "# Essential imports for SQL in Python\n",
    "import pandas as pd\n",
    "import numpy as np\n",
    "import sqlite3  # Built-in SQL database\n",
    "from sqlalchemy import create_engine  # Advanced database toolkit\n",
    "import warnings\n",
    "warnings.filterwarnings('ignore')\n",
    "\n",
    "# For visualization\n",
    "import matplotlib.pyplot as plt\n",
    "import seaborn as sns\n",
    "sns.set_style('whitegrid')\n",
    "\n",
    "print(\"📚 Library Guide:\")\n",
    "print(\"\")\n",
    "print(\"1. sqlite3: Built into Python, perfect for learning\")\n",
    "print(\"   - Serverless database (just a file)\")\n",
    "print(\"   - Great for prototypes and small projects\")\n",
    "print(\"   - But not as readily scalable as SQL alchemy\")\n",
    "print(\"\")\n",
    "print(\"2. pandas: Your bridge between Python and SQL\")\n",
    "print(\"   - pd.read_sql(): Read SQL query results into DataFrame\")\n",
    "print(\"   - df.to_sql(): Save DataFrame to database\")\n",
    "print(\"\")\n",
    "print(\"3. sqlalchemy: Professional database toolkit\")\n",
    "print(\"   - Works with any database (PostgreSQL, MySQL, etc.)\")\n",
    "print(\"   - Connection pooling and advanced features\")\n",
    "print(\"\")\n",
    "print(\"✅ All libraries loaded and ready!\")"
   ]
  },
  {
   "cell_type": "markdown",
   "metadata": {},
   "source": [
    "---\n",
    "\n",
    "## 🗄️ Part 1: What Exactly is SQL?\n",
    "\n",
    "**SQL** = Structured Query Language (pronounced \"sequel\" or \"S-Q-L\")\n",
    "\n",
    "Think of it as **English for talking to databases**."
   ]
  },
  {
   "cell_type": "code",
   "execution_count": 5,
   "metadata": {},
   "outputs": [
    {
     "name": "stdout",
     "output_type": "stream",
     "text": [
      "🎯 SQL vs Pandas Comparison\n",
      "\n",
      "Task: Get all customers from USA\n",
      "\n",
      "PANDAS way:\n",
      "  df[df['country'] == 'USA']\n",
      "\n",
      "SQL way:\n",
      "  SELECT * FROM customers WHERE country = 'USA'\n",
      "\n",
      "💡 SQL reads almost like English!\n",
      "\n",
      "==================================================\n",
      "\n",
      "🔑 Key Concepts:\n",
      "\n",
      "1. DATABASE: A container for tables (like an Excel file)\n",
      "2. TABLE: Structured data (like an Excel sheet or pandas DataFrame)\n",
      "3. ROW: A single record (like a row in pandas)\n",
      "4. COLUMN: A field/attribute (like a column in pandas)\n",
      "5. QUERY: A question you ask the database\n"
     ]
    }
   ],
   "source": [
    "# Let's see SQL in action with a simple example\n",
    "print(\"🎯 SQL vs Pandas Comparison\\n\")\n",
    "print(\"Task: Get all customers from USA\\n\")\n",
    "\n",
    "print(\"PANDAS way:\")\n",
    "print(\"  df[df['country'] == 'USA']\")\n",
    "print(\"\")\n",
    "print(\"SQL way:\")\n",
    "print(\"  SELECT * FROM customers WHERE country = 'USA'\")\n",
    "print(\"\")\n",
    "print(\"💡 SQL reads almost like English!\")\n",
    "print(\"\")\n",
    "print(\"=\"*50)\n",
    "print(\"\")\n",
    "print(\"🔑 Key Concepts:\")\n",
    "print(\"\")\n",
    "print(\"1. DATABASE: A container for tables (like an Excel file)\")\n",
    "print(\"2. TABLE: Structured data (like an Excel sheet or pandas DataFrame)\")\n",
    "print(\"3. ROW: A single record (like a row in pandas)\")\n",
    "print(\"4. COLUMN: A field/attribute (like a column in pandas)\")\n",
    "print(\"5. QUERY: A question you ask the database\")"
   ]
  },
  {
   "cell_type": "markdown",
   "metadata": {},
   "source": [
    "### 1.1 CSV/Excel vs Database - What's the Difference?"
   ]
  },
  {
   "cell_type": "code",
   "execution_count": 6,
   "metadata": {},
   "outputs": [
    {
     "name": "stdout",
     "output_type": "stream",
     "text": [
      "📊 CSV/Excel vs SQL Database:\n",
      "\n",
      "        Aspect             CSV/Excel             SQL Database\n",
      "    Size Limit              ~1M rows         Billions of rows\n",
      "         Speed  Slow for large files         Fast at any size\n",
      "Multiple Users        File conflicts        Concurrent access\n",
      "Data Integrity         No validation      Data types enforced\n",
      " Relationships                Manual             Foreign keys\n",
      "      Querying       Load everything   Get only what you need\n",
      "       Storage Entire file in memory On disk, query in chunks\n",
      "\n",
      "💡 Rule of thumb:\n",
      "  - < 10,000 rows: CSV is fine\n",
      "  - 10,000 - 1M rows: Consider SQL\n",
      "  - > 1M rows: Definitely use SQL\n"
     ]
    }
   ],
   "source": [
    "# Create a comparison table\n",
    "comparison = pd.DataFrame({\n",
    "    'Aspect': ['Size Limit', 'Speed', 'Multiple Users', 'Data Integrity', \n",
    "               'Relationships', 'Querying', 'Storage'],\n",
    "    'CSV/Excel': ['~1M rows', 'Slow for large files', 'File conflicts', \n",
    "                  'No validation', 'Manual', 'Load everything', 'Entire file in memory'],\n",
    "    'SQL Database': ['Billions of rows', 'Fast at any size', 'Concurrent access', \n",
    "                     'Data types enforced', 'Foreign keys', 'Get only what you need', 'On disk, query in chunks']\n",
    "})\n",
    "\n",
    "print(\"📊 CSV/Excel vs SQL Database:\\n\")\n",
    "print(comparison.to_string(index=False))\n",
    "print(\"\\n💡 Rule of thumb:\")\n",
    "print(\"  - < 10,000 rows: CSV is fine\")\n",
    "print(\"  - 10,000 - 1M rows: Consider SQL\")\n",
    "print(\"  - > 1M rows: Definitely use SQL\")"
   ]
  },
  {
   "cell_type": "code",
   "execution_count": 8,
   "metadata": {},
   "outputs": [
    {
     "data": {
      "text/html": [
       "<div>\n",
       "<style scoped>\n",
       "    .dataframe tbody tr th:only-of-type {\n",
       "        vertical-align: middle;\n",
       "    }\n",
       "\n",
       "    .dataframe tbody tr th {\n",
       "        vertical-align: top;\n",
       "    }\n",
       "\n",
       "    .dataframe thead th {\n",
       "        text-align: right;\n",
       "    }\n",
       "</style>\n",
       "<table border=\"1\" class=\"dataframe\">\n",
       "  <thead>\n",
       "    <tr style=\"text-align: right;\">\n",
       "      <th></th>\n",
       "      <th>Aspect</th>\n",
       "      <th>CSV/Excel</th>\n",
       "      <th>SQL Database</th>\n",
       "    </tr>\n",
       "  </thead>\n",
       "  <tbody>\n",
       "    <tr>\n",
       "      <th>0</th>\n",
       "      <td>Size Limit</td>\n",
       "      <td>~1M rows</td>\n",
       "      <td>Billions of rows</td>\n",
       "    </tr>\n",
       "    <tr>\n",
       "      <th>1</th>\n",
       "      <td>Speed</td>\n",
       "      <td>Slow for large files</td>\n",
       "      <td>Fast at any size</td>\n",
       "    </tr>\n",
       "    <tr>\n",
       "      <th>2</th>\n",
       "      <td>Multiple Users</td>\n",
       "      <td>File conflicts</td>\n",
       "      <td>Concurrent access</td>\n",
       "    </tr>\n",
       "    <tr>\n",
       "      <th>3</th>\n",
       "      <td>Data Integrity</td>\n",
       "      <td>No validation</td>\n",
       "      <td>Data types enforced</td>\n",
       "    </tr>\n",
       "    <tr>\n",
       "      <th>4</th>\n",
       "      <td>Relationships</td>\n",
       "      <td>Manual</td>\n",
       "      <td>Foreign keys</td>\n",
       "    </tr>\n",
       "    <tr>\n",
       "      <th>5</th>\n",
       "      <td>Querying</td>\n",
       "      <td>Load everything</td>\n",
       "      <td>Get only what you need</td>\n",
       "    </tr>\n",
       "    <tr>\n",
       "      <th>6</th>\n",
       "      <td>Storage</td>\n",
       "      <td>Entire file in memory</td>\n",
       "      <td>On disk, query in chunks</td>\n",
       "    </tr>\n",
       "  </tbody>\n",
       "</table>\n",
       "</div>"
      ],
      "text/plain": [
       "           Aspect              CSV/Excel              SQL Database\n",
       "0      Size Limit               ~1M rows          Billions of rows\n",
       "1           Speed   Slow for large files          Fast at any size\n",
       "2  Multiple Users         File conflicts         Concurrent access\n",
       "3  Data Integrity          No validation       Data types enforced\n",
       "4   Relationships                 Manual              Foreign keys\n",
       "5        Querying        Load everything    Get only what you need\n",
       "6         Storage  Entire file in memory  On disk, query in chunks"
      ]
     },
     "execution_count": 8,
     "metadata": {},
     "output_type": "execute_result"
    }
   ],
   "source": [
    "comparison.head(10)"
   ]
  },
  {
   "cell_type": "markdown",
   "metadata": {},
   "source": [
    "---\n",
    "\n",
    "## 🏗️ Part 2: Creating Your First Database\n",
    "\n",
    "Let's create a database from scratch and understand how it works!"
   ]
  },
  {
   "cell_type": "markdown",
   "metadata": {},
   "source": [
    "### 2.1 Creating a Database Connection"
   ]
  },
  {
   "cell_type": "code",
   "execution_count": 9,
   "metadata": {},
   "outputs": [
    {
     "name": "stdout",
     "output_type": "stream",
     "text": [
      "🏗️ Creating your first database...\n",
      "\n",
      "✅ Database created!\n",
      "📁 Check your folder - you'll see 'my_first_database.db'\n",
      "\n",
      "🔑 Key Terms:\n",
      "  - CONNECTION: Your link to the database\n",
      "  - CURSOR: Executes SQL commands\n",
      "  - .db FILE: The actual database file\n"
     ]
    }
   ],
   "source": [
    "# Create a database (it's just a file!)\n",
    "print(\"🏗️ Creating your first database...\\n\")\n",
    "\n",
    "# Method 1: Using sqlite3 directly\n",
    "conn = sqlite3.connect('my_first_database.db')  # Creates a file called my_first_database.db\n",
    "cursor = conn.cursor()  # A cursor is like a pointer to execute commands\n",
    "\n",
    "print(\"✅ Database created!\")\n",
    "print(\"📁 Check your folder - you'll see 'my_first_database.db'\")\n",
    "print(\"\")\n",
    "print(\"🔑 Key Terms:\")\n",
    "print(\"  - CONNECTION: Your link to the database\")\n",
    "print(\"  - CURSOR: Executes SQL commands\")\n",
    "print(\"  - .db FILE: The actual database file\")"
   ]
  },
  {
   "cell_type": "markdown",
   "metadata": {},
   "source": [
    "### 2.2 Creating Your First Table"
   ]
  },
  {
   "cell_type": "code",
   "execution_count": 26,
   "metadata": {},
   "outputs": [
    {
     "name": "stdout",
     "output_type": "stream",
     "text": [
      "📋 Creating a table is like defining a DataFrame structure:\n",
      "\n"
     ]
    }
   ],
   "source": [
    "# Create a simple table\n",
    "print(\"📋 Creating a table is like defining a DataFrame structure:\\n\")\n"
   ]
  },
  {
   "cell_type": "code",
   "execution_count": 27,
   "metadata": {},
   "outputs": [
    {
     "data": {
      "text/plain": [
       "<sqlite3.Cursor at 0x1ef964cd340>"
      ]
     },
     "execution_count": 27,
     "metadata": {},
     "output_type": "execute_result"
    }
   ],
   "source": [
    "# Drop table if it exists (for re-running)\n",
    "cursor.execute(\"DROP TABLE IF EXISTS students\")"
   ]
  },
  {
   "cell_type": "code",
   "execution_count": 28,
   "metadata": {},
   "outputs": [
    {
     "data": {
      "text/plain": [
       "<sqlite3.Cursor at 0x1ef964cd340>"
      ]
     },
     "execution_count": 28,
     "metadata": {},
     "output_type": "execute_result"
    }
   ],
   "source": [
    "# Create table with SQL\n",
    "create_table_sql = \"\"\"\n",
    "CREATE TABLE students (\n",
    "    student_id INTEGER PRIMARY KEY,\n",
    "    name TEXT NOT NULL,\n",
    "    age INTEGER,\n",
    "    grade REAL,\n",
    "    enrolled_date DATE\n",
    ")\n",
    "\"\"\"\n",
    "\n",
    "cursor.execute(create_table_sql)\n"
   ]
  },
  {
   "cell_type": "code",
   "execution_count": 29,
   "metadata": {},
   "outputs": [],
   "source": [
    "conn.commit()  # Save changes"
   ]
  },
  {
   "cell_type": "code",
   "execution_count": 30,
   "metadata": {},
   "outputs": [
    {
     "name": "stdout",
     "output_type": "stream",
     "text": [
      "SQL Command:\n",
      "\n",
      "CREATE TABLE students (\n",
      "    student_id INTEGER PRIMARY KEY,\n",
      "    name TEXT NOT NULL,\n",
      "    age INTEGER,\n",
      "    grade REAL,\n",
      "    enrolled_date DATE\n",
      ")\n",
      "\n",
      "\n",
      "✅ Table 'students' created!\n",
      "\n",
      "📚 Data Types in SQL:\n",
      "  - INTEGER: Whole numbers (1, 2, 3)\n",
      "  - REAL/FLOAT: Decimal numbers (3.14, 2.5)\n",
      "  - TEXT/VARCHAR: Text strings ('Hello')\n",
      "  - DATE/DATETIME: Dates and times\n",
      "  - BOOLEAN: True/False\n",
      "\n",
      "🔑 Special Constraints:\n",
      "  - PRIMARY KEY: Unique identifier for each row\n",
      "  - NOT NULL: This field cannot be empty\n",
      "  - UNIQUE: No duplicates allowed\n",
      "  - DEFAULT: Default value if none provided\n"
     ]
    }
   ],
   "source": [
    "print(\"SQL Command:\")\n",
    "print(create_table_sql)\n",
    "print(\"\")\n",
    "print(\"✅ Table 'students' created!\")\n",
    "print(\"\")\n",
    "print(\"📚 Data Types in SQL:\")\n",
    "print(\"  - INTEGER: Whole numbers (1, 2, 3)\")\n",
    "print(\"  - REAL/FLOAT: Decimal numbers (3.14, 2.5)\")\n",
    "print(\"  - TEXT/VARCHAR: Text strings ('Hello')\")\n",
    "print(\"  - DATE/DATETIME: Dates and times\")\n",
    "print(\"  - BOOLEAN: True/False\")\n",
    "print(\"\")\n",
    "print(\"🔑 Special Constraints:\")\n",
    "print(\"  - PRIMARY KEY: Unique identifier for each row\")\n",
    "print(\"  - NOT NULL: This field cannot be empty\")\n",
    "print(\"  - UNIQUE: No duplicates allowed\")\n",
    "print(\"  - DEFAULT: Default value if none provided\")"
   ]
  },
  {
   "cell_type": "markdown",
   "metadata": {},
   "source": [
    "### 2.3 Inserting Data into Tables"
   ]
  },
  {
   "cell_type": "code",
   "execution_count": 31,
   "metadata": {},
   "outputs": [
    {
     "name": "stdout",
     "output_type": "stream",
     "text": [
      "➕ INSERTING DATA\n",
      "\n",
      "Method 1: Insert one row\n",
      "SQL:\n",
      "\n",
      "INSERT INTO students (name, age, grade, enrolled_date)\n",
      "VALUES ('Alice Smith', 20, 85.5, '2024-01-15')\n",
      "\n"
     ]
    }
   ],
   "source": [
    "# Insert data - Method 1: One row at a time\n",
    "print(\"➕ INSERTING DATA\\n\")\n",
    "print(\"Method 1: Insert one row\")\n",
    "\n",
    "insert_sql = \"\"\"\n",
    "INSERT INTO students (name, age, grade, enrolled_date)\n",
    "VALUES ('Alice Smith', 20, 85.5, '2024-01-15')\n",
    "\"\"\"\n",
    "\n",
    "cursor.execute(insert_sql)\n",
    "print(\"SQL:\")\n",
    "print(insert_sql)"
   ]
  },
  {
   "cell_type": "code",
   "execution_count": 36,
   "metadata": {},
   "outputs": [
    {
     "name": "stdout",
     "output_type": "stream",
     "text": [
      "\n",
      "Method 2: Insert multiple rows\n",
      "✅ Inserted 5 students!\n",
      "\n",
      "💡 The '?' are placeholders - this prevents SQL injection attacks!\n"
     ]
    }
   ],
   "source": [
    "# Method 2: Insert multiple rows\n",
    "print(\"\\nMethod 2: Insert multiple rows\")\n",
    "\n",
    "students_data = [\n",
    "    ('Bob Johnson', 21, 92.0, '2024-01-15'),\n",
    "    ('Charlie Brown', 19, 78.5, '2024-01-16'),\n",
    "    ('Diana Prince', 22, 95.0, '2024-01-16'),\n",
    "    ('Eve Wilson', 20, 88.0, '2024-01-17')\n",
    "]\n",
    "\n",
    "cursor.executemany(\n",
    "    \"INSERT INTO students (name, age, grade, enrolled_date) VALUES (?, ?, ?, ?)\",\n",
    "    students_data\n",
    ")\n",
    "\n",
    "conn.commit()  # Don't forget to commit!\n",
    "\n",
    "print(f\"✅ Inserted {len(students_data) + 1} students!\")\n",
    "print(\"\")\n",
    "print(\"💡 The '?' are placeholders - this prevents SQL injection attacks!\")"
   ]
  },
  {
   "cell_type": "code",
   "execution_count": 32,
   "metadata": {},
   "outputs": [],
   "source": [
    "# add one more new row for student\n",
    "new_sql = \"\"\"\n",
    "INSERT INTO students (name, age, grade, enrolled_date)\n",
    "VALUES ('Mickey', 78, 89, '2025-09-09')\n",
    "\"\"\"\n",
    "cursor.execute(new_sql)\n",
    "\n",
    "conn.commit()"
   ]
  },
  {
   "cell_type": "markdown",
   "metadata": {},
   "source": [
    "---\n",
    "\n",
    "## 🔍 Part 3: Your First SQL Queries\n",
    "\n",
    "Time to ask questions to your database!"
   ]
  },
  {
   "cell_type": "markdown",
   "metadata": {},
   "source": [
    "### 3.1 SELECT - Getting Data Out"
   ]
  },
  {
   "cell_type": "code",
   "execution_count": 33,
   "metadata": {},
   "outputs": [
    {
     "name": "stdout",
     "output_type": "stream",
     "text": [
      "Variable           Type          Data/Info\n",
      "------------------------------------------\n",
      "comparison         DataFrame     Shape: (7, 3)\n",
      "conn               Connection    <sqlite3.Connection object at 0x000001EF96303F10>\n",
      "create_engine      function      <function create_engine at 0x000001EF83FCD120>\n",
      "create_table_sql   str           \n",
      "CREATE TABLE students (\n",
      "    student_id INTEGER PRIMARY KEY,\n",
      "    name TEXT NOT NULL,\n",
      "    age INTEGER,\n",
      "    grade REAL,\n",
      "    enrolled_date DATE\n",
      ")\n",
      "\n",
      "cursor             Cursor        <sqlite3.Cursor object at 0x000001EF964CD340>\n",
      "insert_sql         str           \n",
      "INSERT INTO students (name, age, grade, enrolled_date)\n",
      "VALUES ('Alice Smith', 20, 85.5, '2024-01-15')\n",
      "\n",
      "new_sql            str           \n",
      "INSERT INTO students (name, age, grade, enrolled_date)\n",
      "VALUES ('Mickey', 78, 89, '2025-09-09')\n",
      "\n",
      "np                 module        Shape: <function shape at 0x000001EFFF2F1440>\n",
      "pd                 module        <module 'pandas' from 'C:<...>es\\\\pandas\\\\__init__.py'>\n",
      "plt                module        <module 'matplotlib.pyplo<...>\\\\matplotlib\\\\pyplot.py'>\n",
      "query              str           \n",
      "SELECT * FROM students\n",
      "\n",
      "query2             str           SELECT name, enrolled_date FROM students WHERE enrolled_date > '2024-01-16'\n",
      "query4             str           SELECT name, grade FROM students WHERE enrolled_date > '2024-01-16'\n",
      "query5             str           SELECT name FROM sqlite_master WHERE type='table'\n",
      "result4            DataFrame     Shape: (2, 2)\n",
      "sns                module        <module 'seaborn' from 'C<...>s\\\\seaborn\\\\__init__.py'>\n",
      "sqlite3            module        <module 'sqlite3' from 'C<...>b\\\\sqlite3\\\\__init__.py'>\n",
      "students_data      list          n=4\n",
      "tables             DataFrame     Shape: (1, 1)\n",
      "warnings           module        <module 'warnings' from '<...>on313\\\\Lib\\\\warnings.py'>\n"
     ]
    }
   ],
   "source": [
    "whos"
   ]
  },
  {
   "cell_type": "code",
   "execution_count": 37,
   "metadata": {},
   "outputs": [
    {
     "data": {
      "text/html": [
       "<div>\n",
       "<style scoped>\n",
       "    .dataframe tbody tr th:only-of-type {\n",
       "        vertical-align: middle;\n",
       "    }\n",
       "\n",
       "    .dataframe tbody tr th {\n",
       "        vertical-align: top;\n",
       "    }\n",
       "\n",
       "    .dataframe thead th {\n",
       "        text-align: right;\n",
       "    }\n",
       "</style>\n",
       "<table border=\"1\" class=\"dataframe\">\n",
       "  <thead>\n",
       "    <tr style=\"text-align: right;\">\n",
       "      <th></th>\n",
       "      <th>student_id</th>\n",
       "      <th>name</th>\n",
       "      <th>age</th>\n",
       "      <th>grade</th>\n",
       "      <th>enrolled_date</th>\n",
       "    </tr>\n",
       "  </thead>\n",
       "  <tbody>\n",
       "    <tr>\n",
       "      <th>0</th>\n",
       "      <td>1</td>\n",
       "      <td>Alice Smith</td>\n",
       "      <td>20</td>\n",
       "      <td>85.5</td>\n",
       "      <td>2024-01-15</td>\n",
       "    </tr>\n",
       "    <tr>\n",
       "      <th>1</th>\n",
       "      <td>2</td>\n",
       "      <td>Mickey</td>\n",
       "      <td>78</td>\n",
       "      <td>89.0</td>\n",
       "      <td>2025-09-09</td>\n",
       "    </tr>\n",
       "    <tr>\n",
       "      <th>2</th>\n",
       "      <td>3</td>\n",
       "      <td>Bob Johnson</td>\n",
       "      <td>21</td>\n",
       "      <td>92.0</td>\n",
       "      <td>2024-01-15</td>\n",
       "    </tr>\n",
       "    <tr>\n",
       "      <th>3</th>\n",
       "      <td>4</td>\n",
       "      <td>Charlie Brown</td>\n",
       "      <td>19</td>\n",
       "      <td>78.5</td>\n",
       "      <td>2024-01-16</td>\n",
       "    </tr>\n",
       "    <tr>\n",
       "      <th>4</th>\n",
       "      <td>5</td>\n",
       "      <td>Diana Prince</td>\n",
       "      <td>22</td>\n",
       "      <td>95.0</td>\n",
       "      <td>2024-01-16</td>\n",
       "    </tr>\n",
       "    <tr>\n",
       "      <th>5</th>\n",
       "      <td>6</td>\n",
       "      <td>Eve Wilson</td>\n",
       "      <td>20</td>\n",
       "      <td>88.0</td>\n",
       "      <td>2024-01-17</td>\n",
       "    </tr>\n",
       "  </tbody>\n",
       "</table>\n",
       "</div>"
      ],
      "text/plain": [
       "   student_id           name  age  grade enrolled_date\n",
       "0           1    Alice Smith   20   85.5    2024-01-15\n",
       "1           2         Mickey   78   89.0    2025-09-09\n",
       "2           3    Bob Johnson   21   92.0    2024-01-15\n",
       "3           4  Charlie Brown   19   78.5    2024-01-16\n",
       "4           5   Diana Prince   22   95.0    2024-01-16\n",
       "5           6     Eve Wilson   20   88.0    2024-01-17"
      ]
     },
     "execution_count": 37,
     "metadata": {},
     "output_type": "execute_result"
    }
   ],
   "source": [
    "# select all rows\n",
    "\n",
    "query = \"SELECT * FROM students\"\n",
    "\n",
    "pd.read_sql(query, conn)"
   ]
  },
  {
   "cell_type": "code",
   "execution_count": 38,
   "metadata": {},
   "outputs": [
    {
     "data": {
      "text/html": [
       "<div>\n",
       "<style scoped>\n",
       "    .dataframe tbody tr th:only-of-type {\n",
       "        vertical-align: middle;\n",
       "    }\n",
       "\n",
       "    .dataframe tbody tr th {\n",
       "        vertical-align: top;\n",
       "    }\n",
       "\n",
       "    .dataframe thead th {\n",
       "        text-align: right;\n",
       "    }\n",
       "</style>\n",
       "<table border=\"1\" class=\"dataframe\">\n",
       "  <thead>\n",
       "    <tr style=\"text-align: right;\">\n",
       "      <th></th>\n",
       "      <th>name</th>\n",
       "      <th>enrolled_date</th>\n",
       "    </tr>\n",
       "  </thead>\n",
       "  <tbody>\n",
       "    <tr>\n",
       "      <th>0</th>\n",
       "      <td>Mickey</td>\n",
       "      <td>2025-09-09</td>\n",
       "    </tr>\n",
       "    <tr>\n",
       "      <th>1</th>\n",
       "      <td>Eve Wilson</td>\n",
       "      <td>2024-01-17</td>\n",
       "    </tr>\n",
       "  </tbody>\n",
       "</table>\n",
       "</div>"
      ],
      "text/plain": [
       "         name enrolled_date\n",
       "0      Mickey    2025-09-09\n",
       "1  Eve Wilson    2024-01-17"
      ]
     },
     "execution_count": 38,
     "metadata": {},
     "output_type": "execute_result"
    }
   ],
   "source": [
    "query2 = \"SELECT name, enrolled_date FROM students WHERE enrolled_date > '2024-01-16'\"\n",
    "pd.read_sql(query2, conn)"
   ]
  },
  {
   "cell_type": "code",
   "execution_count": 39,
   "metadata": {},
   "outputs": [
    {
     "name": "stdout",
     "output_type": "stream",
     "text": [
      "SQL:          name  grade\n",
      "0      Mickey   89.0\n",
      "1  Eve Wilson   88.0\n"
     ]
    }
   ],
   "source": [
    "query4 = \"SELECT name, grade FROM students WHERE enrolled_date > '2024-01-16'\"\n",
    "result4 = pd.read_sql(query4, conn)\n",
    "print(f\"SQL: {result4}\")"
   ]
  },
  {
   "cell_type": "code",
   "execution_count": 40,
   "metadata": {},
   "outputs": [
    {
     "data": {
      "text/html": [
       "<div>\n",
       "<style scoped>\n",
       "    .dataframe tbody tr th:only-of-type {\n",
       "        vertical-align: middle;\n",
       "    }\n",
       "\n",
       "    .dataframe tbody tr th {\n",
       "        vertical-align: top;\n",
       "    }\n",
       "\n",
       "    .dataframe thead th {\n",
       "        text-align: right;\n",
       "    }\n",
       "</style>\n",
       "<table border=\"1\" class=\"dataframe\">\n",
       "  <thead>\n",
       "    <tr style=\"text-align: right;\">\n",
       "      <th></th>\n",
       "      <th>name</th>\n",
       "    </tr>\n",
       "  </thead>\n",
       "  <tbody>\n",
       "    <tr>\n",
       "      <th>0</th>\n",
       "      <td>students</td>\n",
       "    </tr>\n",
       "  </tbody>\n",
       "</table>\n",
       "</div>"
      ],
      "text/plain": [
       "       name\n",
       "0  students"
      ]
     },
     "execution_count": 40,
     "metadata": {},
     "output_type": "execute_result"
    }
   ],
   "source": [
    "# checking the name of tables\n",
    "query5 = \"SELECT name FROM sqlite_master WHERE type='table'\"\n",
    "tables = pd.read_sql(query5, conn)\n",
    "tables"
   ]
  },
  {
   "cell_type": "code",
   "execution_count": 41,
   "metadata": {},
   "outputs": [
    {
     "name": "stdout",
     "output_type": "stream",
     "text": [
      "🔍 SELECT QUERIES - The Foundation of SQL\n",
      "\n",
      "1️⃣ Get all data (SELECT *)\n",
      "SQL: SELECT * FROM students\n",
      "Result:\n",
      "   student_id           name  age  grade enrolled_date\n",
      "0           1    Alice Smith   20   85.5    2024-01-15\n",
      "1           2         Mickey   78   89.0    2025-09-09\n",
      "2           3    Bob Johnson   21   92.0    2024-01-15\n",
      "3           4  Charlie Brown   19   78.5    2024-01-16\n",
      "4           5   Diana Prince   22   95.0    2024-01-16\n",
      "5           6     Eve Wilson   20   88.0    2024-01-17\n",
      "\n",
      "==================================================\n",
      "\n",
      "2️⃣ Get specific columns\n",
      "SQL: SELECT name, grade FROM students\n",
      "Result:\n",
      "            name  grade\n",
      "0    Alice Smith   85.5\n",
      "1         Mickey   89.0\n",
      "2    Bob Johnson   92.0\n",
      "3  Charlie Brown   78.5\n",
      "4   Diana Prince   95.0\n",
      "5     Eve Wilson   88.0\n",
      "\n",
      "==================================================\n",
      "\n",
      "3️⃣ Filter with WHERE\n",
      "SQL: SELECT name, grade FROM students WHERE grade > 85\n",
      "Result:\n",
      "           name  grade\n",
      "0   Alice Smith   85.5\n",
      "1        Mickey   89.0\n",
      "2   Bob Johnson   92.0\n",
      "3  Diana Prince   95.0\n",
      "4    Eve Wilson   88.0\n",
      "\n",
      "💡 SELECT is like df[columns] in pandas\n",
      "💡 WHERE is like df[df['column'] > value] in pandas\n"
     ]
    }
   ],
   "source": [
    "print(\"🔍 SELECT QUERIES - The Foundation of SQL\\n\")\n",
    "\n",
    "# Query 1: Get everything\n",
    "print(\"1️⃣ Get all data (SELECT *)\")\n",
    "query1 = \"SELECT * FROM students\"\n",
    "result1 = pd.read_sql(query1, conn)\n",
    "print(f\"SQL: {query1}\")\n",
    "print(\"Result:\")\n",
    "print(result1)\n",
    "print(\"\\n\" + \"=\"*50 + \"\\n\")\n",
    "\n",
    "# Query 2: Get specific columns\n",
    "print(\"2️⃣ Get specific columns\")\n",
    "query2 = \"SELECT name, grade FROM students\"\n",
    "result2 = pd.read_sql(query2, conn)\n",
    "print(f\"SQL: {query2}\")\n",
    "print(\"Result:\")\n",
    "print(result2)\n",
    "print(\"\\n\" + \"=\"*50 + \"\\n\")\n",
    "\n",
    "# Query 3: Get with conditions (WHERE)\n",
    "print(\"3️⃣ Filter with WHERE\")\n",
    "query3 = \"SELECT name, grade FROM students WHERE grade > 85\"\n",
    "result3 = pd.read_sql(query3, conn)\n",
    "print(f\"SQL: {query3}\")\n",
    "print(\"Result:\")\n",
    "print(result3)\n",
    "\n",
    "print(\"\\n💡 SELECT is like df[columns] in pandas\")\n",
    "print(\"💡 WHERE is like df[df['column'] > value] in pandas\")"
   ]
  },
  {
   "cell_type": "markdown",
   "metadata": {},
   "source": [
    "### 3.2 WHERE Conditions - Filtering Data"
   ]
  },
  {
   "cell_type": "code",
   "execution_count": 42,
   "metadata": {},
   "outputs": [
    {
     "name": "stdout",
     "output_type": "stream",
     "text": [
      "🎯 WHERE CLAUSE - Your Data Filter\n",
      "\n",
      "📌 Equals:\n",
      "   SQL:    SELECT * FROM students WHERE age = 20\n",
      "   Pandas: df[df['age'] == 20]\n",
      "\n",
      "📌 Not equals:\n",
      "   SQL:    SELECT * FROM students WHERE age != 20\n",
      "   Pandas: df[df['age'] != 20]\n",
      "\n",
      "📌 Greater than:\n",
      "   SQL:    SELECT * FROM students WHERE grade > 80\n",
      "   Pandas: df[df['grade'] > 80]\n",
      "\n",
      "📌 Less than:\n",
      "   SQL:    SELECT * FROM students WHERE age < 21\n",
      "   Pandas: df[df['age'] < 21]\n",
      "\n",
      "📌 BETWEEN:\n",
      "   SQL:    SELECT * FROM students WHERE grade BETWEEN 80 AND 90\n",
      "   Pandas: df[(df['grade'] >= 80) & (df['grade'] <= 90)]\n",
      "\n",
      "📌 IN list:\n",
      "   SQL:    SELECT * FROM students WHERE age IN (19, 20, 21)\n",
      "   Pandas: df[df['age'].isin([19, 20, 21])]\n",
      "\n",
      "📌 LIKE pattern:\n",
      "   SQL:    SELECT * FROM students WHERE name LIKE 'A%'\n",
      "   Pandas: df[df['name'].str.startswith('A')]\n",
      "\n",
      "📌 AND:\n",
      "   SQL:    SELECT * FROM students WHERE age > 19 AND grade > 80\n",
      "   Pandas: df[(df['age'] > 19) & (df['grade'] > 80)]\n",
      "\n",
      "📌 OR:\n",
      "   SQL:    SELECT * FROM students WHERE age < 20 OR grade > 90\n",
      "   Pandas: df[(df['age'] < 20) | (df['grade'] > 90)]\n",
      "\n",
      "\n",
      "🔥 Real Example:\n",
      "SQL:\n",
      "\n",
      "SELECT name, age, grade \n",
      "FROM students \n",
      "WHERE grade > 80 \n",
      "  AND age <= 21\n",
      "  AND name LIKE '%e%'\n",
      "\n",
      "\n",
      "Result:\n",
      "          name  age  grade\n",
      "0  Alice Smith   20   85.5\n",
      "1   Eve Wilson   20   88.0\n"
     ]
    }
   ],
   "source": [
    "print(\"🎯 WHERE CLAUSE - Your Data Filter\\n\")\n",
    "\n",
    "# Different types of conditions\n",
    "conditions = [\n",
    "    (\"Equals\", \"WHERE age = 20\", \"df[df['age'] == 20]\"),\n",
    "    (\"Not equals\", \"WHERE age != 20\", \"df[df['age'] != 20]\"),\n",
    "    (\"Greater than\", \"WHERE grade > 80\", \"df[df['grade'] > 80]\"),\n",
    "    (\"Less than\", \"WHERE age < 21\", \"df[df['age'] < 21]\"),\n",
    "    (\"BETWEEN\", \"WHERE grade BETWEEN 80 AND 90\", \"df[(df['grade'] >= 80) & (df['grade'] <= 90)]\"),\n",
    "    (\"IN list\", \"WHERE age IN (19, 20, 21)\", \"df[df['age'].isin([19, 20, 21])]\"),\n",
    "    (\"LIKE pattern\", \"WHERE name LIKE 'A%'\", \"df[df['name'].str.startswith('A')]\"),\n",
    "    (\"AND\", \"WHERE age > 19 AND grade > 80\", \"df[(df['age'] > 19) & (df['grade'] > 80)]\"),\n",
    "    (\"OR\", \"WHERE age < 20 OR grade > 90\", \"df[(df['age'] < 20) | (df['grade'] > 90)]\")\n",
    "]\n",
    "\n",
    "for condition_name, sql_example, pandas_equivalent in conditions:\n",
    "    print(f\"📌 {condition_name}:\")\n",
    "    print(f\"   SQL:    SELECT * FROM students {sql_example}\")\n",
    "    print(f\"   Pandas: {pandas_equivalent}\")\n",
    "    print()\n",
    "\n",
    "# Example with multiple conditions\n",
    "print(\"\\n🔥 Real Example:\")\n",
    "complex_query = \"\"\"\n",
    "SELECT name, age, grade \n",
    "FROM students \n",
    "WHERE grade > 80 \n",
    "  AND age <= 21\n",
    "  AND name LIKE '%e%'\n",
    "\"\"\"\n",
    "result = pd.read_sql(complex_query, conn)\n",
    "print(\"SQL:\")\n",
    "print(complex_query)\n",
    "print(\"\\nResult:\")\n",
    "print(result)"
   ]
  },
  {
   "cell_type": "markdown",
   "metadata": {},
   "source": [
    "### 3.3 ORDER BY - Sorting Results"
   ]
  },
  {
   "cell_type": "code",
   "execution_count": 43,
   "metadata": {},
   "outputs": [
    {
     "name": "stdout",
     "output_type": "stream",
     "text": [
      "📊 ORDER BY - Sorting Your Results\n",
      "\n",
      "1️⃣ Sort by grade (descending)\n",
      "SQL:\n",
      "\n",
      "SELECT name, grade \n",
      "FROM students \n",
      "ORDER BY grade DESC\n",
      "\n",
      "\n",
      "Result:\n",
      "            name  grade\n",
      "0   Diana Prince   95.0\n",
      "1    Bob Johnson   92.0\n",
      "2         Mickey   89.0\n",
      "3     Eve Wilson   88.0\n",
      "4    Alice Smith   85.5\n",
      "5  Charlie Brown   78.5\n",
      "\n",
      "Pandas equivalent: df.sort_values('grade', ascending=False)\n",
      "\n",
      "==================================================\n",
      "\n",
      "2️⃣ Sort by multiple columns\n",
      "SQL:\n",
      "\n",
      "SELECT name, age, grade \n",
      "FROM students \n",
      "ORDER BY age ASC, grade DESC\n",
      "\n",
      "\n",
      "Result:\n",
      "            name  age  grade\n",
      "0  Charlie Brown   19   78.5\n",
      "1     Eve Wilson   20   88.0\n",
      "2    Alice Smith   20   85.5\n",
      "3    Bob Johnson   21   92.0\n",
      "4   Diana Prince   22   95.0\n",
      "5         Mickey   78   89.0\n",
      "\n",
      "Pandas equivalent: df.sort_values(['age', 'grade'], ascending=[True, False])\n"
     ]
    }
   ],
   "source": [
    "print(\"📊 ORDER BY - Sorting Your Results\\n\")\n",
    "\n",
    "# Sort by grade (highest first)\n",
    "print(\"1️⃣ Sort by grade (descending)\")\n",
    "query1 = \"\"\"\n",
    "SELECT name, grade \n",
    "FROM students \n",
    "ORDER BY grade DESC\n",
    "\"\"\"\n",
    "result1 = pd.read_sql(query1, conn)\n",
    "print(\"SQL:\")\n",
    "print(query1)\n",
    "print(\"\\nResult:\")\n",
    "print(result1)\n",
    "print(\"\\nPandas equivalent: df.sort_values('grade', ascending=False)\")\n",
    "print(\"\\n\" + \"=\"*50 + \"\\n\")\n",
    "\n",
    "# Sort by multiple columns\n",
    "print(\"2️⃣ Sort by multiple columns\")\n",
    "query2 = \"\"\"\n",
    "SELECT name, age, grade \n",
    "FROM students \n",
    "ORDER BY age ASC, grade DESC\n",
    "\"\"\"\n",
    "result2 = pd.read_sql(query2, conn)\n",
    "print(\"SQL:\")\n",
    "print(query2)\n",
    "print(\"\\nResult:\")\n",
    "print(result2)\n",
    "print(\"\\nPandas equivalent: df.sort_values(['age', 'grade'], ascending=[True, False])\")"
   ]
  },
  {
   "cell_type": "markdown",
   "metadata": {},
   "source": [
    "### 3.4 Aggregate Functions - Summarizing Data"
   ]
  },
  {
   "cell_type": "code",
   "execution_count": 49,
   "metadata": {},
   "outputs": [
    {
     "name": "stdout",
     "output_type": "stream",
     "text": [
      "📈 AGGREGATE FUNCTIONS - Data Summaries\n",
      "\n",
      "📊 COUNT:\n",
      "   SQL: SELECT COUNT(*) as total_students FROM students\n",
      "   Result: 6\n",
      "   Pandas: len(df)\n",
      "\n",
      "📊 SUM:\n",
      "   SQL: SELECT SUM(grade) as total_grades FROM students\n",
      "   Result: 528.0\n",
      "   Pandas: df['grade'].sum()\n",
      "\n",
      "📊 AVG:\n",
      "   SQL: SELECT AVG(grade) as average_grade FROM students\n",
      "   Result: 88.0\n",
      "   Pandas: df['grade'].mean()\n",
      "\n",
      "📊 MAX:\n",
      "   SQL: SELECT MAX(grade) as highest_grade FROM students\n",
      "   Result: 95.0\n",
      "   Pandas: df['grade'].max()\n",
      "\n",
      "📊 MIN:\n",
      "   SQL: SELECT MIN(age) as youngest_age FROM students\n",
      "   Result: 19\n",
      "   Pandas: df['age'].min()\n",
      "\n",
      "\n",
      "🔥 Multiple aggregations:\n",
      "SQL:\n",
      "\n",
      "SELECT \n",
      "    COUNT(*) as total_students,\n",
      "    AVG(age) as avg_age,\n",
      "    AVG(grade) as avg_grade,\n",
      "    MIN(grade) as min_grade,\n",
      "    MAX(grade) as max_grade\n",
      "FROM students\n",
      "\n",
      "\n",
      "Result:\n",
      "   total_students  avg_age  avg_grade  min_grade  max_grade\n",
      "0               6     30.0       88.0       78.5       95.0\n"
     ]
    }
   ],
   "source": [
    "print(\"📈 AGGREGATE FUNCTIONS - Data Summaries\\n\")\n",
    "\n",
    "# Common aggregate functions\n",
    "aggregates = [\n",
    "    (\"COUNT\", \"SELECT COUNT(*) as total_students FROM students\", \"len(df)\"),\n",
    "    (\"SUM\", \"SELECT SUM(grade) as total_grades FROM students\", \"df['grade'].sum()\"),\n",
    "    (\"AVG\", \"SELECT AVG(grade) as average_grade FROM students\", \"df['grade'].mean()\"),\n",
    "    (\"MAX\", \"SELECT MAX(grade) as highest_grade FROM students\", \"df['grade'].max()\"),\n",
    "    (\"MIN\", \"SELECT MIN(age) as youngest_age FROM students\", \"df['age'].min()\")\n",
    "]\n",
    "\n",
    "for func_name, sql_query, pandas_equiv in aggregates:\n",
    "    result = pd.read_sql(sql_query, conn)\n",
    "    print(f\"📊 {func_name}:\")\n",
    "    print(f\"   SQL: {sql_query}\")\n",
    "    print(f\"   Result: {result.iloc[0, 0] if func_name in ['AVG', 'SUM'] else result.iloc[0, 0]}\")\n",
    "    print(f\"   Pandas: {pandas_equiv}\")\n",
    "    print()\n",
    "\n",
    "# All together\n",
    "print(\"\\n🔥 Multiple aggregations:\")\n",
    "summary_query = \"\"\"\n",
    "SELECT \n",
    "    COUNT(*) as total_students,\n",
    "    AVG(age) as avg_age,\n",
    "    AVG(grade) as avg_grade,\n",
    "    MIN(grade) as min_grade,\n",
    "    MAX(grade) as max_grade\n",
    "FROM students\n",
    "\"\"\"\n",
    "summary = pd.read_sql(summary_query, conn)\n",
    "print(\"SQL:\")\n",
    "print(summary_query)\n",
    "print(\"\\nResult:\")\n",
    "print(summary)"
   ]
  },
  {
   "cell_type": "markdown",
   "metadata": {},
   "source": [
    "### 3.5 GROUP BY - Grouping Data"
   ]
  },
  {
   "cell_type": "code",
   "execution_count": 52,
   "metadata": {},
   "outputs": [
    {
     "name": "stdout",
     "output_type": "stream",
     "text": [
      "👥 GROUP BY - Analyzing Groups\n",
      "\n",
      "Average grade by department:\n",
      "SQL:\n",
      "\n",
      "SELECT \n",
      "    department,\n",
      "    COUNT(*) as student_count,\n",
      "    AVG(grade) as avg_grade,\n",
      "    MAX(grade) as top_grade\n",
      "FROM students\n",
      "GROUP BY department\n",
      "ORDER BY avg_grade DESC\n",
      "\n",
      "\n",
      "Result:\n",
      "    department  student_count  avg_grade  top_grade\n",
      "0      Science              2       92.0       95.0\n",
      "1         Arts              1       92.0       92.0\n",
      "2         None              1       88.0       88.0\n",
      "3  Engineering              2       82.0       85.5\n",
      "\n",
      "Pandas equivalent:\n",
      "df.groupby('department').agg({\n",
      "    'grade': ['count', 'mean', 'max']\n",
      "})\n"
     ]
    }
   ],
   "source": [
    "print(\"👥 GROUP BY - Analyzing Groups\\n\")\n",
    "\n",
    "# First, let's add a department column for grouping\n",
    "cursor.execute(\"ALTER TABLE students ADD COLUMN department TEXT\")\n",
    "departments = ['Engineering', 'Science', 'Arts', 'Engineering', 'Science']\n",
    "for i, dept in enumerate(departments, 1):\n",
    "    cursor.execute(f\"UPDATE students SET department = '{dept}' WHERE student_id = {i}\")\n",
    "conn.commit()\n",
    "\n",
    "# Now let's group!\n",
    "print(\"Average grade by department:\")\n",
    "group_query = \"\"\"\n",
    "SELECT \n",
    "    department,\n",
    "    COUNT(*) as student_count,\n",
    "    AVG(grade) as avg_grade,\n",
    "    MAX(grade) as top_grade\n",
    "FROM students\n",
    "GROUP BY department\n",
    "ORDER BY avg_grade DESC\n",
    "\"\"\"\n",
    "\n",
    "result = pd.read_sql(group_query, conn)\n",
    "print(\"SQL:\")\n",
    "print(group_query)\n",
    "print(\"\\nResult:\")\n",
    "print(result)\n",
    "print(\"\\nPandas equivalent:\")\n",
    "print(\"df.groupby('department').agg({\")\n",
    "print(\"    'grade': ['count', 'mean', 'max']\")\n",
    "print(\"})\")"
   ]
  },
  {
   "cell_type": "markdown",
   "metadata": {},
   "source": [
    "---\n",
    "\n",
    "## 🔄 Part 4: Converting Between Pandas and SQL\n",
    "\n",
    "The real power comes from seamlessly moving between pandas and SQL!"
   ]
  },
  {
   "cell_type": "markdown",
   "metadata": {},
   "source": [
    "### 4.1 DataFrame to SQL Database"
   ]
  },
  {
   "cell_type": "code",
   "execution_count": 54,
   "metadata": {},
   "outputs": [
    {
     "name": "stdout",
     "output_type": "stream",
     "text": [
      "🔄 CONVERTING PANDAS TO SQL\n",
      "\n",
      "📊 Original DataFrame:\n",
      "        date product  quantity   price  customer_id  revenue\n",
      "0 2024-01-01  Laptop         4  452.17            4  1808.68\n",
      "1 2024-01-02   Phone         2  561.11            3  1122.22\n",
      "2 2024-01-03   Phone         2  567.07            4  1134.14\n",
      "3 2024-01-04   Phone         8  433.13            2  3465.04\n",
      "4 2024-01-05   Phone         9  851.50            7  7663.50\n",
      "\n",
      "Shape: (30, 6)\n",
      "\n",
      "💾 Saving to SQL...\n",
      "✅ DataFrame saved to SQL!\n",
      "\n",
      "🔍 Verification: 30 rows in SQL table\n",
      "\n",
      "📝 Key Parameters for to_sql():\n",
      "  - name: Table name in database\n",
      "  - con: Database connection\n",
      "  - if_exists: 'fail', 'replace', or 'append'\n",
      "  - index: Save DataFrame index as column?\n",
      "  - dtype: Specify SQL data types\n",
      "  - method: How to insert (default is best)\n"
     ]
    }
   ],
   "source": [
    "print(\"🔄 CONVERTING PANDAS TO SQL\\n\")\n",
    "\n",
    "# Create a sample DataFrame\n",
    "sales_data = pd.DataFrame({\n",
    "    'date': pd.date_range('2024-01-01', periods=30, freq='D'),\n",
    "    'product': np.random.choice(['Laptop', 'Phone', 'Tablet'], 30),\n",
    "    'quantity': np.random.randint(1, 10, 30),\n",
    "    'price': np.random.uniform(100, 1000, 30).round(2),\n",
    "    'customer_id': np.random.randint(1, 10, 30)\n",
    "})\n",
    "\n",
    "# Calculate revenue\n",
    "sales_data['revenue'] = sales_data['quantity'] * sales_data['price']\n",
    "\n",
    "print(\"📊 Original DataFrame:\")\n",
    "print(sales_data.head())\n",
    "print(f\"\\nShape: {sales_data.shape}\")\n",
    "\n",
    "# Save to SQL database\n",
    "print(\"\\n💾 Saving to SQL...\")\n",
    "sales_data.to_sql(\n",
    "    name='sales',           # Table name\n",
    "    con=conn,               # Database connection\n",
    "    if_exists='replace',    # Replace if table exists\n",
    "    index=False            # Don't save the index\n",
    ")\n",
    "\n",
    "print(\"✅ DataFrame saved to SQL!\")\n",
    "\n",
    "# Verify it worked\n",
    "verify_query = \"SELECT COUNT(*) as row_count FROM sales\"\n",
    "result = pd.read_sql(verify_query, conn)\n",
    "print(f\"\\n🔍 Verification: {result.iloc[0, 0]} rows in SQL table\")\n",
    "\n",
    "print(\"\\n📝 Key Parameters for to_sql():\")\n",
    "print(\"  - name: Table name in database\")\n",
    "print(\"  - con: Database connection\")\n",
    "print(\"  - if_exists: 'fail', 'replace', or 'append'\")\n",
    "print(\"  - index: Save DataFrame index as column?\")\n",
    "print(\"  - dtype: Specify SQL data types\")\n",
    "print(\"  - method: How to insert (default is best)\")"
   ]
  },
  {
   "cell_type": "markdown",
   "metadata": {},
   "source": [
    "### 4.2 SQL Query Results to DataFrame"
   ]
  },
  {
   "cell_type": "code",
   "execution_count": 55,
   "metadata": {},
   "outputs": [
    {
     "name": "stdout",
     "output_type": "stream",
     "text": [
      "📥 READING SQL INTO PANDAS\n",
      "\n",
      "1️⃣ Simple Query:\n",
      "Query: SELECT * FROM sales WHERE quantity > 5\n",
      "Result shape: (15, 6)\n",
      "                  date product  quantity   price  customer_id  revenue\n",
      "0  2024-01-04 00:00:00   Phone         8  433.13            2  3465.04\n",
      "1  2024-01-05 00:00:00   Phone         9  851.50            7  7663.50\n",
      "2  2024-01-06 00:00:00   Phone         6  130.20            5   781.20\n",
      "3  2024-01-07 00:00:00   Phone         6  144.74            3   868.44\n",
      "4  2024-01-08 00:00:00   Phone         8  580.97            4  4647.76\n",
      "\n",
      "==================================================\n",
      "\n",
      "2️⃣ Complex Query:\n",
      "Query: [Complex aggregation query]\n",
      "\n",
      "Result:\n",
      "  product  total_sales  total_quantity   avg_price  total_revenue\n",
      "0   Phone           13              68  474.267692       32703.93\n",
      "1  Tablet           10              52  533.499000       28681.51\n",
      "2  Laptop            7              38  501.705714       17849.20\n",
      "\n",
      "🎯 Now we can use pandas on the SQL results:\n",
      "Most profitable product: Phone\n",
      "Total revenue across all products: $79,234.64\n"
     ]
    }
   ],
   "source": [
    "print(\"📥 READING SQL INTO PANDAS\\n\")\n",
    "\n",
    "# Method 1: Simple query\n",
    "print(\"1️⃣ Simple Query:\")\n",
    "query = \"SELECT * FROM sales WHERE quantity > 5\"\n",
    "df1 = pd.read_sql(query, conn)\n",
    "print(f\"Query: {query}\")\n",
    "print(f\"Result shape: {df1.shape}\")\n",
    "print(df1.head())\n",
    "\n",
    "print(\"\\n\" + \"=\"*50 + \"\\n\")\n",
    "\n",
    "# Method 2: Complex query with aggregation\n",
    "print(\"2️⃣ Complex Query:\")\n",
    "complex_query = \"\"\"\n",
    "SELECT \n",
    "    product,\n",
    "    COUNT(*) as total_sales,\n",
    "    SUM(quantity) as total_quantity,\n",
    "    AVG(price) as avg_price,\n",
    "    SUM(revenue) as total_revenue\n",
    "FROM sales\n",
    "GROUP BY product\n",
    "ORDER BY total_revenue DESC\n",
    "\"\"\"\n",
    "\n",
    "df2 = pd.read_sql(complex_query, conn)\n",
    "print(\"Query: [Complex aggregation query]\")\n",
    "print(\"\\nResult:\")\n",
    "print(df2)\n",
    "\n",
    "# Now we can use pandas operations on the result!\n",
    "print(\"\\n🎯 Now we can use pandas on the SQL results:\")\n",
    "print(f\"Most profitable product: {df2.iloc[0]['product']}\")\n",
    "print(f\"Total revenue across all products: ${df2['total_revenue'].sum():,.2f}\")"
   ]
  },
  {
   "cell_type": "markdown",
   "metadata": {},
   "source": [
    "### 4.3 Updating and Deleting Data"
   ]
  },
  {
   "cell_type": "code",
   "execution_count": 56,
   "metadata": {},
   "outputs": [
    {
     "name": "stdout",
     "output_type": "stream",
     "text": [
      "✏️ UPDATING DATA IN SQL\n",
      "\n",
      "Before update:\n",
      "   student_id         name  age  grade enrolled_date   department\n",
      "0           1  Alice Smith   20   85.5    2024-01-15  Engineering\n",
      "\n",
      "After update:\n",
      "   student_id         name  age  grade enrolled_date   department\n",
      "0           1  Alice Smith   20   90.0    2024-01-15  Engineering\n",
      "\n",
      "==================================================\n",
      "\n",
      "🗑️ DELETING DATA\n",
      "\n",
      "Records before delete: 30\n",
      "Records after delete: 28\n",
      "Deleted 2 records\n",
      "\n",
      "⚠️ WARNING: DELETE is permanent! Always backup important data!\n"
     ]
    }
   ],
   "source": [
    "print(\"✏️ UPDATING DATA IN SQL\\n\")\n",
    "\n",
    "# UPDATE: Change existing data\n",
    "print(\"Before update:\")\n",
    "before = pd.read_sql(\"SELECT * FROM students WHERE student_id = 1\", conn)\n",
    "print(before)\n",
    "\n",
    "# Update grade\n",
    "update_sql = \"\"\"\n",
    "UPDATE students \n",
    "SET grade = 90.0 \n",
    "WHERE student_id = 1\n",
    "\"\"\"\n",
    "cursor.execute(update_sql)\n",
    "conn.commit()\n",
    "\n",
    "print(\"\\nAfter update:\")\n",
    "after = pd.read_sql(\"SELECT * FROM students WHERE student_id = 1\", conn)\n",
    "print(after)\n",
    "\n",
    "print(\"\\n\" + \"=\"*50 + \"\\n\")\n",
    "\n",
    "# DELETE: Remove data\n",
    "print(\"🗑️ DELETING DATA\\n\")\n",
    "\n",
    "# Count before\n",
    "before_count = pd.read_sql(\"SELECT COUNT(*) as count FROM sales\", conn).iloc[0, 0]\n",
    "print(f\"Records before delete: {before_count}\")\n",
    "\n",
    "# Delete records with low quantity\n",
    "delete_sql = \"DELETE FROM sales WHERE quantity = 1\"\n",
    "cursor.execute(delete_sql)\n",
    "conn.commit()\n",
    "\n",
    "# Count after\n",
    "after_count = pd.read_sql(\"SELECT COUNT(*) as count FROM sales\", conn).iloc[0, 0]\n",
    "print(f\"Records after delete: {after_count}\")\n",
    "print(f\"Deleted {before_count - after_count} records\")\n",
    "\n",
    "print(\"\\n⚠️ WARNING: DELETE is permanent! Always backup important data!\")"
   ]
  },
  {
   "cell_type": "markdown",
   "metadata": {},
   "source": [
    "---\n",
    "\n",
    "## 🚀 Part 5: Essential SQL Patterns for Data Science\n",
    "\n",
    "Let's learn the SQL patterns you'll use every day as a data scientist!"
   ]
  },
  {
   "cell_type": "markdown",
   "metadata": {},
   "source": [
    "### 5.1 JOIN - Combining Tables"
   ]
  },
  {
   "cell_type": "code",
   "execution_count": 57,
   "metadata": {},
   "outputs": [
    {
     "name": "stdout",
     "output_type": "stream",
     "text": [
      "🔗 JOINS - Combining Multiple Tables\n",
      "\n",
      "📊 Customers:\n",
      "   customer_id     name     city\n",
      "0            1    Alice      NYC\n",
      "1            2      Bob       LA\n",
      "2            3  Charlie  Chicago\n",
      "3            4    Diana      NYC\n",
      "4            5      Eve   Boston\n",
      "\n",
      "📊 Orders:\n",
      "   order_id  customer_id product  amount\n",
      "0       101            1  Laptop    1000\n",
      "1       102            2   Phone     800\n",
      "2       103            1  Tablet     500\n",
      "3       104            3  Laptop    1200\n",
      "4       105            1   Mouse      50\n",
      "\n",
      "==================================================\n",
      "\n",
      "🔗 JOINED Result:\n",
      "SQL:\n",
      "\n",
      "SELECT \n",
      "    c.name,\n",
      "    c.city,\n",
      "    o.product,\n",
      "    o.amount\n",
      "FROM customers_table c\n",
      "JOIN orders_table o ON c.customer_id = o.customer_id\n",
      "ORDER BY c.name\n",
      "\n",
      "\n",
      "Result:\n",
      "      name     city product  amount\n",
      "0    Alice      NYC  Laptop    1000\n",
      "1    Alice      NYC   Mouse      50\n",
      "2    Alice      NYC  Tablet     500\n",
      "3      Bob       LA   Phone     800\n",
      "4  Charlie  Chicago  Laptop    1200\n",
      "\n",
      "💡 This is like pd.merge(customers, orders, on='customer_id') in pandas!\n"
     ]
    }
   ],
   "source": [
    "print(\"🔗 JOINS - Combining Multiple Tables\\n\")\n",
    "\n",
    "# Create related tables\n",
    "# Customers table\n",
    "customers_df = pd.DataFrame({\n",
    "    'customer_id': [1, 2, 3, 4, 5],\n",
    "    'name': ['Alice', 'Bob', 'Charlie', 'Diana', 'Eve'],\n",
    "    'city': ['NYC', 'LA', 'Chicago', 'NYC', 'Boston']\n",
    "})\n",
    "\n",
    "# Orders table\n",
    "orders_df = pd.DataFrame({\n",
    "    'order_id': [101, 102, 103, 104, 105],\n",
    "    'customer_id': [1, 2, 1, 3, 1],\n",
    "    'product': ['Laptop', 'Phone', 'Tablet', 'Laptop', 'Mouse'],\n",
    "    'amount': [1000, 800, 500, 1200, 50]\n",
    "})\n",
    "\n",
    "# Save to database\n",
    "customers_df.to_sql('customers_table', conn, if_exists='replace', index=False)\n",
    "orders_df.to_sql('orders_table', conn, if_exists='replace', index=False)\n",
    "\n",
    "print(\"📊 Customers:\")\n",
    "print(customers_df)\n",
    "print(\"\\n📊 Orders:\")\n",
    "print(orders_df)\n",
    "\n",
    "print(\"\\n\" + \"=\"*50 + \"\\n\")\n",
    "\n",
    "# JOIN them together\n",
    "join_query = \"\"\"\n",
    "SELECT \n",
    "    c.name,\n",
    "    c.city,\n",
    "    o.product,\n",
    "    o.amount\n",
    "FROM customers_table c\n",
    "JOIN orders_table o ON c.customer_id = o.customer_id\n",
    "ORDER BY c.name\n",
    "\"\"\"\n",
    "\n",
    "print(\"🔗 JOINED Result:\")\n",
    "print(\"SQL:\")\n",
    "print(join_query)\n",
    "print(\"\\nResult:\")\n",
    "joined = pd.read_sql(join_query, conn)\n",
    "print(joined)\n",
    "\n",
    "print(\"\\n💡 This is like pd.merge(customers, orders, on='customer_id') in pandas!\")"
   ]
  },
  {
   "cell_type": "markdown",
   "metadata": {},
   "source": [
    "### 5.2 Common Data Science Queries"
   ]
  },
  {
   "cell_type": "code",
   "execution_count": 58,
   "metadata": {},
   "outputs": [
    {
     "name": "stdout",
     "output_type": "stream",
     "text": [
      "📊 COMMON DATA SCIENCE SQL PATTERNS\n",
      "\n",
      "1️⃣ Finding Duplicates:\n",
      "SQL: \n",
      "SELECT \n",
      "    product,\n",
      "    COUNT(*) as count\n",
      "FROM sales\n",
      "GROUP BY product\n",
      "HAVING COUNT(*) > 5\n",
      "\n",
      "Products appearing more than 5 times:\n",
      "  product  count\n",
      "0  Laptop      7\n",
      "1   Phone     12\n",
      "2  Tablet      9\n",
      "\n",
      "==================================================\n",
      "\n",
      "2️⃣ Date Range Filtering:\n",
      "SQL: [Date range query]\n",
      "First week revenue:\n",
      "    sale_date  daily_revenue\n",
      "0  2024-01-01        1808.68\n",
      "1  2024-01-02        1122.22\n",
      "2  2024-01-03        1134.14\n",
      "3  2024-01-04        3465.04\n",
      "4  2024-01-05        7663.50\n",
      "\n",
      "==================================================\n",
      "\n",
      "3️⃣ Top N per Category:\n",
      "Get top 3 sales for each product\n",
      "(This uses window functions - advanced SQL!)\n"
     ]
    }
   ],
   "source": [
    "print(\"📊 COMMON DATA SCIENCE SQL PATTERNS\\n\")\n",
    "\n",
    "# Pattern 1: Find duplicates\n",
    "print(\"1️⃣ Finding Duplicates:\")\n",
    "duplicate_query = \"\"\"\n",
    "SELECT \n",
    "    product,\n",
    "    COUNT(*) as count\n",
    "FROM sales\n",
    "GROUP BY product\n",
    "HAVING COUNT(*) > 5\n",
    "\"\"\"\n",
    "print(f\"SQL: {duplicate_query}\")\n",
    "duplicates = pd.read_sql(duplicate_query, conn)\n",
    "print(\"Products appearing more than 5 times:\")\n",
    "print(duplicates)\n",
    "\n",
    "print(\"\\n\" + \"=\"*50 + \"\\n\")\n",
    "\n",
    "# Pattern 2: Date filtering\n",
    "print(\"2️⃣ Date Range Filtering:\")\n",
    "date_query = \"\"\"\n",
    "SELECT \n",
    "    DATE(date) as sale_date,\n",
    "    SUM(revenue) as daily_revenue\n",
    "FROM sales\n",
    "WHERE date BETWEEN '2024-01-01' AND '2024-01-07'\n",
    "GROUP BY DATE(date)\n",
    "ORDER BY sale_date\n",
    "\"\"\"\n",
    "print(f\"SQL: [Date range query]\")\n",
    "date_results = pd.read_sql(date_query, conn)\n",
    "print(\"First week revenue:\")\n",
    "print(date_results.head())\n",
    "\n",
    "print(\"\\n\" + \"=\"*50 + \"\\n\")\n",
    "\n",
    "# Pattern 3: Top N per category\n",
    "print(\"3️⃣ Top N per Category:\")\n",
    "top_n_query = \"\"\"\n",
    "SELECT * FROM (\n",
    "    SELECT \n",
    "        product,\n",
    "        date,\n",
    "        revenue,\n",
    "        ROW_NUMBER() OVER (PARTITION BY product ORDER BY revenue DESC) as rank\n",
    "    FROM sales\n",
    ") ranked\n",
    "WHERE rank <= 3\n",
    "\"\"\"\n",
    "print(\"Get top 3 sales for each product\")\n",
    "print(\"(This uses window functions - advanced SQL!)\")"
   ]
  },
  {
   "cell_type": "markdown",
   "metadata": {},
   "source": [
    "---\n",
    "\n",
    "## 💪 Part 6: Practice Exercises\n",
    "\n",
    "Time to test your SQL skills!"
   ]
  },
  {
   "cell_type": "markdown",
   "metadata": {},
   "source": [
    "### Exercise 1: Basic Queries"
   ]
  },
  {
   "cell_type": "code",
   "execution_count": 60,
   "metadata": {},
   "outputs": [
    {
     "data": {
      "text/html": [
       "<div>\n",
       "<style scoped>\n",
       "    .dataframe tbody tr th:only-of-type {\n",
       "        vertical-align: middle;\n",
       "    }\n",
       "\n",
       "    .dataframe tbody tr th {\n",
       "        vertical-align: top;\n",
       "    }\n",
       "\n",
       "    .dataframe thead th {\n",
       "        text-align: right;\n",
       "    }\n",
       "</style>\n",
       "<table border=\"1\" class=\"dataframe\">\n",
       "  <thead>\n",
       "    <tr style=\"text-align: right;\">\n",
       "      <th></th>\n",
       "      <th>name</th>\n",
       "    </tr>\n",
       "  </thead>\n",
       "  <tbody>\n",
       "    <tr>\n",
       "      <th>0</th>\n",
       "      <td>students</td>\n",
       "    </tr>\n",
       "    <tr>\n",
       "      <th>1</th>\n",
       "      <td>sales</td>\n",
       "    </tr>\n",
       "    <tr>\n",
       "      <th>2</th>\n",
       "      <td>customers_table</td>\n",
       "    </tr>\n",
       "    <tr>\n",
       "      <th>3</th>\n",
       "      <td>orders_table</td>\n",
       "    </tr>\n",
       "  </tbody>\n",
       "</table>\n",
       "</div>"
      ],
      "text/plain": [
       "              name\n",
       "0         students\n",
       "1            sales\n",
       "2  customers_table\n",
       "3     orders_table"
      ]
     },
     "execution_count": 60,
     "metadata": {},
     "output_type": "execute_result"
    }
   ],
   "source": [
    "# checking the names of tables in the system\n",
    "table_name_query = \"SELECT name FROM sqlite_master WHERE type='table'\"\n",
    "table_name = pd.read_sql(table_name_query, conn)\n",
    "table_name"
   ]
  },
  {
   "cell_type": "code",
   "execution_count": 61,
   "metadata": {},
   "outputs": [
    {
     "data": {
      "text/plain": [
       "['student_id', 'name', 'age', 'grade', 'enrolled_date', 'department']"
      ]
     },
     "execution_count": 61,
     "metadata": {},
     "output_type": "execute_result"
    }
   ],
   "source": [
    "# checking the columns' names of table 'students'\n",
    "columns_query = \"SELECT * FROM students LIMIT 0\"\n",
    "columns_df = pd.read_sql(columns_query, conn)\n",
    "list(columns_df.columns)"
   ]
  },
  {
   "cell_type": "code",
   "execution_count": 65,
   "metadata": {},
   "outputs": [
    {
     "name": "stdout",
     "output_type": "stream",
     "text": [
      "📝 EXERCISE 1: Write these queries\n",
      "\n",
      "1. Get all students with grade above 90\n",
      "   Your query: SELECT * FROM students WHERE grade > 90\n",
      "\n",
      "All students with grade above 90: \n",
      "   student_id          name  age  grade enrolled_date department\n",
      "0           3   Bob Johnson   21   92.0    2024-01-15       Arts\n",
      "1           5  Diana Prince   22   95.0    2024-01-16    Science\n"
     ]
    }
   ],
   "source": [
    "print(\"📝 EXERCISE 1: Write these queries\\n\")\n",
    "\n",
    "print(\"1. Get all students with grade above 90\")\n",
    "print(\"   Your query: SELECT * FROM students WHERE grade > 90\")\n",
    "print(\"\")\n",
    "\n",
    "grade_query = \"SELECT * FROM students WHERE grade > 90\"\n",
    "grade_df = pd.read_sql(grade_query,conn)\n",
    "print(f\"All students with grade above 90: \\n{grade_df}\")"
   ]
  },
  {
   "cell_type": "code",
   "execution_count": 66,
   "metadata": {},
   "outputs": [
    {
     "data": {
      "text/plain": [
       "['date', 'product', 'quantity', 'price', 'customer_id', 'revenue']"
      ]
     },
     "execution_count": 66,
     "metadata": {},
     "output_type": "execute_result"
    }
   ],
   "source": [
    "# checking the columns' names of table 'sales'\n",
    "sales_columns_query = \"SELECT * FROM sales LIMIT 0\"\n",
    "sales_columns_df = pd.read_sql(sales_columns_query,conn)\n",
    "list(sales_columns_df.columns)"
   ]
  },
  {
   "cell_type": "code",
   "execution_count": 71,
   "metadata": {},
   "outputs": [
    {
     "name": "stdout",
     "output_type": "stream",
     "text": [
      "2. Count how many sales were made for each product\n",
      "   Your query: SELECT product, COUNT(*) as sales_count FROM sales GROUP BY product\n",
      "\n",
      "Sales count for each product: \n",
      "  product  sales_count\n",
      "0  Laptop            7\n",
      "1   Phone           12\n",
      "2  Tablet            9\n",
      "\n",
      "Total sales for each product: \n",
      "  product  total_revenue\n",
      "0  Laptop       17849.20\n",
      "1   Phone       32398.93\n",
      "2  Tablet       28180.49\n"
     ]
    }
   ],
   "source": [
    "print(\"2. Count how many sales were made for each product\")\n",
    "print(\"   Your query: SELECT product, COUNT(*) as sales_count FROM sales GROUP BY product\")\n",
    "print(\"\")\n",
    "\n",
    "sales_count_query = \"SELECT product, COUNT(*) as sales_count FROM sales GROUP BY product\"\n",
    "sales_count_df = pd.read_sql(sales_count_query,conn)\n",
    "print(f\"Sales count for each product: \\n{sales_count_df}\")\n",
    "\n",
    "total_revenue_query = \"SELECT product, SUM(revenue) as total_revenue FROM sales GROUP BY product\"\n",
    "total_revenue_df = pd.read_sql(total_revenue_query, conn)\n",
    "print(f\"\\nTotal sales for each product: \\n{total_revenue_df}\")"
   ]
  },
  {
   "cell_type": "code",
   "execution_count": 79,
   "metadata": {},
   "outputs": [
    {
     "name": "stdout",
     "output_type": "stream",
     "text": [
      "3. Find the average price for products sold in quantities > 5\n",
      "   Your query: SELECT AVG(price) as avg_price FROM sales WHERE quantity > 5\n",
      "\n",
      "Average price for products soled in quantities above 5: \n",
      "[[477.06066667]]\n"
     ]
    }
   ],
   "source": [
    "print(\"3. Find the average price for products sold in quantities > 5\")\n",
    "print(\"   Your query: SELECT AVG(price) as avg_price FROM sales WHERE quantity > 5\")\n",
    "print(\"\")\n",
    "\n",
    "avg_price_query = \"SELECT AVG(price) as avg_price FROM sales WHERE quantity > 5\"\n",
    "avg_price_df = pd.read_sql(avg_price_query, conn)\n",
    "print(f\"Average price for products soled in quantities above 5: \\n{avg_price_df.values}\")"
   ]
  },
  {
   "cell_type": "code",
   "execution_count": null,
   "metadata": {},
   "outputs": [],
   "source": [
    "# Solutions (uncomment to see)\n",
    "\"\"\"\n",
    "# Solution 1:\n",
    "solution1 = \"SELECT * FROM students WHERE grade > 90\"\n",
    "\n",
    "# Solution 2:\n",
    "solution2 = \"SELECT product, COUNT(*) as sales_count FROM sales GROUP BY product\"\n",
    "\n",
    "# Solution 3:\n",
    "solution3 = \"SELECT AVG(price) as avg_price FROM sales WHERE quantity > 5\"\n",
    "\"\"\""
   ]
  },
  {
   "cell_type": "markdown",
   "metadata": {},
   "source": [
    "### Exercise 2: Create Your Own Database"
   ]
  },
  {
   "cell_type": "code",
   "execution_count": 82,
   "metadata": {},
   "outputs": [
    {
     "name": "stdout",
     "output_type": "stream",
     "text": [
      "🏗️ EXERCISE 2: Create a Movie Database\n",
      "\n",
      "Your task:\n",
      "1. Create a 'movies' table with columns:\n",
      "   - movie_id (INTEGER PRIMARY KEY)\n",
      "   - title (TEXT)\n",
      "   - year (INTEGER)\n",
      "   - rating (REAL)\n",
      "\n",
      "2. Insert at least 3 movies\n",
      "\n",
      "3. Query to find movies with rating > 8.0\n",
      "\n"
     ]
    }
   ],
   "source": [
    "print(\"🏗️ EXERCISE 2: Create a Movie Database\\n\")\n",
    "\n",
    "print(\"Your task:\")\n",
    "print(\"1. Create a 'movies' table with columns:\")\n",
    "print(\"   - movie_id (INTEGER PRIMARY KEY)\")\n",
    "print(\"   - title (TEXT)\")\n",
    "print(\"   - year (INTEGER)\")\n",
    "print(\"   - rating (REAL)\")\n",
    "print(\"\")\n",
    "print(\"2. Insert at least 3 movies\")\n",
    "print(\"\")\n",
    "print(\"3. Query to find movies with rating > 8.0\")\n",
    "print(\"\")\n",
    "\n",
    "# Your code here:\n"
   ]
  },
  {
   "cell_type": "code",
   "execution_count": 80,
   "metadata": {},
   "outputs": [],
   "source": [
    "conn_movies = sqlite3.connect('movies.db')\n",
    "cursor_movies = conn_movies.cursor()"
   ]
  },
  {
   "cell_type": "code",
   "execution_count": 81,
   "metadata": {},
   "outputs": [
    {
     "data": {
      "text/plain": [
       "<sqlite3.Cursor at 0x1ef96da2240>"
      ]
     },
     "execution_count": 81,
     "metadata": {},
     "output_type": "execute_result"
    }
   ],
   "source": [
    "# Drop table if it exists\n",
    "cursor_movies.execute(\"DROP TABLE IF EXISTS movies\")"
   ]
  },
  {
   "cell_type": "code",
   "execution_count": 83,
   "metadata": {},
   "outputs": [
    {
     "data": {
      "text/plain": [
       "<sqlite3.Cursor at 0x1ef96da2240>"
      ]
     },
     "execution_count": 83,
     "metadata": {},
     "output_type": "execute_result"
    }
   ],
   "source": [
    "# Create table\n",
    "create_movie_table = \"\"\"\n",
    "CREATE TABLE movies (\n",
    "    movie_id INTEGER PRIMARY KEY,\n",
    "    title TEXT,\n",
    "    year INTEGER,\n",
    "    rating REAL\n",
    ")\n",
    "\"\"\"\n",
    "\n",
    "cursor_movies.execute(create_movie_table)"
   ]
  },
  {
   "cell_type": "code",
   "execution_count": 84,
   "metadata": {},
   "outputs": [],
   "source": [
    "# Insert at least 3 movies\n",
    "movies_data = [\n",
    "    (1,'Pinocchio',2022,8.8),\n",
    "    (2,'Perfect Day',2025,7.6),\n",
    "    (3,'Your Name',2014,9.2)\n",
    "]\n",
    "movie_query = \"INSERT INTO movies (movie_id, title, year, rating) VALUES (?,?,?,?)\"\n",
    "cursor_movies.executemany(movie_query,movies_data)\n",
    "conn_movies.commit()"
   ]
  },
  {
   "cell_type": "code",
   "execution_count": 85,
   "metadata": {},
   "outputs": [
    {
     "name": "stdout",
     "output_type": "stream",
     "text": [
      "Movies with rating > 8: \n",
      "   movie_id      title  year  rating\n",
      "0         1  Pinocchio  2022     8.8\n",
      "1         3  Your Name  2014     9.2\n"
     ]
    }
   ],
   "source": [
    "# Movies with rating > 8\n",
    "rating_query = \"SELECT * FROM movies WHERE rating > 8\"\n",
    "rating_df = pd.read_sql(rating_query,conn_movies)\n",
    "print(f\"Movies with rating > 8: \\n{rating_df}\")"
   ]
  },
  {
   "cell_type": "markdown",
   "metadata": {},
   "source": [
    "---\n",
    "\n",
    "## 🎯 SQL Cheat Sheet\n",
    "\n",
    "Keep this handy!"
   ]
  },
  {
   "cell_type": "code",
   "execution_count": 53,
   "metadata": {},
   "outputs": [
    {
     "name": "stdout",
     "output_type": "stream",
     "text": [
      "📋 SQL CHEAT SHEET\n",
      "\n",
      "\n",
      "🔍 BASIC QUERIES:\n",
      "SELECT * FROM table                          -- Get everything\n",
      "SELECT col1, col2 FROM table                 -- Get specific columns\n",
      "SELECT DISTINCT col FROM table               -- Unique values only\n",
      "SELECT * FROM table LIMIT 10                 -- First 10 rows\n",
      "\n",
      "🎯 FILTERING:\n",
      "WHERE col = 'value'                          -- Exact match\n",
      "WHERE col != 'value'                         -- Not equal\n",
      "WHERE col > 100                              -- Greater than\n",
      "WHERE col BETWEEN 10 AND 20                  -- Range\n",
      "WHERE col IN ('A', 'B', 'C')                -- In list\n",
      "WHERE col LIKE 'A%'                          -- Starts with A\n",
      "WHERE col IS NULL                            -- Null values\n",
      "WHERE col IS NOT NULL                        -- Non-null values\n",
      "\n",
      "📊 AGGREGATION:\n",
      "COUNT(*)                                      -- Count rows\n",
      "COUNT(DISTINCT col)                          -- Count unique\n",
      "SUM(col)                                      -- Sum values\n",
      "AVG(col)                                      -- Average\n",
      "MAX(col) / MIN(col)                          -- Max/Min\n",
      "\n",
      "👥 GROUPING:\n",
      "GROUP BY col                                  -- Group rows\n",
      "HAVING COUNT(*) > 5                          -- Filter groups\n",
      "\n",
      "📈 SORTING:\n",
      "ORDER BY col ASC                             -- Sort ascending\n",
      "ORDER BY col DESC                            -- Sort descending\n",
      "ORDER BY col1, col2                          -- Multiple columns\n",
      "\n",
      "🔗 JOINING:\n",
      "JOIN table2 ON table1.col = table2.col       -- Inner join\n",
      "LEFT JOIN table2 ON ...                      -- Keep all from left\n",
      "RIGHT JOIN table2 ON ...                     -- Keep all from right\n",
      "\n",
      "✏️ MODIFYING DATA:\n",
      "INSERT INTO table (col1, col2) VALUES (?, ?) -- Insert data\n",
      "UPDATE table SET col = value WHERE ...       -- Update data\n",
      "DELETE FROM table WHERE ...                  -- Delete rows\n",
      "\n",
      "🏗️ TABLE OPERATIONS:\n",
      "CREATE TABLE name (...)                      -- Create table\n",
      "DROP TABLE name                              -- Delete table\n",
      "ALTER TABLE name ADD COLUMN col TYPE         -- Add column\n",
      "\n"
     ]
    }
   ],
   "source": [
    "print(\"📋 SQL CHEAT SHEET\\n\")\n",
    "\n",
    "cheat_sheet = \"\"\"\n",
    "🔍 BASIC QUERIES:\n",
    "SELECT * FROM table                          -- Get everything\n",
    "SELECT col1, col2 FROM table                 -- Get specific columns\n",
    "SELECT DISTINCT col FROM table               -- Unique values only\n",
    "SELECT * FROM table LIMIT 10                 -- First 10 rows\n",
    "\n",
    "🎯 FILTERING:\n",
    "WHERE col = 'value'                          -- Exact match\n",
    "WHERE col != 'value'                         -- Not equal\n",
    "WHERE col > 100                              -- Greater than\n",
    "WHERE col BETWEEN 10 AND 20                  -- Range\n",
    "WHERE col IN ('A', 'B', 'C')                -- In list\n",
    "WHERE col LIKE 'A%'                          -- Starts with A\n",
    "WHERE col IS NULL                            -- Null values\n",
    "WHERE col IS NOT NULL                        -- Non-null values\n",
    "\n",
    "📊 AGGREGATION:\n",
    "COUNT(*)                                      -- Count rows\n",
    "COUNT(DISTINCT col)                          -- Count unique\n",
    "SUM(col)                                      -- Sum values\n",
    "AVG(col)                                      -- Average\n",
    "MAX(col) / MIN(col)                          -- Max/Min\n",
    "\n",
    "👥 GROUPING:\n",
    "GROUP BY col                                  -- Group rows\n",
    "HAVING COUNT(*) > 5                          -- Filter groups\n",
    "\n",
    "📈 SORTING:\n",
    "ORDER BY col ASC                             -- Sort ascending\n",
    "ORDER BY col DESC                            -- Sort descending\n",
    "ORDER BY col1, col2                          -- Multiple columns\n",
    "\n",
    "🔗 JOINING:\n",
    "JOIN table2 ON table1.col = table2.col       -- Inner join\n",
    "LEFT JOIN table2 ON ...                      -- Keep all from left\n",
    "RIGHT JOIN table2 ON ...                     -- Keep all from right\n",
    "\n",
    "✏️ MODIFYING DATA:\n",
    "INSERT INTO table (col1, col2) VALUES (?, ?) -- Insert data\n",
    "UPDATE table SET col = value WHERE ...       -- Update data\n",
    "DELETE FROM table WHERE ...                  -- Delete rows\n",
    "\n",
    "🏗️ TABLE OPERATIONS:\n",
    "CREATE TABLE name (...)                      -- Create table\n",
    "DROP TABLE name                              -- Delete table\n",
    "ALTER TABLE name ADD COLUMN col TYPE         -- Add column\n",
    "\"\"\"\n",
    "\n",
    "print(cheat_sheet)"
   ]
  },
  {
   "cell_type": "markdown",
   "metadata": {},
   "source": [
    "---\n",
    "\n",
    "## 🎓 Key Takeaways\n",
    "\n",
    "Congratulations! You now know SQL fundamentals! Here's what you learned:\n",
    "\n",
    "1. **What SQL Is**: A language for talking to databases\n",
    "2. **Why SQL Matters**: Handle data too big for pandas\n",
    "3. **Basic Operations**: SELECT, WHERE, ORDER BY, GROUP BY\n",
    "4. **Pandas Integration**: Seamlessly convert between DataFrames and SQL\n",
    "5. **CRUD Operations**: Create, Read, Update, Delete\n",
    "6. **Joins**: Combine multiple tables\n",
    "7. **Best Practices**: Use parameters to prevent SQL injection\n",
    "\n",
    "---\n",
    "\n",
    "## 🚀 Next Steps\n",
    "\n",
    "You're ready to:\n",
    "1. Work with the other SQL notebooks (01-04)\n",
    "2. Query real databases\n",
    "3. Build data pipelines\n",
    "4. Ace SQL interview questions\n",
    "\n",
    "**Remember**: SQL + Pandas = Data Science Superpower! 💪"
   ]
  },
  {
   "cell_type": "code",
   "execution_count": 86,
   "metadata": {},
   "outputs": [
    {
     "name": "stdout",
     "output_type": "stream",
     "text": [
      "✅ Database connection closed.\n",
      "🎉 Congratulations! You now know SQL basics!\n",
      "\n",
      "📚 Next: Try the practice exercises, then move to notebook 01!\n"
     ]
    }
   ],
   "source": [
    "# Cleanup\n",
    "conn.close()\n",
    "print(\"✅ Database connection closed.\")\n",
    "print(\"🎉 Congratulations! You now know SQL basics!\")\n",
    "print(\"\")\n",
    "print(\"📚 Next: Try the practice exercises, then move to notebook 01!\")"
   ]
  },
  {
   "cell_type": "code",
   "execution_count": null,
   "metadata": {},
   "outputs": [],
   "source": []
  }
 ],
 "metadata": {
  "kernelspec": {
   "display_name": "Python 3 (ipykernel)",
   "language": "python",
   "name": "python3"
  },
  "language_info": {
   "codemirror_mode": {
    "name": "ipython",
    "version": 3
   },
   "file_extension": ".py",
   "mimetype": "text/x-python",
   "name": "python",
   "nbconvert_exporter": "python",
   "pygments_lexer": "ipython3",
   "version": "3.13.7"
  }
 },
 "nbformat": 4,
 "nbformat_minor": 4
}
