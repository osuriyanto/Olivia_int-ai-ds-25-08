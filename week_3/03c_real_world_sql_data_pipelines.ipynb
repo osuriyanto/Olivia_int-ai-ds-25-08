{
 "cells": [
  {
   "cell_type": "markdown",
   "metadata": {},
   "source": [
    "# **AI TECH INSTITUTE** · *Intermediate AI & Data Science*\n",
    "### Week 03 · Notebook 04 — SQL Data Pipeline: Building Real-World Databases 🏗️\n",
    "**Instructor:** Amir Charkhi  |  **Goal:** Master the complete data pipeline from multiple sources to unified database\n",
    "> Format: theory → implementation → best practices → real-world application.\n",
    ">\n",
    "**Learning Objectives:**\n",
    "- Create DataFrames from scratch and convert to SQL databases\n",
    "- Read CSV files and handle data cleaning during import\n",
    "- Merge data from multiple databases into a unified warehouse\n",
    "- Build production-ready data pipelines with proper error handling\n",
    "- Export and backup database content for sharing and analysis\n",
    "\n",
    "**Time:** 90 minutes | **Prerequisites:** Basic SQL knowledge (complete Notebook 00 first)\n",
    "\n",
    "---"
   ]
  },
  {
   "cell_type": "markdown",
   "metadata": {},
   "source": [
    "## 🎯 The Real-World Challenge\n",
    "\n",
    "You're the new Data Engineer at an e-commerce company. Your data is scattered:\n",
    "- 📊 Sales data in Python DataFrames\n",
    "- 📝 Customer data in CSV files\n",
    "- 🗄️ Product data in different databases\n",
    "- 📈 Marketing data being created daily\n",
    "\n",
    "**Your mission:** Build a unified database that combines everything!\n",
    "\n",
    "This notebook teaches you exactly how to do this professionally."
   ]
  },
  {
   "cell_type": "code",
   "execution_count": 189,
   "metadata": {},
   "outputs": [
    {
     "name": "stdout",
     "output_type": "stream",
     "text": [
      "✅ Environment ready for data pipeline building!\n",
      "📚 Libraries loaded: pandas, numpy, sqlite3, matplotlib\n"
     ]
    }
   ],
   "source": [
    "# Import all necessary libraries\n",
    "import pandas as pd\n",
    "import numpy as np\n",
    "import sqlite3\n",
    "from datetime import datetime, timedelta\n",
    "import os\n",
    "import warnings\n",
    "warnings.filterwarnings('ignore')\n",
    "\n",
    "# For visualization\n",
    "import matplotlib.pyplot as plt\n",
    "import seaborn as sns\n",
    "sns.set_style('whitegrid')\n",
    "\n",
    "# Helper functions for database operations\n",
    "def show_table_info(conn, table_name):\n",
    "    \"\"\"Display information about a table\"\"\"\n",
    "    try:\n",
    "        count = pd.read_sql(f\"SELECT COUNT(*) as count FROM {table_name}\", conn).iloc[0, 0]\n",
    "        columns = pd.read_sql(f\"PRAGMA table_info({table_name})\", conn)\n",
    "        print(f\"📊 Table: {table_name}\")\n",
    "        print(f\"   Rows: {count:,}\")\n",
    "        print(f\"   Columns: {', '.join(columns['name'].tolist())}\")\n",
    "    except:\n",
    "        print(f\"❌ Table {table_name} not found\")\n",
    "\n",
    "def list_all_tables(conn):\n",
    "    \"\"\"List all tables in database\"\"\"\n",
    "    tables = pd.read_sql(\"SELECT name FROM sqlite_master WHERE type='table'\", conn)\n",
    "    return tables['name'].tolist()\n",
    "\n",
    "# Custom SQL display function\n",
    "from IPython.display import Markdown, display\n",
    "def show_sql(query):\n",
    "    \"\"\"Pretty print SQL queries\"\"\"\n",
    "    display(Markdown(f\"```sql\\n{query}\\n```\"))\n",
    "\n",
    "print(\"✅ Environment ready for data pipeline building!\")\n",
    "print(\"📚 Libraries loaded: pandas, numpy, sqlite3, matplotlib\")"
   ]
  },
  {
   "cell_type": "markdown",
   "metadata": {},
   "source": [
    "---\n",
    "\n",
    "## 📊 Part 1: Creating DataFrames from Scratch → SQL\n",
    "\n",
    "### Theory\n",
    "Converting DataFrames to SQL databases is essential because:\n",
    "- **Persistence**: Data survives beyond Python session\n",
    "- **Scalability**: Handle data larger than RAM\n",
    "- **Sharing**: Multiple users can access simultaneously\n",
    "- **Performance**: Optimized queries on indexed data"
   ]
  },
  {
   "cell_type": "markdown",
   "metadata": {},
   "source": [
    "### 1.1 Implementation: Creating Related DataFrames"
   ]
  },
  {
   "cell_type": "code",
   "execution_count": 2,
   "metadata": {},
   "outputs": [
    {
     "name": "stdout",
     "output_type": "stream",
     "text": [
      "🏗️ CREATING DATAFRAMES FROM SCRATCH\n",
      "\n",
      "1️⃣ Creating Customers Data...\n",
      "✅ Created 1,000 customers\n",
      "   customer_id first_name last_name                email country  \\\n",
      "0         1001    First_0    Last_0  customer0@email.com     USA   \n",
      "1         1002    First_1    Last_1  customer1@email.com  France   \n",
      "2         1003    First_2    Last_2  customer2@email.com      UK   \n",
      "\n",
      "    registration_date customer_segment  lifetime_value  \n",
      "0 2020-01-01 00:00:00             Gold          151.71  \n",
      "1 2020-01-01 06:00:00           Bronze          141.83  \n",
      "2 2020-01-01 12:00:00           Bronze         1183.59  \n",
      "\n",
      "2️⃣ Creating Products Data...\n",
      "✅ Created 500 products\n",
      "  product_id product_name     category   price    cost  stock_quantity  \\\n",
      "0  PROD_0001    Product 1         Home  750.52    8.99             305   \n",
      "1  PROD_0002    Product 2  Electronics  814.59  471.87              11   \n",
      "2  PROD_0003    Product 3        Books  709.77  122.39             344   \n",
      "\n",
      "   margin_percent  \n",
      "0           98.80  \n",
      "1           42.07  \n",
      "2           82.76  \n",
      "\n",
      "3️⃣ Creating Transactions Data...\n",
      "✅ Created 10,000 transactions\n",
      "   transaction_id  customer_id product_id    transaction_date  quantity  \\\n",
      "0            5001         1172  PROD_0017 2023-01-01 00:00:00         3   \n",
      "1            5002         1087  PROD_0272 2023-01-01 00:15:00         2   \n",
      "2            5003         1553  PROD_0009 2023-01-01 00:30:00         2   \n",
      "\n",
      "  payment_method   price  total_amount  \n",
      "0    Credit Card  850.69       2552.07  \n",
      "1    Credit Card  756.20       1512.40  \n",
      "2    Credit Card  677.52       1355.04  \n"
     ]
    }
   ],
   "source": [
    "print(\"🏗️ CREATING DATAFRAMES FROM SCRATCH\\n\")\n",
    "np.random.seed(42)  # For reproducibility\n",
    "\n",
    "# Create CUSTOMERS DataFrame\n",
    "print(\"1️⃣ Creating Customers Data...\")\n",
    "n_customers = 1000\n",
    "\n",
    "customers_df = pd.DataFrame({\n",
    "    'customer_id': range(1001, 1001 + n_customers),\n",
    "    'first_name': [f'First_{i}' for i in range(n_customers)],\n",
    "    'last_name': [f'Last_{i}' for i in range(n_customers)],\n",
    "    'email': [f'customer{i}@email.com' for i in range(n_customers)],\n",
    "    'country': np.random.choice(['USA', 'Canada', 'UK', 'Germany', 'France'], n_customers, p=[0.4, 0.2, 0.2, 0.1, 0.1]),\n",
    "    'registration_date': pd.date_range('2020-01-01', periods=n_customers, freq='6H'),\n",
    "    'customer_segment': np.random.choice(['Gold', 'Silver', 'Bronze'], n_customers, p=[0.2, 0.3, 0.5]),\n",
    "    'lifetime_value': np.random.exponential(500, n_customers).round(2)\n",
    "})\n",
    "\n",
    "print(f\"✅ Created {len(customers_df):,} customers\")\n",
    "print(customers_df.head(3))\n",
    "print()\n",
    "\n",
    "# Create PRODUCTS DataFrame\n",
    "print(\"2️⃣ Creating Products Data...\")\n",
    "n_products = 500\n",
    "\n",
    "products_df = pd.DataFrame({\n",
    "    'product_id': [f'PROD_{i:04d}' for i in range(1, n_products + 1)],\n",
    "    'product_name': [f'Product {i}' for i in range(1, n_products + 1)],\n",
    "    'category': np.random.choice(['Electronics', 'Clothing', 'Home', 'Sports', 'Books'], n_products),\n",
    "    'price': np.random.uniform(10, 1000, n_products).round(2),\n",
    "    'cost': np.random.uniform(5, 500, n_products).round(2),\n",
    "    'stock_quantity': np.random.randint(0, 1000, n_products)\n",
    "})\n",
    "\n",
    "products_df['margin_percent'] = ((products_df['price'] - products_df['cost']) / products_df['price'] * 100).round(2)\n",
    "\n",
    "print(f\"✅ Created {len(products_df):,} products\")\n",
    "print(products_df.head(3))\n",
    "print()\n",
    "\n",
    "# Create TRANSACTIONS DataFrame\n",
    "print(\"3️⃣ Creating Transactions Data...\")\n",
    "n_transactions = 10000\n",
    "\n",
    "transactions_df = pd.DataFrame({\n",
    "    'transaction_id': range(5001, 5001 + n_transactions),\n",
    "    'customer_id': np.random.choice(customers_df['customer_id'], n_transactions),\n",
    "    'product_id': np.random.choice(products_df['product_id'], n_transactions),\n",
    "    'transaction_date': pd.date_range('2023-01-01', periods=n_transactions, freq='15min'),\n",
    "    'quantity': np.random.randint(1, 5, n_transactions),\n",
    "    'payment_method': np.random.choice(['Credit Card', 'PayPal', 'Bank Transfer'], n_transactions, p=[0.5, 0.3, 0.2])\n",
    "})\n",
    "\n",
    "# Calculate total amount\n",
    "transactions_df = transactions_df.merge(products_df[['product_id', 'price']], on='product_id', how='left')\n",
    "transactions_df['total_amount'] = (transactions_df['quantity'] * transactions_df['price']).round(2)\n",
    "\n",
    "print(f\"✅ Created {len(transactions_df):,} transactions\")\n",
    "print(transactions_df.head(3))"
   ]
  },
  {
   "cell_type": "markdown",
   "metadata": {},
   "source": [
    "### 1.2 Best Practices: Saving DataFrames to SQL"
   ]
  },
  {
   "cell_type": "code",
   "execution_count": 3,
   "metadata": {},
   "outputs": [
    {
     "name": "stdout",
     "output_type": "stream",
     "text": [
      "💾 SAVING DATAFRAMES TO SQL DATABASE\n",
      "\n",
      "📌 Best Practice: Specify data types for better performance\n",
      "\n",
      "✅ Customers table created with constraints\n",
      "✅ Products table created\n",
      "✅ Transactions table created\n",
      "\n",
      "📊 Database Summary:\n",
      "📊 Table: customers\n",
      "   Rows: 1,000\n",
      "   Columns: customer_id, first_name, last_name, email, country, registration_date, customer_segment, lifetime_value\n",
      "📊 Table: products\n",
      "   Rows: 500\n",
      "   Columns: product_id, product_name, category, price, cost, stock_quantity, margin_percent\n",
      "📊 Table: transactions\n",
      "   Rows: 10,000\n",
      "   Columns: transaction_id, customer_id, product_id, transaction_date, quantity, payment_method, price, total_amount\n"
     ]
    }
   ],
   "source": [
    "print(\"💾 SAVING DATAFRAMES TO SQL DATABASE\\n\")\n",
    "\n",
    "# Create database connection\n",
    "company_db = sqlite3.connect('company_database.db')\n",
    "\n",
    "# Best Practice: Define data types explicitly\n",
    "print(\"📌 Best Practice: Specify data types for better performance\\n\")\n",
    "\n",
    "# Save customers with proper constraints\n",
    "customers_df.to_sql(\n",
    "    name='customers',\n",
    "    con=company_db,\n",
    "    if_exists='replace',\n",
    "    index=False,\n",
    "    dtype={\n",
    "        'customer_id': 'INTEGER PRIMARY KEY',\n",
    "        'email': 'TEXT UNIQUE',\n",
    "        'registration_date': 'DATETIME'\n",
    "    }\n",
    ")\n",
    "print(\"✅ Customers table created with constraints\")\n",
    "\n",
    "# Save products\n",
    "products_df.to_sql(\n",
    "    name='products',\n",
    "    con=company_db,\n",
    "    if_exists='replace',\n",
    "    index=False\n",
    ")\n",
    "print(\"✅ Products table created\")\n",
    "\n",
    "# Save transactions\n",
    "transactions_df.to_sql(\n",
    "    name='transactions',\n",
    "    con=company_db,\n",
    "    if_exists='replace',\n",
    "    index=False\n",
    ")\n",
    "print(\"✅ Transactions table created\")\n",
    "\n",
    "# Verify database\n",
    "print(\"\\n📊 Database Summary:\")\n",
    "for table in list_all_tables(company_db):\n",
    "    show_table_info(company_db, table)"
   ]
  },
  {
   "cell_type": "markdown",
   "metadata": {},
   "source": [
    "---\n",
    "\n",
    "## 📁 Part 2: Reading CSV Files → SQL Database\n",
    "\n",
    "### Theory\n",
    "CSV files are the most common data exchange format. Key challenges:\n",
    "- **Data types**: CSV doesn't preserve types\n",
    "- **Missing values**: Various representations (empty, NULL, N/A)\n",
    "- **Inconsistent formats**: Dates, numbers with commas\n",
    "- **Encoding issues**: UTF-8, Latin-1, etc."
   ]
  },
  {
   "cell_type": "markdown",
   "metadata": {},
   "source": [
    "### 2.1 Implementation: Creating Sample CSV Files"
   ]
  },
  {
   "cell_type": "code",
   "execution_count": 4,
   "metadata": {},
   "outputs": [
    {
     "name": "stdout",
     "output_type": "stream",
     "text": [
      "📝 CREATING SAMPLE CSV FILES\n",
      "\n",
      "✅ Created marketing_campaigns.csv with 100 rows\n",
      "✅ Created suppliers.csv with 50 rows\n",
      "\n",
      "📁 CSV files created in 'csv_data' folder\n"
     ]
    }
   ],
   "source": [
    "print(\"📝 CREATING SAMPLE CSV FILES\\n\")\n",
    "\n",
    "# Create directory for CSV files\n",
    "os.makedirs('csv_data', exist_ok=True)\n",
    "\n",
    "# Create Marketing Campaign CSV\n",
    "marketing_data = pd.DataFrame({\n",
    "    'campaign_id': [f'CAMP_{i:04d}' for i in range(1, 101)],\n",
    "    'campaign_name': [f'Campaign {i}' for i in range(1, 101)],\n",
    "    'start_date': pd.date_range('2023-01-01', periods=100, freq='3D'),\n",
    "    'channel': np.random.choice(['Email', 'Social Media', 'TV', 'Online'], 100),\n",
    "    'budget': np.random.uniform(1000, 50000, 100).round(2),\n",
    "    'conversion_rate': np.random.uniform(0.01, 0.15, 100).round(4)\n",
    "})\n",
    "\n",
    "marketing_data.to_csv('csv_data/marketing_campaigns.csv', index=False)\n",
    "print(f\"✅ Created marketing_campaigns.csv with {len(marketing_data)} rows\")\n",
    "\n",
    "# Create Supplier CSV\n",
    "supplier_data = pd.DataFrame({\n",
    "    'supplier_id': range(1, 51),\n",
    "    'supplier_name': [f'Supplier Corp {i}' for i in range(1, 51)],\n",
    "    'country': np.random.choice(['China', 'India', 'USA', 'Mexico'], 50),\n",
    "    'rating': np.random.uniform(3.0, 5.0, 50).round(1),\n",
    "    'delivery_days': np.random.randint(1, 30, 50)\n",
    "})\n",
    "\n",
    "supplier_data.to_csv('csv_data/suppliers.csv', index=False)\n",
    "print(f\"✅ Created suppliers.csv with {len(supplier_data)} rows\")\n",
    "\n",
    "print(\"\\n📁 CSV files created in 'csv_data' folder\")"
   ]
  },
  {
   "cell_type": "markdown",
   "metadata": {},
   "source": [
    "### 2.2 Best Practices: Data Cleaning During Import"
   ]
  },
  {
   "cell_type": "code",
   "execution_count": 5,
   "metadata": {},
   "outputs": [
    {
     "name": "stdout",
     "output_type": "stream",
     "text": [
      "🧹 DATA CLEANING DURING CSV IMPORT\n",
      "\n",
      "Created messy_data.csv for demonstration\n",
      "\n",
      "Cleaning csv_data/messy_data.csv...\n",
      "Cleaning operations:\n",
      "  • Removed 1 rows with missing IDs\n",
      "  • Filled missing names\n",
      "  • Validated age values\n",
      "  • Validated email addresses\n",
      "  • Cleaned salary values\n",
      "✅ Saved to table 'cleaned_data'\n",
      "\n",
      "Cleaned data sample:\n",
      "    id     name   age              email   salary\n",
      "0  1.0    Alice  25.0    alice@email.com  50000.0\n",
      "1  2.0      Bob   NaN               None  60000.0\n",
      "2  3.0  Unknown   NaN  charlie@email.com  70000.0\n",
      "4  5.0  Unknown  35.0      eve@email.com      NaN\n"
     ]
    }
   ],
   "source": [
    "print(\"🧹 DATA CLEANING DURING CSV IMPORT\\n\")\n",
    "\n",
    "# Create a messy CSV to demonstrate cleaning\n",
    "messy_data = pd.DataFrame({\n",
    "    'id': [1, 2, 3, None, 5],\n",
    "    'name': ['Alice', 'Bob', '', 'Diana', None],\n",
    "    'age': [25, -5, 150, 30, 35],\n",
    "    'email': ['alice@email.com', 'invalid-email', 'charlie@email.com', None, 'eve@email.com'],\n",
    "    'salary': ['50000', '60,000', '$70000', '80000', 'not_a_number']\n",
    "})\n",
    "\n",
    "messy_data.to_csv('csv_data/messy_data.csv', index=False)\n",
    "print(\"Created messy_data.csv for demonstration\\n\")\n",
    "\n",
    "def clean_and_import(csv_file, connection, table_name):\n",
    "    \"\"\"Clean data before importing to SQL\"\"\"\n",
    "    print(f\"Cleaning {csv_file}...\")\n",
    "    \n",
    "    # Read CSV\n",
    "    df = pd.read_csv(csv_file)\n",
    "    original_shape = df.shape\n",
    "    \n",
    "    # Cleaning operations\n",
    "    cleaning_log = []\n",
    "    \n",
    "    # 1. Remove rows with missing IDs\n",
    "    if 'id' in df.columns:\n",
    "        df = df.dropna(subset=['id'])\n",
    "        cleaning_log.append(f\"Removed {original_shape[0] - len(df)} rows with missing IDs\")\n",
    "    \n",
    "    # 2. Fill missing names\n",
    "    if 'name' in df.columns:\n",
    "        df['name'] = df['name'].fillna('Unknown').replace('', 'Unknown')\n",
    "        cleaning_log.append(\"Filled missing names\")\n",
    "    \n",
    "    # 3. Validate age\n",
    "    if 'age' in df.columns:\n",
    "        df['age'] = pd.to_numeric(df['age'], errors='coerce')\n",
    "        df.loc[(df['age'] < 0) | (df['age'] > 120), 'age'] = None\n",
    "        cleaning_log.append(\"Validated age values\")\n",
    "    \n",
    "    # 4. Validate email\n",
    "    if 'email' in df.columns:\n",
    "        df.loc[~df['email'].astype(str).str.contains('@', na=False), 'email'] = None\n",
    "        cleaning_log.append(\"Validated email addresses\")\n",
    "    \n",
    "    # 5. Clean salary\n",
    "    if 'salary' in df.columns:\n",
    "        df['salary'] = df['salary'].astype(str).str.replace('[$,]', '', regex=True)\n",
    "        df['salary'] = pd.to_numeric(df['salary'], errors='coerce')\n",
    "        cleaning_log.append(\"Cleaned salary values\")\n",
    "    \n",
    "    print(\"Cleaning operations:\")\n",
    "    for op in cleaning_log:\n",
    "        print(f\"  • {op}\")\n",
    "    \n",
    "    # Save to database\n",
    "    df.to_sql(table_name, connection, if_exists='replace', index=False)\n",
    "    print(f\"✅ Saved to table '{table_name}'\\n\")\n",
    "    \n",
    "    return df\n",
    "\n",
    "# Create new database for CSV data\n",
    "csv_db = sqlite3.connect('csv_database.db')\n",
    "\n",
    "# Import with cleaning\n",
    "cleaned_df = clean_and_import('csv_data/messy_data.csv', csv_db, 'cleaned_data')\n",
    "print(\"Cleaned data sample:\")\n",
    "print(cleaned_df)"
   ]
  },
  {
   "cell_type": "markdown",
   "metadata": {},
   "source": [
    "### 2.3 Real-World Application: Importing Multiple CSVs"
   ]
  },
  {
   "cell_type": "code",
   "execution_count": 6,
   "metadata": {},
   "outputs": [
    {
     "name": "stdout",
     "output_type": "stream",
     "text": [
      "📥 IMPORTING MULTIPLE CSV FILES\n",
      "\n",
      "✅ Imported marketing: 100 rows\n",
      "✅ Imported suppliers: 50 rows\n",
      "\n",
      "📊 CSV Database Summary:\n",
      "📊 Table: cleaned_data\n",
      "   Rows: 4\n",
      "   Columns: id, name, age, email, salary\n",
      "📊 Table: marketing\n",
      "   Rows: 100\n",
      "   Columns: campaign_id, campaign_name, start_date, channel, budget, conversion_rate\n",
      "📊 Table: suppliers\n",
      "   Rows: 50\n",
      "   Columns: supplier_id, supplier_name, country, rating, delivery_days\n"
     ]
    }
   ],
   "source": [
    "print(\"📥 IMPORTING MULTIPLE CSV FILES\\n\")\n",
    "\n",
    "def csv_to_sql(csv_file, table_name, connection):\n",
    "    \"\"\"Read CSV and save to SQL database\"\"\"\n",
    "    df = pd.read_csv(csv_file)\n",
    "    \n",
    "    # Convert date columns\n",
    "    for col in df.columns:\n",
    "        if 'date' in col.lower():\n",
    "            df[col] = pd.to_datetime(df[col], errors='coerce')\n",
    "    \n",
    "    df.to_sql(table_name, connection, if_exists='replace', index=False)\n",
    "    print(f\"✅ Imported {table_name}: {len(df)} rows\")\n",
    "    return df\n",
    "\n",
    "# Import all CSV files\n",
    "csv_files = [\n",
    "    ('csv_data/marketing_campaigns.csv', 'marketing'),\n",
    "    ('csv_data/suppliers.csv', 'suppliers')\n",
    "]\n",
    "\n",
    "for csv_file, table_name in csv_files:\n",
    "    csv_to_sql(csv_file, table_name, csv_db)\n",
    "\n",
    "print(\"\\n📊 CSV Database Summary:\")\n",
    "for table in list_all_tables(csv_db):\n",
    "    show_table_info(csv_db, table)"
   ]
  },
  {
   "cell_type": "markdown",
   "metadata": {},
   "source": [
    "---\n",
    "\n",
    "## 🔄 Part 3: Merging Multiple Databases\n",
    "\n",
    "### Theory\n",
    "Data warehousing combines multiple sources into a unified analytical database:\n",
    "- **Dimensional modeling**: Facts and dimensions\n",
    "- **ETL process**: Extract, Transform, Load\n",
    "- **Data consistency**: Unified formats and standards\n",
    "- **Performance optimization**: Aggregate tables"
   ]
  },
  {
   "cell_type": "markdown",
   "metadata": {},
   "source": [
    "### 3.1 Implementation: Reading from Multiple Sources"
   ]
  },
  {
   "cell_type": "code",
   "execution_count": 7,
   "metadata": {},
   "outputs": [
    {
     "name": "stdout",
     "output_type": "stream",
     "text": [
      "📚 READING FROM MULTIPLE DATABASES\n",
      "\n",
      "From company_database.db:\n",
      "  ✅ Loaded 1000 customers\n",
      "  ✅ Loaded 500 products\n",
      "  ✅ Loaded 10000 transactions\n",
      "\n",
      "From csv_database.db:\n",
      "  ✅ Loaded 100 marketing campaigns\n",
      "  ✅ Loaded 50 suppliers\n"
     ]
    }
   ],
   "source": [
    "print(\"📚 READING FROM MULTIPLE DATABASES\\n\")\n",
    "\n",
    "# Load data from company database\n",
    "print(\"From company_database.db:\")\n",
    "company_customers = pd.read_sql(\"SELECT * FROM customers\", company_db)\n",
    "company_products = pd.read_sql(\"SELECT * FROM products\", company_db)\n",
    "company_transactions = pd.read_sql(\"SELECT * FROM transactions\", company_db)\n",
    "print(f\"  ✅ Loaded {len(company_customers)} customers\")\n",
    "print(f\"  ✅ Loaded {len(company_products)} products\")\n",
    "print(f\"  ✅ Loaded {len(company_transactions)} transactions\")\n",
    "\n",
    "# Load data from CSV database\n",
    "print(\"\\nFrom csv_database.db:\")\n",
    "csv_marketing = pd.read_sql(\"SELECT * FROM marketing\", csv_db)\n",
    "csv_suppliers = pd.read_sql(\"SELECT * FROM suppliers\", csv_db)\n",
    "print(f\"  ✅ Loaded {len(csv_marketing)} marketing campaigns\")\n",
    "print(f\"  ✅ Loaded {len(csv_suppliers)} suppliers\")"
   ]
  },
  {
   "cell_type": "markdown",
   "metadata": {},
   "source": [
    "### 3.2 Best Practices: Creating Unified Data Warehouse"
   ]
  },
  {
   "cell_type": "code",
   "execution_count": 8,
   "metadata": {},
   "outputs": [
    {
     "name": "stdout",
     "output_type": "stream",
     "text": [
      "🏗️ CREATING UNIFIED DATA WAREHOUSE\n",
      "\n",
      "Creating dimensional model...\n",
      "\n",
      "✅ Created dim_date: 2192 dates\n",
      "✅ Created dim_customer: 1000 customers\n",
      "✅ Created dim_product: 500 products\n",
      "✅ Created fact_sales: 10000 transactions\n",
      "\n",
      "📊 Data Warehouse Structure:\n",
      "📊 Table: dim_date\n",
      "   Rows: 2,192\n",
      "   Columns: date_key, date, year, month, month_name, day_name, is_weekend\n",
      "📊 Table: dim_customer\n",
      "   Rows: 1,000\n",
      "   Columns: customer_id, first_name, last_name, email, country, registration_date, customer_segment, lifetime_value\n",
      "📊 Table: dim_product\n",
      "   Rows: 500\n",
      "   Columns: product_id, product_name, category, price, cost, stock_quantity, margin_percent, supplier_id, supplier_name, country\n",
      "📊 Table: fact_sales\n",
      "   Rows: 10,000\n",
      "   Columns: transaction_id, customer_id, product_id, transaction_date, quantity, payment_method, price, total_amount, date_key\n"
     ]
    }
   ],
   "source": [
    "print(\"🏗️ CREATING UNIFIED DATA WAREHOUSE\\n\")\n",
    "\n",
    "# Create new data warehouse\n",
    "warehouse_db = sqlite3.connect('data_warehouse.db')\n",
    "\n",
    "print(\"Creating dimensional model...\\n\")\n",
    "\n",
    "# Create Date Dimension\n",
    "date_range = pd.date_range('2020-01-01', '2025-12-31', freq='D')\n",
    "dim_date = pd.DataFrame({\n",
    "    'date_key': date_range.strftime('%Y%m%d').astype(int),\n",
    "    'date': date_range,\n",
    "    'year': date_range.year,\n",
    "    'month': date_range.month,\n",
    "    'month_name': date_range.strftime('%B'),\n",
    "    'day_name': date_range.strftime('%A'),\n",
    "    'is_weekend': (date_range.dayofweek >= 5).astype(int)\n",
    "})\n",
    "dim_date.to_sql('dim_date', warehouse_db, if_exists='replace', index=False)\n",
    "print(f\"✅ Created dim_date: {len(dim_date)} dates\")\n",
    "\n",
    "# Create Customer Dimension\n",
    "dim_customer = company_customers.copy()\n",
    "dim_customer.to_sql('dim_customer', warehouse_db, if_exists='replace', index=False)\n",
    "print(f\"✅ Created dim_customer: {len(dim_customer)} customers\")\n",
    "\n",
    "# Create Product Dimension (enriched with supplier info)\n",
    "dim_product = company_products.copy()\n",
    "# Add supplier mapping\n",
    "dim_product['supplier_id'] = (dim_product.index % len(csv_suppliers)) + 1\n",
    "dim_product = dim_product.merge(\n",
    "    csv_suppliers[['supplier_id', 'supplier_name', 'country']],\n",
    "    on='supplier_id',\n",
    "    how='left'\n",
    ")\n",
    "dim_product.to_sql('dim_product', warehouse_db, if_exists='replace', index=False)\n",
    "print(f\"✅ Created dim_product: {len(dim_product)} products\")\n",
    "\n",
    "# Create Fact Table\n",
    "fact_sales = company_transactions.copy()\n",
    "fact_sales['date_key'] = pd.to_datetime(fact_sales['transaction_date']).dt.strftime('%Y%m%d').astype(int)\n",
    "fact_sales.to_sql('fact_sales', warehouse_db, if_exists='replace', index=False)\n",
    "print(f\"✅ Created fact_sales: {len(fact_sales)} transactions\")\n",
    "\n",
    "print(\"\\n📊 Data Warehouse Structure:\")\n",
    "for table in list_all_tables(warehouse_db):\n",
    "    show_table_info(warehouse_db, table)"
   ]
  },
  {
   "cell_type": "markdown",
   "metadata": {},
   "source": [
    "### 3.3 Real-World Application: Creating Aggregate Tables"
   ]
  },
  {
   "cell_type": "code",
   "execution_count": 9,
   "metadata": {},
   "outputs": [
    {
     "name": "stdout",
     "output_type": "stream",
     "text": [
      "📈 CREATING AGGREGATE TABLES FOR PERFORMANCE\n",
      "\n",
      "✅ Created agg_daily_sales: 105 daily summaries\n",
      "✅ Created agg_customer_ltv: 1000 customer summaries\n"
     ]
    }
   ],
   "source": [
    "print(\"📈 CREATING AGGREGATE TABLES FOR PERFORMANCE\\n\")\n",
    "\n",
    "# Daily Sales Summary\n",
    "daily_sales_query = \"\"\"\n",
    "SELECT \n",
    "    d.date,\n",
    "    d.month_name,\n",
    "    d.day_name,\n",
    "    COUNT(DISTINCT f.customer_id) as unique_customers,\n",
    "    COUNT(f.transaction_id) as num_transactions,\n",
    "    SUM(f.total_amount) as total_revenue\n",
    "FROM fact_sales f\n",
    "JOIN dim_date d ON f.date_key = d.date_key\n",
    "GROUP BY d.date, d.month_name, d.day_name\n",
    "\"\"\"\n",
    "\n",
    "daily_sales = pd.read_sql(daily_sales_query, warehouse_db)\n",
    "daily_sales.to_sql('agg_daily_sales', warehouse_db, if_exists='replace', index=False)\n",
    "print(f\"✅ Created agg_daily_sales: {len(daily_sales)} daily summaries\")\n",
    "\n",
    "# Customer Lifetime Value\n",
    "clv_query = \"\"\"\n",
    "SELECT \n",
    "    c.customer_id,\n",
    "    c.customer_segment,\n",
    "    c.country,\n",
    "    COUNT(f.transaction_id) as total_transactions,\n",
    "    SUM(f.total_amount) as lifetime_value\n",
    "FROM dim_customer c\n",
    "LEFT JOIN fact_sales f ON c.customer_id = f.customer_id\n",
    "GROUP BY c.customer_id, c.customer_segment, c.country\n",
    "\"\"\"\n",
    "\n",
    "customer_clv = pd.read_sql(clv_query, warehouse_db)\n",
    "customer_clv.to_sql('agg_customer_ltv', warehouse_db, if_exists='replace', index=False)\n",
    "print(f\"✅ Created agg_customer_ltv: {len(customer_clv)} customer summaries\")"
   ]
  },
  {
   "cell_type": "markdown",
   "metadata": {},
   "source": [
    "---\n",
    "\n",
    "## 📊 Part 4: Analytics on Unified Database\n",
    "\n",
    "### Real-World Application: Business Intelligence Queries"
   ]
  },
  {
   "cell_type": "code",
   "execution_count": 10,
   "metadata": {},
   "outputs": [
    {
     "name": "stdout",
     "output_type": "stream",
     "text": [
      "📊 BUSINESS INTELLIGENCE ANALYTICS\n",
      "\n",
      "Sales Performance by Day of Week:\n",
      "    day_name    avg_revenue  avg_transactions\n",
      "0     Friday  125210.564667         96.000000\n",
      "1   Thursday  124964.062667         96.000000\n",
      "2     Sunday  124060.251333         96.000000\n",
      "3     Monday  123817.312000         96.000000\n",
      "4  Wednesday  123014.428000         96.000000\n",
      "5    Tuesday  120733.423333         96.000000\n",
      "6   Saturday  117745.924667         90.666667\n"
     ]
    },
    {
     "data": {
      "image/png": "[encoded data removed]",
      "text/plain": [
       "<Figure size 1200x400 with 2 Axes>"
      ]
     },
     "metadata": {},
     "output_type": "display_data"
    },
    {
     "name": "stdout",
     "output_type": "stream",
     "text": [
      "\n",
      "Customer Segmentation Analysis:\n",
      "  customer_segment  customer_count       avg_ltv\n",
      "0           Silver             281  12979.356050\n",
      "1           Bronze             516  12946.284070\n",
      "2             Gold             203  12638.955025\n"
     ]
    }
   ],
   "source": [
    "print(\"📊 BUSINESS INTELLIGENCE ANALYTICS\\n\")\n",
    "\n",
    "# Analysis 1: Sales by Day of Week\n",
    "day_analysis = pd.read_sql(\"\"\"\n",
    "    SELECT \n",
    "        day_name,\n",
    "        AVG(total_revenue) as avg_revenue,\n",
    "        AVG(num_transactions) as avg_transactions\n",
    "    FROM agg_daily_sales\n",
    "    GROUP BY day_name\n",
    "    ORDER BY avg_revenue DESC\n",
    "\"\"\", warehouse_db)\n",
    "\n",
    "print(\"Sales Performance by Day of Week:\")\n",
    "print(day_analysis)\n",
    "\n",
    "# Visualization\n",
    "fig, ax = plt.subplots(1, 2, figsize=(12, 4))\n",
    "\n",
    "ax[0].bar(day_analysis['day_name'], day_analysis['avg_revenue'], color='steelblue')\n",
    "ax[0].set_title('Average Revenue by Day')\n",
    "ax[0].set_xlabel('Day of Week')\n",
    "ax[0].set_ylabel('Revenue ($)')\n",
    "ax[0].tick_params(axis='x', rotation=45)\n",
    "\n",
    "ax[1].bar(day_analysis['day_name'], day_analysis['avg_transactions'], color='coral')\n",
    "ax[1].set_title('Average Transactions by Day')\n",
    "ax[1].set_xlabel('Day of Week')\n",
    "ax[1].set_ylabel('# Transactions')\n",
    "ax[1].tick_params(axis='x', rotation=45)\n",
    "\n",
    "plt.tight_layout()\n",
    "plt.show()\n",
    "\n",
    "# Analysis 2: Customer Segmentation\n",
    "segment_analysis = pd.read_sql(\"\"\"\n",
    "    SELECT \n",
    "        customer_segment,\n",
    "        COUNT(*) as customer_count,\n",
    "        AVG(lifetime_value) as avg_ltv\n",
    "    FROM agg_customer_ltv\n",
    "    WHERE lifetime_value > 0\n",
    "    GROUP BY customer_segment\n",
    "    ORDER BY avg_ltv DESC\n",
    "\"\"\", warehouse_db)\n",
    "\n",
    "print(\"\\nCustomer Segmentation Analysis:\")\n",
    "print(segment_analysis)"
   ]
  },
  {
   "cell_type": "markdown",
   "metadata": {},
   "source": [
    "---\n",
    "\n",
    "## 💾 Part 5: Exporting and Backing Up\n",
    "\n",
    "### Best Practices: Data Export and Documentation"
   ]
  },
  {
   "cell_type": "code",
   "execution_count": 204,
   "metadata": {},
   "outputs": [
    {
     "name": "stdout",
     "output_type": "stream",
     "text": [
      "💾 EXPORTING DATABASE CONTENT\n",
      "\n",
      "✅ Exported dim_customer: 1000 rows\n",
      "✅ Exported dim_product: 500 rows\n",
      "✅ Exported agg_daily_sales: 105 rows\n",
      "\n",
      "📁 Export complete! Files saved in 'warehouse_export/'\n",
      "\n",
      "DATA WAREHOUSE SUMMARY\n",
      "==============================\n",
      "Generated: 2025-09-20 15:17\n",
      "\n",
      "Total Revenue: $12,893,189.50\n",
      "Total Customers: 1,000\n",
      "Database: data_warehouse.db\n",
      "\n"
     ]
    }
   ],
   "source": [
    "print(\"💾 EXPORTING DATABASE CONTENT\\n\")\n",
    "\n",
    "# Create export directory\n",
    "os.makedirs('warehouse_export', exist_ok=True)\n",
    "\n",
    "# Export key tables\n",
    "tables_to_export = ['dim_customer', 'dim_product', 'agg_daily_sales']\n",
    "\n",
    "for table in tables_to_export:\n",
    "    df = pd.read_sql(f\"SELECT * FROM {table}\", warehouse_db)\n",
    "    filename = f'warehouse_export/{table}.csv'\n",
    "    df.to_csv(filename, index=False)\n",
    "    print(f\"✅ Exported {table}: {len(df)} rows\")\n",
    "\n",
    "# Create summary report\n",
    "total_revenue = pd.read_sql(\"SELECT SUM(total_amount) as rev FROM fact_sales\", warehouse_db).iloc[0, 0]\n",
    "total_customers = pd.read_sql(\"SELECT COUNT(*) as cnt FROM dim_customer\", warehouse_db).iloc[0, 0]\n",
    "\n",
    "summary = f\"\"\"\n",
    "DATA WAREHOUSE SUMMARY\n",
    "{'='*30}\n",
    "Generated: {datetime.now().strftime('%Y-%m-%d %H:%M')}\n",
    "\n",
    "Total Revenue: ${total_revenue:,.2f}\n",
    "Total Customers: {total_customers:,}\n",
    "Database: data_warehouse.db\n",
    "\"\"\"\n",
    "\n",
    "with open('warehouse_export/summary.txt', 'w') as f:\n",
    "    f.write(summary)\n",
    "\n",
    "print(f\"\\n📁 Export complete! Files saved in 'warehouse_export/'\")\n",
    "print(summary)"
   ]
  },
  {
   "cell_type": "markdown",
   "metadata": {},
   "source": [
    "---\n",
    "\n",
    "## 🎯 Practice Exercises"
   ]
  },
  {
   "cell_type": "code",
   "execution_count": 12,
   "metadata": {},
   "outputs": [
    {
     "name": "stdout",
     "output_type": "stream",
     "text": [
      "📝 PRACTICE EXERCISES\n",
      "\n",
      "Exercise 1: Create Your Own Pipeline\n",
      "  • Create 3 related DataFrames\n",
      "  • Save to a new database\n",
      "  • Query for insights\n",
      "\n",
      "Exercise 2: Data Cleaning Challenge\n",
      "  • Create a messy CSV with various issues\n",
      "  • Write cleaning functions\n",
      "  • Import to clean database\n",
      "\n",
      "Exercise 3: Database Merge\n",
      "  • Create two separate databases\n",
      "  • Merge into unified warehouse\n",
      "  • Create aggregate tables\n"
     ]
    }
   ],
   "source": [
    "print(\"📝 PRACTICE EXERCISES\\n\")\n",
    "\n",
    "print(\"Exercise 1: Create Your Own Pipeline\")\n",
    "print(\"  • Create 3 related DataFrames\")\n",
    "print(\"  • Save to a new database\")\n",
    "print(\"  • Query for insights\")\n",
    "print()\n",
    "\n",
    "print(\"Exercise 2: Data Cleaning Challenge\")\n",
    "print(\"  • Create a messy CSV with various issues\")\n",
    "print(\"  • Write cleaning functions\")\n",
    "print(\"  • Import to clean database\")\n",
    "print()\n",
    "\n",
    "print(\"Exercise 3: Database Merge\")\n",
    "print(\"  • Create two separate databases\")\n",
    "print(\"  • Merge into unified warehouse\")\n",
    "print(\"  • Create aggregate tables\")"
   ]
  },
  {
   "cell_type": "markdown",
   "metadata": {},
   "source": [
    "### Ex.1 Create Your Own Pipeline"
   ]
  },
  {
   "cell_type": "code",
   "execution_count": 14,
   "metadata": {},
   "outputs": [
    {
     "name": "stdout",
     "output_type": "stream",
     "text": [
      "  • Create 3 related DataFrames\n",
      "  • Save to a new database\n",
      "  • Query for insights\n",
      "\n"
     ]
    }
   ],
   "source": [
    "print(\"  • Create 3 related DataFrames\")\n",
    "print(\"  • Save to a new database\")\n",
    "print(\"  • Query for insights\")\n",
    "print()"
   ]
  },
  {
   "cell_type": "code",
   "execution_count": 49,
   "metadata": {},
   "outputs": [],
   "source": [
    "np.random.seed(42)\n",
    "n_routes = 100\n",
    "n_trips = 2000\n",
    "n_tap_events = 10000\n",
    "\n",
    "routes_df = pd.DataFrame({\n",
    "    'routes_id': range(1,1+n_routes),\n",
    "    'routes_name': [f'Route_{i}' for i in range(n_routes)],\n",
    "    'mode': np.random.choice(['bus','train','tram'], n_routes, p = [0.5,0.4,0.1]),\n",
    "    'km': np.random.exponential(50, n_routes).round(2).clip(10,250)\n",
    "})\n",
    "\n",
    "trips_df = pd.DataFrame({\n",
    "    'trip_id': [f'TRIP_{i:04d}' for i in range(1, n_trips+1)],\n",
    "    'route_id': np.random.choice(routes_df['routes_id'], n_trips),\n",
    "    'service_date': pd.date_range('2025-01-01', periods = n_trips, freq='90min')\n",
    "})\n",
    "\n",
    "hour_list = list(range(6,24))  \n",
    "tap_events_df = pd.DataFrame({\n",
    "    'tap_id': [f'TAP_{i:05d}' for i in range(1, n_tap_events+1)],\n",
    "    'trip_id': np.random.choice(trips_df['trip_id'], n_tap_events),\n",
    "    'tap_time': np.random.choice(hour_list,n_tap_events),\n",
    "    'stop_id':np.random.choice(['A','B','C','D','E'], n_tap_events, p=(0.4,0.2,0.2,0.1,0.1)),\n",
    "    'direction': np.random.choice(['east','west'],n_tap_events,p=(0.5,0.5)),\n",
    "    'fare':np.random.normal(3.5, 1.2, n_tap_events).clip(1.2,5.4).round(2)\n",
    "})"
   ]
  },
  {
   "cell_type": "code",
   "execution_count": 56,
   "metadata": {},
   "outputs": [
    {
     "name": "stdout",
     "output_type": "stream",
     "text": [
      "Three dataframes are created:\n",
      "\n",
      "routes_df: 100 rows\n",
      "\n",
      "   routes_id routes_name   mode      km\n",
      "0          1     Route_0    bus   10.00\n",
      "1          2     Route_1   tram   50.59\n",
      "2          3     Route_2  train   18.87\n",
      "3          4     Route_3  train   35.52\n",
      "4          5     Route_4    bus  119.06\n",
      "\n",
      "trips_df: 2000 rows\n",
      "\n",
      "     trip_id  route_id        service_date\n",
      "0  TRIP_0001        24 2025-01-01 00:00:00\n",
      "1  TRIP_0002        75 2025-01-01 01:30:00\n",
      "2  TRIP_0003        72 2025-01-01 03:00:00\n",
      "3  TRIP_0004        36 2025-01-01 04:30:00\n",
      "4  TRIP_0005        38 2025-01-01 06:00:00\n",
      "\n",
      "tap_events_df: 10000 rows\n",
      "\n",
      "      tap_id    trip_id  tap_time stop_id direction  fare\n",
      "0  TAP_00001  TRIP_1618        22       A      west  4.73\n",
      "1  TAP_00002  TRIP_0397         8       A      west  3.40\n",
      "2  TAP_00003  TRIP_1001        21       E      west  3.87\n",
      "3  TAP_00004  TRIP_1303        19       C      west  3.98\n",
      "4  TAP_00005  TRIP_0851        17       C      west  4.73\n"
     ]
    }
   ],
   "source": [
    "print(f\"Three dataframes are created:\\n\")\n",
    "print(f\"routes_df: {len(routes_df)} rows\\n\")\n",
    "print(routes_df.head())\n",
    "print(f\"\\ntrips_df: {len(trips_df)} rows\\n\")\n",
    "print(trips_df.head())\n",
    "print(f\"\\ntap_events_df: {len(tap_events_df)} rows\\n\")\n",
    "print(tap_events_df.head())"
   ]
  },
  {
   "cell_type": "code",
   "execution_count": 59,
   "metadata": {},
   "outputs": [
    {
     "name": "stdout",
     "output_type": "stream",
     "text": [
      "<class 'pandas.core.frame.DataFrame'>\n",
      "RangeIndex: 10000 entries, 0 to 9999\n",
      "Data columns (total 6 columns):\n",
      " #   Column     Non-Null Count  Dtype  \n",
      "---  ------     --------------  -----  \n",
      " 0   tap_id     10000 non-null  object \n",
      " 1   trip_id    10000 non-null  object \n",
      " 2   tap_time   10000 non-null  int64  \n",
      " 3   stop_id    10000 non-null  object \n",
      " 4   direction  10000 non-null  object \n",
      " 5   fare       10000 non-null  float64\n",
      "dtypes: float64(1), int64(1), object(4)\n",
      "memory usage: 468.9+ KB\n"
     ]
    }
   ],
   "source": [
    "tap_events_df.info()"
   ]
  },
  {
   "cell_type": "code",
   "execution_count": 44,
   "metadata": {},
   "outputs": [
    {
     "data": {
      "image/png": "[encoded data removed]",
      "text/plain": [
       "<Figure size 1200x300 with 3 Axes>"
      ]
     },
     "metadata": {},
     "output_type": "display_data"
    }
   ],
   "source": [
    "fig, axes = plt.subplots(1,3,figsize=(12,3))\n",
    "\n",
    "ax1= axes[0]\n",
    "x = routes_df['km']\n",
    "ax1.hist(x, bins=30, alpha=0.5, label='km')\n",
    "ax1.set_title('routes_df')\n",
    "ax1.set_xlabel('km')\n",
    "ax1.set_ylabel('counts')\n",
    "ax1.legend()\n",
    "\n",
    "ax2 = axes[1]\n",
    "x = tap_events_df['tap_time']\n",
    "ax2.hist(x, bins=20, alpha=0.5, label='tap hour')\n",
    "ax2.set_title('tap time')\n",
    "ax2.set_xlabel('hour')\n",
    "ax2.set_ylabel('counts')\n",
    "ax2.legend()\n",
    "\n",
    "ax3 = axes[2]\n",
    "x = tap_events_df['fare']\n",
    "ax3.hist(x, bins=30, alpha=0.5, label='fare')\n",
    "ax3.set_title('fare')\n",
    "ax3.set_xlabel('$')\n",
    "ax3.set_ylabel('counts')\n",
    "ax3.legend()\n",
    "\n",
    "plt.tight_layout()\n",
    "plt.show()"
   ]
  },
  {
   "cell_type": "code",
   "execution_count": 61,
   "metadata": {},
   "outputs": [
    {
     "name": "stdout",
     "output_type": "stream",
     "text": [
      "\n",
      "Database Summary:\n",
      "📊 Table: routes\n",
      "   Rows: 100\n",
      "   Columns: routes_id, routes_name, mode, km\n",
      "📊 Table: trips\n",
      "   Rows: 2,000\n",
      "   Columns: trip_id, route_id, service_date\n",
      "📊 Table: tap_events\n",
      "   Rows: 10,000\n",
      "   Columns: tap_id, trip_id, tap_time, stop_id, direction, fare\n"
     ]
    }
   ],
   "source": [
    "transport_db = sqlite3.connect('transport.db')\n",
    "\n",
    "routes_df.to_sql(\n",
    "    name = 'routes',\n",
    "    con = transport_db,\n",
    "    if_exists = 'replace',\n",
    "    index = False,\n",
    "    dtype = {\n",
    "        'routes_id': 'INTEGER PRIMARY KEY',\n",
    "        'routes_name': 'TEXT UNIQUE'\n",
    "    }\n",
    ")\n",
    "\n",
    "trips_df.to_sql(\n",
    "    name = 'trips',\n",
    "    con = transport_db, \n",
    "    if_exists = 'replace',\n",
    "    index = False,\n",
    "    dtype = {\n",
    "        'trip_id' : 'PRIMARY KEY',\n",
    "        'service_date' : 'DATETIME'\n",
    "    }\n",
    ")\n",
    "\n",
    "tap_events_df.to_sql(\n",
    "    name = 'tap_events',\n",
    "    con = transport_db, \n",
    "    if_exists = 'replace',\n",
    "    index= False,\n",
    "    dtype = {\n",
    "        'tap_id' : 'PRIMARY KEY'\n",
    "    }\n",
    ")\n",
    "\n",
    "print(\"\\nDatabase Summary:\")\n",
    "for table in list_all_tables(transport_db):\n",
    "    show_table_info(transport_db,table)"
   ]
  },
  {
   "cell_type": "markdown",
   "metadata": {},
   "source": [
    "### Ex.2 Data Cleaning Challenge"
   ]
  },
  {
   "cell_type": "code",
   "execution_count": 62,
   "metadata": {},
   "outputs": [
    {
     "name": "stdout",
     "output_type": "stream",
     "text": [
      "  • Create a messy CSV with various issues\n",
      "  • Write cleaning functions\n",
      "  • Import to clean database\n",
      "\n"
     ]
    }
   ],
   "source": [
    "print(\"  • Create a messy CSV with various issues\")\n",
    "print(\"  • Write cleaning functions\")\n",
    "print(\"  • Import to clean database\")\n",
    "print()"
   ]
  },
  {
   "cell_type": "code",
   "execution_count": 85,
   "metadata": {},
   "outputs": [
    {
     "name": "stdout",
     "output_type": "stream",
     "text": [
      "Created messy_df_student.csv\n"
     ]
    }
   ],
   "source": [
    "messy_df = pd.DataFrame({\n",
    "    'id': (list(range(1,10))) + ['A','B','D'],\n",
    "    'first' : np.random.choice(['Alpha','Beta',None,'Miu','Rho'],12),\n",
    "    'email' : np.random.choice(['email@gmail.com','news@hotmail.com','idk@yahoo','blablabla'],12),\n",
    "    'birthday' : np.random.choice(['25-Dec', 'Jan-01', '12/04'],12)\n",
    "})\n",
    "messy_df.to_csv('csv_data/messy_df_student.csv', index=False)\n",
    "print(\"Created messy_df_student.csv\")"
   ]
  },
  {
   "cell_type": "code",
   "execution_count": 92,
   "metadata": {},
   "outputs": [
    {
     "name": "stdout",
     "output_type": "stream",
     "text": [
      "<class 'pandas.core.frame.DataFrame'>\n",
      "RangeIndex: 12 entries, 0 to 11\n",
      "Data columns (total 4 columns):\n",
      " #   Column    Non-Null Count  Dtype \n",
      "---  ------    --------------  ----- \n",
      " 0   id        12 non-null     object\n",
      " 1   first     11 non-null     object\n",
      " 2   email     12 non-null     object\n",
      " 3   birthday  12 non-null     object\n",
      "dtypes: object(4)\n",
      "memory usage: 516.0+ bytes\n"
     ]
    }
   ],
   "source": [
    "messy_df.info()"
   ]
  },
  {
   "cell_type": "code",
   "execution_count": 93,
   "metadata": {},
   "outputs": [
    {
     "data": {
      "text/html": [
       "<div>\n",
       "<style scoped>\n",
       "    .dataframe tbody tr th:only-of-type {\n",
       "        vertical-align: middle;\n",
       "    }\n",
       "\n",
       "    .dataframe tbody tr th {\n",
       "        vertical-align: top;\n",
       "    }\n",
       "\n",
       "    .dataframe thead th {\n",
       "        text-align: right;\n",
       "    }\n",
       "</style>\n",
       "<table border=\"1\" class=\"dataframe\">\n",
       "  <thead>\n",
       "    <tr style=\"text-align: right;\">\n",
       "      <th></th>\n",
       "      <th>id</th>\n",
       "      <th>first</th>\n",
       "      <th>email</th>\n",
       "      <th>birthday</th>\n",
       "    </tr>\n",
       "  </thead>\n",
       "  <tbody>\n",
       "    <tr>\n",
       "      <th>0</th>\n",
       "      <td>1</td>\n",
       "      <td>Rho</td>\n",
       "      <td>blablabla</td>\n",
       "      <td>25-Dec</td>\n",
       "    </tr>\n",
       "    <tr>\n",
       "      <th>1</th>\n",
       "      <td>2</td>\n",
       "      <td>Rho</td>\n",
       "      <td>blablabla</td>\n",
       "      <td>Jan-01</td>\n",
       "    </tr>\n",
       "    <tr>\n",
       "      <th>2</th>\n",
       "      <td>3</td>\n",
       "      <td>Alpha</td>\n",
       "      <td>news@hotmail.com</td>\n",
       "      <td>25-Dec</td>\n",
       "    </tr>\n",
       "    <tr>\n",
       "      <th>3</th>\n",
       "      <td>4</td>\n",
       "      <td>Rho</td>\n",
       "      <td>email@gmail.com</td>\n",
       "      <td>12/04</td>\n",
       "    </tr>\n",
       "    <tr>\n",
       "      <th>4</th>\n",
       "      <td>5</td>\n",
       "      <td>Alpha</td>\n",
       "      <td>idk@yahoo</td>\n",
       "      <td>12/04</td>\n",
       "    </tr>\n",
       "    <tr>\n",
       "      <th>5</th>\n",
       "      <td>6</td>\n",
       "      <td>Beta</td>\n",
       "      <td>blablabla</td>\n",
       "      <td>25-Dec</td>\n",
       "    </tr>\n",
       "    <tr>\n",
       "      <th>6</th>\n",
       "      <td>7</td>\n",
       "      <td>Alpha</td>\n",
       "      <td>email@gmail.com</td>\n",
       "      <td>Jan-01</td>\n",
       "    </tr>\n",
       "    <tr>\n",
       "      <th>7</th>\n",
       "      <td>8</td>\n",
       "      <td>Beta</td>\n",
       "      <td>news@hotmail.com</td>\n",
       "      <td>12/04</td>\n",
       "    </tr>\n",
       "    <tr>\n",
       "      <th>8</th>\n",
       "      <td>9</td>\n",
       "      <td>Miu</td>\n",
       "      <td>blablabla</td>\n",
       "      <td>25-Dec</td>\n",
       "    </tr>\n",
       "    <tr>\n",
       "      <th>9</th>\n",
       "      <td>A</td>\n",
       "      <td>Beta</td>\n",
       "      <td>news@hotmail.com</td>\n",
       "      <td>Jan-01</td>\n",
       "    </tr>\n",
       "    <tr>\n",
       "      <th>10</th>\n",
       "      <td>B</td>\n",
       "      <td>None</td>\n",
       "      <td>idk@yahoo</td>\n",
       "      <td>25-Dec</td>\n",
       "    </tr>\n",
       "    <tr>\n",
       "      <th>11</th>\n",
       "      <td>D</td>\n",
       "      <td>Alpha</td>\n",
       "      <td>idk@yahoo</td>\n",
       "      <td>12/04</td>\n",
       "    </tr>\n",
       "  </tbody>\n",
       "</table>\n",
       "</div>"
      ],
      "text/plain": [
       "   id  first             email birthday\n",
       "0   1    Rho         blablabla   25-Dec\n",
       "1   2    Rho         blablabla   Jan-01\n",
       "2   3  Alpha  news@hotmail.com   25-Dec\n",
       "3   4    Rho   email@gmail.com    12/04\n",
       "4   5  Alpha         idk@yahoo    12/04\n",
       "5   6   Beta         blablabla   25-Dec\n",
       "6   7  Alpha   email@gmail.com   Jan-01\n",
       "7   8   Beta  news@hotmail.com    12/04\n",
       "8   9    Miu         blablabla   25-Dec\n",
       "9   A   Beta  news@hotmail.com   Jan-01\n",
       "10  B   None         idk@yahoo   25-Dec\n",
       "11  D  Alpha         idk@yahoo    12/04"
      ]
     },
     "execution_count": 93,
     "metadata": {},
     "output_type": "execute_result"
    }
   ],
   "source": [
    "messy_df"
   ]
  },
  {
   "cell_type": "code",
   "execution_count": 160,
   "metadata": {},
   "outputs": [
    {
     "data": {
      "text/html": [
       "<div>\n",
       "<style scoped>\n",
       "    .dataframe tbody tr th:only-of-type {\n",
       "        vertical-align: middle;\n",
       "    }\n",
       "\n",
       "    .dataframe tbody tr th {\n",
       "        vertical-align: top;\n",
       "    }\n",
       "\n",
       "    .dataframe thead th {\n",
       "        text-align: right;\n",
       "    }\n",
       "</style>\n",
       "<table border=\"1\" class=\"dataframe\">\n",
       "  <thead>\n",
       "    <tr style=\"text-align: right;\">\n",
       "      <th></th>\n",
       "      <th>id</th>\n",
       "      <th>first</th>\n",
       "      <th>email</th>\n",
       "      <th>birthday</th>\n",
       "    </tr>\n",
       "  </thead>\n",
       "  <tbody>\n",
       "    <tr>\n",
       "      <th>0</th>\n",
       "      <td>1</td>\n",
       "      <td>Rho</td>\n",
       "      <td>None</td>\n",
       "      <td>25-Dec</td>\n",
       "    </tr>\n",
       "    <tr>\n",
       "      <th>1</th>\n",
       "      <td>2</td>\n",
       "      <td>Rho</td>\n",
       "      <td>None</td>\n",
       "      <td>01-Jan</td>\n",
       "    </tr>\n",
       "    <tr>\n",
       "      <th>2</th>\n",
       "      <td>3</td>\n",
       "      <td>Alpha</td>\n",
       "      <td>news@hotmail.com</td>\n",
       "      <td>25-Dec</td>\n",
       "    </tr>\n",
       "    <tr>\n",
       "      <th>3</th>\n",
       "      <td>4</td>\n",
       "      <td>Rho</td>\n",
       "      <td>email@gmail.com</td>\n",
       "      <td>12-Apr</td>\n",
       "    </tr>\n",
       "    <tr>\n",
       "      <th>4</th>\n",
       "      <td>5</td>\n",
       "      <td>Alpha</td>\n",
       "      <td>idk@yahoo.com</td>\n",
       "      <td>12-Apr</td>\n",
       "    </tr>\n",
       "    <tr>\n",
       "      <th>5</th>\n",
       "      <td>6</td>\n",
       "      <td>Beta</td>\n",
       "      <td>None</td>\n",
       "      <td>25-Dec</td>\n",
       "    </tr>\n",
       "    <tr>\n",
       "      <th>6</th>\n",
       "      <td>7</td>\n",
       "      <td>Alpha</td>\n",
       "      <td>email@gmail.com</td>\n",
       "      <td>01-Jan</td>\n",
       "    </tr>\n",
       "    <tr>\n",
       "      <th>7</th>\n",
       "      <td>8</td>\n",
       "      <td>Beta</td>\n",
       "      <td>news@hotmail.com</td>\n",
       "      <td>12-Apr</td>\n",
       "    </tr>\n",
       "    <tr>\n",
       "      <th>8</th>\n",
       "      <td>9</td>\n",
       "      <td>Miu</td>\n",
       "      <td>None</td>\n",
       "      <td>25-Dec</td>\n",
       "    </tr>\n",
       "    <tr>\n",
       "      <th>9</th>\n",
       "      <td>A</td>\n",
       "      <td>Beta</td>\n",
       "      <td>news@hotmail.com</td>\n",
       "      <td>01-Jan</td>\n",
       "    </tr>\n",
       "    <tr>\n",
       "      <th>10</th>\n",
       "      <td>B</td>\n",
       "      <td>Unknown</td>\n",
       "      <td>idk@yahoo.com</td>\n",
       "      <td>25-Dec</td>\n",
       "    </tr>\n",
       "    <tr>\n",
       "      <th>11</th>\n",
       "      <td>D</td>\n",
       "      <td>Alpha</td>\n",
       "      <td>idk@yahoo.com</td>\n",
       "      <td>12-Apr</td>\n",
       "    </tr>\n",
       "  </tbody>\n",
       "</table>\n",
       "</div>"
      ],
      "text/plain": [
       "   id    first             email birthday\n",
       "0   1      Rho              None   25-Dec\n",
       "1   2      Rho              None   01-Jan\n",
       "2   3    Alpha  news@hotmail.com   25-Dec\n",
       "3   4      Rho   email@gmail.com   12-Apr\n",
       "4   5    Alpha     idk@yahoo.com   12-Apr\n",
       "5   6     Beta              None   25-Dec\n",
       "6   7    Alpha   email@gmail.com   01-Jan\n",
       "7   8     Beta  news@hotmail.com   12-Apr\n",
       "8   9      Miu              None   25-Dec\n",
       "9   A     Beta  news@hotmail.com   01-Jan\n",
       "10  B  Unknown     idk@yahoo.com   25-Dec\n",
       "11  D    Alpha     idk@yahoo.com   12-Apr"
      ]
     },
     "execution_count": 160,
     "metadata": {},
     "output_type": "execute_result"
    }
   ],
   "source": [
    "# testing manual workflow before building the function.\n",
    "\n",
    "messy_df_read = pd.read_csv('csv_data/messy_df_student.csv')\n",
    "messy_df_read['first'] = messy_df_read['first'].fillna('Unknown').replace('','Unknown')\n",
    "\n",
    "messy_email_string = messy_df_read['email'].astype(str)\n",
    "condition1 = messy_email_string.str.contains('@', na=False)\n",
    "condition2 = messy_email_string.str.endswith('.com', na=False)\n",
    "messy_df_read.loc[~ condition1, 'email']= None\n",
    "messy_df_read.loc[~ condition2 & condition1, 'email']=messy_email_string[~ condition2 & condition1] + '.com'\n",
    "\n",
    "messy_bd_string = messy_df_read['birthday'].astype(str)\n",
    "messy_df_read['birthday']= messy_bd_string.str.strip().str.replace('/','-', regex=False)\n",
    "messy_bd_string = messy_df_read['birthday']\n",
    "condition3 = messy_bd_string.str.match(r'^[A-Za-z]{3}-\\d{1,2}$', na = False)\n",
    "parsed3 = pd.to_datetime(messy_bd_string[condition3], format = '%b-%d', errors = 'coerce')\n",
    "messy_df_read.loc[condition3 & parsed3.notna(),'birthday']= parsed3.dt.strftime('%d-%b')\n",
    "\n",
    "messy_bd_string = messy_df_read['birthday'].astype(str)\n",
    "condition4 = messy_bd_string.str.match(r'^\\d{1,2}-(0?[1-9]|1[0-2])$', na=False)\n",
    "parsed4 = pd.to_datetime(messy_bd_string.where(condition4), format = '%d-%m', errors = 'coerce')\n",
    "messy_df_read.loc[parsed4.notna(),'birthday'] = parsed4.dt.strftime('%d-%b')\n",
    "messy_df_read\n"
   ]
  },
  {
   "cell_type": "code",
   "execution_count": 101,
   "metadata": {},
   "outputs": [],
   "source": [
    "# Create new database for CSV data\n",
    "csv_student_db = sqlite3.connect('csv_student_database.db')"
   ]
  },
  {
   "cell_type": "code",
   "execution_count": 165,
   "metadata": {},
   "outputs": [],
   "source": [
    "def clean_my_mess(csv_file, connection, table_name):\n",
    "    # read csv\n",
    "    df = pd.read_csv(csv_file)\n",
    "    original_shape = df.shape\n",
    "\n",
    "    # cleaning logs\n",
    "    cleaning_record = []\n",
    "\n",
    "    # check and/or impute missing ID\n",
    "    if 'id' in df.columns:\n",
    "        df = df.dropna(subset=['id'])\n",
    "        cleaning_record.append(f\"Removed {original_shape[0] - len(df)} rows with missing IDs\")\n",
    "   \n",
    "    # check and/or impute missing name\n",
    "    if 'first' in df.columns:\n",
    "        df['first'] = df['first'].fillna('Unknown').replace('','Unknown')\n",
    "        cleaning_record.append('Filled missing first name')\n",
    "\n",
    "    # check and/or impute missing email\n",
    "    if 'email' in df.columns:\n",
    "        email_string = df['email'].astype(str)\n",
    "        condition1 = email_string.str.contains('@', na = False)\n",
    "        condition2 = email_string.str.endswith('.com', na = False)\n",
    "        df.loc[~ condition1, 'email']= None\n",
    "        df.loc[~ condition2 & condition1, 'email']= email_string[~ condition2 & condition1] + '.com'\n",
    "        cleaning_record.append('Impute missing email')\n",
    "\n",
    "    # clean birthday format\n",
    "    if 'birthday' in df.columns:\n",
    "        bd_string = df['birthday'].astype(str)\n",
    "        df['birthday']= bd_string.str.strip().str.replace('/','-', regex=False)\n",
    "        bd_string = df['birthday']\n",
    "        condition3 = bd_string.str.match(r'^[A-Za-z]{3}-\\d{1,2}$', na = False)\n",
    "        parsed3 = pd.to_datetime(bd_string[condition3], format = '%b-%d', errors = 'coerce')\n",
    "        df.loc[condition3 & parsed3.notna(), 'birthday'] = parsed3.dt.strftime('%d-%b')\n",
    "        bd_string = df['birthday']\n",
    "        condition4 = bd_string.str.match(r'^\\d{1,2}-(0?[1-9]|1[0-2])$', na = False)\n",
    "        parsed4 = pd.to_datetime(bd_string.where(condition4), format = '%d-%m', errors = 'coerce')\n",
    "        df.loc[parsed4.notna(), 'birthday']= parsed4.dt.strftime('%d-%b')\n",
    "        cleaning_record.append('Reformat birthday')\n",
    "        \n",
    "    # update cleaning logs\n",
    "    for op in cleaning_record:\n",
    "        print(f\" • {op}\")\n",
    "\n",
    "    # save to database\n",
    "    df.to_sql(table_name, connection, if_exists = 'replace', index = False)\n",
    "    print(f\"\\nSaved to table '{table_name}'\\n\")\n",
    "    \n",
    "    return df\n",
    "    "
   ]
  },
  {
   "cell_type": "code",
   "execution_count": 166,
   "metadata": {},
   "outputs": [
    {
     "name": "stdout",
     "output_type": "stream",
     "text": [
      " • Removed 0 rows with missing IDs\n",
      " • Filled missing first name\n",
      " • Impute missing email\n",
      " • Reformat birthday\n",
      "\n",
      "Saved to table 'cleaned_data_student'\n",
      "\n",
      "   id    first             email birthday\n",
      "0   1      Rho              None   25-Dec\n",
      "1   2      Rho              None   01-Jan\n",
      "2   3    Alpha  news@hotmail.com   25-Dec\n",
      "3   4      Rho   email@gmail.com   12-Apr\n",
      "4   5    Alpha     idk@yahoo.com   12-Apr\n",
      "5   6     Beta              None   25-Dec\n",
      "6   7    Alpha   email@gmail.com   01-Jan\n",
      "7   8     Beta  news@hotmail.com   12-Apr\n",
      "8   9      Miu              None   25-Dec\n",
      "9   A     Beta  news@hotmail.com   01-Jan\n",
      "10  B  Unknown     idk@yahoo.com   25-Dec\n",
      "11  D    Alpha     idk@yahoo.com   12-Apr\n"
     ]
    }
   ],
   "source": [
    "print(clean_my_mess('csv_data/messy_df_student.csv',csv_student_db,'cleaned_data_student'))"
   ]
  },
  {
   "cell_type": "markdown",
   "metadata": {},
   "source": [
    "### Ex.3 Database Merge"
   ]
  },
  {
   "cell_type": "code",
   "execution_count": 167,
   "metadata": {},
   "outputs": [
    {
     "name": "stdout",
     "output_type": "stream",
     "text": [
      "  • Create two separate databases\n",
      "  • Merge into unified warehouse\n",
      "  • Create aggregate tables\n"
     ]
    }
   ],
   "source": [
    "print(\"  • Create two separate databases\")\n",
    "print(\"  • Merge into unified warehouse\")\n",
    "print(\"  • Create aggregate tables\")"
   ]
  },
  {
   "cell_type": "code",
   "execution_count": 176,
   "metadata": {},
   "outputs": [
    {
     "name": "stdout",
     "output_type": "stream",
     "text": [
      "C:\\Users\\Olivia\\AITech\\Olivia_int-ai-ds-25-08\\week_3\\company_database.db\n",
      "C:\\Users\\Olivia\\AITech\\Olivia_int-ai-ds-25-08\\week_3\\csv_database.db\n",
      "C:\\Users\\Olivia\\AITech\\Olivia_int-ai-ds-25-08\\week_3\\csv_student_database.db\n",
      "C:\\Users\\Olivia\\AITech\\Olivia_int-ai-ds-25-08\\week_3\\data_warehouse.db\n",
      "C:\\Users\\Olivia\\AITech\\Olivia_int-ai-ds-25-08\\week_3\\movies.db\n",
      "C:\\Users\\Olivia\\AITech\\Olivia_int-ai-ds-25-08\\week_3\\retail.db\n",
      "C:\\Users\\Olivia\\AITech\\Olivia_int-ai-ds-25-08\\week_3\\transport.db\n"
     ]
    }
   ],
   "source": [
    "# check the list of databases in the directory\n",
    "from pathlib import Path\n",
    "folder = Path(\"C:/Users/Olivia/AITech/Olivia_int-ai-ds-25-08/week_3\")\n",
    "exts = {\".db\"}\n",
    "\n",
    "db_files = [p for p in folder.rglob(\"*\") if p.suffix.lower() in exts and p.is_file()]\n",
    "for p in db_files:\n",
    "    print(p)"
   ]
  },
  {
   "cell_type": "code",
   "execution_count": 169,
   "metadata": {},
   "outputs": [
    {
     "name": "stdout",
     "output_type": "stream",
     "text": [
      "Use previously created databases:\n",
      "\n",
      "From transport.db:\n",
      "\n",
      "Database Summary:\n",
      "📊 Table: routes\n",
      "   Rows: 100\n",
      "   Columns: routes_id, routes_name, mode, km\n",
      "📊 Table: trips\n",
      "   Rows: 2,000\n",
      "   Columns: trip_id, route_id, service_date\n",
      "📊 Table: tap_events\n",
      "   Rows: 10,000\n",
      "   Columns: tap_id, trip_id, tap_time, stop_id, direction, fare\n",
      "\n",
      "From csv_student_database.db:\n",
      "\n",
      "Database Summary:\n",
      "📊 Table: cleaned_data_student\n",
      "   Rows: 12\n",
      "   Columns: id, first, email, birthday\n"
     ]
    }
   ],
   "source": [
    "print(f\"Use previously created databases:\\n\")\n",
    "print(f\"From transport.db:\")\n",
    "print(\"\\nDatabase Summary:\")\n",
    "for table in list_all_tables(transport_db):\n",
    "    show_table_info(transport_db,table)\n",
    "print(\"\\nFrom csv_student_database.db:\")\n",
    "print(\"\\nDatabase Summary:\")\n",
    "for table in list_all_tables(csv_student_db):\n",
    "    show_table_info(csv_student_db,table)\n"
   ]
  },
  {
   "cell_type": "code",
   "execution_count": 178,
   "metadata": {},
   "outputs": [],
   "source": [
    "# Create new data warehouse\n",
    "ex3_warehouse_db = sqlite3.connect('ex3_data_warehouse.db')"
   ]
  },
  {
   "cell_type": "code",
   "execution_count": 185,
   "metadata": {},
   "outputs": [
    {
     "name": "stdout",
     "output_type": "stream",
     "text": [
      "Created dim_passenger: 12 passengers\n",
      "Created dim_routes: 100 routes\n",
      "Created dim_trips: 2000 trips\n",
      "Created fact_tap_events: 10000 tap events\n"
     ]
    }
   ],
   "source": [
    "# load cleaned_data_student table from csv_student_database.db\n",
    "cleaned_data_student_df = pd.read_sql(\"SELECT * FROM cleaned_data_student\", csv_student_db)\n",
    "\n",
    "# load 3 tables (routes, trips, tap_events) from transport.db\n",
    "routes_df = pd.read_sql(\"SELECT * FROM routes\", transport_db)\n",
    "trips_df = pd.read_sql(\"SELECT * FROM trips\", transport_db)\n",
    "tap_events_df = pd.read_sql(\"SELECT * FROM tap_events\", transport_db)\n",
    "\n",
    "# create dimension table: passenger\n",
    "dim_passenger = cleaned_data_student_df.copy()\n",
    "dim_passenger.to_sql('dim_passenger',ex3_warehouse_db, if_exists='replace', index=False)\n",
    "print(f\"Created dim_passenger: {len(dim_passenger)} passengers\")\n",
    "\n",
    "# create dimension table: routes\n",
    "dim_routes = routes_df.copy()\n",
    "dim_routes.to_sql('dim_routes', ex3_warehouse_db, if_exists='replace', index=False)\n",
    "print(f\"Created dim_routes: {len(dim_routes)} routes\")\n",
    "\n",
    "# create dimension table: trips (note: this is the public transport trips, not the passengers')\n",
    "dim_trips = trips_df.copy()\n",
    "dim_trips.to_sql('dim_trips', ex3_warehouse_db, if_exists='replace', index=False)\n",
    "print(f\"Created dim_trips: {len(dim_trips)} trips\")\n",
    "\n",
    "# add passenger into tap_events table\n",
    "fact_tap_events = tap_events_df.copy()\n",
    "fact_tap_events['passenger']= np.random.choice(['Alpha','Beta','Miu','Rho'], n_tap_events, p=(0.4,0.3,0.2,0.1))\n",
    "fact_tap_events.to_sql('fact_tap_events', ex3_warehouse_db, if_exists='replace', index=False)\n",
    "print(f\"Created fact_tap_events: {len(fact_tap_events)} tap events\")"
   ]
  },
  {
   "cell_type": "code",
   "execution_count": 186,
   "metadata": {},
   "outputs": [
    {
     "name": "stdout",
     "output_type": "stream",
     "text": [
      "\n",
      "📊 Data Warehouse Structure:\n",
      "📊 Table: dim_passenger\n",
      "   Rows: 12\n",
      "   Columns: id, first, email, birthday\n",
      "📊 Table: dim_routes\n",
      "   Rows: 100\n",
      "   Columns: routes_id, routes_name, mode, km\n",
      "📊 Table: dim_trips\n",
      "   Rows: 2,000\n",
      "   Columns: trip_id, route_id, service_date\n",
      "📊 Table: fact_tap_events\n",
      "   Rows: 10,000\n",
      "   Columns: tap_id, trip_id, tap_time, stop_id, direction, fare, passenger\n"
     ]
    }
   ],
   "source": [
    "print(\"\\n📊 Data Warehouse Structure:\")\n",
    "for table in list_all_tables(ex3_warehouse_db):\n",
    "    show_table_info(ex3_warehouse_db, table)"
   ]
  },
  {
   "cell_type": "code",
   "execution_count": 197,
   "metadata": {},
   "outputs": [
    {
     "name": "stdout",
     "output_type": "stream",
     "text": [
      "📈 CREATING AGGREGATE TABLES FOR TRAVEL FARE\n"
     ]
    },
    {
     "data": {
      "text/markdown": [
       "```sql\n",
       "\n",
       "SELECT \n",
       "    passenger,\n",
       "    SUM(fare) as total_fare\n",
       "FROM\n",
       "    fact_tap_events\n",
       "GROUP BY passenger\n",
       "ORDER BY total_fare DESC\n",
       "\n",
       "```"
      ],
      "text/plain": [
       "<IPython.core.display.Markdown object>"
      ]
     },
     "metadata": {},
     "output_type": "display_data"
    },
    {
     "name": "stdout",
     "output_type": "stream",
     "text": [
      "Created agg_total_fare: 4 summaries of passengers.\n",
      "  passenger  total_fare\n",
      "0     Alpha    13673.68\n",
      "1      Beta    10661.18\n",
      "2       Miu     7105.15\n",
      "3       Rho     3393.13\n"
     ]
    }
   ],
   "source": [
    "print(\"📈 CREATING AGGREGATE TABLES FOR TRAVEL FARE\")\n",
    "\n",
    "fare_query = \"\"\"\n",
    "SELECT \n",
    "    passenger,\n",
    "    SUM(fare) as total_fare\n",
    "FROM\n",
    "    fact_tap_events\n",
    "GROUP BY passenger\n",
    "ORDER BY total_fare DESC\n",
    "\"\"\"\n",
    "show_sql(fare_query)\n",
    "\n",
    "total_fare_df = pd.read_sql(fare_query, ex3_warehouse_db)\n",
    "total_fare_df.to_sql('agg_total_fare', ex3_warehouse_db, if_exists='replace', index=False)\n",
    "print(f\"Created agg_total_fare: {len(total_fare_df)} summaries of passengers.\")\n",
    "print(total_fare_df)"
   ]
  },
  {
   "cell_type": "code",
   "execution_count": 203,
   "metadata": {},
   "outputs": [
    {
     "name": "stdout",
     "output_type": "stream",
     "text": [
      "📈 CREATING AGGREGATE TABLES FOR TRAVEL FREQUENCIES\n"
     ]
    },
    {
     "data": {
      "text/markdown": [
       "```sql\n",
       "\n",
       "SELECT \n",
       "    passenger, tap_time AS trip_hour,\n",
       "    COUNT(tap_id) as trip_freq\n",
       "FROM\n",
       "    fact_tap_events\n",
       "GROUP BY passenger, tap_time\n",
       "ORDER BY trip_freq DESC, trip_hour DESC\n",
       "\n",
       "```"
      ],
      "text/plain": [
       "<IPython.core.display.Markdown object>"
      ]
     },
     "metadata": {},
     "output_type": "display_data"
    },
    {
     "name": "stdout",
     "output_type": "stream",
     "text": [
      "Created agg_trip_frequency: 72 summaries of passengers.\n",
      "   passenger  trip_hour  trip_freq\n",
      "0      Alpha         21        258\n",
      "1      Alpha         23        250\n",
      "2      Alpha         18        236\n",
      "3      Alpha         20        231\n",
      "4      Alpha         14        231\n",
      "..       ...        ...        ...\n",
      "67       Rho         20         46\n",
      "68       Rho         14         46\n",
      "69       Rho         19         45\n",
      "70       Rho         16         45\n",
      "71       Rho          7         45\n",
      "\n",
      "[72 rows x 3 columns]\n"
     ]
    }
   ],
   "source": [
    "print(\"📈 CREATING AGGREGATE TABLES FOR TRAVEL FREQUENCIES\")\n",
    "\n",
    "freq_query = \"\"\"\n",
    "SELECT \n",
    "    passenger, tap_time AS trip_hour,\n",
    "    COUNT(tap_id) as trip_freq\n",
    "FROM\n",
    "    fact_tap_events\n",
    "GROUP BY passenger, tap_time\n",
    "ORDER BY trip_freq DESC, trip_hour DESC\n",
    "\"\"\"\n",
    "show_sql(freq_query)\n",
    "\n",
    "trip_freq_df = pd.read_sql(freq_query, ex3_warehouse_db)\n",
    "trip_freq_df.to_sql('agg_trip_frequency', ex3_warehouse_db, if_exists='replace', index=False)\n",
    "print(f\"Created agg_trip_frequency: {len(trip_freq_df)} summaries of passengers.\")\n",
    "print(trip_freq_df)"
   ]
  },
  {
   "cell_type": "markdown",
   "metadata": {},
   "source": [
    "---\n",
    "\n",
    "## 🎓 Key Takeaways\n",
    "\n",
    "You've mastered critical data engineering skills:\n",
    "\n",
    "1. **DataFrame → SQL**: Convert Python data to persistent databases\n",
    "2. **CSV → SQL**: Import and clean external data\n",
    "3. **Database Merging**: Combine multiple sources\n",
    "4. **Data Warehousing**: Build dimensional models\n",
    "5. **ETL Pipelines**: Extract, Transform, Load workflows\n",
    "6. **Data Cleaning**: Handle real-world data issues\n",
    "7. **Performance**: Create aggregate tables\n",
    "8. **Export**: Backup and share results\n",
    "\n",
    "---\n",
    "\n",
    "## 🚀 Next Steps\n",
    "\n",
    "You're now ready to:\n",
    "- Build production data pipelines\n",
    "- Handle real-world data integration\n",
    "- Create analytical databases\n",
    "- Implement ETL processes\n",
    "\n",
    "**Remember**: This is how real data engineering works!"
   ]
  },
  {
   "cell_type": "code",
   "execution_count": 205,
   "metadata": {},
   "outputs": [
    {
     "name": "stdout",
     "output_type": "stream",
     "text": [
      "✅ All database connections closed.\n",
      "🎉 Congratulations! You've built a complete data pipeline!\n",
      "\n",
      "📊 You created:\n",
      "  - 3 separate databases\n",
      "  - 10+ tables\n",
      "  - 10,000+ records\n",
      "  - 1 unified data warehouse\n",
      "\n",
      "💪 You're now ready for real-world data engineering!\n"
     ]
    }
   ],
   "source": [
    "# Cleanup\n",
    "company_db.close()\n",
    "csv_db.close()\n",
    "warehouse_db.close()\n",
    "\n",
    "print(\"✅ All database connections closed.\")\n",
    "print(\"🎉 Congratulations! You've built a complete data pipeline!\")\n",
    "print(\"\")\n",
    "print(\"📊 You created:\")\n",
    "print(\"  - 3 separate databases\")\n",
    "print(\"  - 10+ tables\")\n",
    "print(\"  - 10,000+ records\")\n",
    "print(\"  - 1 unified data warehouse\")\n",
    "print(\"\")\n",
    "print(\"💪 You're now ready for real-world data engineering!\")"
   ]
  },
  {
   "cell_type": "code",
   "execution_count": null,
   "metadata": {},
   "outputs": [],
   "source": []
  }
 ],
 "metadata": {
  "kernelspec": {
   "display_name": "Python 3 (ipykernel)",
   "language": "python",
   "name": "python3"
  },
  "language_info": {
   "codemirror_mode": {
    "name": "ipython",
    "version": 3
   },
   "file_extension": ".py",
   "mimetype": "text/x-python",
   "name": "python",
   "nbconvert_exporter": "python",
   "pygments_lexer": "ipython3",
   "version": "3.13.7"
  }
 },
 "nbformat": 4,
 "nbformat_minor": 4
}
