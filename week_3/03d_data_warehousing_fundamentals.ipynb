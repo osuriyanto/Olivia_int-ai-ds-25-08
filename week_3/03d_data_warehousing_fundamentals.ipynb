{
 "cells": [
  {
   "cell_type": "markdown",
   "metadata": {},
   "source": [
    "# **AI TECH INSTITUTE** · *Intermediate AI & Data Science*\n",
    "### Week 03 · Notebook 05 — Data Warehousing Fundamentals: Your First Star Schema 🌟\n",
    "**Instructor:** Amir Charkhi  |  **Goal:** Understand data warehousing from zero and build your first star schema\n",
    "> Format: theory → implementation → best practices → real-world application.\n",
    ">\n",
    "**Learning Objectives:**\n",
    "- Understand what a data warehouse is and why companies need them\n",
    "- Learn the difference between regular databases and data warehouses\n",
    "- Master the star schema concept (critical for interviews!)\n",
    "- Build your first star schema from scratch\n",
    "- Understand fact tables, dimension tables, and how they connect\n",
    "\n",
    "**Time:** 90 minutes | **Prerequisites:** Basic SQL knowledge\n",
    "\n",
    "---"
   ]
  },
  {
   "cell_type": "markdown",
   "metadata": {},
   "source": [
    "## 🎯 The Problem We're Solving\n",
    "\n",
    "Imagine you work at **Amazon**:\n",
    "- 300 million customers\n",
    "- 12 million products\n",
    "- 1.6 million packages shipped daily\n",
    "\n",
    "**The CEO asks:** \"What were our top-selling products last Christmas?\"\n",
    "\n",
    "**Problem:** Your regular database with customer orders is:\n",
    "- Too slow (billions of rows)\n",
    "- Too complex (100+ tables)\n",
    "- Changing constantly (can't run reports)\n",
    "\n",
    "**Solution:** A DATA WAREHOUSE! 🏭\n",
    "\n",
    "Let's learn what this means..."
   ]
  },
  {
   "cell_type": "code",
   "execution_count": 15,
   "metadata": {},
   "outputs": [
    {
     "name": "stdout",
     "output_type": "stream",
     "text": [
      "✅ Libraries loaded!\n",
      "Ready to learn about data warehouses! 🚀\n"
     ]
    }
   ],
   "source": [
    "# Import libraries we'll need\n",
    "import pandas as pd\n",
    "import numpy as np\n",
    "import sqlite3\n",
    "import matplotlib.pyplot as plt\n",
    "import seaborn as sns\n",
    "from datetime import datetime, timedelta\n",
    "import warnings\n",
    "warnings.filterwarnings('ignore')\n",
    "\n",
    "# Set up nice visuals\n",
    "sns.set_style('whitegrid')\n",
    "plt.rcParams['figure.figsize'] = (10, 6)\n",
    "\n",
    "# Custom SQL display function\n",
    "from IPython.display import Markdown, display\n",
    "def show_sql(query):\n",
    "    \"\"\"Pretty print SQL queries\"\"\"\n",
    "    display(Markdown(f\"```sql\\n{query}\\n```\"))\n",
    "\n",
    "print(\"✅ Libraries loaded!\")\n",
    "print(\"Ready to learn about data warehouses! 🚀\")"
   ]
  },
  {
   "cell_type": "markdown",
   "metadata": {},
   "source": [
    "---\n",
    "\n",
    "## 📚 Part 1: What is a Data Warehouse?\n",
    "\n",
    "### Theory (5 minutes)\n",
    "\n",
    "Think of it this way:\n",
    "- **Regular Database** = Your messy closet (everything thrown in)\n",
    "- **Data Warehouse** = Your organized wardrobe (everything sorted by type)\n",
    "\n",
    "**Key Differences:**\n",
    "\n",
    "| Regular Database (OLTP) | Data Warehouse (OLAP) |\n",
    "|------------------------|----------------------|\n",
    "| For daily operations | For analysis & reporting |\n",
    "| Current data only | Historical data (years) |\n",
    "| Fast inserts/updates | Fast queries |\n",
    "| Normalized (no duplicates) | Denormalized (duplicates OK) |\n",
    "| Complex structure | Simple structure |\n",
    "\n",
    "**What do companies use data warehouses for?**\n",
    "1. **Business Intelligence**: \"What are sales trends?\"\n",
    "2. **Reporting**: Monthly/quarterly reports\n",
    "3. **Analytics**: Customer behavior patterns\n",
    "4. **Machine Learning**: Training data for models\n",
    "5. **Decision Making**: Data-driven strategies"
   ]
  },
  {
   "cell_type": "markdown",
   "metadata": {},
   "source": [
    "### Let's See the Difference with Code!"
   ]
  },
  {
   "cell_type": "code",
   "execution_count": 2,
   "metadata": {},
   "outputs": [
    {
     "name": "stdout",
     "output_type": "stream",
     "text": [
      "🗄️ REGULAR DATABASE (OLTP) - Like your daily operations\n",
      "\n",
      "Imagine this is your online store's database:\n",
      "\n",
      "\n",
      "📁 Regular Database Tables:\n",
      "├── customers (customer_id, name, email, address_id)\n",
      "├── addresses (address_id, street, city, state, zip)\n",
      "├── orders (order_id, customer_id, order_date, status)\n",
      "├── order_items (item_id, order_id, product_id, quantity, price)\n",
      "├── products (product_id, name, category_id, supplier_id)\n",
      "├── categories (category_id, name, parent_category_id)\n",
      "├── suppliers (supplier_id, name, contact_id)\n",
      "└── ... (and 20 more tables!)\n",
      "\n",
      "❌ Problem: To answer 'What did customer X buy?', you need to JOIN 5+ tables!\n",
      "❌ Problem: Very slow for analytical queries\n",
      "❌ Problem: Complex for business users\n"
     ]
    }
   ],
   "source": [
    "# Example 1: Regular Database (OLTP) - Complex and Normalized\n",
    "print(\"🗄️ REGULAR DATABASE (OLTP) - Like your daily operations\\n\")\n",
    "print(\"Imagine this is your online store's database:\")\n",
    "print()\n",
    "\n",
    "# This is how data looks in a regular database\n",
    "regular_db_structure = \"\"\"\n",
    "📁 Regular Database Tables:\n",
    "├── customers (customer_id, name, email, address_id)\n",
    "├── addresses (address_id, street, city, state, zip)\n",
    "├── orders (order_id, customer_id, order_date, status)\n",
    "├── order_items (item_id, order_id, product_id, quantity, price)\n",
    "├── products (product_id, name, category_id, supplier_id)\n",
    "├── categories (category_id, name, parent_category_id)\n",
    "├── suppliers (supplier_id, name, contact_id)\n",
    "└── ... (and 20 more tables!)\n",
    "\"\"\"\n",
    "print(regular_db_structure)\n",
    "\n",
    "print(\"❌ Problem: To answer 'What did customer X buy?', you need to JOIN 5+ tables!\")\n",
    "print(\"❌ Problem: Very slow for analytical queries\")\n",
    "print(\"❌ Problem: Complex for business users\")"
   ]
  },
  {
   "cell_type": "code",
   "execution_count": 3,
   "metadata": {},
   "outputs": [
    {
     "name": "stdout",
     "output_type": "stream",
     "text": [
      "🏭 DATA WAREHOUSE (OLAP) - Optimized for analysis\n",
      "\n",
      "Same data, but reorganized for speed:\n",
      "\n",
      "\n",
      "📊 Data Warehouse Tables (Star Schema):\n",
      "├── fact_sales (The CENTER - all sales transactions)\n",
      "│   └── Links to all dimensions below\n",
      "├── dim_customer (Everything about customers)\n",
      "├── dim_product (Everything about products)\n",
      "├── dim_date (Calendar information)\n",
      "└── dim_store (Store information)\n",
      "\n",
      "That's it! Only 5 tables instead of 30!\n",
      "\n",
      "✅ Benefit: To answer any question, you need at most 1-2 JOINs\n",
      "✅ Benefit: 10-100x faster for analytical queries\n",
      "✅ Benefit: Business users can understand it\n"
     ]
    }
   ],
   "source": [
    "# Example 2: Data Warehouse (OLAP) - Simple and Fast\n",
    "print(\"🏭 DATA WAREHOUSE (OLAP) - Optimized for analysis\\n\")\n",
    "print(\"Same data, but reorganized for speed:\")\n",
    "print()\n",
    "\n",
    "warehouse_structure = \"\"\"\n",
    "📊 Data Warehouse Tables (Star Schema):\n",
    "├── fact_sales (The CENTER - all sales transactions)\n",
    "│   └── Links to all dimensions below\n",
    "├── dim_customer (Everything about customers)\n",
    "├── dim_product (Everything about products)\n",
    "├── dim_date (Calendar information)\n",
    "└── dim_store (Store information)\n",
    "\n",
    "That's it! Only 5 tables instead of 30!\n",
    "\"\"\"\n",
    "print(warehouse_structure)\n",
    "\n",
    "print(\"✅ Benefit: To answer any question, you need at most 1-2 JOINs\")\n",
    "print(\"✅ Benefit: 10-100x faster for analytical queries\")\n",
    "print(\"✅ Benefit: Business users can understand it\")"
   ]
  },
  {
   "cell_type": "markdown",
   "metadata": {},
   "source": [
    "---\n",
    "\n",
    "## ⭐ Part 2: What is a Star Schema?\n",
    "\n",
    "### Theory (5 minutes)\n",
    "\n",
    "**Star Schema** = The most popular way to organize a data warehouse\n",
    "\n",
    "Why is it called a \"star\"? Because it looks like one! ⭐\n",
    "- **Center**: Fact table (the star's center)\n",
    "- **Points**: Dimension tables (the star's points)\n",
    "\n",
    "**Two Types of Tables:**\n",
    "1. **FACT Table**: The \"what happened\" (transactions, events, measurements)\n",
    "2. **DIMENSION Tables**: The \"context\" (who, what, when, where, why)"
   ]
  },
  {
   "cell_type": "code",
   "execution_count": 4,
   "metadata": {},
   "outputs": [
    {
     "name": "stdout",
     "output_type": "stream",
     "text": [
      "⭐ STAR SCHEMA VISUALIZATION\n",
      "\n"
     ]
    },
    {
     "data": {
      "image/png": "[encoded data removed]",
      "text/plain": [
       "<Figure size 1000x800 with 1 Axes>"
      ]
     },
     "metadata": {},
     "output_type": "display_data"
    },
    {
     "name": "stdout",
     "output_type": "stream",
     "text": [
      "\n",
      "🔑 Key Points:\n",
      "• The FACT table is in the center (red)\n",
      "• DIMENSION tables surround it (colored)\n",
      "• Each dimension connects to the fact table\n",
      "• This simple structure makes queries FAST!\n"
     ]
    }
   ],
   "source": [
    "# Let's visualize a star schema!\n",
    "print(\"⭐ STAR SCHEMA VISUALIZATION\\n\")\n",
    "\n",
    "# Create a simple visualization\n",
    "fig, ax = plt.subplots(figsize=(10, 8))\n",
    "\n",
    "# Draw the center (Fact table)\n",
    "center = plt.Circle((0.5, 0.5), 0.15, color='red', alpha=0.7)\n",
    "ax.add_patch(center)\n",
    "ax.text(0.5, 0.5, 'FACT\\nSales', ha='center', va='center', \n",
    "        fontsize=14, fontweight='bold', color='white')\n",
    "\n",
    "# Draw the dimensions (star points)\n",
    "dimensions = [\n",
    "    {'name': 'DIM\\nCustomer', 'x': 0.5, 'y': 0.85, 'color': 'blue'},\n",
    "    {'name': 'DIM\\nProduct', 'x': 0.85, 'y': 0.65, 'color': 'green'},\n",
    "    {'name': 'DIM\\nDate', 'x': 0.85, 'y': 0.35, 'color': 'orange'},\n",
    "    {'name': 'DIM\\nStore', 'x': 0.5, 'y': 0.15, 'color': 'purple'},\n",
    "    {'name': 'DIM\\nPromotion', 'x': 0.15, 'y': 0.35, 'color': 'brown'},\n",
    "    {'name': 'DIM\\nEmployee', 'x': 0.15, 'y': 0.65, 'color': 'pink'}\n",
    "]\n",
    "\n",
    "for dim in dimensions:\n",
    "    # Draw dimension circle\n",
    "    circle = plt.Circle((dim['x'], dim['y']), 0.08, color=dim['color'], alpha=0.7)\n",
    "    ax.add_patch(circle)\n",
    "    ax.text(dim['x'], dim['y'], dim['name'], ha='center', va='center',\n",
    "            fontsize=10, fontweight='bold', color='white')\n",
    "    \n",
    "    # Draw line from center to dimension\n",
    "    ax.plot([0.5, dim['x']], [0.5, dim['y']], 'k-', alpha=0.3, linewidth=2)\n",
    "\n",
    "ax.set_xlim(0, 1)\n",
    "ax.set_ylim(0, 1)\n",
    "ax.set_aspect('equal')\n",
    "ax.axis('off')\n",
    "ax.set_title('Star Schema - It Really Looks Like a Star! ⭐', fontsize=16, fontweight='bold')\n",
    "\n",
    "plt.tight_layout()\n",
    "plt.show()\n",
    "\n",
    "print(\"\\n🔑 Key Points:\")\n",
    "print(\"• The FACT table is in the center (red)\")\n",
    "print(\"• DIMENSION tables surround it (colored)\")\n",
    "print(\"• Each dimension connects to the fact table\")\n",
    "print(\"• This simple structure makes queries FAST!\")"
   ]
  },
  {
   "cell_type": "markdown",
   "metadata": {},
   "source": [
    "### Understanding Fact vs Dimension Tables"
   ]
  },
  {
   "cell_type": "code",
   "execution_count": 5,
   "metadata": {},
   "outputs": [
    {
     "name": "stdout",
     "output_type": "stream",
     "text": [
      "📊 FACT vs DIMENSION TABLES EXPLAINED\n",
      "\n",
      "        Aspect                          FACT Table                       DIMENSION Table\n",
      "What it stores Events/Transactions (what happened) Context/Descriptions (who/what/where)\n",
      "      Examples        Sales, Orders, Clicks, Views    Customers, Products, Dates, Stores\n",
      "          Size           Millions/Billions of rows            Hundreds/Thousands of rows\n",
      "       Changes           Grows daily (append-only)        Rarely changes (mostly static)\n",
      "       Purpose       Stores measurements & metrics         Provides context for analysis\n",
      "\n",
      "============================================================\n",
      "\n",
      "💡 Think of it like a receipt:\n",
      "• FACT = The purchase itself ($29.99 on 2024-01-15)\n",
      "• DIMENSIONS = The details (WHO: John, WHAT: Shoes, WHERE: NYC Store)\n"
     ]
    }
   ],
   "source": [
    "print(\"📊 FACT vs DIMENSION TABLES EXPLAINED\\n\")\n",
    "\n",
    "# Create example data to show the difference\n",
    "fact_vs_dimension = pd.DataFrame({\n",
    "    'Aspect': ['What it stores', 'Examples', 'Size', 'Changes', 'Purpose'],\n",
    "    'FACT Table': [\n",
    "        'Events/Transactions (what happened)',\n",
    "        'Sales, Orders, Clicks, Views',\n",
    "        'Millions/Billions of rows',\n",
    "        'Grows daily (append-only)',\n",
    "        'Stores measurements & metrics'\n",
    "    ],\n",
    "    'DIMENSION Table': [\n",
    "        'Context/Descriptions (who/what/where)',\n",
    "        'Customers, Products, Dates, Stores',\n",
    "        'Hundreds/Thousands of rows',\n",
    "        'Rarely changes (mostly static)',\n",
    "        'Provides context for analysis'\n",
    "    ]\n",
    "})\n",
    "\n",
    "print(fact_vs_dimension.to_string(index=False))\n",
    "\n",
    "print(\"\\n\" + \"=\"*60)\n",
    "print(\"\\n💡 Think of it like a receipt:\")\n",
    "print(\"• FACT = The purchase itself ($29.99 on 2024-01-15)\")\n",
    "print(\"• DIMENSIONS = The details (WHO: John, WHAT: Shoes, WHERE: NYC Store)\")"
   ]
  },
  {
   "cell_type": "markdown",
   "metadata": {},
   "source": [
    "---\n",
    "\n",
    "## 🏗️ Part 3: Building Your First Star Schema\n",
    "\n",
    "Let's build a real star schema step by step!\n",
    "\n",
    "**Scenario**: You run a small online bookstore 📚"
   ]
  },
  {
   "cell_type": "markdown",
   "metadata": {},
   "source": [
    "### Step 1: Create Dimension Tables"
   ]
  },
  {
   "cell_type": "code",
   "execution_count": 6,
   "metadata": {},
   "outputs": [
    {
     "name": "stdout",
     "output_type": "stream",
     "text": [
      "📚 BUILDING A BOOKSTORE DATA WAREHOUSE\n",
      "\n",
      "Step 1: Create Dimension Tables\n",
      "\n",
      "Creating dimension tables...\n",
      "\n"
     ]
    }
   ],
   "source": [
    "print(\"📚 BUILDING A BOOKSTORE DATA WAREHOUSE\\n\")\n",
    "print(\"Step 1: Create Dimension Tables\\n\")\n",
    "\n",
    "# Create database connection\n",
    "conn = sqlite3.connect('bookstore_warehouse.db')\n",
    "cursor = conn.cursor()\n",
    "\n",
    "# Clean up if exists\n",
    "cursor.execute(\"DROP TABLE IF EXISTS dim_customer\")\n",
    "cursor.execute(\"DROP TABLE IF EXISTS dim_book\")\n",
    "cursor.execute(\"DROP TABLE IF EXISTS dim_date\")\n",
    "cursor.execute(\"DROP TABLE IF EXISTS fact_sales\")\n",
    "\n",
    "print(\"Creating dimension tables...\\n\")"
   ]
  },
  {
   "cell_type": "code",
   "execution_count": 7,
   "metadata": {},
   "outputs": [
    {
     "name": "stdout",
     "output_type": "stream",
     "text": [
      "1️⃣ Creating DIM_CUSTOMER (Who bought?)\n",
      "✅ Created dim_customer table\n",
      "Sample data:\n",
      "   customer_key customer_id  customer_name                   email  \\\n",
      "0             1    CUST_001    Alice Brown    alicebrown@email.com   \n",
      "1             2    CUST_002      Bob Smith      bobsmith@email.com   \n",
      "2             3    CUST_003  Charlie Davis  charliedavis@email.com   \n",
      "\n",
      "          city country customer_type registration_date  \n",
      "0     New York     USA       Regular        2023-01-01  \n",
      "1  Los Angeles     USA       Premium        2023-01-08  \n",
      "2      Chicago     USA       Regular        2023-01-15  \n",
      "\n"
     ]
    }
   ],
   "source": [
    "# DIMENSION 1: Customer Dimension\n",
    "print(\"1️⃣ Creating DIM_CUSTOMER (Who bought?)\")\n",
    "\n",
    "# Create customer dimension table\n",
    "cursor.execute(\"\"\"\n",
    "CREATE TABLE dim_customer (\n",
    "    customer_key INTEGER PRIMARY KEY,\n",
    "    customer_id TEXT,\n",
    "    customer_name TEXT,\n",
    "    email TEXT,\n",
    "    city TEXT,\n",
    "    country TEXT,\n",
    "    customer_type TEXT,\n",
    "    registration_date DATE\n",
    ")\n",
    "\"\"\")\n",
    "\n",
    "# Create sample customer data\n",
    "customers = pd.DataFrame({\n",
    "    'customer_key': range(1, 11),\n",
    "    'customer_id': [f'CUST_{i:03d}' for i in range(1, 11)],\n",
    "    'customer_name': ['Alice Brown', 'Bob Smith', 'Charlie Davis', 'Diana Wilson',\n",
    "                     'Eve Johnson', 'Frank Miller', 'Grace Lee', 'Henry Taylor',\n",
    "                     'Iris Anderson', 'Jack Thomas'],\n",
    "    'email': [f'{name.lower().replace(\" \", \"\")}@email.com' \n",
    "             for name in ['Alice Brown', 'Bob Smith', 'Charlie Davis', 'Diana Wilson',\n",
    "                         'Eve Johnson', 'Frank Miller', 'Grace Lee', 'Henry Taylor',\n",
    "                         'Iris Anderson', 'Jack Thomas']],\n",
    "    'city': ['New York', 'Los Angeles', 'Chicago', 'Houston', 'Phoenix',\n",
    "            'Philadelphia', 'San Antonio', 'San Diego', 'Dallas', 'San Jose'],\n",
    "    'country': ['USA'] * 10,\n",
    "    'customer_type': ['Regular', 'Premium', 'Regular', 'Premium', 'Regular',\n",
    "                     'Premium', 'Regular', 'Regular', 'Premium', 'Regular'],\n",
    "    'registration_date': pd.date_range('2023-01-01', periods=10, freq='W')\n",
    "})\n",
    "\n",
    "# Insert into database\n",
    "customers.to_sql('dim_customer', conn, if_exists='append', index=False)\n",
    "\n",
    "print(\"✅ Created dim_customer table\")\n",
    "print(\"Sample data:\")\n",
    "print(customers.head(3))\n",
    "print()"
   ]
  },
  {
   "cell_type": "code",
   "execution_count": 8,
   "metadata": {},
   "outputs": [
    {
     "name": "stdout",
     "output_type": "stream",
     "text": [
      "2️⃣ Creating DIM_BOOK (What was bought?)\n",
      "✅ Created dim_book table\n",
      "Sample data:\n",
      "   book_key   book_id                title        author      genre  price  \\\n",
      "0         1  BOOK_001  The Great Adventure    John Smith  Adventure  19.99   \n",
      "1         2  BOOK_002  Mystery at Midnight  Mary Johnson    Mystery  24.99   \n",
      "2         3  BOOK_003        Love in Paris  Robert Brown    Romance  14.99   \n",
      "\n",
      "       publisher  publication_year  \n",
      "0        Penguin              2020  \n",
      "1  HarperCollins              2021  \n",
      "2   Random House              2022  \n",
      "\n"
     ]
    }
   ],
   "source": [
    "# DIMENSION 2: Book/Product Dimension\n",
    "print(\"2️⃣ Creating DIM_BOOK (What was bought?)\")\n",
    "\n",
    "# Create book dimension table\n",
    "cursor.execute(\"\"\"\n",
    "CREATE TABLE dim_book (\n",
    "    book_key INTEGER PRIMARY KEY,\n",
    "    book_id TEXT,\n",
    "    title TEXT,\n",
    "    author TEXT,\n",
    "    genre TEXT,\n",
    "    price DECIMAL(10,2),\n",
    "    publisher TEXT,\n",
    "    publication_year INTEGER\n",
    ")\n",
    "\"\"\")\n",
    "\n",
    "# Create sample book data\n",
    "books = pd.DataFrame({\n",
    "    'book_key': range(1, 16),\n",
    "    'book_id': [f'BOOK_{i:03d}' for i in range(1, 16)],\n",
    "    'title': ['The Great Adventure', 'Mystery at Midnight', 'Love in Paris',\n",
    "             'The Science of Everything', 'Cooking Made Easy', 'History Revisited',\n",
    "             'Fantasy World', 'Crime and Justice', 'The Business Mind',\n",
    "             'Poetry Collection', 'Children Stories', 'Travel Guide Europe',\n",
    "             'Fitness for Life', 'The Art of Code', 'Philosophy 101'],\n",
    "    'author': ['John Smith', 'Mary Johnson', 'Robert Brown', 'Lisa Davis',\n",
    "              'Michael Wilson', 'Jennifer Garcia', 'David Martinez', 'Sarah Anderson',\n",
    "              'James Taylor', 'Emma Thomas', 'Oliver Jackson', 'Sophia White',\n",
    "              'William Harris', 'Ava Martin', 'Lucas Thompson'],\n",
    "    'genre': ['Adventure', 'Mystery', 'Romance', 'Science', 'Cooking',\n",
    "             'History', 'Fantasy', 'Crime', 'Business', 'Poetry',\n",
    "             'Children', 'Travel', 'Health', 'Technology', 'Philosophy'],\n",
    "    'price': [19.99, 24.99, 14.99, 29.99, 22.99,\n",
    "             26.99, 18.99, 21.99, 34.99, 12.99,\n",
    "             9.99, 16.99, 19.99, 39.99, 24.99],\n",
    "    'publisher': ['Penguin', 'HarperCollins', 'Random House', 'McGraw-Hill', 'Penguin'] * 3,\n",
    "    'publication_year': [2020, 2021, 2022, 2023, 2021,\n",
    "                        2020, 2022, 2023, 2021, 2020,\n",
    "                        2023, 2022, 2021, 2023, 2020]\n",
    "})\n",
    "\n",
    "# Insert into database\n",
    "books.to_sql('dim_book', conn, if_exists='append', index=False)\n",
    "\n",
    "print(\"✅ Created dim_book table\")\n",
    "print(\"Sample data:\")\n",
    "print(books.head(3))\n",
    "print()"
   ]
  },
  {
   "cell_type": "code",
   "execution_count": 9,
   "metadata": {},
   "outputs": [
    {
     "name": "stdout",
     "output_type": "stream",
     "text": [
      "3️⃣ Creating DIM_DATE (When did it happen?)\n",
      "✅ Created dim_date table\n",
      "Loaded 366 dates for year 2024\n",
      "Sample data:\n",
      "   date_key  full_date  year  quarter  month month_name  day   day_name  \\\n",
      "0  20240101 2024-01-01  2024        1      1    January    1     Monday   \n",
      "1  20240102 2024-01-02  2024        1      1    January    2    Tuesday   \n",
      "2  20240103 2024-01-03  2024        1      1    January    3  Wednesday   \n",
      "\n",
      "   is_weekend  is_holiday  \n",
      "0           0           0  \n",
      "1           0           0  \n",
      "2           0           0  \n",
      "\n"
     ]
    }
   ],
   "source": [
    "# DIMENSION 3: Date Dimension\n",
    "print(\"3️⃣ Creating DIM_DATE (When did it happen?)\")\n",
    "\n",
    "# Create date dimension table\n",
    "cursor.execute(\"\"\"\n",
    "CREATE TABLE dim_date (\n",
    "    date_key INTEGER PRIMARY KEY,\n",
    "    full_date DATE,\n",
    "    year INTEGER,\n",
    "    quarter INTEGER,\n",
    "    month INTEGER,\n",
    "    month_name TEXT,\n",
    "    day INTEGER,\n",
    "    day_name TEXT,\n",
    "    is_weekend INTEGER,\n",
    "    is_holiday INTEGER\n",
    ")\n",
    "\"\"\")\n",
    "\n",
    "# Create date range for 2024\n",
    "date_range = pd.date_range('2024-01-01', '2024-12-31', freq='D')\n",
    "\n",
    "# Create date dimension data\n",
    "dates = pd.DataFrame({\n",
    "    'date_key': [int(d.strftime('%Y%m%d')) for d in date_range],\n",
    "    'full_date': date_range,\n",
    "    'year': date_range.year,\n",
    "    'quarter': date_range.quarter,\n",
    "    'month': date_range.month,\n",
    "    'month_name': date_range.strftime('%B'),\n",
    "    'day': date_range.day,\n",
    "    'day_name': date_range.strftime('%A'),\n",
    "    'is_weekend': (date_range.dayofweek >= 5).astype(int),\n",
    "    'is_holiday': 0  # Simplified - you'd mark actual holidays\n",
    "})\n",
    "\n",
    "# Insert into database\n",
    "dates.to_sql('dim_date', conn, if_exists='append', index=False)\n",
    "\n",
    "print(\"✅ Created dim_date table\")\n",
    "print(f\"Loaded {len(dates)} dates for year 2024\")\n",
    "print(\"Sample data:\")\n",
    "print(dates.head(3))\n",
    "print()"
   ]
  },
  {
   "cell_type": "markdown",
   "metadata": {},
   "source": [
    "### Step 2: Create the Fact Table"
   ]
  },
  {
   "cell_type": "code",
   "execution_count": 10,
   "metadata": {},
   "outputs": [
    {
     "name": "stdout",
     "output_type": "stream",
     "text": [
      "💰 Creating FACT_SALES (The actual sales transactions)\n",
      "\n",
      "✅ Created fact_sales table structure\n",
      "\n",
      "📌 Notice: The fact table has:\n",
      "  • Foreign keys to all dimensions (date_key, customer_key, book_key)\n",
      "  • Measures/metrics (quantity, price, discount, total_amount)\n",
      "  • No descriptive text - that's in the dimensions!\n"
     ]
    }
   ],
   "source": [
    "print(\"💰 Creating FACT_SALES (The actual sales transactions)\\n\")\n",
    "\n",
    "# Create fact table\n",
    "cursor.execute(\"\"\"\n",
    "CREATE TABLE fact_sales (\n",
    "    sale_id INTEGER PRIMARY KEY,\n",
    "    date_key INTEGER,\n",
    "    customer_key INTEGER,\n",
    "    book_key INTEGER,\n",
    "    quantity INTEGER,\n",
    "    unit_price DECIMAL(10,2),\n",
    "    discount_percent DECIMAL(5,2),\n",
    "    total_amount DECIMAL(10,2),\n",
    "    FOREIGN KEY (date_key) REFERENCES dim_date(date_key),\n",
    "    FOREIGN KEY (customer_key) REFERENCES dim_customer(customer_key),\n",
    "    FOREIGN KEY (book_key) REFERENCES dim_book(book_key)\n",
    ")\n",
    "\"\"\")\n",
    "\n",
    "print(\"✅ Created fact_sales table structure\")\n",
    "print()\n",
    "print(\"📌 Notice: The fact table has:\")\n",
    "print(\"  • Foreign keys to all dimensions (date_key, customer_key, book_key)\")\n",
    "print(\"  • Measures/metrics (quantity, price, discount, total_amount)\")\n",
    "print(\"  • No descriptive text - that's in the dimensions!\")"
   ]
  },
  {
   "cell_type": "code",
   "execution_count": 12,
   "metadata": {},
   "outputs": [
    {
     "name": "stdout",
     "output_type": "stream",
     "text": [
      "📊 Generating sample sales transactions...\n",
      "\n",
      "✅ Generated and loaded 500 sales transactions\n",
      "\n",
      "Sample fact table data:\n",
      "   sale_id  date_key  customer_key  book_key  quantity  unit_price  \\\n",
      "0        1  20240412             4        13         3       19.99   \n",
      "1        2  20240707             5         7         2       18.99   \n",
      "2        3  20241126             8         5         3       22.99   \n",
      "3        4  20240914             8        12         2       16.99   \n",
      "4        5  20240710             5         1         2       19.99   \n",
      "\n",
      "   discount_percent  total_amount  \n",
      "0                10         53.97  \n",
      "1                 0         37.98  \n",
      "2                 0         68.97  \n",
      "3                 0         33.98  \n",
      "4                 5         37.98  \n",
      "\n",
      "Total revenue: $21,096.23\n"
     ]
    }
   ],
   "source": [
    "# Generate sample sales data\n",
    "print(\"📊 Generating sample sales transactions...\\n\")\n",
    "\n",
    "np.random.seed(42)\n",
    "n_sales = 500\n",
    "\n",
    "# Generate random sales\n",
    "sales_data = []\n",
    "for i in range(n_sales):\n",
    "    # Pick random date in 2024\n",
    "    date_key = int((pd.Timestamp('2024-01-01') + \n",
    "                  timedelta(days=np.random.randint(0, 365))).strftime('%Y%m%d'))\n",
    "    \n",
    "    # Pick random customer and book\n",
    "    customer_key = np.random.randint(1, 11)\n",
    "    book_key = np.random.randint(1, 16)\n",
    "    \n",
    "    # Get book price\n",
    "    book_price = books[books['book_key'] == book_key]['price'].iloc[0]\n",
    "    \n",
    "    # Generate sale details\n",
    "    quantity = np.random.randint(1, 4)\n",
    "    discount = np.random.choice([0, 5, 10, 15, 20], p=[0.5, 0.2, 0.15, 0.1, 0.05])\n",
    "    total = quantity * book_price * (1 - discount/100)\n",
    "    \n",
    "    sales_data.append({\n",
    "        'sale_id': i + 1,\n",
    "        'date_key': date_key,\n",
    "        'customer_key': customer_key,\n",
    "        'book_key': book_key,\n",
    "        'quantity': quantity,\n",
    "        'unit_price': book_price,\n",
    "        'discount_percent': discount,\n",
    "        'total_amount': round(total, 2)\n",
    "    })\n",
    "\n",
    "# Create DataFrame and insert\n",
    "fact_sales = pd.DataFrame(sales_data)\n",
    "fact_sales.to_sql('fact_sales', conn, if_exists='append', index=False)\n",
    "\n",
    "print(f\"✅ Generated and loaded {n_sales} sales transactions\")\n",
    "print(\"\\nSample fact table data:\")\n",
    "print(fact_sales.head())\n",
    "print()\n",
    "print(f\"Total revenue: ${fact_sales['total_amount'].sum():,.2f}\")"
   ]
  },
  {
   "cell_type": "markdown",
   "metadata": {},
   "source": [
    "---\n",
    "\n",
    "## 🔍 Part 4: Using Your Star Schema\n",
    "\n",
    "Now let's see why star schemas are so powerful for analysis!"
   ]
  },
  {
   "cell_type": "code",
   "execution_count": 13,
   "metadata": {},
   "outputs": [
    {
     "name": "stdout",
     "output_type": "stream",
     "text": [
      "⭐ STAR SCHEMA IN ACTION!\n",
      "\n",
      "Let's answer business questions with simple queries...\n",
      "\n"
     ]
    }
   ],
   "source": [
    "print(\"⭐ STAR SCHEMA IN ACTION!\\n\")\n",
    "print(\"Let's answer business questions with simple queries...\\n\")"
   ]
  },
  {
   "cell_type": "code",
   "execution_count": 16,
   "metadata": {},
   "outputs": [
    {
     "name": "stdout",
     "output_type": "stream",
     "text": [
      "📚 Question 1: What are our top 5 selling books?\n"
     ]
    },
    {
     "data": {
      "text/markdown": [
       "```sql\n",
       "\n",
       "SELECT \n",
       "    b.title,\n",
       "    b.author,\n",
       "    SUM(f.quantity) as total_sold,\n",
       "    SUM(f.total_amount) as total_revenue\n",
       "FROM fact_sales f\n",
       "JOIN dim_book b ON f.book_key = b.book_key\n",
       "GROUP BY b.title, b.author\n",
       "ORDER BY total_sold DESC\n",
       "LIMIT 5\n",
       "\n",
       "```"
      ],
      "text/plain": [
       "<IPython.core.display.Markdown object>"
      ]
     },
     "metadata": {},
     "output_type": "display_data"
    },
    {
     "name": "stdout",
     "output_type": "stream",
     "text": [
      "\n",
      "Answer:\n",
      "                 title          author  total_sold  total_revenue\n",
      "0  Travel Guide Europe    Sophia White          96        1553.70\n",
      "1  The Great Adventure      John Smith          85        1634.15\n",
      "2    Poetry Collection     Emma Thomas          80        1004.10\n",
      "3    Crime and Justice  Sarah Anderson          79        1655.82\n",
      "4     Fitness for Life  William Harris          76        1460.24\n",
      "\n",
      "✅ Notice: Just ONE simple JOIN to answer this!\n"
     ]
    }
   ],
   "source": [
    "# Question 1: Top selling books\n",
    "print(\"📚 Question 1: What are our top 5 selling books?\")\n",
    "\n",
    "query1 = \"\"\"\n",
    "SELECT \n",
    "    b.title,\n",
    "    b.author,\n",
    "    SUM(f.quantity) as total_sold,\n",
    "    SUM(f.total_amount) as total_revenue\n",
    "FROM fact_sales f\n",
    "JOIN dim_book b ON f.book_key = b.book_key\n",
    "GROUP BY b.title, b.author\n",
    "ORDER BY total_sold DESC\n",
    "LIMIT 5\n",
    "\"\"\"\n",
    "show_sql(query1)\n",
    "\n",
    "result1 = pd.read_sql(query1, conn)\n",
    "print(\"\\nAnswer:\")\n",
    "print(result1)\n",
    "print(\"\\n✅ Notice: Just ONE simple JOIN to answer this!\")"
   ]
  },
  {
   "cell_type": "code",
   "execution_count": 17,
   "metadata": {},
   "outputs": [
    {
     "name": "stdout",
     "output_type": "stream",
     "text": [
      "📅 Question 2: How do sales vary by month?\n"
     ]
    },
    {
     "data": {
      "text/markdown": [
       "```sql\n",
       "\n",
       "SELECT \n",
       "    d.month_name,\n",
       "    d.month,\n",
       "    COUNT(*) as num_sales,\n",
       "    SUM(f.total_amount) as monthly_revenue\n",
       "FROM fact_sales f\n",
       "JOIN dim_date d ON f.date_key = d.date_key\n",
       "GROUP BY d.month_name, d.month\n",
       "ORDER BY d.month\n",
       "\n",
       "```"
      ],
      "text/plain": [
       "<IPython.core.display.Markdown object>"
      ]
     },
     "metadata": {},
     "output_type": "display_data"
    },
    {
     "name": "stdout",
     "output_type": "stream",
     "text": [
      "\n",
      "Answer:\n",
      "  month_name  month  num_sales  monthly_revenue\n",
      "0    January      1         49          2111.79\n",
      "1   February      2         40          1821.37\n",
      "2      March      3         42          1641.57\n",
      "3      April      4         42          1959.64\n",
      "4        May      5         44          1732.00\n"
     ]
    },
    {
     "data": {
      "image/png": "[encoded data removed]",
      "text/plain": [
       "<Figure size 1000x500 with 1 Axes>"
      ]
     },
     "metadata": {},
     "output_type": "display_data"
    }
   ],
   "source": [
    "# Question 2: Sales by month\n",
    "print(\"📅 Question 2: How do sales vary by month?\")\n",
    "\n",
    "query2 = \"\"\"\n",
    "SELECT \n",
    "    d.month_name,\n",
    "    d.month,\n",
    "    COUNT(*) as num_sales,\n",
    "    SUM(f.total_amount) as monthly_revenue\n",
    "FROM fact_sales f\n",
    "JOIN dim_date d ON f.date_key = d.date_key\n",
    "GROUP BY d.month_name, d.month\n",
    "ORDER BY d.month\n",
    "\"\"\"\n",
    "show_sql(query2)\n",
    "\n",
    "result2 = pd.read_sql(query2, conn)\n",
    "print(\"\\nAnswer:\")\n",
    "print(result2.head())\n",
    "\n",
    "# Visualize it\n",
    "plt.figure(figsize=(10, 5))\n",
    "plt.bar(result2['month_name'], result2['monthly_revenue'], color='skyblue')\n",
    "plt.title('Monthly Sales Revenue')\n",
    "plt.xlabel('Month')\n",
    "plt.ylabel('Revenue ($)')\n",
    "plt.xticks(rotation=45)\n",
    "plt.tight_layout()\n",
    "plt.show()"
   ]
  },
  {
   "cell_type": "code",
   "execution_count": 18,
   "metadata": {},
   "outputs": [
    {
     "name": "stdout",
     "output_type": "stream",
     "text": [
      "👥 Question 3: Who are our best customers?\n"
     ]
    },
    {
     "data": {
      "text/markdown": [
       "```sql\n",
       "\n",
       "SELECT \n",
       "    c.customer_name,\n",
       "    c.customer_type,\n",
       "    COUNT(f.sale_id) as num_purchases,\n",
       "    SUM(f.total_amount) as total_spent\n",
       "FROM fact_sales f\n",
       "JOIN dim_customer c ON f.customer_key = c.customer_key\n",
       "GROUP BY c.customer_name, c.customer_type\n",
       "ORDER BY total_spent DESC\n",
       "LIMIT 5\n",
       "\n",
       "```"
      ],
      "text/plain": [
       "<IPython.core.display.Markdown object>"
      ]
     },
     "metadata": {},
     "output_type": "display_data"
    },
    {
     "name": "stdout",
     "output_type": "stream",
     "text": [
      "\n",
      "Answer:\n",
      "   customer_name customer_type  num_purchases  total_spent\n",
      "0   Diana Wilson       Premium             56      2587.04\n",
      "1    Eve Johnson       Regular             58      2580.28\n",
      "2   Henry Taylor       Regular             56      2323.11\n",
      "3  Iris Anderson       Premium             52      2167.67\n",
      "4      Bob Smith       Premium             52      2143.13\n",
      "\n",
      "✅ Again, just ONE JOIN needed!\n"
     ]
    }
   ],
   "source": [
    "# Question 3: Customer segmentation\n",
    "print(\"👥 Question 3: Who are our best customers?\")\n",
    "\n",
    "query3 = \"\"\"\n",
    "SELECT \n",
    "    c.customer_name,\n",
    "    c.customer_type,\n",
    "    COUNT(f.sale_id) as num_purchases,\n",
    "    SUM(f.total_amount) as total_spent\n",
    "FROM fact_sales f\n",
    "JOIN dim_customer c ON f.customer_key = c.customer_key\n",
    "GROUP BY c.customer_name, c.customer_type\n",
    "ORDER BY total_spent DESC\n",
    "LIMIT 5\n",
    "\"\"\"\n",
    "show_sql(query3)\n",
    "\n",
    "result3 = pd.read_sql(query3, conn)\n",
    "print(\"\\nAnswer:\")\n",
    "print(result3)\n",
    "print(\"\\n✅ Again, just ONE JOIN needed!\")"
   ]
  },
  {
   "cell_type": "code",
   "execution_count": 19,
   "metadata": {},
   "outputs": [
    {
     "name": "stdout",
     "output_type": "stream",
     "text": [
      "🔥 Complex Question: Weekend vs Weekday sales by genre\n"
     ]
    },
    {
     "data": {
      "text/markdown": [
       "```sql\n",
       "\n",
       "SELECT \n",
       "    b.genre,\n",
       "    CASE WHEN d.is_weekend = 1 THEN 'Weekend' ELSE 'Weekday' END as day_type,\n",
       "    COUNT(*) as num_sales,\n",
       "    SUM(f.total_amount) as total_revenue\n",
       "FROM fact_sales f\n",
       "JOIN dim_book b ON f.book_key = b.book_key\n",
       "JOIN dim_date d ON f.date_key = d.date_key\n",
       "GROUP BY b.genre, d.is_weekend\n",
       "ORDER BY b.genre, d.is_weekend\n",
       "\n",
       "```"
      ],
      "text/plain": [
       "<IPython.core.display.Markdown object>"
      ]
     },
     "metadata": {},
     "output_type": "display_data"
    },
    {
     "name": "stdout",
     "output_type": "stream",
     "text": [
      "\n",
      "Answer:\n",
      "       genre day_type  num_sales  total_revenue\n",
      "0  Adventure  Weekday         30        1170.39\n",
      "1  Adventure  Weekend         12         463.76\n",
      "2   Business  Weekday         25        1466.05\n",
      "3   Business  Weekend          8         465.36\n",
      "4   Children  Weekday         13         217.27\n",
      "5   Children  Weekend          8         138.85\n",
      "6    Cooking  Weekday         23         979.35\n",
      "7    Cooking  Weekend          9         363.24\n",
      "8      Crime  Weekday         27        1271.00\n",
      "9      Crime  Weekend          9         384.82\n",
      "\n",
      "✅ Even complex questions need just 2 JOINs!\n",
      "✅ In a regular database, this might need 5-10 JOINs!\n"
     ]
    }
   ],
   "source": [
    "# Complex Question: Multiple dimensions\n",
    "print(\"🔥 Complex Question: Weekend vs Weekday sales by genre\")\n",
    "\n",
    "query4 = \"\"\"\n",
    "SELECT \n",
    "    b.genre,\n",
    "    CASE WHEN d.is_weekend = 1 THEN 'Weekend' ELSE 'Weekday' END as day_type,\n",
    "    COUNT(*) as num_sales,\n",
    "    SUM(f.total_amount) as total_revenue\n",
    "FROM fact_sales f\n",
    "JOIN dim_book b ON f.book_key = b.book_key\n",
    "JOIN dim_date d ON f.date_key = d.date_key\n",
    "GROUP BY b.genre, d.is_weekend\n",
    "ORDER BY b.genre, d.is_weekend\n",
    "\"\"\"\n",
    "show_sql(query4)\n",
    "\n",
    "result4 = pd.read_sql(query4, conn)\n",
    "print(\"\\nAnswer:\")\n",
    "print(result4.head(10))\n",
    "print(\"\\n✅ Even complex questions need just 2 JOINs!\")\n",
    "print(\"✅ In a regular database, this might need 5-10 JOINs!\")"
   ]
  },
  {
   "cell_type": "markdown",
   "metadata": {},
   "source": [
    "---\n",
    "\n",
    "## 🎯 Part 5: Interview Questions About Star Schema\n",
    "\n",
    "**Common interview questions and how to answer them:**"
   ]
  },
  {
   "cell_type": "code",
   "execution_count": 20,
   "metadata": {},
   "outputs": [
    {
     "name": "stdout",
     "output_type": "stream",
     "text": [
      "💼 COMMON INTERVIEW QUESTIONS ABOUT STAR SCHEMA\n",
      "\n",
      "\n",
      "Q1: What is a star schema?\n",
      "A: A star schema is a data warehouse design with a central fact table \n",
      "   surrounded by dimension tables, forming a star shape. It's optimized \n",
      "   for fast queries and easy understanding.\n",
      "\n",
      "Q2: What's the difference between fact and dimension tables?\n",
      "A: Fact tables store measurable events (sales, clicks) with foreign keys.\n",
      "   Dimension tables store descriptive attributes (customer details, product info).\n",
      "\n",
      "Q3: Why use a star schema instead of normalized tables?\n",
      "A: Star schemas are denormalized for query performance. Fewer JOINs = faster queries.\n",
      "   Business users find them easier to understand.\n",
      "\n",
      "Q4: What are the advantages of star schema?\n",
      "A: • Simple queries (fewer JOINs)\n",
      "   • Fast performance\n",
      "   • Easy for business users\n",
      "   • Works well with BI tools\n",
      "\n",
      "Q5: What's the difference between star and snowflake schema?\n",
      "A: Star schema has denormalized dimensions (single table per dimension).\n",
      "   Snowflake schema has normalized dimensions (multiple related tables per dimension).\n",
      "   Star is simpler and faster, snowflake saves storage.\n",
      "\n",
      "Q6: What kind of businesses use star schemas?\n",
      "A: Almost all! Retail (sales analysis), Tech (user analytics), \n",
      "   Finance (transaction analysis), Healthcare (patient analytics), etc.\n",
      "\n"
     ]
    }
   ],
   "source": [
    "print(\"💼 COMMON INTERVIEW QUESTIONS ABOUT STAR SCHEMA\\n\")\n",
    "\n",
    "interview_qa = \"\"\"\n",
    "Q1: What is a star schema?\n",
    "A: A star schema is a data warehouse design with a central fact table \n",
    "   surrounded by dimension tables, forming a star shape. It's optimized \n",
    "   for fast queries and easy understanding.\n",
    "\n",
    "Q2: What's the difference between fact and dimension tables?\n",
    "A: Fact tables store measurable events (sales, clicks) with foreign keys.\n",
    "   Dimension tables store descriptive attributes (customer details, product info).\n",
    "\n",
    "Q3: Why use a star schema instead of normalized tables?\n",
    "A: Star schemas are denormalized for query performance. Fewer JOINs = faster queries.\n",
    "   Business users find them easier to understand.\n",
    "\n",
    "Q4: What are the advantages of star schema?\n",
    "A: • Simple queries (fewer JOINs)\n",
    "   • Fast performance\n",
    "   • Easy for business users\n",
    "   • Works well with BI tools\n",
    "\n",
    "Q5: What's the difference between star and snowflake schema?\n",
    "A: Star schema has denormalized dimensions (single table per dimension).\n",
    "   Snowflake schema has normalized dimensions (multiple related tables per dimension).\n",
    "   Star is simpler and faster, snowflake saves storage.\n",
    "\n",
    "Q6: What kind of businesses use star schemas?\n",
    "A: Almost all! Retail (sales analysis), Tech (user analytics), \n",
    "   Finance (transaction analysis), Healthcare (patient analytics), etc.\n",
    "\"\"\"\n",
    "\n",
    "print(interview_qa)"
   ]
  },
  {
   "cell_type": "markdown",
   "metadata": {},
   "source": [
    "---\n",
    "\n",
    "## 🚀 Part 6: Real-World Examples\n",
    "\n",
    "Let's look at how major companies use star schemas:"
   ]
  },
  {
   "cell_type": "code",
   "execution_count": 21,
   "metadata": {},
   "outputs": [
    {
     "name": "stdout",
     "output_type": "stream",
     "text": [
      "🏢 REAL-WORLD STAR SCHEMA EXAMPLES\n",
      "\n",
      "Company    Fact Table                     Key Dimensions                      Key Metrics\n",
      " Amazon   fact_orders Customer, Product, Date, Warehouse Revenue, Quantity, Shipping Cost\n",
      "Netflix    fact_views        User, Content, Date, Device      Watch Time, Completion Rate\n",
      "   Uber    fact_rides      Rider, Driver, Date, Location         Fare, Distance, Duration\n",
      "Spotify  fact_streams           User, Song, Artist, Date            Play Count, Skip Rate\n",
      " Airbnb fact_bookings        Guest, Property, Host, Date          Revenue, Nights, Rating\n",
      "\n",
      "💡 Notice: Every major tech company uses star schemas!\n",
      "   They all follow the same pattern we just learned.\n"
     ]
    }
   ],
   "source": [
    "print(\"🏢 REAL-WORLD STAR SCHEMA EXAMPLES\\n\")\n",
    "\n",
    "examples = pd.DataFrame({\n",
    "    'Company': ['Amazon', 'Netflix', 'Uber', 'Spotify', 'Airbnb'],\n",
    "    'Fact Table': ['fact_orders', 'fact_views', 'fact_rides', 'fact_streams', 'fact_bookings'],\n",
    "    'Key Dimensions': [\n",
    "        'Customer, Product, Date, Warehouse',\n",
    "        'User, Content, Date, Device',\n",
    "        'Rider, Driver, Date, Location',\n",
    "        'User, Song, Artist, Date',\n",
    "        'Guest, Property, Host, Date'\n",
    "    ],\n",
    "    'Key Metrics': [\n",
    "        'Revenue, Quantity, Shipping Cost',\n",
    "        'Watch Time, Completion Rate',\n",
    "        'Fare, Distance, Duration',\n",
    "        'Play Count, Skip Rate',\n",
    "        'Revenue, Nights, Rating'\n",
    "    ]\n",
    "})\n",
    "\n",
    "print(examples.to_string(index=False))\n",
    "\n",
    "print(\"\\n💡 Notice: Every major tech company uses star schemas!\")\n",
    "print(\"   They all follow the same pattern we just learned.\")"
   ]
  },
  {
   "cell_type": "markdown",
   "metadata": {},
   "source": [
    "---\n",
    "\n",
    "## 📝 Practice Exercises"
   ]
  },
  {
   "cell_type": "code",
   "execution_count": 22,
   "metadata": {},
   "outputs": [
    {
     "name": "stdout",
     "output_type": "stream",
     "text": [
      "📝 PRACTICE EXERCISES\n",
      "\n",
      "Exercise 1: Design a star schema for a coffee shop\n",
      "  Think about:\n",
      "  • What would be in the fact table? (hint: sales transactions)\n",
      "  • What dimensions would you need? (hint: customer, product, date, store)\n",
      "\n",
      "Exercise 2: Write queries for our bookstore:\n",
      "  • Find total sales on weekends vs weekdays\n",
      "  • Find which genre each customer buys most\n",
      "  • Find the busiest day of the week\n",
      "\n",
      "Exercise 3: Identify fact vs dimension\n",
      "  Which table would these go in?\n",
      "  • Customer's birthday\n",
      "  • Sale amount\n",
      "  • Product color\n",
      "  • Transaction timestamp\n",
      "  • Store manager name\n"
     ]
    }
   ],
   "source": [
    "print(\"📝 PRACTICE EXERCISES\\n\")\n",
    "\n",
    "print(\"Exercise 1: Design a star schema for a coffee shop\")\n",
    "print(\"  Think about:\")\n",
    "print(\"  • What would be in the fact table? (hint: sales transactions)\")\n",
    "print(\"  • What dimensions would you need? (hint: customer, product, date, store)\")\n",
    "print()\n",
    "\n",
    "print(\"Exercise 2: Write queries for our bookstore:\")\n",
    "print(\"  • Find total sales on weekends vs weekdays\")\n",
    "print(\"  • Find which genre each customer buys most\")\n",
    "print(\"  • Find the busiest day of the week\")\n",
    "print()\n",
    "\n",
    "print(\"Exercise 3: Identify fact vs dimension\")\n",
    "print(\"  Which table would these go in?\")\n",
    "print(\"  • Customer's birthday\")\n",
    "print(\"  • Sale amount\")\n",
    "print(\"  • Product color\")\n",
    "print(\"  • Transaction timestamp\")\n",
    "print(\"  • Store manager name\")"
   ]
  },
  {
   "cell_type": "markdown",
   "metadata": {},
   "source": [
    "### Exercise 1"
   ]
  },
  {
   "cell_type": "code",
   "execution_count": 70,
   "metadata": {},
   "outputs": [
    {
     "name": "stdout",
     "output_type": "stream",
     "text": [
      "📚 BUILDING A COFFEE SHOP DATA WAREHOUSE\n",
      "\n",
      "Step 1: Create Dimension Tables\n",
      "\n",
      "Creating dimension tables...\n",
      "\n"
     ]
    }
   ],
   "source": [
    "print(\"📚 BUILDING A COFFEE SHOP DATA WAREHOUSE\\n\")\n",
    "print(\"Step 1: Create Dimension Tables\\n\")\n",
    "\n",
    "# Create database connection\n",
    "conn = sqlite3.connect('coffeeshop_warehouse.db')\n",
    "cursor = conn.cursor()\n",
    "\n",
    "# Clean up if exists\n",
    "cursor.execute(\"DROP TABLE IF EXISTS dim_customer\")\n",
    "cursor.execute(\"DROP TABLE IF EXISTS dim_product\")\n",
    "cursor.execute(\"DROP TABLE IF EXISTS dim_date\")\n",
    "cursor.execute(\"DROP TABLE IF EXISTS dim_store\")\n",
    "cursor.execute(\"DROP TABLE IF EXISTS fact_sales\")\n",
    "\n",
    "print(\"Creating dimension tables...\\n\")"
   ]
  },
  {
   "cell_type": "code",
   "execution_count": 71,
   "metadata": {},
   "outputs": [
    {
     "name": "stdout",
     "output_type": "stream",
     "text": [
      "1️⃣ Creating DIM_CUSTOMER (Who bought?)\n",
      "✅ Created dim_customer table\n",
      "Sample data:\n",
      "   customer_key customer_id  customer_name                   email  \\\n",
      "0             1    CUST_001    Alice Brown    alicebrown@email.com   \n",
      "1             2    CUST_002      Bob Smith      bobsmith@email.com   \n",
      "2             3    CUST_003  Charlie Davis  charliedavis@email.com   \n",
      "\n",
      "          suburb customer_type registration_date  \n",
      "0          Perth       Regular        2023-01-01  \n",
      "1  Victoria Park       Premium        2023-01-08  \n",
      "2        Belmont       Regular        2023-01-15  \n",
      "\n"
     ]
    }
   ],
   "source": [
    "# DIMENSION 1: Customer Dimension\n",
    "print(\"1️⃣ Creating DIM_CUSTOMER (Who bought?)\")\n",
    "\n",
    "# Create customer dimension table\n",
    "cursor.execute(\"\"\"\n",
    "CREATE TABLE dim_customer (\n",
    "    customer_key INTEGER PRIMARY KEY,\n",
    "    customer_id TEXT,\n",
    "    customer_name TEXT,\n",
    "    email TEXT,\n",
    "    suburb TEXT,\n",
    "    customer_type TEXT,\n",
    "    registration_date DATE\n",
    ")\n",
    "\"\"\")\n",
    "\n",
    "# Create sample customer data\n",
    "customers = pd.DataFrame({\n",
    "    'customer_key': range(1, 11),\n",
    "    'customer_id': [f'CUST_{i:03d}' for i in range(1, 11)],\n",
    "    'customer_name': ['Alice Brown', 'Bob Smith', 'Charlie Davis', 'Diana Wilson',\n",
    "                     'Eve Johnson', 'Frank Miller', 'Grace Syous', 'Henry Taylor',\n",
    "                     'Iris Anderson', 'Jack Welsh'],\n",
    "    'email': [f'{name.lower().replace(\" \", \"\")}@email.com' \n",
    "             for name in ['Alice Brown', 'Bob Smith', 'Charlie Davis', 'Diana Wilson',\n",
    "                         'Eve Johnson', 'Frank Miller', 'Grace Lee', 'Henry Taylor',\n",
    "                         'Iris Anderson', 'Jack Thomas']],\n",
    "    'suburb': ['Perth', 'Victoria Park', 'Belmont', 'Daniella', 'Kewdale',\n",
    "            'Joondaloop', 'Bentley', 'Bullcreek', 'Cannington', 'Mount Lawley'],\n",
    "    'customer_type': ['Regular', 'Premium', 'Regular', 'Premium', 'Regular',\n",
    "                     'Premium', 'Regular', 'Regular', 'Premium', 'Regular'],\n",
    "    'registration_date': pd.date_range('2023-01-01', periods=10, freq='W')\n",
    "})\n",
    "\n",
    "# Insert into database\n",
    "customers.to_sql('dim_customer', conn, if_exists='append', index=False)\n",
    "\n",
    "print(\"✅ Created dim_customer table\")\n",
    "print(\"Sample data:\")\n",
    "print(customers.head(3))\n",
    "print()"
   ]
  },
  {
   "cell_type": "code",
   "execution_count": 72,
   "metadata": {},
   "outputs": [
    {
     "name": "stdout",
     "output_type": "stream",
     "text": [
      "1️⃣ Creating DIM_PRODUCT (What was bought?)\n",
      "Sample data:\n",
      "   product_key   product_id product_name  price manufacturer\n",
      "0            1  Product_001          cup  19.99         Ikea\n",
      "1            2  Product_002          hat  24.99       Uniqlo\n",
      "2            3  Product_003     notebook  14.99     Moleskin\n"
     ]
    }
   ],
   "source": [
    "# DIMENSION 2: Product Dimension\n",
    "print(\"1️⃣ Creating DIM_PRODUCT (What was bought?)\")\n",
    "\n",
    "# Create product dimension table\n",
    "cursor.execute(\"\"\"\n",
    "CREATE TABLE dim_product(\n",
    "    product_key INTEGER PRIMARY KEY,\n",
    "    product_id TEXT,\n",
    "    product_name TEXT,\n",
    "    price DECIMAL(10,2),\n",
    "    manufacturer TEXT\n",
    ")\n",
    "\"\"\")\n",
    "\n",
    "# create sample product data\n",
    "products = pd.DataFrame({\n",
    "    'product_key': range(1,12),\n",
    "    'product_id' : [f'Product_{i:03d}' for i in range(1,12)],\n",
    "    'product_name' : ['cup','hat','notebook','baseball','key hanger','usb charger','cool mouse','pen','desk clock','calendar','frying pan'],\n",
    "    'price' : [19.99, 24.99, 14.99, 29.99, 22.99, 36.99, 35.5, 14.99, 34.99, 12.99, 128.67],\n",
    "    'manufacturer': ['Ikea','Uniqlo','Moleskin','Google','Microsoft','Caltex','JB Hifi','Pilot','Seiko','Amazon','My House']\n",
    "})\n",
    "\n",
    "# Insert into database\n",
    "products.to_sql('dim_product', conn, if_exists='append', index=False)\n",
    "\n",
    "print(\"Sample data:\")\n",
    "print(products.head(3))\n"
   ]
  },
  {
   "cell_type": "code",
   "execution_count": 73,
   "metadata": {},
   "outputs": [
    {
     "name": "stdout",
     "output_type": "stream",
     "text": [
      "3️⃣ Creating DIM_DATE (When did it happen?)\n",
      "✅ Created dim_date table\n",
      "Loaded 366 dates for year 2024\n",
      "Sample data:\n",
      "   date_key  full_date  year  quarter  month month_name  day   day_name  \\\n",
      "0  20240101 2024-01-01  2024        1      1    January    1     Monday   \n",
      "1  20240102 2024-01-02  2024        1      1    January    2    Tuesday   \n",
      "2  20240103 2024-01-03  2024        1      1    January    3  Wednesday   \n",
      "\n",
      "   is_weekend  is_holiday  \n",
      "0           0           0  \n",
      "1           0           0  \n",
      "2           0           0  \n",
      "\n"
     ]
    }
   ],
   "source": [
    "# DIMENSION 3: Date Dimension\n",
    "print(\"3️⃣ Creating DIM_DATE (When did it happen?)\")\n",
    "\n",
    "# Create date dimension table\n",
    "cursor.execute(\"\"\"\n",
    "CREATE TABLE dim_date (\n",
    "    date_key INTEGER PRIMARY KEY,\n",
    "    full_date DATE,\n",
    "    year INTEGER,\n",
    "    quarter INTEGER,\n",
    "    month INTEGER,\n",
    "    month_name TEXT,\n",
    "    day INTEGER,\n",
    "    day_name TEXT,\n",
    "    is_weekend INTEGER,\n",
    "    is_holiday INTEGER\n",
    ")\n",
    "\"\"\")\n",
    "\n",
    "# Create date range for 2024\n",
    "date_range = pd.date_range('2024-01-01', '2024-12-31', freq='D')\n",
    "\n",
    "# Create date dimension data\n",
    "dates = pd.DataFrame({\n",
    "    'date_key': [int(d.strftime('%Y%m%d')) for d in date_range],\n",
    "    'full_date': date_range,\n",
    "    'year': date_range.year,\n",
    "    'quarter': date_range.quarter,\n",
    "    'month': date_range.month,\n",
    "    'month_name': date_range.strftime('%B'),\n",
    "    'day': date_range.day,\n",
    "    'day_name': date_range.strftime('%A'),\n",
    "    'is_weekend': (date_range.dayofweek >= 5).astype(int),\n",
    "    'is_holiday': 0  # Simplified - you'd mark actual holidays\n",
    "})\n",
    "\n",
    "# Insert into database\n",
    "dates.to_sql('dim_date', conn, if_exists='append', index=False)\n",
    "\n",
    "print(\"✅ Created dim_date table\")\n",
    "print(f\"Loaded {len(dates)} dates for year 2024\")\n",
    "print(\"Sample data:\")\n",
    "print(dates.head(3))\n",
    "print()"
   ]
  },
  {
   "cell_type": "code",
   "execution_count": 74,
   "metadata": {},
   "outputs": [
    {
     "name": "stdout",
     "output_type": "stream",
     "text": [
      "💰 Creating FACT_SALES (The actual sales transactions)\n",
      "\n",
      "✅ Created fact_sales table structure\n",
      "\n",
      "📌 Notice: The fact table has:\n",
      "  • Foreign keys to all dimensions (date_key, customer_key, book_key)\n",
      "  • Measures/metrics (quantity, price, discount, total_amount)\n",
      "  • No descriptive text - that's in the dimensions!\n"
     ]
    }
   ],
   "source": [
    "print(\"💰 Creating FACT_SALES (The actual sales transactions)\\n\")\n",
    "\n",
    "# Create fact table\n",
    "cursor.execute(\"\"\"\n",
    "CREATE TABLE fact_sales (\n",
    "    sale_id INTEGER PRIMARY KEY,\n",
    "    date_key INTEGER,\n",
    "    customer_key INTEGER,\n",
    "    product_key INTEGER,\n",
    "    quantity INTEGER,\n",
    "    unit_price DECIMAL(10,2),\n",
    "    discount_percent DECIMAL(5,2),\n",
    "    total_amount DECIMAL(10,2),\n",
    "    FOREIGN KEY (date_key) REFERENCES dim_date(date_key),\n",
    "    FOREIGN KEY (customer_key) REFERENCES dim_customer(customer_key),\n",
    "    FOREIGN KEY (product_key) REFERENCES dim_book(product_key)\n",
    ")\n",
    "\"\"\")\n",
    "\n",
    "print(\"✅ Created fact_sales table structure\")\n",
    "print()\n",
    "print(\"📌 Notice: The fact table has:\")\n",
    "print(\"  • Foreign keys to all dimensions (date_key, customer_key, book_key)\")\n",
    "print(\"  • Measures/metrics (quantity, price, discount, total_amount)\")\n",
    "print(\"  • No descriptive text - that's in the dimensions!\")"
   ]
  },
  {
   "cell_type": "code",
   "execution_count": 76,
   "metadata": {},
   "outputs": [
    {
     "name": "stdout",
     "output_type": "stream",
     "text": [
      "📊 Generating sample sales transactions...\n",
      "\n",
      "✅ Generated and loaded 100 sales transactions\n",
      "\n",
      "Sample fact table data:\n",
      "   sale_id  date_key  customer_key  product_key  quantity  unit_price  \\\n",
      "0        1  20240412             4           11         1      128.67   \n",
      "1        2  20240501             3            7         3       35.50   \n",
      "2        3  20240409             8            8         3       14.99   \n",
      "3        4  20240914             8            6         2       36.99   \n",
      "4        5  20241003             1           10         2       12.99   \n",
      "\n",
      "   discount_percent  total_amount  \n",
      "0                 5        122.24  \n",
      "1                 0        106.50  \n",
      "2                 0         44.97  \n",
      "3                 0         73.98  \n",
      "4                 0         25.98  \n",
      "\n",
      "Total revenue: $6,040.19\n"
     ]
    }
   ],
   "source": [
    "# Generate sample sales data\n",
    "print(\"📊 Generating sample sales transactions...\\n\")\n",
    "\n",
    "np.random.seed(42)\n",
    "n_sales = 100\n",
    "\n",
    "# Generate random sales\n",
    "sales_data = []\n",
    "for i in range(n_sales):\n",
    "    # Pick random date in 2024\n",
    "    date_key = int((pd.Timestamp('2024-01-01') + \n",
    "                  timedelta(days=np.random.randint(0, 365))).strftime('%Y%m%d'))\n",
    "    \n",
    "    # Pick random customer and book\n",
    "    customer_key = np.random.randint(1, 11)\n",
    "    product_key = np.random.randint(1, 12)\n",
    "    \n",
    "    # Get product price\n",
    "    price = products[products['product_key'] == product_key]['price'].iloc[0]\n",
    "    \n",
    "    # Generate sale details\n",
    "    quantity = np.random.randint(1, 4)\n",
    "    discount = np.random.choice([0, 5, 10, 15, 20], p=[0.5, 0.2, 0.15, 0.1, 0.05])\n",
    "    total = quantity * price * (1 - discount/100)\n",
    "    \n",
    "    sales_data.append({\n",
    "        'sale_id': i + 1,\n",
    "        'date_key': date_key,\n",
    "        'customer_key': customer_key,\n",
    "        'product_key': product_key,\n",
    "        'quantity': quantity,\n",
    "        'unit_price': price,\n",
    "        'discount_percent': discount,\n",
    "        'total_amount': round(total, 2)\n",
    "    })\n",
    "\n",
    "# Create DataFrame and insert\n",
    "fact_sales = pd.DataFrame(sales_data)\n",
    "fact_sales.to_sql('fact_sales', conn, if_exists='append', index=False)\n",
    "\n",
    "print(f\"✅ Generated and loaded {n_sales} sales transactions\")\n",
    "print(\"\\nSample fact table data:\")\n",
    "print(fact_sales.head())\n",
    "print()\n",
    "print(f\"Total revenue: ${fact_sales['total_amount'].sum():,.2f}\")"
   ]
  },
  {
   "cell_type": "markdown",
   "metadata": {},
   "source": [
    "### Exercise 2"
   ]
  },
  {
   "cell_type": "code",
   "execution_count": 29,
   "metadata": {},
   "outputs": [],
   "source": [
    "conn = sqlite3.connect('bookstore_warehouse.db')\n",
    "cursor = conn.cursor()"
   ]
  },
  {
   "cell_type": "code",
   "execution_count": 30,
   "metadata": {},
   "outputs": [
    {
     "name": "stdout",
     "output_type": "stream",
     "text": [
      "Find total sales on weekends vs weekdays\n"
     ]
    },
    {
     "data": {
      "text/markdown": [
       "```sql\n",
       "\n",
       "SELECT \n",
       "    CASE WHEN d.is_weekend = 1 THEN 'Weekend' ELSE 'Weekday' END as day_type,\n",
       "    COUNT(*) as num_sales,\n",
       "    SUM(f.total_amount) as total_sales\n",
       "FROM fact_sales f\n",
       "JOIN dim_book b ON f.book_key = b.book_key\n",
       "JOIN dim_date d ON f.date_key = d.date_key\n",
       "GROUP BY d.is_weekend\n",
       "ORDER BY total_sales, d.is_weekend\n",
       "\n",
       "```"
      ],
      "text/plain": [
       "<IPython.core.display.Markdown object>"
      ]
     },
     "metadata": {},
     "output_type": "display_data"
    },
    {
     "name": "stdout",
     "output_type": "stream",
     "text": [
      "\n",
      "Answer:\n",
      "  day_type  num_sales  total_sales\n",
      "0  Weekend        135      5717.57\n",
      "1  Weekday        365     15378.66\n"
     ]
    }
   ],
   "source": [
    "# Find total sales on weekends vs weekdays\n",
    "print(\"Find total sales on weekends vs weekdays\")\n",
    "\n",
    "query_ex21 = \"\"\"\n",
    "SELECT \n",
    "    CASE WHEN d.is_weekend = 1 THEN 'Weekend' ELSE 'Weekday' END as day_type,\n",
    "    COUNT(*) as num_sales,\n",
    "    SUM(f.total_amount) as total_sales\n",
    "FROM fact_sales f\n",
    "JOIN dim_book b ON f.book_key = b.book_key\n",
    "JOIN dim_date d ON f.date_key = d.date_key\n",
    "GROUP BY d.is_weekend\n",
    "ORDER BY total_sales, d.is_weekend\n",
    "\"\"\"\n",
    "show_sql(query_ex21)\n",
    "\n",
    "result_ex21 = pd.read_sql(query_ex21, conn)\n",
    "print(\"\\nAnswer:\")\n",
    "print(result_ex21.head(10))"
   ]
  },
  {
   "cell_type": "code",
   "execution_count": 35,
   "metadata": {},
   "outputs": [
    {
     "name": "stdout",
     "output_type": "stream",
     "text": [
      "total of all sales: 21096.23\n",
      "weekend sales: 5717.57 and weekday sales: 15378.66 totalled to 21096.23\n"
     ]
    }
   ],
   "source": [
    "# crosscheck with the dataframe\n",
    "print(f\"total of all sales: {fact_sales['total_amount'].sum():.2f}\")\n",
    "print(f\"weekend sales: {5717.57} and weekday sales: {15378.66} totalled to {5717.57+15378.66}\")"
   ]
  },
  {
   "cell_type": "code",
   "execution_count": 48,
   "metadata": {},
   "outputs": [
    {
     "name": "stdout",
     "output_type": "stream",
     "text": [
      "Find which genre each customer buys most\n"
     ]
    },
    {
     "data": {
      "text/markdown": [
       "```sql\n",
       "\n",
       "SELECT \n",
       "    b.genre,\n",
       "    COUNT(*) as num_sales,\n",
       "    SUM(f.total_amount) as total_sales\n",
       "FROM fact_sales f\n",
       "JOIN dim_book b on f.book_key = b.book_key\n",
       "GROUP BY b.genre\n",
       "ORDER BY total_sales desc\n",
       "\n",
       "```"
      ],
      "text/plain": [
       "<IPython.core.display.Markdown object>"
      ]
     },
     "metadata": {},
     "output_type": "display_data"
    },
    {
     "name": "stdout",
     "output_type": "stream",
     "text": [
      "\n",
      "Answer:\n",
      "        genre  num_sales  total_sales\n",
      "0  Technology         26      2141.44\n",
      "1    Business         33      1931.41\n",
      "2     Science         32      1826.37\n"
     ]
    }
   ],
   "source": [
    "# Find which genre each customer buys most\n",
    "print(\"Find which genre each customer buys most\")\n",
    "\n",
    "query_ex22 = \"\"\"\n",
    "SELECT \n",
    "    b.genre,\n",
    "    COUNT(*) as num_sales,\n",
    "    SUM(f.total_amount) as total_sales\n",
    "FROM fact_sales f\n",
    "JOIN dim_book b on f.book_key = b.book_key\n",
    "GROUP BY b.genre\n",
    "ORDER BY total_sales desc\n",
    "\"\"\"\n",
    "show_sql(query_ex22)\n",
    "\n",
    "result_ex22 = pd.read_sql(query_ex22,conn)\n",
    "print(\"\\nAnswer:\")\n",
    "print(result_ex22.head(3))"
   ]
  },
  {
   "cell_type": "code",
   "execution_count": 49,
   "metadata": {},
   "outputs": [
    {
     "data": {
      "text/plain": [
       "genre\n",
       "Technology    2141.44\n",
       "Business      1931.41\n",
       "Science       1826.37\n",
       "Name: total_amount, dtype: float64"
      ]
     },
     "execution_count": 49,
     "metadata": {},
     "output_type": "execute_result"
    }
   ],
   "source": [
    "# crosscheck with dataframe\n",
    "df_merge = pd.merge(\n",
    "    fact_sales[['book_key','total_amount']],\n",
    "    books[['book_key','genre']],\n",
    "    on = 'book_key',\n",
    "    how = 'inner'\n",
    ")\n",
    "best_seller_genre = df_merge.groupby('genre')['total_amount'].sum().sort_values(ascending=False)\n",
    "best_seller_genre.head(3)"
   ]
  },
  {
   "cell_type": "code",
   "execution_count": 57,
   "metadata": {},
   "outputs": [
    {
     "name": "stdout",
     "output_type": "stream",
     "text": [
      "Find the busiest day of the week\n"
     ]
    },
    {
     "data": {
      "text/markdown": [
       "```sql\n",
       "\n",
       "SELECT \n",
       "    d.day_name,\n",
       "    COUNT(*) as num_sales\n",
       "FROM fact_sales f\n",
       "JOIN dim_date d on d.date_key = f.date_key\n",
       "GROUP BY d.day_name\n",
       "ORDER BY num_sales desc\n",
       "\n",
       "```"
      ],
      "text/plain": [
       "<IPython.core.display.Markdown object>"
      ]
     },
     "metadata": {},
     "output_type": "display_data"
    },
    {
     "name": "stdout",
     "output_type": "stream",
     "text": [
      "\n",
      "Answer:\n",
      "    day_name  num_sales\n",
      "0    Tuesday         80\n",
      "1     Friday         77\n",
      "2   Thursday         72\n",
      "3   Saturday         70\n",
      "4     Monday         70\n",
      "5  Wednesday         66\n",
      "6     Sunday         65\n"
     ]
    }
   ],
   "source": [
    "# Find the busiest day of the week\n",
    "print(\"Find the busiest day of the week\")\n",
    "\n",
    "query_ex23 = \"\"\"\n",
    "SELECT \n",
    "    d.day_name,\n",
    "    COUNT(*) as num_sales\n",
    "FROM fact_sales f\n",
    "JOIN dim_date d on d.date_key = f.date_key\n",
    "GROUP BY d.day_name\n",
    "ORDER BY num_sales desc\n",
    "\"\"\"\n",
    "show_sql(query_ex23)\n",
    "\n",
    "result_ex23 = pd.read_sql(query_ex23,conn)\n",
    "print(\"\\nAnswer:\")\n",
    "print(result_ex23.head(7))"
   ]
  },
  {
   "cell_type": "code",
   "execution_count": 52,
   "metadata": {},
   "outputs": [
    {
     "data": {
      "text/plain": [
       "Index(['date_key', 'full_date', 'year', 'quarter', 'month', 'month_name',\n",
       "       'day', 'day_name', 'is_weekend', 'is_holiday'],\n",
       "      dtype='object')"
      ]
     },
     "execution_count": 52,
     "metadata": {},
     "output_type": "execute_result"
    }
   ],
   "source": [
    "dates.columns\n"
   ]
  },
  {
   "cell_type": "code",
   "execution_count": 58,
   "metadata": {},
   "outputs": [
    {
     "data": {
      "text/plain": [
       "day_name\n",
       "Tuesday      80\n",
       "Friday       77\n",
       "Thursday     72\n",
       "Saturday     70\n",
       "Monday       70\n",
       "Wednesday    66\n",
       "Sunday       65\n",
       "Name: total_amount, dtype: int64"
      ]
     },
     "execution_count": 58,
     "metadata": {},
     "output_type": "execute_result"
    }
   ],
   "source": [
    "# crosscheck with dataframe\n",
    "df_merge2 = pd.merge(\n",
    "    fact_sales[['date_key','total_amount']],\n",
    "    dates[['date_key','day_name']],\n",
    "    on = 'date_key',\n",
    "    how = 'left'\n",
    ")\n",
    "busiest_day = df_merge2.groupby('day_name')['total_amount'].count().sort_values(ascending=False)\n",
    "busiest_day.head(7)"
   ]
  },
  {
   "cell_type": "markdown",
   "metadata": {},
   "source": [
    "### Exercise 3"
   ]
  },
  {
   "cell_type": "code",
   "execution_count": 42,
   "metadata": {},
   "outputs": [
    {
     "name": "stdout",
     "output_type": "stream",
     "text": [
      "Exercise 3: Identify fact vs dimension\n",
      "  Which table would these go in?\n",
      "  • Customer's birthday ==> dim_customer\n",
      "  • Sale amount ==> fact_sales\n",
      "  • Product color ==> dim_product\n",
      "  • Transaction timestamp ==> dim_date\n",
      "  • Store manager name ==> dim_store\n"
     ]
    }
   ],
   "source": [
    "print(\"Exercise 3: Identify fact vs dimension\")\n",
    "print(\"  Which table would these go in?\")\n",
    "print(\"  • Customer's birthday ==> dim_customer\")\n",
    "print(\"  • Sale amount ==> fact_sales\")\n",
    "print(\"  • Product color ==> dim_product\")\n",
    "print(\"  • Transaction timestamp ==> dim_date\")\n",
    "print(\"  • Store manager name ==> dim_store\")"
   ]
  },
  {
   "cell_type": "markdown",
   "metadata": {},
   "source": [
    "---\n",
    "\n",
    "## 🎓 Key Takeaways\n",
    "\n",
    "**You now understand:**\n",
    "\n",
    "1. **Data Warehouse** = Database optimized for analysis (not operations)\n",
    "2. **Star Schema** = Central fact table + surrounding dimension tables\n",
    "3. **Fact Table** = What happened (events, transactions, measurements)\n",
    "4. **Dimension Tables** = Context (who, what, when, where)\n",
    "5. **Benefits** = Simple queries, fast performance, business-friendly\n",
    "\n",
    "**Remember for interviews:**\n",
    "- Star schemas are THE standard for data warehouses\n",
    "- Every major company uses them\n",
    "- They trade storage space for query speed (denormalization)\n",
    "- Business users love them because they're intuitive\n",
    "\n",
    "---\n",
    "\n",
    "## 🚀 Next Steps\n",
    "\n",
    "You're now ready to:\n",
    "- Design star schemas for any business\n",
    "- Understand data warehouse architectures\n",
    "- Answer interview questions confidently\n",
    "- Build analytical databases\n",
    "\n",
    "**Pro tip**: In interviews, draw the star! It shows you truly understand it. ⭐"
   ]
  },
  {
   "cell_type": "code",
   "execution_count": 77,
   "metadata": {},
   "outputs": [
    {
     "name": "stdout",
     "output_type": "stream",
     "text": [
      "✅ Database connection closed.\n",
      "🎉 Congratulations! You now understand data warehousing!\n",
      "\n",
      "📊 You learned:\n",
      "  • What a data warehouse is and why we need them\n",
      "  • How star schemas work (critical for interviews!)\n",
      "  • The difference between fact and dimension tables\n",
      "  • How to build your own star schema\n",
      "  • How major companies use these concepts\n",
      "\n",
      "💪 You're ready for data warehouse interview questions!\n"
     ]
    }
   ],
   "source": [
    "# Cleanup\n",
    "conn.close()\n",
    "\n",
    "print(\"✅ Database connection closed.\")\n",
    "print(\"🎉 Congratulations! You now understand data warehousing!\")\n",
    "print()\n",
    "print(\"📊 You learned:\")\n",
    "print(\"  • What a data warehouse is and why we need them\")\n",
    "print(\"  • How star schemas work (critical for interviews!)\")\n",
    "print(\"  • The difference between fact and dimension tables\")\n",
    "print(\"  • How to build your own star schema\")\n",
    "print(\"  • How major companies use these concepts\")\n",
    "print()\n",
    "print(\"💪 You're ready for data warehouse interview questions!\")"
   ]
  },
  {
   "cell_type": "code",
   "execution_count": null,
   "metadata": {},
   "outputs": [],
   "source": []
  }
 ],
 "metadata": {
  "kernelspec": {
   "display_name": "Python 3 (ipykernel)",
   "language": "python",
   "name": "python3"
  },
  "language_info": {
   "codemirror_mode": {
    "name": "ipython",
    "version": 3
   },
   "file_extension": ".py",
   "mimetype": "text/x-python",
   "name": "python",
   "nbconvert_exporter": "python",
   "pygments_lexer": "ipython3",
   "version": "3.13.7"
  }
 },
 "nbformat": 4,
 "nbformat_minor": 4
}
