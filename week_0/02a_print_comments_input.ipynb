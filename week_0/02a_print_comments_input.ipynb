{
 "cells": [
  {
   "cell_type": "markdown",
   "id": "8c4d4790",
   "metadata": {},
   "source": [
    "# AI TECH INSTITUTE · Week 00 Deep Dive — Print, Comments, and input()"
   ]
  },
  {
   "cell_type": "markdown",
   "id": "7840780f",
   "metadata": {},
   "source": [
    "Master the fundamentals of console I/O and communication with your future self."
   ]
  },
  {
   "cell_type": "markdown",
   "id": "4629b455",
   "metadata": {},
   "source": [
    "## 1. print() essentials"
   ]
  },
  {
   "cell_type": "code",
   "execution_count": 6,
   "id": "bcfc68a4",
   "metadata": {},
   "outputs": [
    {
     "name": "stdout",
     "output_type": "stream",
     "text": [
      "AI · Tech · Institute 🚀\n"
     ]
    }
   ],
   "source": [
    "print(\"AI\", \"Tech\", \"Institute\", sep=\" · \", end=\" 🚀\\n\")"
   ]
  },
  {
   "cell_type": "markdown",
   "id": "f6c2dbe0",
   "metadata": {},
   "source": [
    "### Exercise A1 — Echo 3 ways (easy)\n",
    "Print your name using: (1) simple print, (2) f-string, (3) string concatenation."
   ]
  },
  {
   "cell_type": "code",
   "execution_count": 7,
   "id": "3888946c",
   "metadata": {},
   "outputs": [
    {
     "name": "stdout",
     "output_type": "stream",
     "text": [
      "Olivia Suriyanto\n"
     ]
    }
   ],
   "source": [
    "# Your turn\n",
    "#(1) simple print\n",
    "print(\"Olivia Suriyanto\")"
   ]
  },
  {
   "cell_type": "code",
   "execution_count": 8,
   "id": "95458c89-6674-45a7-80b9-056bec03d8e1",
   "metadata": {},
   "outputs": [
    {
     "name": "stdout",
     "output_type": "stream",
     "text": [
      "My name is Olivia Suriyanto.\n"
     ]
    }
   ],
   "source": [
    "#(2) f-string\n",
    "fullname = \"Olivia Suriyanto\"\n",
    "print(f\"My name is {fullname}.\")"
   ]
  },
  {
   "cell_type": "code",
   "execution_count": 11,
   "id": "76f5d47f-8674-4937-98ad-6919c3a1a8f3",
   "metadata": {},
   "outputs": [
    {
     "name": "stdout",
     "output_type": "stream",
     "text": [
      "My name is Olivia Suriyanto.\n"
     ]
    }
   ],
   "source": [
    "#(3) string concatenation\n",
    "firstname = \"Olivia\"\n",
    "lastname = \"Suriyanto\"\n",
    "print(\"My name is \"+ firstname + \" \" + lastname + \".\")"
   ]
  },
  {
   "cell_type": "markdown",
   "id": "508367a4",
   "metadata": {},
   "source": [
    "<details>\n",
    "<summary><b>Solution</b></summary>\n",
    "\n",
    "```python\n",
    "name=\"Amir\"\n",
    "print(name)\n",
    "print(f\"My name is {name}\")\n",
    "print(\"My name is \" + name)\n",
    "```\n",
    "</details>"
   ]
  },
  {
   "cell_type": "markdown",
   "id": "46703d59",
   "metadata": {},
   "source": [
    "## 2. Comments & docstrings"
   ]
  },
  {
   "cell_type": "code",
   "execution_count": 12,
   "id": "bae151b0",
   "metadata": {},
   "outputs": [
    {
     "name": "stdout",
     "output_type": "stream",
     "text": [
      "Ready\n"
     ]
    }
   ],
   "source": [
    "# Single-line comment\n",
    "\"\"\" Module or block docstring explaining purpose. \"\"\"\n",
    "print(\"Ready\")"
   ]
  },
  {
   "cell_type": "markdown",
   "id": "413471dd",
   "metadata": {},
   "source": [
    "### Exercise A2 — Annotate (easy)\n",
    "Add comments explaining each line of a short script that computes area of a circle."
   ]
  },
  {
   "cell_type": "code",
   "execution_count": 17,
   "id": "6d071089",
   "metadata": {},
   "outputs": [
    {
     "name": "stdout",
     "output_type": "stream",
     "text": [
      "Area of a circle with the radius of 10 is 314.2857142857143\n"
     ]
    }
   ],
   "source": [
    "# Your turn\n",
    "\"\"\" Area of a circle is pi multiplied with square of radius. \"\"\"\n",
    "# input radius\n",
    "radius = 10\n",
    "# circle area\n",
    "area = 22/7*(radius**2)\n",
    "# output\n",
    "print(f\"Area of a circle with the radius of {radius} is {area}\")"
   ]
  },
  {
   "cell_type": "markdown",
   "id": "6976b962",
   "metadata": {},
   "source": [
    "<details>\n",
    "<summary><b>Solution</b></summary>\n",
    "\n",
    "```python\n",
    "# radius input\n",
    "r = 3\n",
    "# compute area\n",
    "area = 3.14159 * (r**2)\n",
    "# show result\n",
    "print(area)\n",
    "```\n",
    "</details>"
   ]
  },
  {
   "cell_type": "markdown",
   "id": "9b13044d",
   "metadata": {},
   "source": [
    "## 3. input(): getting data\n",
    "input() returns **str** — convert to number when needed."
   ]
  },
  {
   "cell_type": "code",
   "execution_count": 22,
   "id": "2ba2b0a7",
   "metadata": {},
   "outputs": [
    {
     "name": "stdin",
     "output_type": "stream",
     "text": [
      "Age:  34\n"
     ]
    },
    {
     "name": "stdout",
     "output_type": "stream",
     "text": [
      "Next year: 35\n"
     ]
    }
   ],
   "source": [
    "age_str = input(\"Age: \")\n",
    "age = int(age_str)\n",
    "print(\"Next year:\", age+1)"
   ]
  },
  {
   "cell_type": "markdown",
   "id": "c6640fe4",
   "metadata": {},
   "source": [
    "### Exercise A3 — Greeter+ (easy)\n",
    "Ask for name and favorite language, print a nice sentence."
   ]
  },
  {
   "cell_type": "code",
   "execution_count": 25,
   "id": "c4c86115",
   "metadata": {},
   "outputs": [
    {
     "name": "stdin",
     "output_type": "stream",
     "text": [
      "What is your name? Mickey Mouse\n",
      "What is your favorite language? Auslan\n"
     ]
    },
    {
     "name": "stdout",
     "output_type": "stream",
     "text": [
      "Hello, Mickey Mouse! Auslan is my favorite language too!\n"
     ]
    }
   ],
   "source": [
    "# Your turn\n",
    "name = input(\"What is your name?\")\n",
    "language = input(\"What is your favorite language?\")\n",
    "print(f\"Hello, {name}! {language} is my favorite language too!\")"
   ]
  },
  {
   "cell_type": "markdown",
   "id": "2ff3fc3b",
   "metadata": {},
   "source": [
    "<details>\n",
    "<summary><b>Solution</b></summary>\n",
    "\n",
    "```python\n",
    "name = \"Alex\"\n",
    "lang = \"Python\"\n",
    "print(f\"Nice to meet you, {name}. {lang} is awesome!\")\n",
    "```\n",
    "</details>"
   ]
  },
  {
   "cell_type": "markdown",
   "id": "281c4464",
   "metadata": {},
   "source": [
    "### Exercise A4 — Unit converter (medium)\n",
    "Ask for kilometers (float), convert to miles, round to 2 dp."
   ]
  },
  {
   "cell_type": "code",
   "execution_count": 31,
   "id": "9f3b5382",
   "metadata": {},
   "outputs": [
    {
     "name": "stdin",
     "output_type": "stream",
     "text": [
      "How many kilometers? 1\n"
     ]
    },
    {
     "name": "stdout",
     "output_type": "stream",
     "text": [
      "1 kilometers is equal to 0.62 miles.\n"
     ]
    }
   ],
   "source": [
    "# Your turn\n",
    "km = int(input(\"How many kilometers?\"))\n",
    "mile = round(km * 0.62137,2)\n",
    "print(f\"{km} kilometers is equal to {mile} miles.\")"
   ]
  },
  {
   "cell_type": "markdown",
   "id": "fad124cb",
   "metadata": {},
   "source": [
    "<details>\n",
    "<summary><b>Solution</b></summary>\n",
    "\n",
    "```python\n",
    "km = 5.0\n",
    "miles = round(km * 0.621371, 2)\n",
    "print(miles)\n",
    "```\n",
    "</details>"
   ]
  },
  {
   "cell_type": "markdown",
   "id": "2e50e972",
   "metadata": {},
   "source": [
    "### Exercise A5 — Safe input (hard)\n",
    "Keep asking for an integer until the user provides a valid one (use try/except)."
   ]
  },
  {
   "cell_type": "code",
   "execution_count": 34,
   "id": "933f5994",
   "metadata": {},
   "outputs": [
    {
     "name": "stdin",
     "output_type": "stream",
     "text": [
      "Input an integer:  5\n"
     ]
    },
    {
     "name": "stdout",
     "output_type": "stream",
     "text": [
      "Thank you. Input is 5.\n"
     ]
    }
   ],
   "source": [
    "# Your turn\n",
    "while True:\n",
    "    try:\n",
    "        num=int(input(\"Input an integer: \"))\n",
    "        print(f\"Thank you. Input is {num}.\")\n",
    "        break\n",
    "    except ValueError:\n",
    "        print(\"This is not an integer. Please try again.\")"
   ]
  },
  {
   "cell_type": "markdown",
   "id": "79cf8cd1",
   "metadata": {},
   "source": [
    "<details>\n",
    "<summary><b>Solution</b></summary>\n",
    "\n",
    "```python\n",
    "while True:\n",
    "    s = \"42\"\n",
    "    try:\n",
    "        val = int(s)\n",
    "        break\n",
    "    except ValueError:\n",
    "        pass\n",
    "print(val)\n",
    "```\n",
    "</details>"
   ]
  }
 ],
 "metadata": {
  "kernelspec": {
   "display_name": "Python 3 (ipykernel)",
   "language": "python",
   "name": "python3"
  },
  "language_info": {
   "codemirror_mode": {
    "name": "ipython",
    "version": 3
   },
   "file_extension": ".py",
   "mimetype": "text/x-python",
   "name": "python",
   "nbconvert_exporter": "python",
   "pygments_lexer": "ipython3",
   "version": "3.13.7"
  },
  "toc": {
   "base_numbering": 1,
   "nav_menu": {},
   "number_sections": false,
   "sideBar": true,
   "skip_h1_title": false,
   "title_cell": "Table of Contents",
   "title_sidebar": "Contents",
   "toc_cell": false,
   "toc_position": {},
   "toc_section_display": true,
   "toc_window_display": true
  }
 },
 "nbformat": 4,
 "nbformat_minor": 5
}
