{
 "cells": [
  {
   "cell_type": "markdown",
   "id": "72b01e30",
   "metadata": {},
   "source": [
    "# Week 00 Deep Dive — Variables & Basic Types"
   ]
  },
  {
   "cell_type": "markdown",
   "id": "498c29a2",
   "metadata": {},
   "source": [
    "Understand naming, assignment, mutability, and type conversion."
   ]
  },
  {
   "cell_type": "markdown",
   "id": "21a19776",
   "metadata": {},
   "source": [
    "## 1. Naming & assignment"
   ]
  },
  {
   "cell_type": "code",
   "execution_count": 1,
   "id": "9df22377",
   "metadata": {},
   "outputs": [
    {
     "name": "stdout",
     "output_type": "stream",
     "text": [
      "Amir 32 3.14159 True\n"
     ]
    }
   ],
   "source": [
    "user_name = \"Amir\"; age = 32; pi = 3.14159; enrolled = True\n",
    "print(user_name, age, pi, enrolled)"
   ]
  },
  {
   "cell_type": "markdown",
   "id": "3401d1a8",
   "metadata": {},
   "source": [
    "### Exercise B1 — Bio line (easy)\n",
    "Create 4 variables (name, age, height_m, enrolled) and print one sentence."
   ]
  },
  {
   "cell_type": "code",
   "execution_count": 3,
   "id": "8f0ecb72",
   "metadata": {},
   "outputs": [
    {
     "name": "stdout",
     "output_type": "stream",
     "text": [
      "Olivia, 45, 1.55 m, enrolled: True\n"
     ]
    }
   ],
   "source": [
    "# Your turn\n",
    "name = \"Olivia\"; age = 45; height_m = 1.55; enrolled = True\n",
    "print(f\"{name}, {age}, {height_m} m, enrolled: {enrolled}\")"
   ]
  },
  {
   "cell_type": "markdown",
   "id": "4ff8b4d0",
   "metadata": {},
   "source": [
    "<details>\n",
    "<summary><b>Solution</b></summary>\n",
    "\n",
    "```python\n",
    "name=\"Amir\"; age=32; height=1.78; enrolled=True\n",
    "print(f\"{name} | {age} | {height}m | enrolled={enrolled}\")\n",
    "```\n",
    "</details>"
   ]
  },
  {
   "cell_type": "markdown",
   "id": "7707849e",
   "metadata": {},
   "source": [
    "## 2. Type checks & casting"
   ]
  },
  {
   "cell_type": "code",
   "execution_count": 4,
   "id": "2cf92af5",
   "metadata": {},
   "outputs": [
    {
     "name": "stdout",
     "output_type": "stream",
     "text": [
      "<class 'str'>\n",
      "<class 'int'> 4\n"
     ]
    }
   ],
   "source": [
    "x=\"3\"; print(type(x)); x=int(x); print(type(x), x+1)"
   ]
  },
  {
   "cell_type": "markdown",
   "id": "230f5d5d",
   "metadata": {},
   "source": [
    "### Exercise B2 — Robust cast (medium)\n",
    "Given `values=['3','5.2','hi','7']`, convert **only** numeric strings to floats; skip others."
   ]
  },
  {
   "cell_type": "code",
   "execution_count": 7,
   "id": "a4b186a3",
   "metadata": {},
   "outputs": [
    {
     "name": "stdout",
     "output_type": "stream",
     "text": [
      "[3.0, 5.2, 7.0]\n"
     ]
    }
   ],
   "source": [
    "# Your turn\n",
    "values=['3','5.2','hi','7']\n",
    "floats = []\n",
    "for v in values:\n",
    "    try:\n",
    "        floats.append(float(v))\n",
    "    except ValueError:\n",
    "        pass\n",
    "print(floats)"
   ]
  },
  {
   "cell_type": "markdown",
   "id": "d05d06cb",
   "metadata": {},
   "source": [
    "<details>\n",
    "<summary><b>Solution</b></summary>\n",
    "\n",
    "```python\n",
    "values=['3','5.2','hi','7']\n",
    "nums=[]\n",
    "for v in values:\n",
    "    try:\n",
    "        nums.append(float(v))\n",
    "    except ValueError:\n",
    "        pass\n",
    "print(nums)\n",
    "```\n",
    "</details>"
   ]
  },
  {
   "cell_type": "markdown",
   "id": "b7915e8e",
   "metadata": {},
   "source": [
    "## 3. Immutability vs mutability (concept)"
   ]
  },
  {
   "cell_type": "code",
   "execution_count": 8,
   "id": "bc893ab5",
   "metadata": {},
   "outputs": [
    {
     "name": "stdout",
     "output_type": "stream",
     "text": [
      "ints: 11 10\n",
      "lists: [1, 2, 3] [1, 2, 3]\n"
     ]
    }
   ],
   "source": [
    "a = 10\n",
    "b = a\n",
    "a = 11\n",
    "print(\"ints:\", a, b)\n",
    "L = [1,2]\n",
    "M = L\n",
    "L.append(3)\n",
    "print(\"lists:\", L, M)"
   ]
  },
  {
   "cell_type": "markdown",
   "id": "60aa67e3",
   "metadata": {},
   "source": [
    "### Exercise B3 — Swap (easy)\n",
    "Swap two variables using tuple unpacking."
   ]
  },
  {
   "cell_type": "code",
   "execution_count": 10,
   "id": "a4629edc",
   "metadata": {},
   "outputs": [
    {
     "name": "stdout",
     "output_type": "stream",
     "text": [
      "mean, median\n"
     ]
    }
   ],
   "source": [
    "# Your turn\n",
    "x,y = 'median', 'mean'\n",
    "x,y = y,x\n",
    "print(f\"{x}, {y}\")"
   ]
  },
  {
   "cell_type": "markdown",
   "id": "d165fb6f",
   "metadata": {},
   "source": [
    "<details>\n",
    "<summary><b>Solution</b></summary>\n",
    "\n",
    "```python\n",
    "a,b=1,2\n",
    "a,b=b,a\n",
    "print(a,b)\n",
    "```\n",
    "</details>"
   ]
  }
 ],
 "metadata": {
  "kernelspec": {
   "display_name": "Python 3 (ipykernel)",
   "language": "python",
   "name": "python3"
  },
  "language_info": {
   "codemirror_mode": {
    "name": "ipython",
    "version": 3
   },
   "file_extension": ".py",
   "mimetype": "text/x-python",
   "name": "python",
   "nbconvert_exporter": "python",
   "pygments_lexer": "ipython3",
   "version": "3.13.7"
  },
  "toc": {
   "base_numbering": 1,
   "nav_menu": {},
   "number_sections": false,
   "sideBar": true,
   "skip_h1_title": false,
   "title_cell": "Table of Contents",
   "title_sidebar": "Contents",
   "toc_cell": false,
   "toc_position": {},
   "toc_section_display": true,
   "toc_window_display": true
  }
 },
 "nbformat": 4,
 "nbformat_minor": 5
}
