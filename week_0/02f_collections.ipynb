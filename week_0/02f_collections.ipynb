{
 "cells": [
  {
   "cell_type": "markdown",
   "id": "ac1c4f8c",
   "metadata": {},
   "source": [
    "# Week 00 Deep Dive — Collections"
   ]
  },
  {
   "cell_type": "markdown",
   "id": "1084d588",
   "metadata": {},
   "source": [
    "Lists, tuples, sets, dicts — plus nested patterns."
   ]
  },
  {
   "cell_type": "markdown",
   "id": "aa519eb9",
   "metadata": {},
   "source": [
    "## 1. Lists & list-comprehensions"
   ]
  },
  {
   "cell_type": "code",
   "execution_count": 1,
   "id": "89b1f1ce",
   "metadata": {},
   "outputs": [
    {
     "name": "stdout",
     "output_type": "stream",
     "text": [
      "[1, 2, 3, 5] [1, 4, 9, 25]\n"
     ]
    }
   ],
   "source": [
    "nums=[3,1,2]; nums.append(5); nums.sort(); sq=[n*n for n in nums]; print(nums, sq)"
   ]
  },
  {
   "cell_type": "markdown",
   "id": "0e352859",
   "metadata": {},
   "source": [
    "### Exercise F1 — Unique sorted (easy)\n",
    "Remove duplicates and sort."
   ]
  },
  {
   "cell_type": "code",
   "execution_count": 27,
   "id": "1e202856",
   "metadata": {},
   "outputs": [
    {
     "name": "stdout",
     "output_type": "stream",
     "text": [
      "{1, 2, 3, 4, 5}\n"
     ]
    }
   ],
   "source": [
    "# Your turn\n",
    "import random \n",
    "x,y = 1,5\n",
    "n = 10\n",
    "random_list = [random.randint(x,y) for _ in range(n)]\n",
    "print(set(random_list))"
   ]
  },
  {
   "cell_type": "markdown",
   "id": "aabc84fb",
   "metadata": {},
   "source": [
    "<details>\n",
    "<summary><b>Solution</b></summary>\n",
    "\n",
    "```python\n",
    "data=[3,1,2,3,2,1]\n",
    "unique=sorted(set(data))\n",
    "print(unique)\n",
    "```\n",
    "</details>"
   ]
  },
  {
   "cell_type": "markdown",
   "id": "1f7888ff",
   "metadata": {},
   "source": [
    "## 2. Dicts & lookups"
   ]
  },
  {
   "cell_type": "code",
   "execution_count": 28,
   "id": "194077f0",
   "metadata": {},
   "outputs": [
    {
     "name": "stdout",
     "output_type": "stream",
     "text": [
      "2.5 0.0\n"
     ]
    }
   ],
   "source": [
    "prices={\"apple\":2.5,\"choc\":3.0}; print(prices.get(\"apple\"), prices.get(\"soda\", 0.0))"
   ]
  },
  {
   "cell_type": "markdown",
   "id": "b27afb89",
   "metadata": {},
   "source": [
    "### Exercise F2 — Frequency map (medium)\n",
    "Count character frequencies in a string."
   ]
  },
  {
   "cell_type": "code",
   "execution_count": 30,
   "id": "e7c1a3cb",
   "metadata": {},
   "outputs": [
    {
     "name": "stdout",
     "output_type": "stream",
     "text": [
      "{'a': 2, 'c': 2, 'u': 2, 'm': 2, 'l': 1, 't': 1, 'i': 1, 'o': 1, 'n': 1}\n"
     ]
    }
   ],
   "source": [
    "# Your turn\n",
    "sentence = 'accummulation'\n",
    "frequency = {}\n",
    "for i in sentence:\n",
    "    frequency[i]=frequency.get(i,0)+1\n",
    "print(frequency)\n"
   ]
  },
  {
   "cell_type": "markdown",
   "id": "76bd56d6",
   "metadata": {},
   "source": [
    "<details>\n",
    "<summary><b>Solution</b></summary>\n",
    "\n",
    "```python\n",
    "s=\"banana\"\n",
    "freq={}\n",
    "for ch in s:\n",
    "    freq[ch]=freq.get(ch,0)+1\n",
    "print(freq)\n",
    "```\n",
    "</details>"
   ]
  },
  {
   "cell_type": "markdown",
   "id": "13cd5712",
   "metadata": {},
   "source": [
    "### Exercise F3 — Nested structures (hard)\n",
    "Create a class roster as list-of-dicts and compute average age."
   ]
  },
  {
   "cell_type": "code",
   "execution_count": 41,
   "id": "173a7941",
   "metadata": {},
   "outputs": [
    {
     "data": {
      "text/plain": [
       "38.25"
      ]
     },
     "execution_count": 41,
     "metadata": {},
     "output_type": "execute_result"
    }
   ],
   "source": [
    "# Your turn\n",
    "class_roster = [{'name':'Julia','age':32,'city':'Brisbane','score':87},\n",
    "               {'name':'Albert','age':25,'city':'Perth','score':76},\n",
    "               {'name':'Lucy','age':50,'city':'Adelaide','score':94},\n",
    "               {'name':'Tom','age':46,'city':'Melbourne','score':68}]\n",
    "total_age = 0\n",
    "for a in class_roster:\n",
    "    total_age += a['age']\n",
    "average_age = total_age/len(class_roster)\n",
    "average_age"
   ]
  },
  {
   "cell_type": "code",
   "execution_count": 42,
   "id": "3570800c-b9ea-4222-ab4a-55cca2282c3b",
   "metadata": {},
   "outputs": [
    {
     "data": {
      "text/plain": [
       "81.25"
      ]
     },
     "execution_count": 42,
     "metadata": {},
     "output_type": "execute_result"
    }
   ],
   "source": [
    "# Your turn\n",
    "class_roster = [{'name':'Julia','age':32,'city':'Brisbane','score':87},\n",
    "               {'name':'Albert','age':25,'city':'Perth','score':76},\n",
    "               {'name':'Lucy','age':39,'city':'Adelaide','score':94},\n",
    "               {'name':'Tom','age':30,'city':'Melbourne','score':68}]\n",
    "total_score=0\n",
    "for a in class_roster:\n",
    "    total_score += a['score']\n",
    "average_score = total_score/len(class_roster)\n",
    "average_score"
   ]
  },
  {
   "cell_type": "markdown",
   "id": "042a381f",
   "metadata": {},
   "source": [
    "<details>\n",
    "<summary><b>Solution</b></summary>\n",
    "\n",
    "```python\n",
    "students=[{\"name\":\"Ali\",\"age\":22},{\"name\":\"Sara\",\"age\":24}]\n",
    "avg=sum(s[\"age\"] for s in students)/len(students)\n",
    "print(round(avg,2))\n",
    "```\n",
    "</details>"
   ]
  }
 ],
 "metadata": {
  "kernelspec": {
   "display_name": "Python 3 (ipykernel)",
   "language": "python",
   "name": "python3"
  },
  "language_info": {
   "codemirror_mode": {
    "name": "ipython",
    "version": 3
   },
   "file_extension": ".py",
   "mimetype": "text/x-python",
   "name": "python",
   "nbconvert_exporter": "python",
   "pygments_lexer": "ipython3",
   "version": "3.13.7"
  },
  "toc": {
   "base_numbering": 1,
   "nav_menu": {},
   "number_sections": false,
   "sideBar": true,
   "skip_h1_title": false,
   "title_cell": "Table of Contents",
   "title_sidebar": "Contents",
   "toc_cell": false,
   "toc_position": {},
   "toc_section_display": true,
   "toc_window_display": true
  }
 },
 "nbformat": 4,
 "nbformat_minor": 5
}
