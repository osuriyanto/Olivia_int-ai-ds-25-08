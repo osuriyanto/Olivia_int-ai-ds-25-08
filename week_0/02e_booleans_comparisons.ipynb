{
 "cells": [
  {
   "cell_type": "markdown",
   "id": "416387dd",
   "metadata": {},
   "source": [
    "# Week 00 Deep Dive — Booleans & Comparisons"
   ]
  },
  {
   "cell_type": "markdown",
   "id": "c7e2b54a",
   "metadata": {},
   "source": [
    "Truthiness, logical operators, and common guard clauses."
   ]
  },
  {
   "cell_type": "markdown",
   "id": "477c4e5c",
   "metadata": {},
   "source": [
    "## 1. Truthiness"
   ]
  },
  {
   "cell_type": "code",
   "execution_count": 1,
   "id": "58ecd923",
   "metadata": {},
   "outputs": [
    {
     "name": "stdout",
     "output_type": "stream",
     "text": [
      "0 is falsy\n",
      "1 is truthy\n",
      "[] is falsy\n",
      "[1] is truthy\n",
      " is falsy\n",
      "hi is truthy\n",
      "None is falsy\n"
     ]
    }
   ],
   "source": [
    "for v in [0,1,[],[1], \"\", \"hi\", None]:\n",
    "    if v:\n",
    "        print(v, \"is truthy\")\n",
    "    else:\n",
    "        print(v, \"is falsy\")"
   ]
  },
  {
   "cell_type": "markdown",
   "id": "3cf7f6c7",
   "metadata": {},
   "source": [
    "### Exercise E1 — Gatekeeper (easy)\n",
    "If password is `'opensesame'` print ✅ else ❌"
   ]
  },
  {
   "cell_type": "code",
   "execution_count": 7,
   "id": "c9465d94",
   "metadata": {},
   "outputs": [
    {
     "name": "stdin",
     "output_type": "stream",
     "text": [
      "input password: opensesame\n"
     ]
    },
    {
     "name": "stdout",
     "output_type": "stream",
     "text": [
      "✅\n"
     ]
    }
   ],
   "source": [
    "# Your turn\n",
    "password = input(\"input password:\")\n",
    "print(\"✅\") if password == 'opensesame' else print(\"❌\")"
   ]
  },
  {
   "cell_type": "markdown",
   "id": "1add8661",
   "metadata": {},
   "source": [
    "<details>\n",
    "<summary><b>Solution</b></summary>\n",
    "\n",
    "```python\n",
    "pwd=\"opensesame\"\n",
    "print(\"✅\" if pwd==\"opensesame\" else \"❌\")\n",
    "```\n",
    "</details>"
   ]
  },
  {
   "cell_type": "markdown",
   "id": "eec8c3de",
   "metadata": {},
   "source": [
    "### Exercise E2 — Range check (medium)\n",
    "Ask for a score 0..100, classify A/B/C/D/F."
   ]
  },
  {
   "cell_type": "code",
   "execution_count": 85,
   "id": "e07cbd9f",
   "metadata": {},
   "outputs": [
    {
     "name": "stdin",
     "output_type": "stream",
     "text": [
      "Input score: 65\n",
      "Max score: 100\n",
      "Score bin (press Enter to skip): 15\n"
     ]
    },
    {
     "name": "stdout",
     "output_type": "stream",
     "text": [
      "Your score: C\n"
     ]
    }
   ],
   "source": [
    "# Your turn\n",
    "input_score=float(input(\"Input score:\"))\n",
    "max_score = int(input(\"Max score:\"))\n",
    "score_group =['A','B','C','D','F']\n",
    "score_range = range(0,max_score)\n",
    "input_bin=int(value) if (value := input(\"Score bin (press Enter to skip):\")) else None\n",
    "bin_width = int(len(score_range)/len(score_group)) if (input_bin is None) else input_bin\n",
    "\n",
    "if input_score >= (max_score-bin_width):\n",
    "    score_group = score_group[0]\n",
    "    score_bin1 = max_score - bin_width\n",
    "elif input_score >= (score_bin1 - bin_width):\n",
    "    score_group = score_group[1]\n",
    "    score_bin2 = score_bin1 - bin_width\n",
    "elif input_score >= (score_bin2 - bin_width):\n",
    "    score_group = score_group[2]\n",
    "    score_bin3 = score_bin2 - bin_width\n",
    "elif input_score >= (score_bin3 - bin_width):\n",
    "    score_group = score_group[3]\n",
    "    score_bin4 = score_bin3 - bin_width\n",
    "else:\n",
    "    score_group = score_group[4]\n",
    "\n",
    "print(f\"Your score: {score_group}\")"
   ]
  },
  {
   "cell_type": "code",
   "execution_count": 86,
   "id": "e9dcb036-4e6e-4ec2-a097-b989243c9af4",
   "metadata": {},
   "outputs": [
    {
     "name": "stdin",
     "output_type": "stream",
     "text": [
      "Input score: 65\n",
      "Max score: 100\n",
      "Score bin (press Enter to skip): 15\n"
     ]
    },
    {
     "name": "stdout",
     "output_type": "stream",
     "text": [
      "Your score: C\n"
     ]
    }
   ],
   "source": [
    "# Option 2\n",
    "input_score=float(input(\"Input score:\"))\n",
    "max_score = int(input(\"Max score:\"))\n",
    "score_group =['A','B','C','D','F']\n",
    "\n",
    "input_bin=int(value) if (value := input(\"Score bin (press Enter to skip):\")) else None\n",
    "bin_width = float(max_score/len(score_group)) if (input_bin is None) else input_bin\n",
    "\n",
    "score=score_group[-1]\n",
    "for i,x in enumerate(score_group):\n",
    "    score_lower = max(0,max_score - bin_width*(i+1))\n",
    "    if input_score >= score_lower:\n",
    "        score = x\n",
    "        break\n",
    "        \n",
    "print(f\"Your score: {score}\")"
   ]
  },
  {
   "cell_type": "markdown",
   "id": "a5a95f85",
   "metadata": {},
   "source": [
    "<details>\n",
    "<summary><b>Solution</b></summary>\n",
    "\n",
    "```python\n",
    "score=87\n",
    "if score>=85: g=\"A\"\n",
    "elif score>=75: g=\"B\"\n",
    "elif score>=65: g=\"C\"\n",
    "elif score>=50: g=\"D\"\n",
    "else: g=\"F\"\n",
    "print(g)\n",
    "```\n",
    "</details>"
   ]
  },
  {
   "cell_type": "markdown",
   "id": "f19e3bb5",
   "metadata": {},
   "source": [
    "### Exercise E3 — Complex condition (hard)\n",
    "Given `age`, `has_id`, `with_parent`, determine if entry allowed."
   ]
  },
  {
   "cell_type": "code",
   "execution_count": 92,
   "id": "e4b0860c",
   "metadata": {},
   "outputs": [
    {
     "name": "stdin",
     "output_type": "stream",
     "text": [
      "What is your age? 16\n",
      "Do you have ID, Y/N: y\n",
      "Are you with your parent(s), Y/N: n\n"
     ]
    },
    {
     "name": "stdout",
     "output_type": "stream",
     "text": [
      "Not allowed!!!\n"
     ]
    }
   ],
   "source": [
    "# Your turn\n",
    "age = int(input(\"What is your age?\"))\n",
    "\n",
    "map = {\"Y\":True,\"N\":False}\n",
    "\n",
    "has_id = input(\"Do you have ID, Y/N:\").upper()\n",
    "id_flag = map.get(has_id)\n",
    "\n",
    "with_parent = input(\"Are you with your parent(s), Y/N:\").upper()\n",
    "parent_flag = map.get(with_parent)\n",
    "\n",
    "if (age>=18 and id_flag) or (parent_flag and age>=10):\n",
    "    print(\"Allowed...\")\n",
    "else:\n",
    "    print(\"Not allowed!!!\")\n"
   ]
  },
  {
   "cell_type": "markdown",
   "id": "5d4cd759",
   "metadata": {},
   "source": [
    "<details>\n",
    "<summary><b>Solution</b></summary>\n",
    "\n",
    "```python\n",
    "age=16; has_id=False; with_parent=True\n",
    "allowed = (age>=18 and has_id) or (with_parent and age>=15)\n",
    "print(allowed)\n",
    "```\n",
    "</details>"
   ]
  }
 ],
 "metadata": {
  "kernelspec": {
   "display_name": "Python 3 (ipykernel)",
   "language": "python",
   "name": "python3"
  },
  "language_info": {
   "codemirror_mode": {
    "name": "ipython",
    "version": 3
   },
   "file_extension": ".py",
   "mimetype": "text/x-python",
   "name": "python",
   "nbconvert_exporter": "python",
   "pygments_lexer": "ipython3",
   "version": "3.13.7"
  },
  "toc": {
   "base_numbering": 1,
   "nav_menu": {},
   "number_sections": false,
   "sideBar": true,
   "skip_h1_title": false,
   "title_cell": "Table of Contents",
   "title_sidebar": "Contents",
   "toc_cell": false,
   "toc_position": {},
   "toc_section_display": true,
   "toc_window_display": true
  }
 },
 "nbformat": 4,
 "nbformat_minor": 5
}
