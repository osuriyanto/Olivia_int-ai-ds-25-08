{
 "cells": [
  {
   "cell_type": "markdown",
   "id": "44f89912",
   "metadata": {},
   "source": [
    "# Week 00 Deep Dive — Strings"
   ]
  },
  {
   "cell_type": "markdown",
   "id": "d20788f3",
   "metadata": {},
   "source": [
    "Slicing, methods, formatting, and common patterns."
   ]
  },
  {
   "cell_type": "markdown",
   "id": "a67a2e57",
   "metadata": {},
   "source": [
    "## 1. Methods & formatting"
   ]
  },
  {
   "cell_type": "code",
   "execution_count": 1,
   "id": "6453d2da",
   "metadata": {},
   "outputs": [
    {
     "name": "stdout",
     "output_type": "stream",
     "text": [
      "data science\n",
      "AI | DS | ML\n",
      "Hello Amir\n"
     ]
    }
   ],
   "source": [
    "s=\"  Data Science  \"\n",
    "print(s.strip().lower())\n",
    "print(\" | \".join([\"AI\",\"DS\",\"ML\"]))\n",
    "name=\"Amir\"; print(f\"Hello {name}\")"
   ]
  },
  {
   "cell_type": "markdown",
   "id": "5096b7d1",
   "metadata": {},
   "source": [
    "### Exercise C1 — Snake case (easy)\n",
    "Normalize names to snake_case."
   ]
  },
  {
   "cell_type": "code",
   "execution_count": 2,
   "id": "819c8585",
   "metadata": {},
   "outputs": [
    {
     "name": "stdout",
     "output_type": "stream",
     "text": [
      "snake case\n"
     ]
    }
   ],
   "source": [
    "# Your turn\n",
    "names = 'snake_case'\n",
    "revised_names = names.replace(\"_\",\" \")\n",
    "print(revised_names)"
   ]
  },
  {
   "cell_type": "markdown",
   "id": "8e68e64e",
   "metadata": {},
   "source": [
    "<details>\n",
    "<summary><b>Solution</b></summary>\n",
    "\n",
    "```python\n",
    "raw=\"  Hello World  \"\n",
    "clean=raw.strip().lower().replace(\" \",\"_\")\n",
    "print(clean)\n",
    "```\n",
    "</details>"
   ]
  },
  {
   "cell_type": "markdown",
   "id": "8e194859",
   "metadata": {},
   "source": [
    "## 2. Slicing & searching"
   ]
  },
  {
   "cell_type": "code",
   "execution_count": 3,
   "id": "74adfdcc",
   "metadata": {},
   "outputs": [
    {
     "name": "stdout",
     "output_type": "stream",
     "text": [
      "data nce dtsine True\n"
     ]
    }
   ],
   "source": [
    "t=\"datascience\"\n",
    "print(t[:4], t[-3:], t[::2], \"sci\" in t)"
   ]
  },
  {
   "cell_type": "markdown",
   "id": "7f3ebed3",
   "metadata": {},
   "source": [
    "### Exercise C2 — Redact emails (medium)\n",
    "Given `'sam@example.com'`, print `'s***@example.com'`."
   ]
  },
  {
   "cell_type": "code",
   "execution_count": 15,
   "id": "e6d84cbd",
   "metadata": {},
   "outputs": [
    {
     "name": "stdout",
     "output_type": "stream",
     "text": [
      "s**@example.com\n"
     ]
    }
   ],
   "source": [
    "# Your turn\n",
    "original = 'sam@example.com'\n",
    "local,domain = original.split(\"@\")\n",
    "redacted = original[0] + \"*\"*(len(local)-1)\n",
    "print(f\"{redacted}@{domain}\")"
   ]
  },
  {
   "cell_type": "markdown",
   "id": "f77468e9",
   "metadata": {},
   "source": [
    "<details>\n",
    "<summary><b>Solution</b></summary>\n",
    "\n",
    "```python\n",
    "email=\"sam@example.com\"\n",
    "local,domain=email.split(\"@\")\n",
    "red = local[0] + \"*\"*(len(local)-1)\n",
    "print(f\"{red}@{domain}\")\n",
    "```\n",
    "</details>"
   ]
  },
  {
   "cell_type": "markdown",
   "id": "5ca279b5",
   "metadata": {},
   "source": [
    "### Exercise C3 — Title case with exceptions (hard)\n",
    "Title-case a sentence but keep small words (`and, or, the, of`) lowercase."
   ]
  },
  {
   "cell_type": "code",
   "execution_count": 32,
   "id": "94774de0",
   "metadata": {},
   "outputs": [
    {
     "name": "stdout",
     "output_type": "stream",
     "text": [
      "The Chef is Making the Show of the Knife Skills\n"
     ]
    }
   ],
   "source": [
    "# Your turn\n",
    "sentence = \"the chef is making the show of the knife skills\"\n",
    "words = sentence.split()\n",
    "lower_case= {'and','is','the','of'}\n",
    "revised_sentence = []\n",
    "\n",
    "for i,w in enumerate(words):\n",
    "    if i == 0:\n",
    "        revised_sentence.append(w.capitalize())  # capitalize any first word\n",
    "    elif w in lower_case:\n",
    "        revised_sentence.append(w.lower()) # lower case for the small words\n",
    "    else:\n",
    "        revised_sentence.append(w.capitalize()) # capitalize the rest of the words\n",
    "\n",
    "result =  \" \".join(revised_sentence)\n",
    "print(result)\n",
    "        "
   ]
  },
  {
   "cell_type": "code",
   "execution_count": 37,
   "id": "e77cec71-6f99-4b79-8455-d5bac8be6b17",
   "metadata": {},
   "outputs": [
    {
     "name": "stdout",
     "output_type": "stream",
     "text": [
      "The Chef is Making the Show of the Knife Skills\n"
     ]
    }
   ],
   "source": [
    "#option 2\n",
    "sentence = \"the chef is making the show of the knife skills\"\n",
    "words = sentence.split()\n",
    "lower_case= {'and','is','the','of'}\n",
    "revised_words=[w if w in lower_case else w.capitalize() for w in words]\n",
    "revised_words[0]=revised_words[0].capitalize()\n",
    "print(\" \".join(revised_words))"
   ]
  },
  {
   "cell_type": "markdown",
   "id": "e7f158ad",
   "metadata": {},
   "source": [
    "<details>\n",
    "<summary><b>Solution</b></summary>\n",
    "\n",
    "```python\n",
    "s=\"the lord of the rings and the hobbit\"\n",
    "small={\"and\",\"or\",\"the\",\"of\"}\n",
    "words=s.split()\n",
    "cap=[w if w in small else w.capitalize() for w in words]\n",
    "cap[0]=cap[0].capitalize()\n",
    "print(\" \".join(cap))\n",
    "```\n",
    "</details>"
   ]
  }
 ],
 "metadata": {
  "kernelspec": {
   "display_name": "Python 3 (ipykernel)",
   "language": "python",
   "name": "python3"
  },
  "language_info": {
   "codemirror_mode": {
    "name": "ipython",
    "version": 3
   },
   "file_extension": ".py",
   "mimetype": "text/x-python",
   "name": "python",
   "nbconvert_exporter": "python",
   "pygments_lexer": "ipython3",
   "version": "3.13.7"
  },
  "toc": {
   "base_numbering": 1,
   "nav_menu": {},
   "number_sections": false,
   "sideBar": true,
   "skip_h1_title": false,
   "title_cell": "Table of Contents",
   "title_sidebar": "Contents",
   "toc_cell": false,
   "toc_position": {},
   "toc_section_display": true,
   "toc_window_display": true
  }
 },
 "nbformat": 4,
 "nbformat_minor": 5
}
