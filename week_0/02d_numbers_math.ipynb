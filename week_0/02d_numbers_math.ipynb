{
 "cells": [
  {
   "cell_type": "markdown",
   "id": "05d98015",
   "metadata": {},
   "source": [
    "# Week 00 Deep Dive — Numbers & Math"
   ]
  },
  {
   "cell_type": "markdown",
   "id": "c320d451",
   "metadata": {},
   "source": [
    "Operators, rounding, randomness, and small numeric patterns."
   ]
  },
  {
   "cell_type": "markdown",
   "id": "622b8f23",
   "metadata": {},
   "source": [
    "## 1. Operators & precedence"
   ]
  },
  {
   "cell_type": "code",
   "execution_count": 1,
   "id": "37c8becd",
   "metadata": {},
   "outputs": [
    {
     "name": "stdout",
     "output_type": "stream",
     "text": [
      "14 20 2 1 1024\n"
     ]
    }
   ],
   "source": [
    "print(2+3*4, (2+3)*4, 7//3, 7%3, 2**10)"
   ]
  },
  {
   "cell_type": "markdown",
   "id": "87e852e9",
   "metadata": {},
   "source": [
    "### Exercise D1 — Tip splitter (easy)\n",
    "Compute each person's share with a tip percentage."
   ]
  },
  {
   "cell_type": "code",
   "execution_count": 17,
   "id": "46ab8791",
   "metadata": {},
   "outputs": [
    {
     "name": "stdout",
     "output_type": "stream",
     "text": [
      "share per person : 50.9\n"
     ]
    }
   ],
   "source": [
    "# Your turn\n",
    "bill = 1527 ; tip = 10; n = 3\n",
    "total_tip = bill * tip / 100\n",
    "print(f\"share per person : {round(total_tip/n,2)}\")"
   ]
  },
  {
   "cell_type": "markdown",
   "id": "28abae84",
   "metadata": {},
   "source": [
    "<details>\n",
    "<summary><b>Solution</b></summary>\n",
    "\n",
    "```python\n",
    "bill=50; tip=10; n=3\n",
    "total=bill*(1+tip/100)\n",
    "print(round(total/n,2))\n",
    "```\n",
    "</details>"
   ]
  },
  {
   "cell_type": "markdown",
   "id": "3c5d35cf",
   "metadata": {},
   "source": [
    "## 2. Rounding & formatting"
   ]
  },
  {
   "cell_type": "code",
   "execution_count": 13,
   "id": "f652b6b3",
   "metadata": {},
   "outputs": [
    {
     "name": "stdout",
     "output_type": "stream",
     "text": [
      "3.142 3.142\n"
     ]
    }
   ],
   "source": [
    "x=3.1415926\n",
    "print(round(x,3), f\"{x:.3f}\")"
   ]
  },
  {
   "cell_type": "markdown",
   "id": "ac06d5a1",
   "metadata": {},
   "source": [
    "### Exercise D2 — CAGR (medium)\n",
    "Given start=100, end=135, years=3, compute CAGR."
   ]
  },
  {
   "cell_type": "code",
   "execution_count": 23,
   "id": "ecae469f",
   "metadata": {},
   "outputs": [
    {
     "name": "stdout",
     "output_type": "stream",
     "text": [
      "0.1052\n"
     ]
    }
   ],
   "source": [
    "# Your turn\n",
    "start = 100\n",
    "end = 135\n",
    "n = 3\n",
    "CAGR = (end/start)**(1/n) - 1\n",
    "print(f\"{CAGR:.4f}\")"
   ]
  },
  {
   "cell_type": "markdown",
   "id": "841fcc94",
   "metadata": {},
   "source": [
    "<details>\n",
    "<summary><b>Solution</b></summary>\n",
    "\n",
    "```python\n",
    "start=100; end=135; years=3\n",
    "cagr=(end/start)**(1/years)-1\n",
    "print(round(cagr,4))\n",
    "```\n",
    "</details>"
   ]
  },
  {
   "cell_type": "markdown",
   "id": "88c3666d",
   "metadata": {},
   "source": [
    "### Exercise D3 — Random dice (hard)\n",
    "Simulate rolling two dice 10,000 times and estimate the probability of sum==7."
   ]
  },
  {
   "cell_type": "code",
   "execution_count": 33,
   "id": "407ada02",
   "metadata": {},
   "outputs": [
    {
     "name": "stdout",
     "output_type": "stream",
     "text": [
      "0.1621\n"
     ]
    }
   ],
   "source": [
    "# Your turn\n",
    "import random\n",
    "n=10000\n",
    "count = 0\n",
    "for _ in range(n):\n",
    "    if random.randint(1,6) + random.randint(1,6) == 7:\n",
    "        count +=1\n",
    "print(count/n)"
   ]
  },
  {
   "cell_type": "code",
   "execution_count": 43,
   "id": "b4cef88e-840d-4e81-8caa-53bd27ee8783",
   "metadata": {},
   "outputs": [
    {
     "name": "stdin",
     "output_type": "stream",
     "text": [
      "How many rolls? 20000\n"
     ]
    },
    {
     "name": "stdout",
     "output_type": "stream",
     "text": [
      "Rolling dices for 20000 times have the probability of 16.76% to obtain the sum of 7.\n"
     ]
    }
   ],
   "source": [
    "# option 2\n",
    "n2 = int(input(\"How many rolls?\"))\n",
    "count2 = 0\n",
    "for _ in range(n2):\n",
    "    if random.randint(1,6) + random.randint(1,6) == 7:\n",
    "        count2 += 1\n",
    "print(f\"Rolling dices for {n2} times have the probability of {round(count2/n2*100,2)}% to obtain the sum of 7.\")"
   ]
  },
  {
   "cell_type": "markdown",
   "id": "433c38cb",
   "metadata": {},
   "source": [
    "<details>\n",
    "<summary><b>Solution</b></summary>\n",
    "\n",
    "```python\n",
    "import random\n",
    "n=10000\n",
    "hits=0\n",
    "for _ in range(n):\n",
    "    s = random.randint(1,6)+random.randint(1,6)\n",
    "    if s==7: hits+=1\n",
    "print(hits/n)\n",
    "```\n",
    "</details>"
   ]
  }
 ],
 "metadata": {
  "kernelspec": {
   "display_name": "Python 3 (ipykernel)",
   "language": "python",
   "name": "python3"
  },
  "language_info": {
   "codemirror_mode": {
    "name": "ipython",
    "version": 3
   },
   "file_extension": ".py",
   "mimetype": "text/x-python",
   "name": "python",
   "nbconvert_exporter": "python",
   "pygments_lexer": "ipython3",
   "version": "3.13.7"
  },
  "toc": {
   "base_numbering": 1,
   "nav_menu": {},
   "number_sections": false,
   "sideBar": true,
   "skip_h1_title": false,
   "title_cell": "Table of Contents",
   "title_sidebar": "Contents",
   "toc_cell": false,
   "toc_position": {},
   "toc_section_display": true,
   "toc_window_display": true
  }
 },
 "nbformat": 4,
 "nbformat_minor": 5
}
