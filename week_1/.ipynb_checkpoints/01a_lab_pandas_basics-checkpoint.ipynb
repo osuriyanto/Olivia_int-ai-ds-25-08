{
 "cells": [
  {
   "cell_type": "markdown",
   "id": "0084ac83",
   "metadata": {},
   "source": [
    "# **AI TECH INSTITUTE** · *Intermediate AI & Data Science*\n",
    "### Week 01 · Lab 01A — Pandas Basics\n",
    "**Instructor:** Amir Charkhi  |  **Duration:** 45 minutes  |  **Difficulty:** ⭐⭐☆☆☆\n",
    "\n",
    "> **Goal:** Master Series and basic DataFrame operations through hands-on exercises.\n"
   ]
  },
  {
   "cell_type": "markdown",
   "id": "09ab385f",
   "metadata": {},
   "source": [
    "## Learning Objectives\n",
    "- Create and manipulate pandas Series\n",
    "- Build DataFrames from various sources\n",
    "- Perform basic selections and filtering\n",
    "- Apply simple transformations"
   ]
  },
  {
   "cell_type": "markdown",
   "id": "47ed1ac6",
   "metadata": {},
   "source": [
    "## Setup\n",
    "Run this cell first to import libraries and set up your environment."
   ]
  },
  {
   "cell_type": "code",
   "execution_count": 3,
   "id": "6a16aadc",
   "metadata": {},
   "outputs": [
    {
     "name": "stdout",
     "output_type": "stream",
     "text": [
      "🐼 Pandas version: 2.3.2\n",
      "Ready to start!\n"
     ]
    }
   ],
   "source": [
    "import pandas as pd\n",
    "import numpy as np\n",
    "\n",
    "# Display settings\n",
    "pd.set_option('display.max_rows', 10)\n",
    "pd.set_option('display.max_columns', None)\n",
    "\n",
    "print(\"🐼 Pandas version:\", pd.__version__)\n",
    "print(\"Ready to start!\")"
   ]
  },
  {
   "cell_type": "markdown",
   "id": "ed8ecef6",
   "metadata": {},
   "source": [
    "## Part 1: Series Fundamentals (15 minutes)\n",
    "Series are the building blocks of pandas - like enhanced Python lists."
   ]
  },
  {
   "cell_type": "markdown",
   "id": "9d9b16f5",
   "metadata": {},
   "source": [
    "### Exercise 1.1 — Temperature Tracker (easy)\n",
    "Create a Series of daily temperatures for a week and perform basic analysis."
   ]
  },
  {
   "cell_type": "code",
   "execution_count": 5,
   "id": "de95fc13",
   "metadata": {},
   "outputs": [
    {
     "name": "stdout",
     "output_type": "stream",
     "text": [
      "Hottest day: Sat at 25.5 degC.\n",
      "\n",
      "Days above 23 degC:\n",
      "Tue    23.1\n",
      "Thu    24.2\n",
      "Sat    25.5\n",
      "dtype: float64\n",
      "\n",
      "Average temperature for the week: 23 degC.\n"
     ]
    }
   ],
   "source": [
    "# TODO: Create a Series with these temperatures: [22.5, 23.1, 21.8, 24.2, 22.9, 25.5, 20.3]\n",
    "# Use days of the week as the index\n",
    "# Your code here:\n",
    "temperatures = [22.5, 23.1, 21.8, 24.2, 22.9, 25.5, 20.3]\n",
    "labels = ['Mon','Tue','Wed','Thu','Fri','Sat','Sun']\n",
    "temp_pd = pd.Series(temperatures, index=labels)\n",
    "\n",
    "# TODO: Find and print:\n",
    "# 1. The hottest day and temperature\n",
    "# 2. Days above 23 degrees\n",
    "# 3. Average temperature for the week\n",
    "# Your code here:\n",
    "print(f\"Hottest day: {temp_pd.idxmax()} at {temp_pd.max()} degC.\")\n",
    "print(f\"\\nDays above 23 degC:\\n{temp_pd[temp_pd>23]}\")\n",
    "print(f\"\\nAverage temperature for the week: {round(temp_pd.mean())} degC.\")"
   ]
  },
  {
   "cell_type": "markdown",
   "id": "3ab97775",
   "metadata": {},
   "source": [
    "<details>\n",
    "<summary><b>Hint</b></summary>\n",
    "\n",
    "- Use `pd.Series(data, index=labels)` to create the Series\n",
    "- `.idxmax()` returns the index of the maximum value\n",
    "- Boolean indexing: `series[series > value]`\n",
    "</details>"
   ]
  },
  {
   "cell_type": "markdown",
   "id": "1936fd22",
   "metadata": {},
   "source": [
    "### Exercise 1.2 — Stock Portfolio (medium)\n",
    "Track stock prices and calculate portfolio value."
   ]
  },
  {
   "cell_type": "code",
   "execution_count": 10,
   "id": "4ef71b9c",
   "metadata": {},
   "outputs": [
    {
     "name": "stdout",
     "output_type": "stream",
     "text": [
      "Portfolio\n",
      "AAPL      8775.00\n",
      "GOOGL     4284.00\n",
      "MSFT     16208.00\n",
      "AMZN      4458.75\n",
      "dtype: float64\n",
      "\n",
      "Total Portfolio: 33725.75\n",
      "\n",
      "Portfolio Percentage\n",
      "AAPL     26.02\n",
      "GOOGL    12.70\n",
      "MSFT     48.06\n",
      "AMZN     13.22\n",
      "dtype: float64\n"
     ]
    }
   ],
   "source": [
    "# Given data\n",
    "stocks = {'AAPL': 175.50, 'GOOGL': 142.80, 'MSFT': 405.20, 'AMZN': 178.35}\n",
    "shares = {'AAPL': 50, 'GOOGL': 30, 'MSFT': 40, 'AMZN': 25}\n",
    "\n",
    "# TODO: Create Series for stocks and shares\n",
    "# Your code here:\n",
    "stocks_pd = pd.Series(stocks)\n",
    "shares_pd = pd.Series(shares)\n",
    "\n",
    "# TODO: Calculate:\n",
    "# 1. Portfolio value for each stock (price * shares)\n",
    "# 2. Total portfolio value\n",
    "# 3. Percentage allocation of each stock\n",
    "# Your code here:\n",
    "portfolio = stocks_pd * shares_pd\n",
    "total_portfolio = portfolio.sum()\n",
    "portfolio_percentage = round(portfolio/total_portfolio*100,2)\n",
    "\n",
    "print(f\"Portfolio\\n{portfolio}\")\n",
    "print(f\"\\nTotal Portfolio: {total_portfolio}\")\n",
    "print(f\"\\nPortfolio Percentage\\n{portfolio_percentage}\")"
   ]
  },
  {
   "cell_type": "markdown",
   "id": "1c380357",
   "metadata": {},
   "source": [
    "### Exercise 1.3 — Sales Growth Analysis (medium)\n",
    "Analyze month-over-month sales growth."
   ]
  },
  {
   "cell_type": "code",
   "execution_count": 11,
   "id": "e2c66958",
   "metadata": {},
   "outputs": [
    {
     "name": "stdout",
     "output_type": "stream",
     "text": [
      "Monthly growth rate, %\n",
      "Feb: 6.67\n",
      "Mar: 8.33\n",
      "Apr: -5.77\n",
      "May: 12.24\n",
      "Jun: 5.45\n",
      "\n",
      "Best growth month: May at 12.24 %\n",
      "Worst growth month: Apr at -5.77 %\n",
      "Average growth rate: 5.39 %\n"
     ]
    },
    {
     "name": "stderr",
     "output_type": "stream",
     "text": [
      "C:\\Users\\Olivia\\AppData\\Local\\Temp\\ipykernel_5656\\3071277388.py:15: FutureWarning: Series.__getitem__ treating keys as positions is deprecated. In a future version, integer keys will always be treated as labels (consistent with DataFrame behavior). To access a value by position, use `ser.iloc[pos]`\n",
      "  growth = (sales_pd[i]-sales_pd[i-1])/sales_pd[i-1]*100\n"
     ]
    }
   ],
   "source": [
    "# Monthly sales data\n",
    "months = ['Jan', 'Feb', 'Mar', 'Apr', 'May', 'Jun']\n",
    "sales = [45000, 48000, 52000, 49000, 55000, 58000]\n",
    "\n",
    "# TODO: Create a Series and calculate:\n",
    "# 1. Month-over-month growth rate (percentage)\n",
    "# 2. Best and worst growth months\n",
    "# 3. Average monthly growth rate\n",
    "# Your code here:\n",
    "\n",
    "sales_pd = pd.Series(sales, index=months)\n",
    "\n",
    "growth_rate=[]\n",
    "for i in range(1,len(sales_pd)):\n",
    "    growth = (sales_pd[i]-sales_pd[i-1])/sales_pd[i-1]*100\n",
    "    growth_rate.append(growth)\n",
    "growth_rate_pd = pd.Series(growth_rate,index=months[1:])\n",
    "\n",
    "print(\"Monthly growth rate, %\")\n",
    "for m,g in zip(months[1:],growth_rate_pd):\n",
    "    print(f\"{m}: {g:.2f}\")\n",
    "\n",
    "print(f\"\\nBest growth month: {growth_rate_pd.idxmax()} at {growth_rate_pd.max():.2f} %\")\n",
    "print(f\"Worst growth month: {growth_rate_pd.idxmin()} at {growth_rate_pd.min():.2f} %\")\n",
    "print(f\"Average growth rate: {growth_rate_pd.mean():.2f} %\")"
   ]
  },
  {
   "cell_type": "markdown",
   "id": "90bc80cd",
   "metadata": {},
   "source": [
    "## Part 2: DataFrame Creation & Basic Operations (15 minutes)"
   ]
  },
  {
   "cell_type": "markdown",
   "id": "8bb01191",
   "metadata": {},
   "source": [
    "### Exercise 2.1 — Student Records (easy)\n",
    "Create and explore a student database."
   ]
  },
  {
   "cell_type": "code",
   "execution_count": 29,
   "id": "71f6f321",
   "metadata": {},
   "outputs": [],
   "source": [
    "# Student data\n",
    "data = {\n",
    "    'name': ['Alice', 'Bob', 'Charlie', 'Diana', 'Eve'],\n",
    "    'age': [22, 24, 23, 22, 25],\n",
    "    'major': ['CS', 'Math', 'CS', 'Physics', 'Math'],\n",
    "    'gpa': [3.8, 3.5, 3.9, 3.7, 3.6],\n",
    "    'credits': [120, 115, 125, 118, 122]\n",
    "}"
   ]
  },
  {
   "cell_type": "code",
   "execution_count": 30,
   "id": "2480f21c-45f9-4b23-9702-e0e4a3ddcff5",
   "metadata": {},
   "outputs": [
    {
     "data": {
      "text/html": [
       "<div>\n",
       "<style scoped>\n",
       "    .dataframe tbody tr th:only-of-type {\n",
       "        vertical-align: middle;\n",
       "    }\n",
       "\n",
       "    .dataframe tbody tr th {\n",
       "        vertical-align: top;\n",
       "    }\n",
       "\n",
       "    .dataframe thead th {\n",
       "        text-align: right;\n",
       "    }\n",
       "</style>\n",
       "<table border=\"1\" class=\"dataframe\">\n",
       "  <thead>\n",
       "    <tr style=\"text-align: right;\">\n",
       "      <th></th>\n",
       "      <th>name</th>\n",
       "      <th>age</th>\n",
       "      <th>major</th>\n",
       "      <th>gpa</th>\n",
       "      <th>credits</th>\n",
       "    </tr>\n",
       "  </thead>\n",
       "  <tbody>\n",
       "    <tr>\n",
       "      <th>0</th>\n",
       "      <td>Alice</td>\n",
       "      <td>22</td>\n",
       "      <td>CS</td>\n",
       "      <td>3.8</td>\n",
       "      <td>120</td>\n",
       "    </tr>\n",
       "    <tr>\n",
       "      <th>1</th>\n",
       "      <td>Bob</td>\n",
       "      <td>24</td>\n",
       "      <td>Math</td>\n",
       "      <td>3.5</td>\n",
       "      <td>115</td>\n",
       "    </tr>\n",
       "    <tr>\n",
       "      <th>2</th>\n",
       "      <td>Charlie</td>\n",
       "      <td>23</td>\n",
       "      <td>CS</td>\n",
       "      <td>3.9</td>\n",
       "      <td>125</td>\n",
       "    </tr>\n",
       "  </tbody>\n",
       "</table>\n",
       "</div>"
      ],
      "text/plain": [
       "      name  age major  gpa  credits\n",
       "0    Alice   22    CS  3.8      120\n",
       "1      Bob   24  Math  3.5      115\n",
       "2  Charlie   23    CS  3.9      125"
      ]
     },
     "execution_count": 30,
     "metadata": {},
     "output_type": "execute_result"
    }
   ],
   "source": [
    "# TODO: Create DataFrame and:\n",
    "# 1. Display first 3 rows\n",
    "df_student = pd.DataFrame(data)\n",
    "df_student.head(3)"
   ]
  },
  {
   "cell_type": "code",
   "execution_count": 31,
   "id": "fa69aa50-66f6-450b-b6f0-cd1549a22a0f",
   "metadata": {},
   "outputs": [
    {
     "data": {
      "text/html": [
       "<div>\n",
       "<style scoped>\n",
       "    .dataframe tbody tr th:only-of-type {\n",
       "        vertical-align: middle;\n",
       "    }\n",
       "\n",
       "    .dataframe tbody tr th {\n",
       "        vertical-align: top;\n",
       "    }\n",
       "\n",
       "    .dataframe thead th {\n",
       "        text-align: right;\n",
       "    }\n",
       "</style>\n",
       "<table border=\"1\" class=\"dataframe\">\n",
       "  <thead>\n",
       "    <tr style=\"text-align: right;\">\n",
       "      <th></th>\n",
       "      <th>name</th>\n",
       "      <th>age</th>\n",
       "      <th>major</th>\n",
       "      <th>gpa</th>\n",
       "      <th>credits</th>\n",
       "    </tr>\n",
       "  </thead>\n",
       "  <tbody>\n",
       "    <tr>\n",
       "      <th>0</th>\n",
       "      <td>Alice</td>\n",
       "      <td>22</td>\n",
       "      <td>CS</td>\n",
       "      <td>3.8</td>\n",
       "      <td>120</td>\n",
       "    </tr>\n",
       "    <tr>\n",
       "      <th>1</th>\n",
       "      <td>Bob</td>\n",
       "      <td>24</td>\n",
       "      <td>Math</td>\n",
       "      <td>3.5</td>\n",
       "      <td>115</td>\n",
       "    </tr>\n",
       "    <tr>\n",
       "      <th>2</th>\n",
       "      <td>Charlie</td>\n",
       "      <td>23</td>\n",
       "      <td>CS</td>\n",
       "      <td>3.9</td>\n",
       "      <td>125</td>\n",
       "    </tr>\n",
       "  </tbody>\n",
       "</table>\n",
       "</div>"
      ],
      "text/plain": [
       "      name  age major  gpa  credits\n",
       "0    Alice   22    CS  3.8      120\n",
       "1      Bob   24  Math  3.5      115\n",
       "2  Charlie   23    CS  3.9      125"
      ]
     },
     "execution_count": 31,
     "metadata": {},
     "output_type": "execute_result"
    }
   ],
   "source": [
    "# (option 2) Display first 3 rows\n",
    "df_student.iloc[:3]"
   ]
  },
  {
   "cell_type": "code",
   "execution_count": 32,
   "id": "6f3b4a5d-d9a4-455e-b042-01a226452550",
   "metadata": {},
   "outputs": [
    {
     "name": "stdout",
     "output_type": "stream",
     "text": [
      "DataFrame info:\n",
      "\n",
      "<class 'pandas.core.frame.DataFrame'>\n",
      "RangeIndex: 5 entries, 0 to 4\n",
      "Data columns (total 5 columns):\n",
      " #   Column   Non-Null Count  Dtype  \n",
      "---  ------   --------------  -----  \n",
      " 0   name     5 non-null      object \n",
      " 1   age      5 non-null      int64  \n",
      " 2   major    5 non-null      object \n",
      " 3   gpa      5 non-null      float64\n",
      " 4   credits  5 non-null      int64  \n",
      "dtypes: float64(1), int64(2), object(2)\n",
      "memory usage: 332.0+ bytes\n",
      "None\n",
      "\n",
      "DataFrame statistics:\n",
      "            age       gpa     credits\n",
      "count   5.00000  5.000000    5.000000\n",
      "mean   23.20000  3.700000  120.000000\n",
      "std     1.30384  0.158114    3.807887\n",
      "min    22.00000  3.500000  115.000000\n",
      "25%    22.00000  3.600000  118.000000\n",
      "50%    23.00000  3.700000  120.000000\n",
      "75%    24.00000  3.800000  122.000000\n",
      "max    25.00000  3.900000  125.000000\n"
     ]
    }
   ],
   "source": [
    "# 2. Show DataFrame info and basic statistics\n",
    "print(f\"DataFrame info:\\n\")\n",
    "print(df_student.info())\n",
    "print(f\"\\nDataFrame statistics:\")\n",
    "print(df_student.describe())"
   ]
  },
  {
   "cell_type": "code",
   "execution_count": 33,
   "id": "9c274d89-400f-4820-8781-40f069279a2e",
   "metadata": {},
   "outputs": [
    {
     "data": {
      "text/html": [
       "<div>\n",
       "<style scoped>\n",
       "    .dataframe tbody tr th:only-of-type {\n",
       "        vertical-align: middle;\n",
       "    }\n",
       "\n",
       "    .dataframe tbody tr th {\n",
       "        vertical-align: top;\n",
       "    }\n",
       "\n",
       "    .dataframe thead th {\n",
       "        text-align: right;\n",
       "    }\n",
       "</style>\n",
       "<table border=\"1\" class=\"dataframe\">\n",
       "  <thead>\n",
       "    <tr style=\"text-align: right;\">\n",
       "      <th></th>\n",
       "      <th>name</th>\n",
       "      <th>gpa</th>\n",
       "    </tr>\n",
       "  </thead>\n",
       "  <tbody>\n",
       "    <tr>\n",
       "      <th>0</th>\n",
       "      <td>Alice</td>\n",
       "      <td>3.8</td>\n",
       "    </tr>\n",
       "    <tr>\n",
       "      <th>1</th>\n",
       "      <td>Bob</td>\n",
       "      <td>3.5</td>\n",
       "    </tr>\n",
       "    <tr>\n",
       "      <th>2</th>\n",
       "      <td>Charlie</td>\n",
       "      <td>3.9</td>\n",
       "    </tr>\n",
       "    <tr>\n",
       "      <th>3</th>\n",
       "      <td>Diana</td>\n",
       "      <td>3.7</td>\n",
       "    </tr>\n",
       "    <tr>\n",
       "      <th>4</th>\n",
       "      <td>Eve</td>\n",
       "      <td>3.6</td>\n",
       "    </tr>\n",
       "  </tbody>\n",
       "</table>\n",
       "</div>"
      ],
      "text/plain": [
       "      name  gpa\n",
       "0    Alice  3.8\n",
       "1      Bob  3.5\n",
       "2  Charlie  3.9\n",
       "3    Diana  3.7\n",
       "4      Eve  3.6"
      ]
     },
     "execution_count": 33,
     "metadata": {},
     "output_type": "execute_result"
    }
   ],
   "source": [
    "# 3. Select only name and gpa columns\n",
    "df_student[['name','gpa']]"
   ]
  },
  {
   "cell_type": "markdown",
   "id": "9b113c8e",
   "metadata": {},
   "source": [
    "### Exercise 2.2 — Product Inventory (medium)\n",
    "Manage an electronics store inventory."
   ]
  },
  {
   "cell_type": "code",
   "execution_count": 34,
   "id": "4be97d0a",
   "metadata": {},
   "outputs": [],
   "source": [
    "# Create inventory DataFrame from lists\n",
    "products = ['Laptop', 'Mouse', 'Keyboard', 'Monitor', 'Webcam', 'Headphones']\n",
    "prices = [1200, 25, 80, 350, 120, 150]\n",
    "stock = [15, 102, 45, 28, 33, 67]\n",
    "categories = ['Computer', 'Accessory', 'Accessory', 'Computer', 'Accessory', 'Accessory']"
   ]
  },
  {
   "cell_type": "code",
   "execution_count": 37,
   "id": "bb1c1d9c-804d-4a4e-9505-3b1635acfbcc",
   "metadata": {},
   "outputs": [],
   "source": [
    "# TODO: Create DataFrame with these columns\n",
    "# Your code here:\n",
    "product_dict = {\n",
    "    'products':['Laptop', 'Mouse', 'Keyboard', 'Monitor', 'Webcam', 'Headphones'],\n",
    "    'prices':[1200, 25, 80, 350, 120, 150],\n",
    "    'stock':[15, 102, 45, 28, 33, 67],\n",
    "    'categories':['Computer', 'Accessory', 'Accessory', 'Computer', 'Accessory', 'Accessory']\n",
    "}\n",
    "product_df = pd.DataFrame(product_dict)"
   ]
  },
  {
   "cell_type": "code",
   "execution_count": 42,
   "id": "88217465-c232-4729-82d6-6e55410e99a4",
   "metadata": {},
   "outputs": [],
   "source": [
    "# TODO: Add new columns:\n",
    "# 1. 'inventory_value' = price * stock\n",
    "# 2. 'needs_reorder' = True if stock < 30\n",
    "product_df['inventory_value'] = product_df['prices']*product_df['stock']\n",
    "product_df['needs_reorder'] = product_df['stock']<30"
   ]
  },
  {
   "cell_type": "code",
   "execution_count": 46,
   "id": "0decc3b3-5d83-4d14-a0a9-be2062efcebc",
   "metadata": {},
   "outputs": [],
   "source": [
    "# 3. 'price_category' = 'Budget' (<100), 'Mid' (100-500), 'Premium' (>500)\n",
    "def price_category(n):\n",
    "    if n < 100:\n",
    "        return 'Budget'\n",
    "    elif n < 500:\n",
    "        return 'Mid'\n",
    "    else:\n",
    "        return 'Premium'\n",
    "product_df['price_category']= product_df['prices'].apply(price_category)"
   ]
  },
  {
   "cell_type": "code",
   "execution_count": 48,
   "id": "d706cff3-0a0b-4335-8e03-370b5e9c89d6",
   "metadata": {},
   "outputs": [
    {
     "data": {
      "text/html": [
       "<div>\n",
       "<style scoped>\n",
       "    .dataframe tbody tr th:only-of-type {\n",
       "        vertical-align: middle;\n",
       "    }\n",
       "\n",
       "    .dataframe tbody tr th {\n",
       "        vertical-align: top;\n",
       "    }\n",
       "\n",
       "    .dataframe thead th {\n",
       "        text-align: right;\n",
       "    }\n",
       "</style>\n",
       "<table border=\"1\" class=\"dataframe\">\n",
       "  <thead>\n",
       "    <tr style=\"text-align: right;\">\n",
       "      <th></th>\n",
       "      <th>products</th>\n",
       "      <th>prices</th>\n",
       "      <th>stock</th>\n",
       "      <th>categories</th>\n",
       "      <th>inventory_value</th>\n",
       "      <th>needs_reorder</th>\n",
       "      <th>price_category</th>\n",
       "    </tr>\n",
       "  </thead>\n",
       "  <tbody>\n",
       "    <tr>\n",
       "      <th>0</th>\n",
       "      <td>Laptop</td>\n",
       "      <td>1200</td>\n",
       "      <td>15</td>\n",
       "      <td>Computer</td>\n",
       "      <td>18000</td>\n",
       "      <td>True</td>\n",
       "      <td>Premium</td>\n",
       "    </tr>\n",
       "    <tr>\n",
       "      <th>1</th>\n",
       "      <td>Mouse</td>\n",
       "      <td>25</td>\n",
       "      <td>102</td>\n",
       "      <td>Accessory</td>\n",
       "      <td>2550</td>\n",
       "      <td>False</td>\n",
       "      <td>Budget</td>\n",
       "    </tr>\n",
       "    <tr>\n",
       "      <th>2</th>\n",
       "      <td>Keyboard</td>\n",
       "      <td>80</td>\n",
       "      <td>45</td>\n",
       "      <td>Accessory</td>\n",
       "      <td>3600</td>\n",
       "      <td>False</td>\n",
       "      <td>Budget</td>\n",
       "    </tr>\n",
       "    <tr>\n",
       "      <th>3</th>\n",
       "      <td>Monitor</td>\n",
       "      <td>350</td>\n",
       "      <td>28</td>\n",
       "      <td>Computer</td>\n",
       "      <td>9800</td>\n",
       "      <td>True</td>\n",
       "      <td>Mid</td>\n",
       "    </tr>\n",
       "    <tr>\n",
       "      <th>4</th>\n",
       "      <td>Webcam</td>\n",
       "      <td>120</td>\n",
       "      <td>33</td>\n",
       "      <td>Accessory</td>\n",
       "      <td>3960</td>\n",
       "      <td>False</td>\n",
       "      <td>Mid</td>\n",
       "    </tr>\n",
       "    <tr>\n",
       "      <th>5</th>\n",
       "      <td>Headphones</td>\n",
       "      <td>150</td>\n",
       "      <td>67</td>\n",
       "      <td>Accessory</td>\n",
       "      <td>10050</td>\n",
       "      <td>False</td>\n",
       "      <td>Mid</td>\n",
       "    </tr>\n",
       "  </tbody>\n",
       "</table>\n",
       "</div>"
      ],
      "text/plain": [
       "     products  prices  stock categories  inventory_value  needs_reorder  \\\n",
       "0      Laptop    1200     15   Computer            18000           True   \n",
       "1       Mouse      25    102  Accessory             2550          False   \n",
       "2    Keyboard      80     45  Accessory             3600          False   \n",
       "3     Monitor     350     28   Computer             9800           True   \n",
       "4      Webcam     120     33  Accessory             3960          False   \n",
       "5  Headphones     150     67  Accessory            10050          False   \n",
       "\n",
       "  price_category  \n",
       "0        Premium  \n",
       "1         Budget  \n",
       "2         Budget  \n",
       "3            Mid  \n",
       "4            Mid  \n",
       "5            Mid  "
      ]
     },
     "execution_count": 48,
     "metadata": {},
     "output_type": "execute_result"
    }
   ],
   "source": [
    "product_df"
   ]
  },
  {
   "cell_type": "markdown",
   "id": "c5eae2dd",
   "metadata": {},
   "source": [
    "### Exercise 2.3 — Data Filtering Challenge (medium)\n",
    "Practice DataFrame filtering with multiple conditions."
   ]
  },
  {
   "cell_type": "code",
   "execution_count": 49,
   "id": "50ac5807",
   "metadata": {},
   "outputs": [],
   "source": [
    "# Create sales data\n",
    "np.random.seed(42)\n",
    "sales_data = pd.DataFrame({\n",
    "    'date': pd.date_range('2025-08-01', periods=20),\n",
    "    'product': np.random.choice(['A', 'B', 'C'], 20),\n",
    "    'quantity': np.random.randint(1, 20, 20),\n",
    "    'price': np.random.uniform(10, 100, 20).round(2),\n",
    "    'customer_type': np.random.choice(['Regular', 'VIP'], 20)\n",
    "})\n"
   ]
  },
  {
   "cell_type": "code",
   "execution_count": 56,
   "id": "abb03527-9917-40f0-ad4b-7bb9929e9a47",
   "metadata": {},
   "outputs": [
    {
     "name": "stdout",
     "output_type": "stream",
     "text": [
      "VIP Sales\n",
      "         date product  quantity  price customer_type\n",
      "1  2025-08-02       A        12  11.44           VIP\n",
      "2  2025-08-03       C        12  30.78           VIP\n",
      "4  2025-08-05       A        10  71.49           VIP\n",
      "6  2025-08-07       C        15  84.99           VIP\n",
      "7  2025-08-08       B        15  25.60           VIP\n",
      "..        ...     ...       ...    ...           ...\n",
      "14 2025-08-15       B         9  12.82           VIP\n",
      "15 2025-08-16       A         7  85.81           VIP\n",
      "17 2025-08-18       B         4  45.56           VIP\n",
      "18 2025-08-19       B        14  93.40           VIP\n",
      "19 2025-08-20       B        18  75.45           VIP\n",
      "\n",
      "[12 rows x 5 columns]\n",
      "\n",
      "Total VIP Sales: $7002.48\n"
     ]
    }
   ],
   "source": [
    "# 1. All VIP customer purchases\n",
    "VIP_sales = sales_data[sales_data['customer_type']=='VIP']\n",
    "Total_VIP_sales = sum(VIP_sales['quantity']*VIP_sales['price'])\n",
    "print(f\"VIP Sales\\n{VIP_sales}\")\n",
    "print(f\"\\nTotal VIP Sales: ${Total_VIP_sales:.2f}\")"
   ]
  },
  {
   "cell_type": "code",
   "execution_count": 62,
   "id": "ef848dbb-2a4b-4b65-a54e-6b5eeeb35dfe",
   "metadata": {},
   "outputs": [
    {
     "name": "stdout",
     "output_type": "stream",
     "text": [
      "Product A sales (>10)\n",
      "         date product  quantity  price customer_type\n",
      "1  2025-08-02       A        12  11.44           VIP\n",
      "5  2025-08-06       A        16  64.90       Regular\n",
      "12 2025-08-13       A        19  28.71       Regular\n",
      "\n",
      "Total Product A sales: $1721.17\n"
     ]
    }
   ],
   "source": [
    "# 2. Product A sales with quantity > 10\n",
    "Product_A_sales = sales_data[(sales_data['product']=='A') & (sales_data['quantity']>10)]\n",
    "Total_Product_A_sales = sum(Product_A_sales['quantity']*Product_A_sales['price'])\n",
    "print(f\"Product A sales (>10)\\n{Product_A_sales}\")\n",
    "print(f\"\\nTotal Product A sales: ${Total_Product_A_sales:.2f}\")"
   ]
  },
  {
   "cell_type": "code",
   "execution_count": 69,
   "id": "129cd852-1a8b-495c-bda0-6a2917965bd1",
   "metadata": {},
   "outputs": [
    {
     "name": "stdout",
     "output_type": "stream",
     "text": [
      "Sales between Aug 5-10 with Price > $50\n",
      "        date product  quantity  price customer_type\n",
      "4 2025-08-05       A        10  71.49           VIP\n",
      "5 2025-08-06       A        16  64.90       Regular\n",
      "6 2025-08-07       C        15  84.99           VIP\n",
      "\n",
      "Total sales during this period: $3028.15\n"
     ]
    }
   ],
   "source": [
    "# 3. Sales between Aug 5-10 with price > 50\n",
    "start_date = pd.Timestamp('2025-08-05')\n",
    "end_date = pd.Timestamp('2025-08-10')\n",
    "Sales_filtered = sales_data[(sales_data['date']>= start_date) & (sales_data['date']<= end_date) & (sales_data['price']>50)]\n",
    "Total_sales_filtered = sum(Sales_filtered['quantity']*Sales_filtered['price'])\n",
    "print(f\"Sales between Aug 5-10 with Price > $50\\n{Sales_filtered}\")\n",
    "print(f\"\\nTotal sales during this period: ${Total_sales_filtered:.2f}\")"
   ]
  },
  {
   "cell_type": "markdown",
   "id": "337a17f5",
   "metadata": {
    "jp-MarkdownHeadingCollapsed": true
   },
   "source": [
    "## Part 3: Data Selection & Indexing (15 minutes)"
   ]
  },
  {
   "cell_type": "markdown",
   "id": "9386db74",
   "metadata": {},
   "source": [
    "### Exercise 3.1 — loc vs iloc Practice (medium)\n",
    "Master the difference between label and position-based selection."
   ]
  },
  {
   "cell_type": "code",
   "execution_count": 72,
   "id": "3fbfe00f",
   "metadata": {},
   "outputs": [
    {
     "name": "stdout",
     "output_type": "stream",
     "text": [
      "Original DataFrame:\n",
      "       A   B   C\n",
      "row1   1   2   3\n",
      "row2   4   5   6\n",
      "row3   7   8   9\n",
      "row4  10  11  12\n",
      "row5  13  14  15\n",
      "\n"
     ]
    }
   ],
   "source": [
    "# Create sample DataFrame\n",
    "df = pd.DataFrame({\n",
    "    'A': [1, 4, 7, 10, 13],\n",
    "    'B': [2, 5, 8, 11, 14],\n",
    "    'C': [3, 6, 9, 12, 15]\n",
    "}, index=['row1', 'row2', 'row3', 'row4', 'row5'])\n",
    "\n",
    "print(\"Original DataFrame:\")\n",
    "print(df)\n",
    "print()\n"
   ]
  },
  {
   "cell_type": "code",
   "execution_count": 84,
   "id": "9f43f50a-f368-4acd-b85f-06523bbc0eb1",
   "metadata": {},
   "outputs": [
    {
     "name": "stdout",
     "output_type": "stream",
     "text": [
      "Row 2 to 4, columns A and C: \n",
      "       A   C\n",
      "row2   4   6\n",
      "row3   7   9\n",
      "row4  10  12\n",
      "\n",
      "All rows where B>8: \n",
      "row4    11\n",
      "row5    14\n",
      "Name: B, dtype: int64\n"
     ]
    }
   ],
   "source": [
    "# TODO: Use loc to:\n",
    "# 1. Select row2 to row4, columns A and C\n",
    "df_filtered_loc1 = df.loc['row2':'row4',['A','C']]\n",
    "print(f\"Row 2 to 4, columns A and C: \\n{df_filtered_loc1}\")\n",
    "\n",
    "# 2. Select all rows where column B > 8\n",
    "df_filtered_loc2 = df[df['B']>8].loc[:,'B']\n",
    "print(f\"\\nAll rows where B>8: \\n{df_filtered_loc2}\")\n"
   ]
  },
  {
   "cell_type": "code",
   "execution_count": 93,
   "id": "1f289b5a-9347-412e-8fc5-7a77c78f8759",
   "metadata": {},
   "outputs": [
    {
     "name": "stdout",
     "output_type": "stream",
     "text": [
      "First 3 rows and last 2 columns: \n",
      "      B  C\n",
      "row1  2  3\n",
      "row2  5  6\n",
      "row3  8  9\n",
      "\n",
      "Every other row: \n",
      "       A   B   C\n",
      "row1   1   2   3\n",
      "row3   7   8   9\n",
      "row5  13  14  15\n"
     ]
    }
   ],
   "source": [
    "# TODO: Use iloc to:\n",
    "# 1. Select first 3 rows and last 2 columns\n",
    "df_filtered_iloc1 = df.iloc[0:3,-2:]\n",
    "print(f\"First 3 rows and last 2 columns: \\n{df_filtered_iloc1}\")\n",
    "\n",
    "# 2. Select every other row\n",
    "df_filtered_iloc2 = df.iloc[::2,:]\n",
    "print(f\"\\nEvery other row: \\n{df_filtered_iloc2}\")"
   ]
  },
  {
   "cell_type": "markdown",
   "id": "2e5a6ceb",
   "metadata": {},
   "source": [
    "### Exercise 3.2 — Customer Segmentation (hard)\n",
    "Segment customers based on purchase behavior."
   ]
  },
  {
   "cell_type": "code",
   "execution_count": 98,
   "id": "8f9bf6eb",
   "metadata": {},
   "outputs": [],
   "source": [
    "# Generate customer data\n",
    "np.random.seed(100)\n",
    "customers = pd.DataFrame({\n",
    "    'customer_id': range(1, 51),\n",
    "    'total_purchases': np.random.randint(1, 50, 50),\n",
    "    'total_spent': np.random.uniform(100, 5000, 50).round(2),\n",
    "    'days_since_last_purchase': np.random.randint(1, 180, 50)\n",
    "})\n"
   ]
  },
  {
   "cell_type": "code",
   "execution_count": 96,
   "id": "7d81a12d-bf7d-41a9-b7fc-d04d8938f8a8",
   "metadata": {},
   "outputs": [
    {
     "data": {
      "text/html": [
       "<div>\n",
       "<style scoped>\n",
       "    .dataframe tbody tr th:only-of-type {\n",
       "        vertical-align: middle;\n",
       "    }\n",
       "\n",
       "    .dataframe tbody tr th {\n",
       "        vertical-align: top;\n",
       "    }\n",
       "\n",
       "    .dataframe thead th {\n",
       "        text-align: right;\n",
       "    }\n",
       "</style>\n",
       "<table border=\"1\" class=\"dataframe\">\n",
       "  <thead>\n",
       "    <tr style=\"text-align: right;\">\n",
       "      <th></th>\n",
       "      <th>customer_id</th>\n",
       "      <th>total_purchases</th>\n",
       "      <th>total_spent</th>\n",
       "      <th>days_since_last_purchase</th>\n",
       "    </tr>\n",
       "  </thead>\n",
       "  <tbody>\n",
       "    <tr>\n",
       "      <th>0</th>\n",
       "      <td>1</td>\n",
       "      <td>9</td>\n",
       "      <td>2083.31</td>\n",
       "      <td>18</td>\n",
       "    </tr>\n",
       "    <tr>\n",
       "      <th>1</th>\n",
       "      <td>2</td>\n",
       "      <td>25</td>\n",
       "      <td>2267.04</td>\n",
       "      <td>46</td>\n",
       "    </tr>\n",
       "    <tr>\n",
       "      <th>2</th>\n",
       "      <td>3</td>\n",
       "      <td>4</td>\n",
       "      <td>247.60</td>\n",
       "      <td>90</td>\n",
       "    </tr>\n",
       "    <tr>\n",
       "      <th>3</th>\n",
       "      <td>4</td>\n",
       "      <td>40</td>\n",
       "      <td>3902.43</td>\n",
       "      <td>174</td>\n",
       "    </tr>\n",
       "    <tr>\n",
       "      <th>4</th>\n",
       "      <td>5</td>\n",
       "      <td>24</td>\n",
       "      <td>2799.70</td>\n",
       "      <td>36</td>\n",
       "    </tr>\n",
       "  </tbody>\n",
       "</table>\n",
       "</div>"
      ],
      "text/plain": [
       "   customer_id  total_purchases  total_spent  days_since_last_purchase\n",
       "0            1                9      2083.31                        18\n",
       "1            2               25      2267.04                        46\n",
       "2            3                4       247.60                        90\n",
       "3            4               40      3902.43                       174\n",
       "4            5               24      2799.70                        36"
      ]
     },
     "execution_count": 96,
     "metadata": {},
     "output_type": "execute_result"
    }
   ],
   "source": [
    "customers.head(5)"
   ]
  },
  {
   "cell_type": "code",
   "execution_count": 103,
   "id": "1d1542b3-803e-4515-beb2-e0615bf4b0b7",
   "metadata": {},
   "outputs": [
    {
     "name": "stdout",
     "output_type": "stream",
     "text": [
      "Added average order value per customer: \n",
      "   customer_id  total_purchases  total_spent  days_since_last_purchase  \\\n",
      "0            1                9      2083.31                        18   \n",
      "1            2               25      2267.04                        46   \n",
      "2            3                4       247.60                        90   \n",
      "3            4               40      3902.43                       174   \n",
      "4            5               24      2799.70                        36   \n",
      "\n",
      "   avg_order_value  \n",
      "0           231.48  \n",
      "1            90.68  \n",
      "2            61.90  \n",
      "3            97.56  \n",
      "4           116.65  \n"
     ]
    }
   ],
   "source": [
    "# TODO: Create customer segments:\n",
    "# 1. Add 'avg_order_value' column\n",
    "customers['avg_order_value']=round(customers['total_spent']/customers['total_purchases'],2)\n",
    "print(f\"Added average order value per customer: \\n{customers.head()}\")"
   ]
  },
  {
   "cell_type": "code",
   "execution_count": 104,
   "id": "589a14b5-e8a3-47c7-8a22-285551815c61",
   "metadata": {},
   "outputs": [
    {
     "data": {
      "text/html": [
       "<div>\n",
       "<style scoped>\n",
       "    .dataframe tbody tr th:only-of-type {\n",
       "        vertical-align: middle;\n",
       "    }\n",
       "\n",
       "    .dataframe tbody tr th {\n",
       "        vertical-align: top;\n",
       "    }\n",
       "\n",
       "    .dataframe thead th {\n",
       "        text-align: right;\n",
       "    }\n",
       "</style>\n",
       "<table border=\"1\" class=\"dataframe\">\n",
       "  <thead>\n",
       "    <tr style=\"text-align: right;\">\n",
       "      <th></th>\n",
       "      <th>customer_id</th>\n",
       "      <th>total_purchases</th>\n",
       "      <th>total_spent</th>\n",
       "      <th>days_since_last_purchase</th>\n",
       "      <th>avg_order_value</th>\n",
       "    </tr>\n",
       "  </thead>\n",
       "  <tbody>\n",
       "    <tr>\n",
       "      <th>count</th>\n",
       "      <td>50.00000</td>\n",
       "      <td>50.000000</td>\n",
       "      <td>50.000000</td>\n",
       "      <td>50.000000</td>\n",
       "      <td>50.000000</td>\n",
       "    </tr>\n",
       "    <tr>\n",
       "      <th>mean</th>\n",
       "      <td>25.50000</td>\n",
       "      <td>23.800000</td>\n",
       "      <td>2473.261600</td>\n",
       "      <td>85.820000</td>\n",
       "      <td>237.201600</td>\n",
       "    </tr>\n",
       "    <tr>\n",
       "      <th>std</th>\n",
       "      <td>14.57738</td>\n",
       "      <td>14.951623</td>\n",
       "      <td>1563.637286</td>\n",
       "      <td>52.274273</td>\n",
       "      <td>404.463512</td>\n",
       "    </tr>\n",
       "    <tr>\n",
       "      <th>min</th>\n",
       "      <td>1.00000</td>\n",
       "      <td>2.000000</td>\n",
       "      <td>155.810000</td>\n",
       "      <td>1.000000</td>\n",
       "      <td>6.230000</td>\n",
       "    </tr>\n",
       "    <tr>\n",
       "      <th>25%</th>\n",
       "      <td>13.25000</td>\n",
       "      <td>10.250000</td>\n",
       "      <td>850.122500</td>\n",
       "      <td>35.250000</td>\n",
       "      <td>59.110000</td>\n",
       "    </tr>\n",
       "    <tr>\n",
       "      <th>50%</th>\n",
       "      <td>25.50000</td>\n",
       "      <td>24.500000</td>\n",
       "      <td>2687.730000</td>\n",
       "      <td>88.500000</td>\n",
       "      <td>94.680000</td>\n",
       "    </tr>\n",
       "    <tr>\n",
       "      <th>75%</th>\n",
       "      <td>37.75000</td>\n",
       "      <td>35.000000</td>\n",
       "      <td>3949.597500</td>\n",
       "      <td>133.250000</td>\n",
       "      <td>191.670000</td>\n",
       "    </tr>\n",
       "    <tr>\n",
       "      <th>max</th>\n",
       "      <td>50.00000</td>\n",
       "      <td>49.000000</td>\n",
       "      <td>4914.890000</td>\n",
       "      <td>174.000000</td>\n",
       "      <td>1839.470000</td>\n",
       "    </tr>\n",
       "  </tbody>\n",
       "</table>\n",
       "</div>"
      ],
      "text/plain": [
       "       customer_id  total_purchases  total_spent  days_since_last_purchase  \\\n",
       "count     50.00000        50.000000    50.000000                 50.000000   \n",
       "mean      25.50000        23.800000  2473.261600                 85.820000   \n",
       "std       14.57738        14.951623  1563.637286                 52.274273   \n",
       "min        1.00000         2.000000   155.810000                  1.000000   \n",
       "25%       13.25000        10.250000   850.122500                 35.250000   \n",
       "50%       25.50000        24.500000  2687.730000                 88.500000   \n",
       "75%       37.75000        35.000000  3949.597500                133.250000   \n",
       "max       50.00000        49.000000  4914.890000                174.000000   \n",
       "\n",
       "       avg_order_value  \n",
       "count        50.000000  \n",
       "mean        237.201600  \n",
       "std         404.463512  \n",
       "min           6.230000  \n",
       "25%          59.110000  \n",
       "50%          94.680000  \n",
       "75%         191.670000  \n",
       "max        1839.470000  "
      ]
     },
     "execution_count": 104,
     "metadata": {},
     "output_type": "execute_result"
    }
   ],
   "source": [
    "customers.describe()"
   ]
  },
  {
   "cell_type": "code",
   "execution_count": 117,
   "id": "b606d927-f3d7-4cfa-bb8a-58a90993d177",
   "metadata": {},
   "outputs": [
    {
     "name": "stdout",
     "output_type": "stream",
     "text": [
      "Added 'segment' column: \n",
      "   customer_id  total_purchases  total_spent  days_since_last_purchase  \\\n",
      "0            1                9      2083.31                        18   \n",
      "1            2               25      2267.04                        46   \n",
      "2            3                4       247.60                        90   \n",
      "3            4               40      3902.43                       174   \n",
      "4            5               24      2799.70                        36   \n",
      "\n",
      "   avg_order_value  segment  \n",
      "0           231.48  Regular  \n",
      "1            90.68    Loyal  \n",
      "2            61.90  Regular  \n",
      "3            97.56  At Risk  \n",
      "4           116.65    Loyal  \n"
     ]
    }
   ],
   "source": [
    "# 2. Add 'segment' column based on:\n",
    "#    - 'Champions': total_spent > 3000 AND days_since_last_purchase < 30\n",
    "#    - 'Loyal': total_purchases > 20 AND days_since_last_purchase < 60\n",
    "#    - 'At Risk': days_since_last_purchase > 90\n",
    "#    - 'Regular': all others\n",
    "\n",
    "def function_segment(df):\n",
    "    if (df['total_spent']>3000) & (df['days_since_last_purchase']<30):\n",
    "        return 'Champions'\n",
    "    elif (df['total_purchases']>20) & (df['days_since_last_purchase']<60):\n",
    "        return 'Loyal'\n",
    "    elif df['days_since_last_purchase']>90:\n",
    "        return 'At Risk'\n",
    "    else:\n",
    "        return 'Regular'\n",
    "    \n",
    "customers['segment']=customers.apply(function_segment, axis=1)\n",
    "print(f\"Added 'segment' column: \\n{customers.head()}\")"
   ]
  },
  {
   "cell_type": "code",
   "execution_count": 121,
   "id": "9afa80d6-4a91-4236-9b42-0d20c4db1b77",
   "metadata": {},
   "outputs": [
    {
     "name": "stdout",
     "output_type": "stream",
     "text": [
      "Customer counts: \n",
      "segment\n",
      "At Risk      24\n",
      "Regular      17\n",
      "Champions     5\n",
      "Loyal         4\n",
      "Name: count, dtype: int64\n"
     ]
    }
   ],
   "source": [
    "# 3. Count customers in each segment\n",
    "segment_count = customers['segment'].value_counts()\n",
    "print(f\"Customer counts: \\n{segment_count}\")"
   ]
  },
  {
   "cell_type": "code",
   "execution_count": 124,
   "id": "276fa9bf-767c-4a3c-afad-aa676fbd1bf8",
   "metadata": {},
   "outputs": [
    {
     "name": "stdout",
     "output_type": "stream",
     "text": [
      "The Champions: \n",
      "    customer_id  total_spent  days_since_last_purchase\n",
      "10           11      4328.43                        21\n",
      "12           13      4142.96                         9\n",
      "22           23      3994.91                         1\n",
      "37           38      3678.94                        25\n",
      "38           39      4243.53                        29\n"
     ]
    }
   ],
   "source": [
    "print(f\"The Champions: \\n{customers[customers['segment']=='Champions'][['customer_id','total_spent','days_since_last_purchase']]}\")"
   ]
  },
  {
   "cell_type": "code",
   "execution_count": 125,
   "id": "05c254e9-af11-47b7-9b01-07c5d3bbf6e7",
   "metadata": {},
   "outputs": [
    {
     "name": "stdout",
     "output_type": "stream",
     "text": [
      "The Loyals:\n",
      "    customer_id  total_purchases  days_since_last_purchase\n",
      "1             2               25                        46\n",
      "4             5               24                        36\n",
      "6             7               49                        13\n",
      "46           47               28                        31\n"
     ]
    }
   ],
   "source": [
    "print(f\"The Loyals:\\n{customers[customers['segment']=='Loyal'][['customer_id','total_purchases','days_since_last_purchase']]}\")"
   ]
  },
  {
   "cell_type": "code",
   "execution_count": 128,
   "id": "5064fbb2-fb48-43a7-88d2-0ba1571ae8d7",
   "metadata": {},
   "outputs": [
    {
     "name": "stdout",
     "output_type": "stream",
     "text": [
      "At risk:\n",
      "count     24.000000\n",
      "mean     132.666667\n",
      "std       24.588203\n",
      "min       91.000000\n",
      "25%      115.500000\n",
      "50%      135.000000\n",
      "75%      147.500000\n",
      "max      174.000000\n",
      "Name: days_since_last_purchase, dtype: float64\n"
     ]
    }
   ],
   "source": [
    "print(f\"At risk:\\n{customers[customers['segment']=='At Risk']['days_since_last_purchase'].describe()}\")"
   ]
  },
  {
   "cell_type": "code",
   "execution_count": 130,
   "id": "2c976cbb-2e27-4dfd-b513-e321c7f70560",
   "metadata": {},
   "outputs": [
    {
     "name": "stdout",
     "output_type": "stream",
     "text": [
      "The Regulars: \n",
      "       total_purchases  total_spent  days_since_last_purchase  avg_order_value\n",
      "count        17.000000    17.000000                 17.000000        17.000000\n",
      "mean         15.647059  2082.197059                 52.705882       296.010000\n",
      "std          13.453351  1700.201778                 27.476728       442.573584\n",
      "min           2.000000   155.810000                  3.000000         9.170000\n",
      "25%           4.000000   628.800000                 34.000000        61.900000\n",
      "50%          11.000000  1967.260000                 64.000000       122.950000\n",
      "75%          20.000000  3464.070000                 74.000000       231.480000\n",
      "max          47.000000  4788.700000                 90.000000      1481.650000\n"
     ]
    }
   ],
   "source": [
    "print(f\"The Regulars: \\n{customers[customers['segment']=='Regular'][['total_purchases','total_spent','days_since_last_purchase','avg_order_value']].describe()}\")"
   ]
  },
  {
   "cell_type": "markdown",
   "id": "f6fa37f5",
   "metadata": {},
   "source": [
    "## Part 4: Challenge Problems (15 minutes)"
   ]
  },
  {
   "cell_type": "markdown",
   "id": "551f0e57",
   "metadata": {},
   "source": [
    "### Challenge 1 — Missing Data Handler (hard)\n",
    "Clean and impute missing values intelligently."
   ]
  },
  {
   "cell_type": "code",
   "execution_count": 62,
   "id": "4408f617",
   "metadata": {},
   "outputs": [
    {
     "name": "stdout",
     "output_type": "stream",
     "text": [
      "Messy data:\n",
      "  product  price  stock     category  rating\n",
      "0       A  100.0   50.0  Electronics     4.5\n",
      "1       B    NaN   30.0  Electronics     4.2\n",
      "2       C  150.0    NaN         None     NaN\n",
      "3       D  200.0   45.0     Clothing     3.8\n",
      "4       E    NaN   60.0     Clothing     4.6\n",
      "5       F  180.0    NaN  Electronics     NaN\n",
      "\n"
     ]
    }
   ],
   "source": [
    "# Create data with missing values\n",
    "messy_data = pd.DataFrame({\n",
    "    'product': ['A', 'B', 'C', 'D', 'E', 'F'],\n",
    "    'price': [100, None, 150, 200, None, 180],\n",
    "    'stock': [50, 30, None, 45, 60, None],\n",
    "    'category': ['Electronics', 'Electronics', None, 'Clothing', 'Clothing', 'Electronics'],\n",
    "    'rating': [4.5, 4.2, None, 3.8, 4.6, None]\n",
    "})\n",
    "\n",
    "print(\"Messy data:\")\n",
    "print(messy_data)\n",
    "print()"
   ]
  },
  {
   "cell_type": "code",
   "execution_count": 63,
   "id": "05be843d-0cf4-45e1-86f9-3bb89448fba2",
   "metadata": {},
   "outputs": [
    {
     "name": "stdout",
     "output_type": "stream",
     "text": [
      "Average prices:\n",
      "0    140.0\n",
      "1    140.0\n",
      "2      NaN\n",
      "3    200.0\n",
      "4    200.0\n",
      "5    140.0\n",
      "Name: price, dtype: float64\n",
      "\n",
      "Filled prices:\n",
      "  product  price  stock     category  rating\n",
      "0       A  100.0   50.0  Electronics     4.5\n",
      "1       B  140.0   30.0  Electronics     4.2\n",
      "2       C  150.0    NaN         None     NaN\n",
      "3       D  200.0   45.0     Clothing     3.8\n",
      "4       E  200.0   60.0     Clothing     4.6\n",
      "5       F  180.0    NaN  Electronics     NaN\n"
     ]
    }
   ],
   "source": [
    "# 1. Fill missing prices with category average\n",
    "average_prices = messy_data.groupby('category')['price'].transform('mean')\n",
    "print(f\"Average prices:\\n{average_prices}\")\n",
    "\n",
    "messy_data['price'] = messy_data['price'].fillna(average_prices)\n",
    "print(f\"\\nFilled prices:\\n{messy_data}\")"
   ]
  },
  {
   "cell_type": "code",
   "execution_count": 64,
   "id": "2179e473-d539-4a93-82f3-6dc01f53dc2d",
   "metadata": {},
   "outputs": [
    {
     "name": "stdout",
     "output_type": "stream",
     "text": [
      "Median stock: 47.5\n",
      "\n",
      "Filled stock: \n",
      "  product  price  stock     category  rating\n",
      "0       A  100.0   50.0  Electronics     4.5\n",
      "1       B  140.0   30.0  Electronics     4.2\n",
      "2       C  150.0   47.5         None     NaN\n",
      "3       D  200.0   45.0     Clothing     3.8\n",
      "4       E  200.0   60.0     Clothing     4.6\n",
      "5       F  180.0   47.5  Electronics     NaN\n"
     ]
    }
   ],
   "source": [
    "# 2. Fill missing stock with median stock\n",
    "median_stock = messy_data['stock'].median()\n",
    "print(f\"Median stock: {median_stock}\")\n",
    "messy_data['stock']=messy_data['stock'].fillna(median_stock)\n",
    "print(f\"\\nFilled stock: \\n{messy_data}\")"
   ]
  },
  {
   "cell_type": "code",
   "execution_count": 75,
   "id": "05b9fb29-e38d-4696-8953-0655f0750558",
   "metadata": {},
   "outputs": [
    {
     "name": "stdout",
     "output_type": "stream",
     "text": [
      "\n",
      "Avg prices by category: \n",
      "category\n",
      "Clothing       200.0\n",
      "Electronics    140.0\n",
      "Name: price, dtype: float64\n",
      "\n",
      "Rows with missing category:\n",
      "0    False\n",
      "1    False\n",
      "2     True\n",
      "3    False\n",
      "4    False\n",
      "5    False\n",
      "dtype: bool\n",
      "\n",
      "Absolute price difference by category: \n",
      "category\n",
      "Clothing       50.0\n",
      "Electronics    10.0\n",
      "Name: price, dtype: float64\n",
      "\n",
      "Closest category: Electronics\n",
      "\n",
      "Filled category:\n",
      "  product  price  stock     category  rating\n",
      "0       A  100.0   50.0  Electronics     4.5\n",
      "1       B  140.0   30.0  Electronics     4.2\n",
      "2       C  150.0   47.5  Electronics     NaN\n",
      "3       D  200.0   45.0     Clothing     3.8\n",
      "4       E  200.0   60.0     Clothing     4.6\n",
      "5       F  180.0   47.5  Electronics     NaN\n"
     ]
    }
   ],
   "source": [
    "# 3. Fill missing categories by looking at similar price ranges\n",
    "average_prices_by_category = messy_data.groupby('category')['price'].mean()\n",
    "print(f\"\\nAvg prices by category: \\n{average_prices_by_category}\")\n",
    "\n",
    "rows_missing_category = messy_data['category'].isna() & messy_data['price'].notna()\n",
    "print(f\"\\nRows with missing category:\\n{rows_missing_category}\")\n",
    "\n",
    "price_missing_category = messy_data.loc[rows_missing_category,'price'].iloc[0]\n",
    "delta_price_by_category = abs(average_prices_by_category - price_missing_category)\n",
    "print(f\"\\nAbsolute price difference by category: \\n{delta_price_by_category}\")\n",
    "\n",
    "closest_category = delta_price_by_category.idxmin()\n",
    "print(f\"\\nClosest category: {closest_category}\")\n",
    "\n",
    "messy_data['category'] = messy_data['category'].fillna(closest_category)\n",
    "print(f\"\\nFilled category:\\n{messy_data}\")"
   ]
  },
  {
   "cell_type": "code",
   "execution_count": 80,
   "id": "5cc8dbf4-0e2d-4495-a15c-15d36b91e16e",
   "metadata": {},
   "outputs": [
    {
     "name": "stdout",
     "output_type": "stream",
     "text": [
      "Avg rating: 4.27\n",
      "\n",
      "Filled rating: \n",
      "  product  price  stock     category  rating\n",
      "0       A  100.0   50.0  Electronics   4.500\n",
      "1       B  140.0   30.0  Electronics   4.200\n",
      "2       C  150.0   47.5  Electronics   4.275\n",
      "3       D  200.0   45.0     Clothing   3.800\n",
      "4       E  200.0   60.0     Clothing   4.600\n",
      "5       F  180.0   47.5  Electronics   4.275\n"
     ]
    }
   ],
   "source": [
    "# 4. Fill missing ratings with overall average\n",
    "avg_rating = messy_data['rating'].mean()\n",
    "print(f\"Avg rating: {avg_rating:.2f}\")\n",
    "\n",
    "messy_data['rating'] = messy_data['rating'].fillna(avg_rating)\n",
    "print(f\"\\nFilled rating: \\n{messy_data}\")"
   ]
  },
  {
   "cell_type": "code",
   "execution_count": 85,
   "id": "922cc152-9b3d-4aa2-8d7b-19d029c72526",
   "metadata": {},
   "outputs": [
    {
     "name": "stdout",
     "output_type": "stream",
     "text": [
      "Data Cleaning and Imputation\n",
      "============================\n",
      "\n",
      "(1) Fill missing price with category average:\n",
      "category\n",
      "Clothing       200.0\n",
      "Electronics    140.0\n",
      "Name: price, dtype: float64\n",
      "\n",
      "(2) Fill missing stock with median stock: 47.5\n",
      "\n",
      "(3) Fill missing category with reference to the similar price range, i.e. Electronics\n",
      "\n",
      "(4) Fill missing rating with average rating: 4.27\n"
     ]
    }
   ],
   "source": [
    "# 5. Create a report showing what was fixed\n",
    "print(f\"Data Cleaning and Imputation\")\n",
    "print(f\"============================\")\n",
    "print(f\"\\n(1) Fill missing price with category average:\\n{average_prices_by_category}\")\n",
    "print(f\"\\n(2) Fill missing stock with median stock: {median_stock}\")\n",
    "print(f\"\\n(3) Fill missing category with reference to the similar price range, i.e. {closest_category}\")\n",
    "print(f\"\\n(4) Fill missing rating with average rating: {avg_rating:.2f}\")"
   ]
  },
  {
   "cell_type": "markdown",
   "id": "b26f9b89",
   "metadata": {},
   "source": [
    "### Challenge 2 — Time Series Basics (hard)\n",
    "Analyze daily sales patterns."
   ]
  },
  {
   "cell_type": "code",
   "execution_count": 86,
   "id": "1e55e3cf",
   "metadata": {},
   "outputs": [],
   "source": [
    "# Generate time series data\n",
    "dates = pd.date_range('2025-07-01', periods=30)\n",
    "daily_sales = pd.DataFrame({\n",
    "    'date': dates,\n",
    "    'sales': np.random.randint(1000, 5000, 30) + \n",
    "             np.sin(np.arange(30) * 2 * np.pi / 7) * 500  # Weekly pattern\n",
    "})"
   ]
  },
  {
   "cell_type": "code",
   "execution_count": 87,
   "id": "04e74c36-17a3-4699-a06d-ca55cbcc3949",
   "metadata": {},
   "outputs": [
    {
     "data": {
      "text/html": [
       "<div>\n",
       "<style scoped>\n",
       "    .dataframe tbody tr th:only-of-type {\n",
       "        vertical-align: middle;\n",
       "    }\n",
       "\n",
       "    .dataframe tbody tr th {\n",
       "        vertical-align: top;\n",
       "    }\n",
       "\n",
       "    .dataframe thead th {\n",
       "        text-align: right;\n",
       "    }\n",
       "</style>\n",
       "<table border=\"1\" class=\"dataframe\">\n",
       "  <thead>\n",
       "    <tr style=\"text-align: right;\">\n",
       "      <th></th>\n",
       "      <th>date</th>\n",
       "      <th>sales</th>\n",
       "    </tr>\n",
       "  </thead>\n",
       "  <tbody>\n",
       "    <tr>\n",
       "      <th>0</th>\n",
       "      <td>2025-07-01</td>\n",
       "      <td>1297.000000</td>\n",
       "    </tr>\n",
       "    <tr>\n",
       "      <th>1</th>\n",
       "      <td>2025-07-02</td>\n",
       "      <td>3329.915741</td>\n",
       "    </tr>\n",
       "    <tr>\n",
       "      <th>2</th>\n",
       "      <td>2025-07-03</td>\n",
       "      <td>3198.463956</td>\n",
       "    </tr>\n",
       "    <tr>\n",
       "      <th>3</th>\n",
       "      <td>2025-07-04</td>\n",
       "      <td>4688.941870</td>\n",
       "    </tr>\n",
       "    <tr>\n",
       "      <th>4</th>\n",
       "      <td>2025-07-05</td>\n",
       "      <td>3071.058130</td>\n",
       "    </tr>\n",
       "    <tr>\n",
       "      <th>...</th>\n",
       "      <td>...</td>\n",
       "      <td>...</td>\n",
       "    </tr>\n",
       "    <tr>\n",
       "      <th>25</th>\n",
       "      <td>2025-07-26</td>\n",
       "      <td>2949.058130</td>\n",
       "    </tr>\n",
       "    <tr>\n",
       "      <th>26</th>\n",
       "      <td>2025-07-27</td>\n",
       "      <td>2278.536044</td>\n",
       "    </tr>\n",
       "    <tr>\n",
       "      <th>27</th>\n",
       "      <td>2025-07-28</td>\n",
       "      <td>2534.084259</td>\n",
       "    </tr>\n",
       "    <tr>\n",
       "      <th>28</th>\n",
       "      <td>2025-07-29</td>\n",
       "      <td>4932.000000</td>\n",
       "    </tr>\n",
       "    <tr>\n",
       "      <th>29</th>\n",
       "      <td>2025-07-30</td>\n",
       "      <td>2672.915741</td>\n",
       "    </tr>\n",
       "  </tbody>\n",
       "</table>\n",
       "<p>30 rows × 2 columns</p>\n",
       "</div>"
      ],
      "text/plain": [
       "         date        sales\n",
       "0  2025-07-01  1297.000000\n",
       "1  2025-07-02  3329.915741\n",
       "2  2025-07-03  3198.463956\n",
       "3  2025-07-04  4688.941870\n",
       "4  2025-07-05  3071.058130\n",
       "..        ...          ...\n",
       "25 2025-07-26  2949.058130\n",
       "26 2025-07-27  2278.536044\n",
       "27 2025-07-28  2534.084259\n",
       "28 2025-07-29  4932.000000\n",
       "29 2025-07-30  2672.915741\n",
       "\n",
       "[30 rows x 2 columns]"
      ]
     },
     "execution_count": 87,
     "metadata": {},
     "output_type": "execute_result"
    }
   ],
   "source": [
    "daily_sales"
   ]
  },
  {
   "cell_type": "code",
   "execution_count": 89,
   "id": "5de4915c-89ac-4c36-8f7f-d42519f5460f",
   "metadata": {},
   "outputs": [
    {
     "name": "stdout",
     "output_type": "stream",
     "text": [
      "Added day of week:\n",
      "         date        sales day_of_week\n",
      "0  2025-07-01  1297.000000     Tuesday\n",
      "1  2025-07-02  3329.915741   Wednesday\n",
      "2  2025-07-03  3198.463956    Thursday\n",
      "3  2025-07-04  4688.941870      Friday\n",
      "4  2025-07-05  3071.058130    Saturday\n",
      "..        ...          ...         ...\n",
      "25 2025-07-26  2949.058130    Saturday\n",
      "26 2025-07-27  2278.536044      Sunday\n",
      "27 2025-07-28  2534.084259      Monday\n",
      "28 2025-07-29  4932.000000     Tuesday\n",
      "29 2025-07-30  2672.915741   Wednesday\n",
      "\n",
      "[30 rows x 3 columns]\n"
     ]
    }
   ],
   "source": [
    "# TODO: Analyze the time series:\n",
    "# 1. Add day_of_week column\n",
    "daily_sales['day_of_week']=daily_sales['date'].dt.day_name()\n",
    "print(f\"Added day of week:\\n{daily_sales}\")"
   ]
  },
  {
   "cell_type": "code",
   "execution_count": 94,
   "id": "97de926f-8605-418e-b2b7-08ba7db70804",
   "metadata": {},
   "outputs": [
    {
     "name": "stdout",
     "output_type": "stream",
     "text": [
      "Added 7-day rolling average: \n",
      "        date        sales day_of_week  7d_rolling_avg\n",
      "0 2025-07-01  1297.000000     Tuesday             NaN\n",
      "1 2025-07-02  3329.915741   Wednesday             NaN\n",
      "2 2025-07-03  3198.463956    Thursday             NaN\n",
      "3 2025-07-04  4688.941870      Friday             NaN\n",
      "4 2025-07-05  3071.058130    Saturday             NaN\n",
      "5 2025-07-06  3922.536044      Sunday             NaN\n",
      "6 2025-07-07  2972.084259      Monday     3211.428571\n",
      "7 2025-07-08  4761.000000     Tuesday     3706.285714\n",
      "8 2025-07-09  3905.915741   Wednesday     3788.571429\n",
      "9 2025-07-10  3830.463956    Thursday     3878.857143\n"
     ]
    }
   ],
   "source": [
    "# 2. Calculate 7-day rolling average\n",
    "daily_sales['7d_rolling_avg'] = daily_sales['sales'].rolling(window=7).mean()\n",
    "print(f\"Added 7-day rolling average: \\n{daily_sales.head(10)}\")"
   ]
  },
  {
   "cell_type": "code",
   "execution_count": 100,
   "id": "97a95056-f97f-4d53-8a5c-c7c2f6c7f127",
   "metadata": {},
   "outputs": [
    {
     "name": "stdout",
     "output_type": "stream",
     "text": [
      "Best day is Saturday and worst day is Saturday\n"
     ]
    }
   ],
   "source": [
    "# 3. Find best and worst days of the week\n",
    "best_day = daily_sales.loc[daily_sales['7d_rolling_avg'].idxmax(),'day_of_week']\n",
    "worst_day = daily_sales.loc[daily_sales['7d_rolling_avg'].idxmin(),'day_of_week']\n",
    "print(f\"Best day is {best_day} and worst day is {worst_day}\")"
   ]
  },
  {
   "cell_type": "code",
   "execution_count": 128,
   "id": "a166e9ba-ac46-4c75-89ed-0b9802bb7ab9",
   "metadata": {},
   "outputs": [],
   "source": [
    "# 4. Calculate week-over-week growth\n",
    "week1 = daily_sales[(daily_sales['date']>='2025-07-01')&(daily_sales['date']<='2025-07-07')]\n",
    "week2 = daily_sales[(daily_sales['date']>='2025-07-08')&(daily_sales['date']<='2025-07-14')]\n",
    "week3 = daily_sales[(daily_sales['date']>='2025-07-15')&(daily_sales['date']<='2025-07-21')]\n",
    "week4 = daily_sales[(daily_sales['date']>='2025-07-22')&(daily_sales['date']<='2025-07-28')]\n",
    "week5 = daily_sales[(daily_sales['date']>='2025-07-29')&(daily_sales['date']<='2025-07-31')]\n",
    "\n",
    "weekly_sales= pd.DataFrame({\n",
    "    'week': range(1,6),\n",
    "    'weekly_total_sales' : [week1['sales'].sum(), week2['sales'].sum(), week3['sales'].sum(), week4['sales'].sum(), week5['sales'].sum()]\n",
    "})"
   ]
  },
  {
   "cell_type": "code",
   "execution_count": 135,
   "id": "86ed9ca2-6333-49d2-8ab6-0f77d5c7de69",
   "metadata": {},
   "outputs": [
    {
     "name": "stdout",
     "output_type": "stream",
     "text": [
      "Weekly sales with % of week-on-week growth:\n",
      "   week  weekly_total_sales  week_on_week_growth\n",
      "0     1        22480.000000                  NaN\n",
      "1     2        26371.000000                17.31\n",
      "2     3        18279.000000               -30.69\n",
      "3     4        22012.000000                20.42\n",
      "4     5         7604.915741               -65.45\n"
     ]
    }
   ],
   "source": [
    "weekly_sales['week_on_week_growth']=round(weekly_sales['weekly_total_sales'].pct_change()*100,2)\n",
    "print(f\"Weekly sales with % of week-on-week growth:\\n{weekly_sales}\")"
   ]
  },
  {
   "cell_type": "markdown",
   "id": "47769abf",
   "metadata": {},
   "source": [
    "### Challenge 3 — Data Aggregation Pipeline (hard)\n",
    "Build a complete analysis pipeline."
   ]
  },
  {
   "cell_type": "code",
   "execution_count": 131,
   "id": "86cc26e1",
   "metadata": {},
   "outputs": [],
   "source": [
    "# E-commerce transaction data\n",
    "np.random.seed(42)\n",
    "transactions = pd.DataFrame({\n",
    "    'transaction_id': range(1, 101),\n",
    "    'customer_id': np.random.randint(1, 21, 100),\n",
    "    'product': np.random.choice(['Laptop', 'Phone', 'Tablet', 'Watch'], 100),\n",
    "    'amount': np.random.uniform(100, 2000, 100).round(2),\n",
    "    'date': pd.date_range('2025-08-01', periods=100, freq='h')\n",
    "})\n"
   ]
  },
  {
   "cell_type": "code",
   "execution_count": 136,
   "id": "e4d4d108-7859-414d-a3cb-5f8dadc14a75",
   "metadata": {},
   "outputs": [
    {
     "name": "stdout",
     "output_type": "stream",
     "text": [
      "Total revenue by product ($):\n",
      "product\n",
      "Laptop    24941.12\n",
      "Phone     23487.18\n",
      "Tablet    30381.74\n",
      "Watch     25319.93\n",
      "Name: amount, dtype: float64\n"
     ]
    }
   ],
   "source": [
    "# TODO: Create a comprehensive analysis:\n",
    "# 1. Calculate total revenue by product\n",
    "total_revenue_by_product = transactions.groupby('product')['amount'].sum()\n",
    "print(f\"Total revenue by product ($):\\n{total_revenue_by_product}\")"
   ]
  },
  {
   "cell_type": "code",
   "execution_count": 167,
   "id": "6edfb0f4-489e-44b4-872a-8d20f4be8230",
   "metadata": {},
   "outputs": [
    {
     "name": "stdout",
     "output_type": "stream",
     "text": [
      "There are total 20 customers.\n",
      "\n",
      "Top 5 transaction amount ($): \n",
      "18    1972.74\n",
      "90    1948.72\n",
      "3     1946.39\n",
      "4     1928.65\n",
      "42    1879.79\n",
      "Name: amount, dtype: float64\n",
      "\n",
      "Top 5 customers in total spending ($): \n",
      "customer_id\n",
      "8     10605.64\n",
      "12     9721.97\n",
      "7      8468.18\n",
      "15     7266.93\n",
      "4      6586.46\n",
      "Name: amount, dtype: float64\n"
     ]
    }
   ],
   "source": [
    "# 2. Find top 5 customers by total spending\n",
    "unique_customer_id = (transactions['customer_id'].unique()).tolist()\n",
    "print(f\"There are total {len(unique_customer_id)} customers.\")\n",
    "\n",
    "top5_amount=transactions['amount'].sort_values(ascending=False).head(5)\n",
    "print(f\"\\nTop 5 transaction amount ($): \\n{top5_amount}\")\n",
    "\n",
    "total_spending_per_customer = transactions.groupby('customer_id')['amount'].sum()\n",
    "total_spending_per_customer_top5= total_spending_per_customer.sort_values(ascending=False).head(5)\n",
    "print(f\"\\nTop 5 customers in total spending ($): \\n{total_spending_per_customer_top5}\")"
   ]
  },
  {
   "cell_type": "code",
   "execution_count": 159,
   "id": "edbedb5e-da2f-4775-96a2-6d294c7005a7",
   "metadata": {},
   "outputs": [
    {
     "name": "stdout",
     "output_type": "stream",
     "text": [
      "Top 3 peak shopping hours :\n",
      "hours\n",
      "3     7106.50\n",
      "18    6208.34\n",
      "23    5666.21\n",
      "Name: amount, dtype: float64\n"
     ]
    }
   ],
   "source": [
    "# 3. Identify peak shopping hours\n",
    "transactions['hours']=transactions['date'].dt.hour\n",
    "shopping_hour = transactions.groupby('hours')['amount'].sum()\n",
    "shopping_hour_top3 = shopping_hour.sort_values(ascending=False).head(3)\n",
    "print(f\"Top 3 peak shopping hours :\\n{shopping_hour_top3}\")"
   ]
  },
  {
   "cell_type": "code",
   "execution_count": 194,
   "id": "cc1dbb07-8be9-45bb-bd9f-81bc39d894d2",
   "metadata": {},
   "outputs": [
    {
     "name": "stdout",
     "output_type": "stream",
     "text": [
      "Customer metrics: \n",
      "    Customer ID  Total spend ($)  Average spend ($)  Transaction count\n",
      "0             1          5077.48        1015.496000                  5\n",
      "1             2          5125.43         854.238333                  6\n",
      "2             3          3946.43         789.286000                  5\n",
      "3             4          6586.46        1097.743333                  6\n",
      "4             5          2348.09         782.696667                  3\n",
      "..          ...              ...                ...                ...\n",
      "15           16          5610.75        1402.687500                  4\n",
      "16           17          4040.37        1346.790000                  3\n",
      "17           18          5577.91        1115.582000                  5\n",
      "18           19          4864.93        1216.232500                  4\n",
      "19           20          3170.75        1056.916667                  3\n",
      "\n",
      "[20 rows x 4 columns]\n"
     ]
    }
   ],
   "source": [
    "# 4. Calculate customer metrics: total spent, avg transaction, transaction count\n",
    "# 5. Create a summary report DataFrame\n",
    "\n",
    "total_spending_per_customer = transactions.groupby('customer_id')['amount'].sum()\n",
    "#print(f\"Total spending per customer ($): \\n{total_spending_per_customer}\")\n",
    "average_spending_per_customer = transactions.groupby('customer_id')['amount'].mean()\n",
    "#print(f\"\\nAverage spending per customer ($): \\n{average_spending_per_customer}\")\n",
    "transaction_count_per_customer = transactions.groupby('customer_id')['transaction_id'].count()\n",
    "#print(f\"\\nTransaction count per customer: \\n{transaction_count_per_customer}\")\n",
    "\n",
    "customer_metrics = pd.DataFrame({\n",
    "    'Customer ID': sorted(unique_customer_id),\n",
    "    'Total spend ($)' : total_spending_per_customer.tolist(),\n",
    "    'Average spend ($)' : average_spending_per_customer.tolist(),\n",
    "    'Transaction count' : transaction_count_per_customer.tolist()\n",
    "})\n",
    "\n",
    "print(f\"Customer metrics: \\n{customer_metrics}\")"
   ]
  },
  {
   "cell_type": "markdown",
   "id": "8e83438c",
   "metadata": {},
   "source": [
    "## 🎯 Bonus Challenge: Real-World Mini Project\n",
    "Combine everything you've learned!"
   ]
  },
  {
   "cell_type": "code",
   "execution_count": 198,
   "id": "04b9cbdf",
   "metadata": {},
   "outputs": [
    {
     "data": {
      "text/html": [
       "<div>\n",
       "<style scoped>\n",
       "    .dataframe tbody tr th:only-of-type {\n",
       "        vertical-align: middle;\n",
       "    }\n",
       "\n",
       "    .dataframe tbody tr th {\n",
       "        vertical-align: top;\n",
       "    }\n",
       "\n",
       "    .dataframe thead th {\n",
       "        text-align: right;\n",
       "    }\n",
       "</style>\n",
       "<table border=\"1\" class=\"dataframe\">\n",
       "  <thead>\n",
       "    <tr style=\"text-align: right;\">\n",
       "      <th></th>\n",
       "      <th>order_id</th>\n",
       "      <th>location</th>\n",
       "      <th>item</th>\n",
       "      <th>quantity</th>\n",
       "      <th>price</th>\n",
       "      <th>day_of_week</th>\n",
       "      <th>meal_type</th>\n",
       "    </tr>\n",
       "  </thead>\n",
       "  <tbody>\n",
       "    <tr>\n",
       "      <th>0</th>\n",
       "      <td>1</td>\n",
       "      <td>Airport</td>\n",
       "      <td>Fish</td>\n",
       "      <td>2</td>\n",
       "      <td>24.88</td>\n",
       "      <td>Fri</td>\n",
       "      <td>Breakfast</td>\n",
       "    </tr>\n",
       "    <tr>\n",
       "      <th>1</th>\n",
       "      <td>2</td>\n",
       "      <td>Downtown</td>\n",
       "      <td>Pizza</td>\n",
       "      <td>2</td>\n",
       "      <td>18.35</td>\n",
       "      <td>Tue</td>\n",
       "      <td>Dinner</td>\n",
       "    </tr>\n",
       "    <tr>\n",
       "      <th>2</th>\n",
       "      <td>3</td>\n",
       "      <td>Downtown</td>\n",
       "      <td>Salad</td>\n",
       "      <td>2</td>\n",
       "      <td>42.52</td>\n",
       "      <td>Tue</td>\n",
       "      <td>Dinner</td>\n",
       "    </tr>\n",
       "    <tr>\n",
       "      <th>3</th>\n",
       "      <td>4</td>\n",
       "      <td>Airport</td>\n",
       "      <td>Dessert</td>\n",
       "      <td>1</td>\n",
       "      <td>19.63</td>\n",
       "      <td>Sat</td>\n",
       "      <td>Breakfast</td>\n",
       "    </tr>\n",
       "    <tr>\n",
       "      <th>4</th>\n",
       "      <td>5</td>\n",
       "      <td>Airport</td>\n",
       "      <td>Burger</td>\n",
       "      <td>1</td>\n",
       "      <td>41.66</td>\n",
       "      <td>Fri</td>\n",
       "      <td>Dinner</td>\n",
       "    </tr>\n",
       "    <tr>\n",
       "      <th>...</th>\n",
       "      <td>...</td>\n",
       "      <td>...</td>\n",
       "      <td>...</td>\n",
       "      <td>...</td>\n",
       "      <td>...</td>\n",
       "      <td>...</td>\n",
       "      <td>...</td>\n",
       "    </tr>\n",
       "    <tr>\n",
       "      <th>195</th>\n",
       "      <td>196</td>\n",
       "      <td>Airport</td>\n",
       "      <td>Pasta</td>\n",
       "      <td>2</td>\n",
       "      <td>24.51</td>\n",
       "      <td>Sun</td>\n",
       "      <td>Dinner</td>\n",
       "    </tr>\n",
       "    <tr>\n",
       "      <th>196</th>\n",
       "      <td>197</td>\n",
       "      <td>Downtown</td>\n",
       "      <td>Soup</td>\n",
       "      <td>2</td>\n",
       "      <td>32.55</td>\n",
       "      <td>Wed</td>\n",
       "      <td>Dinner</td>\n",
       "    </tr>\n",
       "    <tr>\n",
       "      <th>197</th>\n",
       "      <td>198</td>\n",
       "      <td>Airport</td>\n",
       "      <td>Soup</td>\n",
       "      <td>3</td>\n",
       "      <td>28.33</td>\n",
       "      <td>Fri</td>\n",
       "      <td>Lunch</td>\n",
       "    </tr>\n",
       "    <tr>\n",
       "      <th>198</th>\n",
       "      <td>199</td>\n",
       "      <td>Mall</td>\n",
       "      <td>Salad</td>\n",
       "      <td>4</td>\n",
       "      <td>9.02</td>\n",
       "      <td>Mon</td>\n",
       "      <td>Dinner</td>\n",
       "    </tr>\n",
       "    <tr>\n",
       "      <th>199</th>\n",
       "      <td>200</td>\n",
       "      <td>Downtown</td>\n",
       "      <td>Pasta</td>\n",
       "      <td>3</td>\n",
       "      <td>9.18</td>\n",
       "      <td>Wed</td>\n",
       "      <td>Dinner</td>\n",
       "    </tr>\n",
       "  </tbody>\n",
       "</table>\n",
       "<p>200 rows × 7 columns</p>\n",
       "</div>"
      ],
      "text/plain": [
       "     order_id  location     item  quantity  price day_of_week  meal_type\n",
       "0           1   Airport     Fish         2  24.88         Fri  Breakfast\n",
       "1           2  Downtown    Pizza         2  18.35         Tue     Dinner\n",
       "2           3  Downtown    Salad         2  42.52         Tue     Dinner\n",
       "3           4   Airport  Dessert         1  19.63         Sat  Breakfast\n",
       "4           5   Airport   Burger         1  41.66         Fri     Dinner\n",
       "..        ...       ...      ...       ...    ...         ...        ...\n",
       "195       196   Airport    Pasta         2  24.51         Sun     Dinner\n",
       "196       197  Downtown     Soup         2  32.55         Wed     Dinner\n",
       "197       198   Airport     Soup         3  28.33         Fri      Lunch\n",
       "198       199      Mall    Salad         4   9.02         Mon     Dinner\n",
       "199       200  Downtown    Pasta         3   9.18         Wed     Dinner\n",
       "\n",
       "[200 rows x 7 columns]"
      ]
     },
     "execution_count": 198,
     "metadata": {},
     "output_type": "execute_result"
    }
   ],
   "source": [
    "# Restaurant order analysis\n",
    "# You're analyzing data for a restaurant chain\n",
    "\n",
    "# Generate realistic restaurant data\n",
    "np.random.seed(123)\n",
    "menu_items = ['Burger', 'Pizza', 'Salad', 'Pasta', 'Steak', 'Fish', 'Soup', 'Dessert']\n",
    "locations = ['Downtown', 'Mall', 'Airport', 'Suburb']\n",
    "\n",
    "orders = pd.DataFrame({\n",
    "    'order_id': range(1, 201),\n",
    "    'location': np.random.choice(locations, 200, p=[0.3, 0.25, 0.2, 0.25]),\n",
    "    'item': np.random.choice(menu_items, 200),\n",
    "    'quantity': np.random.randint(1, 5, 200),\n",
    "    'price': np.random.uniform(8, 45, 200).round(2),\n",
    "    'day_of_week': np.random.choice(['Mon', 'Tue', 'Wed', 'Thu', 'Fri', 'Sat', 'Sun'], 200),\n",
    "    'meal_type': np.random.choice(['Breakfast', 'Lunch', 'Dinner'], 200, p=[0.2, 0.35, 0.45])\n",
    "})\n",
    "orders"
   ]
  },
  {
   "cell_type": "code",
   "execution_count": 207,
   "id": "09d64caf-7b11-4b0d-b707-f8ab5982b55f",
   "metadata": {},
   "outputs": [
    {
     "name": "stdout",
     "output_type": "stream",
     "text": [
      "Average order by location: \n",
      "location\n",
      "Airport     63.289259\n",
      "Downtown    68.964694\n",
      "Mall        69.520714\n",
      "Suburb      67.018049\n",
      "Name: total_order_value, dtype: float64\n",
      "\n",
      "Location with the highest average order value: Mall\n"
     ]
    }
   ],
   "source": [
    "# TODO: Complete analysis to answer these business questions:\n",
    "# 1. Which location has the highest average order value?\n",
    "orders['total_order_value']=orders['quantity']*orders['price']\n",
    "average_order = orders.groupby('location')['total_order_value'].mean()\n",
    "print(f\"Average order by location: \\n{average_order}\")\n",
    "print(f\"\\nLocation with the highest average order value: {average_order.idxmax()}\")"
   ]
  },
  {
   "cell_type": "code",
   "execution_count": 237,
   "id": "63726817-c457-4ae9-a176-1e5ded4da896",
   "metadata": {},
   "outputs": [
    {
     "name": "stdout",
     "output_type": "stream",
     "text": [
      "Popular item by location based on order quantity:\n",
      "location  item   \n",
      "Airport   Soup       35\n",
      "Downtown  Fish       25\n",
      "Mall      Dessert    30\n",
      "Suburb    Soup       19\n",
      "Name: quantity, dtype: int32\n"
     ]
    }
   ],
   "source": [
    "# 2. What's the most popular item at each location?\n",
    "item_by_location = orders.groupby(['location','item'])['quantity'].sum()\n",
    "item_by_location\n",
    "\n",
    "popular_item = item_by_location.groupby(level=0).idxmax()\n",
    "popular_item_by_location = item_by_location.loc[popular_item]\n",
    "print(f\"Popular item by location based on order quantity:\\n{popular_item_by_location}\")"
   ]
  },
  {
   "cell_type": "code",
   "execution_count": 221,
   "id": "0ef9c97e-5ba7-41e6-89fd-14880ed5615d",
   "metadata": {},
   "outputs": [
    {
     "name": "stdout",
     "output_type": "stream",
     "text": [
      "Meal revenue: \n",
      "meal_type\n",
      "Breakfast    1998.60\n",
      "Dinner       6122.72\n",
      "Lunch        5316.47\n",
      "Name: total_order_value, dtype: float64\n",
      "\n",
      "Meal with most revenue: Dinner\n"
     ]
    }
   ],
   "source": [
    "# 3. Which meal type generates the most revenue?\n",
    "meal_revenue = orders.groupby('meal_type')['total_order_value'].sum()\n",
    "print(f\"Meal revenue: \\n{meal_revenue}\")\n",
    "print(f\"\\nMeal with most revenue: {meal_revenue.idxmax()}\")"
   ]
  },
  {
   "cell_type": "code",
   "execution_count": 224,
   "id": "8b99f3d8-8411-413b-b701-b43d26a49676",
   "metadata": {},
   "outputs": [
    {
     "name": "stdout",
     "output_type": "stream",
     "text": [
      "Transaction count by day of the week: \n",
      "day_of_week\n",
      "Fri    29\n",
      "Mon    32\n",
      "Sat    20\n",
      "Sun    29\n",
      "Thu    38\n",
      "Tue    26\n",
      "Wed    26\n",
      "Name: order_id, dtype: int64\n",
      "\n",
      "Busiest day of the week: Thu\n"
     ]
    }
   ],
   "source": [
    "# 4. What's the busiest day of the week?\n",
    "transaction_count = orders.groupby('day_of_week')['order_id'].count()\n",
    "print(f\"Transaction count by day of the week: \\n{transaction_count}\")\n",
    "print(f\"\\nBusiest day of the week: {transaction_count.idxmax()}\")"
   ]
  },
  {
   "cell_type": "code",
   "execution_count": 246,
   "id": "91632fcd-044a-470e-94d3-1bc6290dbe0f",
   "metadata": {},
   "outputs": [
    {
     "name": "stdout",
     "output_type": "stream",
     "text": [
      "Location performance metrics: \n",
      "   Location Popular item Popular meal type  Average order ($)  \\\n",
      "0   Airport         Soup            Dinner          63.289259   \n",
      "1  Downtown         Fish            Dinner          68.964694   \n",
      "2      Mall      Dessert            Dinner          69.520714   \n",
      "3    Suburb         Soup             Lunch          67.018049   \n",
      "\n",
      "   Total order ($) Busiest day  \n",
      "0          3417.62         Thu  \n",
      "1          3379.27         Sun  \n",
      "2          3893.16         Thu  \n",
      "3          2747.74         Mon  \n"
     ]
    }
   ],
   "source": [
    "# 5. Create a location performance summary with key metrics\n",
    "unique_location = orders['location'].unique().tolist()\n",
    "total_order = orders.groupby('location')['total_order_value'].sum()\n",
    "popular_item_clean = [t[1] if isinstance(t, tuple) else t for t in popular_item.tolist()]\n",
    "\n",
    "meal_by_location = orders.groupby(['location','meal_type'])['quantity'].sum()\n",
    "popular_meal = meal_by_location.groupby(level=0).idxmax()\n",
    "popular_meal_clean = [t[1] if isinstance(t, tuple) else t for t in popular_meal.tolist()]\n",
    "\n",
    "busyday_by_location = orders.groupby(['location','day_of_week'])['order_id'].count()\n",
    "busy_day = busyday_by_location.groupby(level=0).idxmax()\n",
    "busy_day_clean = [t[1] if isinstance(t,tuple) else t for t in busy_day.tolist()]\n",
    "\n",
    "location_performance_metrics = pd.DataFrame({\n",
    "    'Location': unique_location,\n",
    "    'Popular item' : popular_item_clean,\n",
    "    'Popular meal type' : popular_meal_clean,\n",
    "    'Average order ($)' : average_order.tolist(),\n",
    "    'Total order ($)' : total_order.tolist(),\n",
    "    'Busiest day': busy_day_clean\n",
    "    })\n",
    "\n",
    "print(f\"Location performance metrics: \\n{location_performance_metrics}\")"
   ]
  },
  {
   "cell_type": "markdown",
   "id": "9bc427af",
   "metadata": {},
   "source": [
    "## 📊 Lab Summary Checklist\n",
    "Before submitting, ensure you've completed:\n",
    "\n",
    "- [ ] All Series exercises (1.1 - 1.3)\n",
    "- [ ] DataFrame creation and operations (2.1 - 2.3)\n",
    "- [ ] Selection and indexing practice (3.1 - 3.2)\n",
    "- [ ] At least 2 challenge problems\n",
    "- [ ] Bonus challenge (optional)\n",
    "\n",
    "**Self-Assessment:**\n",
    "- I can create and manipulate Series ✅\n",
    "- I can build DataFrames from various sources ✅\n",
    "- I understand loc vs iloc selection ✅\n",
    "- I can filter data with multiple conditions ✅\n",
    "- I can add and modify columns ✅"
   ]
  },
  {
   "cell_type": "markdown",
   "id": "85d6cd36",
   "metadata": {},
   "source": [
    "## 🚀 What's Next?\n",
    "**Lab 01B:** Data wrangling with groupby, merge, and pivot operations!"
   ]
  }
 ],
 "metadata": {
  "kernelspec": {
   "display_name": "Python 3 (ipykernel)",
   "language": "python",
   "name": "python3"
  },
  "language_info": {
   "codemirror_mode": {
    "name": "ipython",
    "version": 3
   },
   "file_extension": ".py",
   "mimetype": "text/x-python",
   "name": "python",
   "nbconvert_exporter": "python",
   "pygments_lexer": "ipython3",
   "version": "3.13.7"
  }
 },
 "nbformat": 4,
 "nbformat_minor": 5
}
