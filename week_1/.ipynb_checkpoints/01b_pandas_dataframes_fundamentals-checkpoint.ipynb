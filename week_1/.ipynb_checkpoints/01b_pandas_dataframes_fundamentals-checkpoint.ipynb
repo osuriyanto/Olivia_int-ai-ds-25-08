{
 "cells": [
  {
   "cell_type": "markdown",
   "id": "6e8287c6",
   "metadata": {},
   "source": [
    "# **AI TECH INSTITUTE** · *Intermediate AI & Data Science*\n",
    "### Week 01 · Notebook 02 — DataFrames Fundamentals\n",
    "**Instructor:** Amir Charkhi  |  **Goal:** Master DataFrame creation, selection, and basic operations.\n",
    "\n",
    "> Format: build on Series knowledge → explore 2D data → practice real operations.\n"
   ]
  },
  {
   "cell_type": "markdown",
   "id": "4a35e8bb",
   "metadata": {},
   "source": [
    "---\n",
    "## From Series to DataFrames\n",
    "Think of a DataFrame as a collection of Series sharing the same index - like a spreadsheet!"
   ]
  },
  {
   "cell_type": "code",
   "execution_count": 1,
   "id": "da6e4326",
   "metadata": {},
   "outputs": [
    {
     "name": "stdout",
     "output_type": "stream",
     "text": [
      "Our first DataFrame:\n",
      "      name  age  grade\n",
      "0    Alice   22     85\n",
      "1      Bob   24     78\n",
      "2  Charlie   23     92\n",
      "\n",
      "Shape: (3, 3) (rows, columns)\n",
      "Columns: ['name', 'age', 'grade']\n",
      "Data types:\n",
      "name     object\n",
      "age       int64\n",
      "grade     int64\n",
      "dtype: object\n"
     ]
    }
   ],
   "source": [
    "import pandas as pd\n",
    "import numpy as np\n",
    "\n",
    "# Remember Week 0: list of dictionaries?\n",
    "students_list = [\n",
    "    {'name': 'Alice', 'age': 22, 'grade': 85},\n",
    "    {'name': 'Bob', 'age': 24, 'grade': 78},\n",
    "    {'name': 'Charlie', 'age': 23, 'grade': 92}\n",
    "]\n",
    "\n",
    "# Now as a DataFrame!\n",
    "df = pd.DataFrame(students_list)\n",
    "print(\"Our first DataFrame:\")\n",
    "print(df)\n",
    "print(f\"\\nShape: {df.shape} (rows, columns)\")\n",
    "print(f\"Columns: {df.columns.tolist()}\")\n",
    "print(f\"Data types:\\n{df.dtypes}\")"
   ]
  },
  {
   "cell_type": "markdown",
   "id": "5b4f40a1",
   "metadata": {},
   "source": [
    "## 1. Creating DataFrames - Multiple Ways"
   ]
  },
  {
   "cell_type": "code",
   "execution_count": 2,
   "id": "d0037003",
   "metadata": {},
   "outputs": [
    {
     "name": "stdout",
     "output_type": "stream",
     "text": [
      "Products DataFrame:\n",
      "    Product  Price  Stock     Category\n",
      "0    Laptop   1200     15  Electronics\n",
      "1     Mouse     25    102  Accessories\n",
      "2  Keyboard     80     45  Accessories\n",
      "3   Monitor    350     28  Electronics\n",
      "4    Webcam    120     33  Accessories\n",
      "\n",
      "People DataFrame:\n",
      "          Age  Height_cm  Weight_kg\n",
      "Person_1   25        180         68\n",
      "Person_2   28        175         72\n",
      "Person_3   22        165         58\n"
     ]
    }
   ],
   "source": [
    "# Method 1: From dictionary of lists\n",
    "data_dict = {\n",
    "    'Product': ['Laptop', 'Mouse', 'Keyboard', 'Monitor', 'Webcam'],\n",
    "    'Price': [1200, 25, 80, 350, 120],\n",
    "    'Stock': [15, 102, 45, 28, 33],\n",
    "    'Category': ['Electronics', 'Accessories', 'Accessories', 'Electronics', 'Accessories']\n",
    "}\n",
    "\n",
    "products_df = pd.DataFrame(data_dict)\n",
    "print(\"Products DataFrame:\")\n",
    "print(products_df)\n",
    "\n",
    "# Method 2: From NumPy array with custom columns and index\n",
    "data_array = np.array([[25, 180, 68], [28, 175, 72], [22, 165, 58]])\n",
    "people_df = pd.DataFrame(\n",
    "    data_array,\n",
    "    columns=['Age', 'Height_cm', 'Weight_kg'],\n",
    "    index=['Person_1', 'Person_2', 'Person_3']\n",
    ")\n",
    "print(\"\\nPeople DataFrame:\")\n",
    "print(people_df)"
   ]
  },
  {
   "cell_type": "markdown",
   "id": "741c1c71",
   "metadata": {},
   "source": [
    "**Exercise 1 — Sales Dashboard (easy)**  \n",
    "Create a DataFrame with 5 days of sales data: date, revenue, customers, avg_order_value.\n"
   ]
  },
  {
   "cell_type": "code",
   "execution_count": 6,
   "id": "127850d0",
   "metadata": {},
   "outputs": [
    {
     "name": "stdout",
     "output_type": "stream",
     "text": [
      "  sales_days  revenue customer  avg_order_value\n",
      "0 2025-08-01   241.05        A               37\n",
      "1 2025-08-02   100.50        C               18\n",
      "2 2025-08-03   293.26        B               33\n",
      "3 2025-08-04   226.08        A               22\n",
      "4 2025-08-05   157.64        A                7\n",
      "\n",
      "<class 'pandas.core.frame.DataFrame'>\n",
      "RangeIndex: 5 entries, 0 to 4\n",
      "Data columns (total 4 columns):\n",
      " #   Column           Non-Null Count  Dtype         \n",
      "---  ------           --------------  -----         \n",
      " 0   sales_days       5 non-null      datetime64[ns]\n",
      " 1   revenue          5 non-null      float64       \n",
      " 2   customer         5 non-null      object        \n",
      " 3   avg_order_value  5 non-null      int32         \n",
      "dtypes: datetime64[ns](1), float64(1), int32(1), object(1)\n",
      "memory usage: 272.0+ bytes\n",
      "None\n"
     ]
    }
   ],
   "source": [
    "# Your turn\n",
    "\n",
    "sales_days = pd.date_range('2025-08-01', periods = 5)\n",
    "revenue = np.random.uniform(50,300,5).round(2)\n",
    "customer = np.random.choice(['A','B', 'C'],5)\n",
    "avg_order_value = np.random.randint(5,50,5)\n",
    "\n",
    "sales_df = pd.DataFrame({\n",
    "    'sales_days' : sales_days,\n",
    "    'revenue' : revenue,\n",
    "    'customer' : customer,\n",
    "    'avg_order_value' : avg_order_value\n",
    "})\n",
    "print(sales_df)\n",
    "print()\n",
    "print(sales_df.info())"
   ]
  },
  {
   "cell_type": "markdown",
   "id": "5265e60a",
   "metadata": {},
   "source": [
    "<details>\n",
    "<summary><b>Solution</b></summary>\n",
    "\n",
    "```python\n",
    "sales_data = {\n",
    "    'date': ['2025-08-19', '2025-08-20', '2025-08-21', '2025-08-22', '2025-08-23'],\n",
    "    'revenue': [5420, 6100, 4850, 7200, 8900],\n",
    "    'customers': [45, 52, 41, 58, 72],\n",
    "    'avg_order_value': [120.44, 117.31, 118.29, 124.14, 123.61]\n",
    "}\n",
    "sales_df = pd.DataFrame(sales_data)\n",
    "print(sales_df)\n",
    "print(f\"\\nTotal revenue: ${sales_df['revenue'].sum():,.2f}\")\n",
    "```\n",
    "</details>"
   ]
  },
  {
   "cell_type": "markdown",
   "id": "582c78e3",
   "metadata": {},
   "source": [
    "## 2. Selecting Data - Columns and Rows"
   ]
  },
  {
   "cell_type": "code",
   "execution_count": 7,
   "id": "dd91af14",
   "metadata": {},
   "outputs": [
    {
     "name": "stdout",
     "output_type": "stream",
     "text": [
      "Select single column (returns Series):\n",
      "0    1200\n",
      "1      25\n",
      "2      80\n",
      "3     350\n",
      "4     120\n",
      "Name: Price, dtype: int64\n",
      "\n",
      "Select multiple columns (returns DataFrame):\n",
      "    Product  Price\n",
      "0    Laptop   1200\n",
      "1     Mouse     25\n",
      "2  Keyboard     80\n",
      "3   Monitor    350\n",
      "4    Webcam    120\n",
      "\n",
      "Products under $100:\n",
      "    Product  Price  Stock     Category\n",
      "1     Mouse     25    102  Accessories\n",
      "2  Keyboard     80     45  Accessories\n",
      "\n",
      "Electronics with stock > 20:\n",
      "   Product  Price  Stock     Category\n",
      "3  Monitor    350     28  Electronics\n"
     ]
    }
   ],
   "source": [
    "# Using our products DataFrame\n",
    "print(\"Select single column (returns Series):\")\n",
    "print(products_df['Price'])\n",
    "\n",
    "print(\"\\nSelect multiple columns (returns DataFrame):\")\n",
    "print(products_df[['Product', 'Price']])\n",
    "\n",
    "# Selecting rows by condition\n",
    "print(\"\\nProducts under $100:\")\n",
    "affordable = products_df[products_df['Price'] < 100]\n",
    "print(affordable)\n",
    "\n",
    "# Multiple conditions\n",
    "print(\"\\nElectronics with stock > 20:\")\n",
    "electronics_available = products_df[\n",
    "    (products_df['Category'] == 'Electronics') & \n",
    "    (products_df['Stock'] > 20)\n",
    "]\n",
    "print(electronics_available)"
   ]
  },
  {
   "cell_type": "markdown",
   "id": "b93cc6d3",
   "metadata": {},
   "source": [
    "## 3. loc vs iloc - Precise Selection"
   ]
  },
  {
   "cell_type": "code",
   "execution_count": 8,
   "id": "86ac1848",
   "metadata": {},
   "outputs": [
    {
     "name": "stdout",
     "output_type": "stream",
     "text": [
      "Original DataFrame:\n",
      "      A  B   C\n",
      "row1  1  5   9\n",
      "row2  2  6  10\n",
      "row3  3  7  11\n",
      "row4  4  8  12\n",
      "\n",
      "Using loc (labels):\n",
      "df.loc['row2', 'B']: 6\n",
      "\n",
      "df.loc['row1':'row3', 'A':'B']:\n",
      "      A  B\n",
      "row1  1  5\n",
      "row2  2  6\n",
      "row3  3  7\n",
      "\n",
      "Using iloc (positions):\n",
      "df.iloc[1, 1]: 6\n",
      "\n",
      "df.iloc[0:3, 0:2]:\n",
      "      A  B\n",
      "row1  1  5\n",
      "row2  2  6\n",
      "row3  3  7\n"
     ]
    }
   ],
   "source": [
    "# Create sample data\n",
    "df = pd.DataFrame({\n",
    "    'A': [1, 2, 3, 4],\n",
    "    'B': [5, 6, 7, 8],\n",
    "    'C': [9, 10, 11, 12]\n",
    "}, index=['row1', 'row2', 'row3', 'row4'])\n",
    "\n",
    "print(\"Original DataFrame:\")\n",
    "print(df)\n",
    "\n",
    "# loc: label-based selection\n",
    "print(\"\\nUsing loc (labels):\")\n",
    "print(\"df.loc['row2', 'B']:\", df.loc['row2', 'B'])\n",
    "print(\"\\ndf.loc['row1':'row3', 'A':'B']:\")\n",
    "print(df.loc['row1':'row3', 'A':'B'])\n",
    "\n",
    "# iloc: position-based selection\n",
    "print(\"\\nUsing iloc (positions):\")\n",
    "print(\"df.iloc[1, 1]:\", df.iloc[1, 1])\n",
    "print(\"\\ndf.iloc[0:3, 0:2]:\")\n",
    "print(df.iloc[0:3, 0:2])"
   ]
  },
  {
   "cell_type": "markdown",
   "id": "22f25302",
   "metadata": {},
   "source": [
    "**Exercise 2 — Data Extraction (medium)**  \n",
    "From products_df: 1) Get prices of first 3 products, 2) Get all info for products with stock < 40.\n"
   ]
  },
  {
   "cell_type": "code",
   "execution_count": 9,
   "id": "ddf3b8ab",
   "metadata": {},
   "outputs": [
    {
     "data": {
      "text/html": [
       "<div>\n",
       "<style scoped>\n",
       "    .dataframe tbody tr th:only-of-type {\n",
       "        vertical-align: middle;\n",
       "    }\n",
       "\n",
       "    .dataframe tbody tr th {\n",
       "        vertical-align: top;\n",
       "    }\n",
       "\n",
       "    .dataframe thead th {\n",
       "        text-align: right;\n",
       "    }\n",
       "</style>\n",
       "<table border=\"1\" class=\"dataframe\">\n",
       "  <thead>\n",
       "    <tr style=\"text-align: right;\">\n",
       "      <th></th>\n",
       "      <th>Product</th>\n",
       "      <th>Price</th>\n",
       "      <th>Stock</th>\n",
       "      <th>Category</th>\n",
       "    </tr>\n",
       "  </thead>\n",
       "  <tbody>\n",
       "    <tr>\n",
       "      <th>0</th>\n",
       "      <td>Laptop</td>\n",
       "      <td>1200</td>\n",
       "      <td>15</td>\n",
       "      <td>Electronics</td>\n",
       "    </tr>\n",
       "    <tr>\n",
       "      <th>1</th>\n",
       "      <td>Mouse</td>\n",
       "      <td>25</td>\n",
       "      <td>102</td>\n",
       "      <td>Accessories</td>\n",
       "    </tr>\n",
       "    <tr>\n",
       "      <th>2</th>\n",
       "      <td>Keyboard</td>\n",
       "      <td>80</td>\n",
       "      <td>45</td>\n",
       "      <td>Accessories</td>\n",
       "    </tr>\n",
       "    <tr>\n",
       "      <th>3</th>\n",
       "      <td>Monitor</td>\n",
       "      <td>350</td>\n",
       "      <td>28</td>\n",
       "      <td>Electronics</td>\n",
       "    </tr>\n",
       "    <tr>\n",
       "      <th>4</th>\n",
       "      <td>Webcam</td>\n",
       "      <td>120</td>\n",
       "      <td>33</td>\n",
       "      <td>Accessories</td>\n",
       "    </tr>\n",
       "  </tbody>\n",
       "</table>\n",
       "</div>"
      ],
      "text/plain": [
       "    Product  Price  Stock     Category\n",
       "0    Laptop   1200     15  Electronics\n",
       "1     Mouse     25    102  Accessories\n",
       "2  Keyboard     80     45  Accessories\n",
       "3   Monitor    350     28  Electronics\n",
       "4    Webcam    120     33  Accessories"
      ]
     },
     "execution_count": 9,
     "metadata": {},
     "output_type": "execute_result"
    }
   ],
   "source": [
    "# Your turn\n",
    "products_df"
   ]
  },
  {
   "cell_type": "code",
   "execution_count": 12,
   "id": "cf788843-2b84-48aa-9e92-185f99717e63",
   "metadata": {},
   "outputs": [
    {
     "name": "stdout",
     "output_type": "stream",
     "text": [
      "prices of first 3 products: \n",
      "0    1200\n",
      "1      25\n",
      "2      80\n",
      "Name: Price, dtype: int64\n"
     ]
    }
   ],
   "source": [
    "#1) prices of first 3 products\n",
    "print(f\"prices of first 3 products: \\n{products_df.iloc[0:3,1]}\")"
   ]
  },
  {
   "cell_type": "code",
   "execution_count": 14,
   "id": "2dac84fb-472d-47c3-a2a5-df9560b43a6e",
   "metadata": {},
   "outputs": [
    {
     "name": "stdout",
     "output_type": "stream",
     "text": [
      "All info for products with stock < 40: \n",
      "   Product  Price  Stock     Category\n",
      "0   Laptop   1200     15  Electronics\n",
      "3  Monitor    350     28  Electronics\n",
      "4   Webcam    120     33  Accessories\n"
     ]
    }
   ],
   "source": [
    "#2) Get all info for products with stock < 40\n",
    "print(f\"All info for products with stock < 40: \\n{products_df[products_df['Stock']<40]}\")"
   ]
  },
  {
   "cell_type": "markdown",
   "id": "17f39466",
   "metadata": {},
   "source": [
    "<details>\n",
    "<summary><b>Solution</b></summary>\n",
    "\n",
    "```python\n",
    "# 1) Prices of first 3 products\n",
    "first_three_prices = products_df.iloc[:3]['Price']\n",
    "# or products_df.loc[:2, 'Price'] if using default index\n",
    "print(\"First 3 prices:\")\n",
    "print(first_three_prices)\n",
    "\n",
    "# 2) Products with stock < 40\n",
    "low_stock = products_df[products_df['Stock'] < 40]\n",
    "print(\"\\nLow stock products:\")\n",
    "print(low_stock)\n",
    "```\n",
    "</details>"
   ]
  },
  {
   "cell_type": "markdown",
   "id": "f8c85c5e",
   "metadata": {},
   "source": [
    "## 4. Adding and Modifying Columns"
   ]
  },
  {
   "cell_type": "code",
   "execution_count": 15,
   "id": "afdbd6b9",
   "metadata": {},
   "outputs": [
    {
     "name": "stdout",
     "output_type": "stream",
     "text": [
      "Enhanced products DataFrame:\n",
      "    Product  Price  Stock     Category  Total_Value  Needs_Restock\n",
      "0    Laptop   1200     15  Electronics        18000           True\n",
      "1     Mouse     25    102  Accessories         2550          False\n",
      "2  Keyboard     80     45  Accessories         3600          False\n",
      "3   Monitor    350     28  Electronics         9800           True\n",
      "4    Webcam    120     33  Accessories         3960          False\n",
      "\n",
      "With price categories:\n",
      "    Product  Price Price_Category\n",
      "0    Laptop   1200        Premium\n",
      "1     Mouse     25         Budget\n",
      "2  Keyboard     80      Mid-range\n",
      "3   Monitor    350        Premium\n",
      "4    Webcam    120      Mid-range\n"
     ]
    }
   ],
   "source": [
    "# Calculate new columns\n",
    "products_df['Total_Value'] = products_df['Price'] * products_df['Stock']\n",
    "products_df['Needs_Restock'] = products_df['Stock'] < 30\n",
    "\n",
    "print(\"Enhanced products DataFrame:\")\n",
    "print(products_df)\n",
    "\n",
    "# Modify existing column\n",
    "products_df['Price_After_Tax'] = products_df['Price'] * 1.1\n",
    "products_df['Price_After_Tax'] = products_df['Price_After_Tax'].round(2)\n",
    "\n",
    "# Using apply for complex operations\n",
    "def categorize_price(price):\n",
    "    if price < 50: return 'Budget'\n",
    "    elif price < 200: return 'Mid-range'\n",
    "    else: return 'Premium'\n",
    "\n",
    "products_df['Price_Category'] = products_df['Price'].apply(categorize_price)\n",
    "print(\"\\nWith price categories:\")\n",
    "print(products_df[['Product', 'Price', 'Price_Category']])"
   ]
  },
  {
   "cell_type": "markdown",
   "id": "64f3255a",
   "metadata": {},
   "source": [
    "## 5. Basic DataFrame Operations"
   ]
  },
  {
   "cell_type": "code",
   "execution_count": 16,
   "id": "a54870cb",
   "metadata": {},
   "outputs": [
    {
     "name": "stdout",
     "output_type": "stream",
     "text": [
      "Numeric columns summary:\n",
      "             Price       Stock   Total_Value  Price_After_Tax\n",
      "count     5.000000    5.000000      5.000000         5.000000\n",
      "mean    355.000000   44.600000   7582.000000       390.500000\n",
      "std     488.313424   33.842281   6475.926189       537.144766\n",
      "min      25.000000   15.000000   2550.000000        27.500000\n",
      "25%      80.000000   28.000000   3600.000000        88.000000\n",
      "50%     120.000000   33.000000   3960.000000       132.000000\n",
      "75%     350.000000   45.000000   9800.000000       385.000000\n",
      "max    1200.000000  102.000000  18000.000000      1320.000000\n",
      "\n",
      "DataFrame info:\n",
      "<class 'pandas.core.frame.DataFrame'>\n",
      "RangeIndex: 5 entries, 0 to 4\n",
      "Data columns (total 8 columns):\n",
      " #   Column           Non-Null Count  Dtype  \n",
      "---  ------           --------------  -----  \n",
      " 0   Product          5 non-null      object \n",
      " 1   Price            5 non-null      int64  \n",
      " 2   Stock            5 non-null      int64  \n",
      " 3   Category         5 non-null      object \n",
      " 4   Total_Value      5 non-null      int64  \n",
      " 5   Needs_Restock    5 non-null      bool   \n",
      " 6   Price_After_Tax  5 non-null      float64\n",
      " 7   Price_Category   5 non-null      object \n",
      "dtypes: bool(1), float64(1), int64(3), object(3)\n",
      "memory usage: 417.0+ bytes\n",
      "None\n",
      "\n",
      "Sorted by price (descending):\n",
      "    Product  Price\n",
      "0    Laptop   1200\n",
      "3   Monitor    350\n",
      "4    Webcam    120\n",
      "2  Keyboard     80\n",
      "1     Mouse     25\n",
      "\n",
      "Category distribution:\n",
      "Category\n",
      "Accessories    3\n",
      "Electronics    2\n",
      "Name: count, dtype: int64\n"
     ]
    }
   ],
   "source": [
    "# Summary statistics\n",
    "print(\"Numeric columns summary:\")\n",
    "print(products_df.describe())\n",
    "\n",
    "# Info about DataFrame\n",
    "print(\"\\nDataFrame info:\")\n",
    "print(products_df.info())\n",
    "\n",
    "# Sorting\n",
    "print(\"\\nSorted by price (descending):\")\n",
    "sorted_df = products_df.sort_values('Price', ascending=False)\n",
    "print(sorted_df[['Product', 'Price']])\n",
    "\n",
    "# Value counts\n",
    "print(\"\\nCategory distribution:\")\n",
    "print(products_df['Category'].value_counts())"
   ]
  },
  {
   "cell_type": "markdown",
   "id": "b93813ac",
   "metadata": {},
   "source": [
    "**Exercise 3 — Employee Analysis (hard)**  \n",
    "Create an employee DataFrame with: name, department, salary, years_experience.\n",
    "Add columns for: salary_level (Low/Mid/High), bonus (10% of salary if years > 3).\n",
    "Find average salary by department.\n"
   ]
  },
  {
   "cell_type": "code",
   "execution_count": 17,
   "id": "9f70e311",
   "metadata": {},
   "outputs": [
    {
     "name": "stdout",
     "output_type": "stream",
     "text": [
      "  name department  salary  years_experience\n",
      "0    A         RD   79295                 1\n",
      "1    B         IT  121501                 6\n",
      "2    C      Sales  133884                 4\n",
      "3    D         RD  132149                 8\n",
      "4    E         IT   75235                 2\n"
     ]
    }
   ],
   "source": [
    "# Your turn\n",
    "name = ['A','B','C','D','E']\n",
    "department = ['RD','IT','Sales','RD','IT']\n",
    "salary = np.random.randint(70000,170000,5)\n",
    "years_experience = np.random.randint(1,10,5)\n",
    "employee_df = pd.DataFrame({\n",
    "    'name':name,\n",
    "    'department':department,\n",
    "    'salary':salary,\n",
    "    'years_experience':years_experience\n",
    "})\n",
    "print(employee_df)"
   ]
  },
  {
   "cell_type": "code",
   "execution_count": 18,
   "id": "00c057cf-9429-4718-9510-84546d25d7b6",
   "metadata": {},
   "outputs": [
    {
     "name": "stdout",
     "output_type": "stream",
     "text": [
      "  name department  salary  years_experience salary_level\n",
      "0    A         RD   79295                 1          Low\n",
      "1    B         IT  121501                 6          Mid\n",
      "2    C      Sales  133884                 4         High\n",
      "3    D         RD  132149                 8         High\n",
      "4    E         IT   75235                 2          Low\n"
     ]
    }
   ],
   "source": [
    "def sal_level(salary):\n",
    "    if salary<100000: return 'Low'\n",
    "    elif salary<130000: return 'Mid'\n",
    "    else: return 'High'\n",
    "\n",
    "employee_df['salary_level']=employee_df['salary'].apply(sal_level)\n",
    "print(employee_df)"
   ]
  },
  {
   "cell_type": "code",
   "execution_count": 25,
   "id": "9079492b-7f71-4034-965a-735706d7fb48",
   "metadata": {},
   "outputs": [
    {
     "name": "stdout",
     "output_type": "stream",
     "text": [
      "  name department  salary  years_experience salary_level    bonus\n",
      "0    A         RD   79295                 1          Low      0.0\n",
      "1    B         IT  121501                 6          Mid  12150.1\n",
      "2    C      Sales  133884                 4         High  13388.4\n",
      "3    D         RD  132149                 8         High  13214.9\n",
      "4    E         IT   75235                 2          Low      0.0\n"
     ]
    }
   ],
   "source": [
    "def bonus_calc(row):\n",
    "    if row['years_experience']>3: return row['salary']*0.1\n",
    "    else: return 0\n",
    "employee_df['bonus']=employee_df.apply(bonus_calc, axis=1)\n",
    "print(employee_df)"
   ]
  },
  {
   "cell_type": "markdown",
   "id": "b70f49f9-eb26-4590-91a4-f298dfd5d567",
   "metadata": {},
   "source": [
    "<details>\n",
    "<summary><b>Solution</b></summary>\n",
    "\n",
    "```python\n",
    "employees = pd.DataFrame({\n",
    "    'name': ['Alice', 'Bob', 'Charlie', 'Diana', 'Eve'],\n",
    "    'department': ['IT', 'Sales', 'IT', 'HR', 'Sales'],\n",
    "    'salary': [75000, 65000, 82000, 58000, 71000],\n",
    "    'years_experience': [5, 2, 7, 3, 4]\n",
    "})\n",
    "\n",
    "# Add salary level\n",
    "def salary_level(sal):\n",
    "    if sal < 60000: return 'Low'\n",
    "    elif sal < 75000: return 'Mid'\n",
    "    else: return 'High'\n",
    "\n",
    "employees['salary_level'] = employees['salary'].apply(salary_level)\n",
    "\n",
    "# Add bonus\n",
    "employees['bonus'] = employees.apply(\n",
    "    lambda row: row['salary'] * 0.1 if row['years_experience'] > 3 else 0, \n",
    "    axis=1\n",
    ")\n",
    "\n",
    "print(\"Employee data:\")\n",
    "print(employees)\n",
    "\n",
    "# Average salary by department\n",
    "print(\"\\nAverage salary by department:\")\n",
    "print(employees.groupby('department')['salary'].mean())\n",
    "```\n",
    "</details>"
   ]
  },
  {
   "cell_type": "markdown",
   "id": "de98963a",
   "metadata": {},
   "source": [
    "## 6. Handling Missing Data in DataFrames"
   ]
  },
  {
   "cell_type": "code",
   "execution_count": 28,
   "id": "9b7b1b10",
   "metadata": {},
   "outputs": [
    {
     "name": "stdout",
     "output_type": "stream",
     "text": [
      "Data with missing values:\n",
      "        Date   Sales  Visitors  Conversion\n",
      "0 2025-08-19  1200.0     120.0        0.10\n",
      "1 2025-08-20     NaN     115.0        0.09\n",
      "2 2025-08-21  1450.0       NaN        0.11\n",
      "3 2025-08-22  1380.0     135.0         NaN\n",
      "4 2025-08-23     NaN     142.0        0.08\n",
      "\n",
      "Missing values per column:\n",
      "Date          0\n",
      "Sales         2\n",
      "Visitors      1\n",
      "Conversion    1\n",
      "dtype: int64\n",
      "\n",
      "After filling:\n",
      "        Date        Sales  Visitors  Conversion\n",
      "0 2025-08-19  1200.000000     120.0       0.100\n",
      "1 2025-08-20  1343.333333     115.0       0.090\n",
      "2 2025-08-21  1450.000000     115.0       0.110\n",
      "3 2025-08-22  1380.000000     135.0       0.095\n",
      "4 2025-08-23  1343.333333     142.0       0.080\n"
     ]
    },
    {
     "name": "stderr",
     "output_type": "stream",
     "text": [
      "C:\\Users\\Olivia\\AppData\\Local\\Temp\\ipykernel_30544\\2027517744.py:20: FutureWarning: A value is trying to be set on a copy of a DataFrame or Series through chained assignment using an inplace method.\n",
      "The behavior will change in pandas 3.0. This inplace method will never work because the intermediate object on which we are setting values always behaves as a copy.\n",
      "\n",
      "For example, when doing 'df[col].method(value, inplace=True)', try using 'df.method({col: value}, inplace=True)' or df[col] = df[col].method(value) instead, to perform the operation inplace on the original object.\n",
      "\n",
      "\n",
      "  filled_df['Visitors'].fillna(method='ffill', inplace=True)  # forward fill\n",
      "C:\\Users\\Olivia\\AppData\\Local\\Temp\\ipykernel_30544\\2027517744.py:20: FutureWarning: Series.fillna with 'method' is deprecated and will raise in a future version. Use obj.ffill() or obj.bfill() instead.\n",
      "  filled_df['Visitors'].fillna(method='ffill', inplace=True)  # forward fill\n",
      "C:\\Users\\Olivia\\AppData\\Local\\Temp\\ipykernel_30544\\2027517744.py:21: FutureWarning: A value is trying to be set on a copy of a DataFrame or Series through chained assignment using an inplace method.\n",
      "The behavior will change in pandas 3.0. This inplace method will never work because the intermediate object on which we are setting values always behaves as a copy.\n",
      "\n",
      "For example, when doing 'df[col].method(value, inplace=True)', try using 'df.method({col: value}, inplace=True)' or df[col] = df[col].method(value) instead, to perform the operation inplace on the original object.\n",
      "\n",
      "\n",
      "  filled_df['Conversion'].fillna(filled_df['Conversion'].median(), inplace=True)\n"
     ]
    }
   ],
   "source": [
    "# Create DataFrame with missing values\n",
    "data_with_gaps = pd.DataFrame({\n",
    "    'Date': pd.date_range('2025-08-19', periods=5),\n",
    "    'Sales': [1200, None, 1450, 1380, None],\n",
    "    'Visitors': [120, 115, None, 135, 142],\n",
    "    'Conversion': [0.10, 0.09, 0.11, None, 0.08]\n",
    "})\n",
    "\n",
    "print(\"Data with missing values:\")\n",
    "print(data_with_gaps)\n",
    "print(f\"\\nMissing values per column:\")\n",
    "print(data_with_gaps.isnull().sum())\n",
    "\n",
    "# Different filling strategies\n",
    "filled_df = data_with_gaps.copy()\n",
    "\n",
    "#filled_df['Sales'].fillna(filled_df['Sales'].mean(), inplace=True)\n",
    "#filled_df['Sales']=filled_df['Sales'].fillna(filled_df['Sales'].mean())\n",
    "filled_df.fillna({'Sales': filled_df['Sales'].mean()}, inplace=True)\n",
    "\n",
    "filled_df['Visitors'].fillna(method='ffill', inplace=True)  # forward fill\n",
    "filled_df['Conversion'].fillna(filled_df['Conversion'].median(), inplace=True)\n",
    "\n",
    "print(\"\\nAfter filling:\")\n",
    "print(filled_df)"
   ]
  },
  {
   "cell_type": "markdown",
   "id": "8f88bba8",
   "metadata": {},
   "source": [
    "## 7. Mini-Challenges\n",
    "- **M1 (easy):** Create a DataFrame of your favorite movies with title, year, rating\n",
    "- **M2 (medium):** Add a 'decade' column and find average rating per decade\n",
    "- **M3 (hard):** Create a function that highlights rows where rating > average"
   ]
  },
  {
   "cell_type": "code",
   "execution_count": 56,
   "id": "618c2ab1-dbef-4172-b76b-cb687f373786",
   "metadata": {},
   "outputs": [
    {
     "name": "stdout",
     "output_type": "stream",
     "text": [
      "Movies table with added average rating for each decade: \n",
      "          title  year  rating  decade  avg_rating_by_decade\n",
      "0     Inception  2010     8.8    2010                   8.4\n",
      "1        Matrix  1999     8.7    1990                   8.7\n",
      "2  Interstellar  2014     8.6    2010                   8.4\n",
      "3       Arrival  2016     7.9    2010                   8.4\n",
      "4  Blade Runner  1982     8.1    1980                   8.1\n",
      "\n",
      "Movies with ratings above average within the decade: \n",
      "          title  year  rating  decade  avg_rating_by_decade\n",
      "0     Inception  2010     8.8    2010                   8.4\n",
      "2  Interstellar  2014     8.6    2010                   8.4\n"
     ]
    }
   ],
   "source": [
    "movies = pd.DataFrame({\n",
    "    'title': ['Inception', 'Matrix', 'Interstellar', 'Arrival', 'Blade Runner'],\n",
    "    'year': [2010, 1999, 2014, 2016, 1982],\n",
    "    'rating': [8.8, 8.7, 8.6, 7.9, 8.1]\n",
    "})\n",
    "\n",
    "decade=(np.floor(movies['year']/10)*10).astype(int)\n",
    "movies['decade'] = decade\n",
    "movies['avg_rating_by_decade'] = movies.groupby('decade')['rating'].transform('mean').round(1)\n",
    "print(f\"Movies table with added average rating for each decade: \\n{movies}\")\n",
    "\n",
    "above_average = movies[movies['rating']>movies['avg_rating_by_decade']]\n",
    "print(f\"\\nMovies with ratings above average within the decade: \\n{above_average}\")"
   ]
  },
  {
   "cell_type": "markdown",
   "id": "b1a2e9d0",
   "metadata": {},
   "source": [
    "<details>\n",
    "<summary><b>Solutions</b></summary>\n",
    "\n",
    "```python\n",
    "# M1 & M2\n",
    "movies = pd.DataFrame({\n",
    "    'title': ['Inception', 'Matrix', 'Interstellar', 'Arrival', 'Blade Runner'],\n",
    "    'year': [2010, 1999, 2014, 2016, 1982],\n",
    "    'rating': [8.8, 8.7, 8.6, 7.9, 8.1]\n",
    "})\n",
    "\n",
    "# Add decade\n",
    "movies['decade'] = (movies['year'] // 10) * 10\n",
    "print(\"Movies with decades:\")\n",
    "print(movies)\n",
    "\n",
    "# Average per decade\n",
    "print(\"\\nAverage rating per decade:\")\n",
    "print(movies.groupby('decade')['rating'].mean())\n",
    "\n",
    "# M3\n",
    "avg_rating = movies['rating'].mean()\n",
    "above_avg = movies[movies['rating'] > avg_rating]\n",
    "print(f\"\\nMovies above average ({avg_rating:.1f}):\")\n",
    "print(above_avg[['title', 'rating']])\n",
    "```\n",
    "</details>"
   ]
  },
  {
   "cell_type": "markdown",
   "id": "aba28e65",
   "metadata": {},
   "source": [
    "## Wrap-Up\n",
    "✅ You can create DataFrames from various sources  \n",
    "✅ You mastered selection with [], loc, and iloc  \n",
    "✅ You can add columns and handle missing data  \n",
    "\n",
    "**Next:** Data wrangling - merging, grouping, and reshaping!\n"
   ]
  }
 ],
 "metadata": {
  "kernelspec": {
   "display_name": "Python 3 (ipykernel)",
   "language": "python",
   "name": "python3"
  },
  "language_info": {
   "codemirror_mode": {
    "name": "ipython",
    "version": 3
   },
   "file_extension": ".py",
   "mimetype": "text/x-python",
   "name": "python",
   "nbconvert_exporter": "python",
   "pygments_lexer": "ipython3",
   "version": "3.13.7"
  }
 },
 "nbformat": 4,
 "nbformat_minor": 5
}
