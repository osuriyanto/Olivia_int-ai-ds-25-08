{
 "cells": [
  {
   "cell_type": "code",
   "execution_count": 28,
   "id": "4601d9ab-afcf-41ed-864f-95817b3699a7",
   "metadata": {},
   "outputs": [
    {
     "name": "stdout",
     "output_type": "stream",
     "text": [
      "Overwriting game1_os.py\n"
     ]
    }
   ],
   "source": [
    "%%writefile game1_os.py\n",
    "import streamlit as st\n",
    "import random\n",
    "\n",
    "st.set_page_config(page_title=\"Guess the Number\")\n",
    "st.title(\"Guess the Number\")\n",
    "\n",
    "# --- difficulty presets ---\n",
    "DIFFICULTIES = {\n",
    "    \"Easy (1–50, 10 guesses)\":   (50, 10),\n",
    "    \"Medium (1–100, 7 guesses)\": (100, 7),\n",
    "    \"Hard (1–200, 5 guesses)\":   (200, 5),\n",
    "}\n",
    "\n",
    "# --- initialize state ---\n",
    "if \"difficulty\" not in st.session_state:\n",
    "    st.session_state.difficulty = \"Medium (1–100, 7 guesses)\"\n",
    "if \"max_num\" not in st.session_state or \"max_guesses\" not in st.session_state:\n",
    "    st.session_state.max_num, st.session_state.max_guesses = DIFFICULTIES[st.session_state.difficulty]\n",
    "if \"secret_number\" not in st.session_state:\n",
    "    st.session_state.secret_number = random.randint(1, st.session_state.max_num)\n",
    "if \"guesses_left\" not in st.session_state:\n",
    "    st.session_state.guesses_left = st.session_state.max_guesses\n",
    "\n",
    "# --- difficulty selector ---\n",
    "choice = st.radio(\"Choose difficulty\", list(DIFFICULTIES.keys()), index=list(DIFFICULTIES.keys()).index(st.session_state.difficulty))\n",
    "if st.button(\"Start / Apply difficulty\"):\n",
    "    st.session_state.difficulty = choice\n",
    "    st.session_state.max_num, st.session_state.max_guesses = DIFFICULTIES[choice]\n",
    "    st.session_state.secret_number = random.randint(1, st.session_state.max_num)\n",
    "    st.session_state.guesses_left = st.session_state.max_guesses\n",
    "    st.info(f\"New game: guess 1–{st.session_state.max_num} with {st.session_state.max_guesses} guesses.\")\n",
    "    \n",
    "# Show guess range and remaining guesses\n",
    "st.caption(f\"I'm thinking of a number between 1 and {st.session_state.max_num}…\")\n",
    "st.write(f\"You have {st.session_state.guesses_left} guesses left.\")\n",
    "\n",
    "# Let user guess with a number input\n",
    "user_guess = st.number_input(\"Take a guess:\", min_value=1, max_value=st.session_state.max_num, step=1, key=\"guess\")\n",
    "\n",
    "# Button to submit guess\n",
    "submit = st.button(\"Submit guess\")\n",
    "if submit and st.session_state.guesses_left > 0:\n",
    "    st.session_state.guesses_left -= 1\n",
    "    secret = st.session_state.secret_number\n",
    "    if user_guess == secret:\n",
    "        st.success(f\"🎉 You got it in {st.session_state.max_guesses - st.session_state.guesses_left} tries!\")\n",
    "    elif user_guess < secret:\n",
    "        st.warning(\"Too low!\")\n",
    "    else:\n",
    "        st.warning(\"Too high!\")\n",
    "\n",
    "    if st.session_state.guesses_left == 0 and user_guess != secret:\n",
    "        st.error(f\"Game over! The number was {secret}.\")\n",
    "\n",
    "# Restart game\n",
    "if st.button(\"New game\"):\n",
    "    st.session_state.secret_number = random.randint(1, 100)\n",
    "    st.session_state.guesses_left = 7\n",
    "    st.info(\"Let's play again…\")\n",
    "    "
   ]
  },
  {
   "cell_type": "code",
   "execution_count": 30,
   "id": "6ef33bef-137b-4789-b9f3-6a99b5933951",
   "metadata": {},
   "outputs": [
    {
     "name": "stdout",
     "output_type": "stream",
     "text": [
      "^C\n"
     ]
    }
   ],
   "source": [
    "!streamlit run game1_os.py"
   ]
  },
  {
   "cell_type": "code",
   "execution_count": null,
   "id": "164c98c1-a84e-41ce-b355-e81cfec529ac",
   "metadata": {},
   "outputs": [],
   "source": []
  }
 ],
 "metadata": {
  "kernelspec": {
   "display_name": "Python 3 (ipykernel)",
   "language": "python",
   "name": "python3"
  },
  "language_info": {
   "codemirror_mode": {
    "name": "ipython",
    "version": 3
   },
   "file_extension": ".py",
   "mimetype": "text/x-python",
   "name": "python",
   "nbconvert_exporter": "python",
   "pygments_lexer": "ipython3",
   "version": "3.13.7"
  }
 },
 "nbformat": 4,
 "nbformat_minor": 5
}
