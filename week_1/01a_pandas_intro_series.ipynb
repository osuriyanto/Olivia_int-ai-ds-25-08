{
 "cells": [
  {
   "cell_type": "markdown",
   "id": "6e8287c6",
   "metadata": {},
   "source": [
    "# **AI TECH INSTITUTE** · *Intermediate AI & Data Science*\n",
    "### Week 01 · Notebook 01 — Introduction to Pandas & Series\n",
    "**Instructor:** Amir Charkhi  |  **Goal:** Master the transition from Python basics to Pandas data structures.\n",
    "\n",
    "> Format: short theory → quick practice → build understanding → mini-challenges.\n"
   ]
  },
  {
   "cell_type": "markdown",
   "id": "4a35e8bb",
   "metadata": {},
   "source": [
    "---\n",
    "## Learning Objectives\n",
    "- Understand why we need Pandas for data analysis\n",
    "- Master Series creation and manipulation\n",
    "- Connect Week 0 Python concepts to Pandas operations\n",
    "- Prepare for DataFrames"
   ]
  },
  {
   "cell_type": "markdown",
   "id": "ade0238f",
   "metadata": {},
   "source": [
    "## 1. Why Pandas? From Lists to Series\n",
    "Remember our Week 0 lists? Let's see why we need something more powerful."
   ]
  },
  {
   "cell_type": "code",
   "execution_count": 12,
   "id": "da6e4326",
   "metadata": {},
   "outputs": [
    {
     "name": "stdout",
     "output_type": "stream",
     "text": [
      "Average (Python list): 22.90°C\n",
      "Temps > 23: [23.1, 24.2]\n"
     ]
    }
   ],
   "source": [
    "# Week 0 way - calculating average temperature\n",
    "temps = [22.5, 23.1, 21.8, 24.2, 22.9]\n",
    "avg_temp = sum(temps) / len(temps)\n",
    "print(f\"Average (Python list): {avg_temp:.2f}°C\")\n",
    "\n",
    "# What if we want temps above 23?\n",
    "above_23 = [t for t in temps if t > 23]\n",
    "print(f\"Temps > 23: {above_23}\")"
   ]
  },
  {
   "cell_type": "code",
   "execution_count": 13,
   "id": "d0037003",
   "metadata": {},
   "outputs": [
    {
     "name": "stdout",
     "output_type": "stream",
     "text": [
      "Pandas Series:\n",
      "0    22.5\n",
      "1    23.1\n",
      "2    21.8\n",
      "3    24.2\n",
      "4    22.9\n",
      "dtype: float64\n",
      "\n",
      "Average (Pandas): 22.90°C\n",
      "\n",
      "Temps > 23:\n",
      "1    23.1\n",
      "3    24.2\n",
      "dtype: float64\n"
     ]
    }
   ],
   "source": [
    "# Week 1 way - with Pandas!\n",
    "import pandas as pd\n",
    "import numpy as np\n",
    "\n",
    "# Create a Series (like a smart list with superpowers)\n",
    "temps_series = pd.Series([22.5, 23.1, 21.8, 24.2, 22.9])\n",
    "print(\"Pandas Series:\")\n",
    "print(temps_series)\n",
    "print(f\"\\nAverage (Pandas): {temps_series.mean():.2f}°C\")\n",
    "print(f\"\\nTemps > 23:\")\n",
    "print(temps_series[temps_series > 23])"
   ]
  },
  {
   "cell_type": "markdown",
   "id": "5b4f40a1",
   "metadata": {},
   "source": [
    "**Exercise 1 — Feel the Difference (easy)**  \n",
    "Create a Series of 5 student scores and find: mean, max, min, and scores above 80.\n"
   ]
  },
  {
   "cell_type": "code",
   "execution_count": 15,
   "id": "741c1c71",
   "metadata": {},
   "outputs": [
    {
     "name": "stdout",
     "output_type": "stream",
     "text": [
      "Average score: 80.0\n",
      "\n",
      "Max score: 96\n",
      "\n",
      "Min score: 68\n",
      "\n",
      "Scores above 80:\n",
      "3    89\n",
      "4    96\n",
      "dtype: int64\n"
     ]
    }
   ],
   "source": [
    "# Your turn\n",
    "scores = pd.Series([68, 72, 75, 89, 96])\n",
    "print(f\"Average score: {scores.mean()}\")\n",
    "print(f\"\\nMax score: {scores.max()}\")\n",
    "print(f\"\\nMin score: {scores.min()}\")\n",
    "print(f\"\\nScores above 80:\\n{scores[scores>80]}\")"
   ]
  },
  {
   "cell_type": "markdown",
   "id": "5265e60a",
   "metadata": {},
   "source": [
    "<details>\n",
    "<summary><b>Solution</b></summary>\n",
    "\n",
    "```python\n",
    "scores = pd.Series([75, 82, 91, 68, 87])\n",
    "print(f\"Mean: {scores.mean():.1f}\")\n",
    "print(f\"Max: {scores.max()}\")\n",
    "print(f\"Min: {scores.min()}\")\n",
    "print(\"\\nScores > 80:\")\n",
    "print(scores[scores > 80])\n",
    "```\n",
    "</details>"
   ]
  },
  {
   "cell_type": "markdown",
   "id": "582c78e3",
   "metadata": {},
   "source": [
    "## 2. Series with Index Labels\n",
    "Unlike lists, Series can have meaningful labels!"
   ]
  },
  {
   "cell_type": "code",
   "execution_count": 16,
   "id": "dd91af14",
   "metadata": {},
   "outputs": [
    {
     "name": "stdout",
     "output_type": "stream",
     "text": [
      "Perth        2.1\n",
      "Sydney       5.3\n",
      "Melbourne    5.0\n",
      "Brisbane     2.6\n",
      "Adelaide     1.4\n",
      "Name: Population (M), dtype: float64\n",
      "\n",
      "Perth population: 2.1M\n",
      "\n",
      "Cities over 3M:\n",
      "Sydney       5.3\n",
      "Melbourne    5.0\n",
      "Name: Population (M), dtype: float64\n"
     ]
    }
   ],
   "source": [
    "# Create a Series with custom index\n",
    "cities = ['Perth', 'Sydney', 'Melbourne', 'Brisbane', 'Adelaide']\n",
    "populations = [2.1, 5.3, 5.0, 2.6, 1.4]  # in millions\n",
    "\n",
    "pop_series = pd.Series(populations, index=cities, name='Population (M)')\n",
    "print(pop_series)\n",
    "print(f\"\\nPerth population: {pop_series['Perth']}M\")\n",
    "print(f\"\\nCities over 3M:\")\n",
    "print(pop_series[pop_series > 3])"
   ]
  },
  {
   "cell_type": "markdown",
   "id": "b93cc6d3",
   "metadata": {},
   "source": [
    "**Exercise 2 — Product Inventory (medium)**  \n",
    "Create a Series for product inventory: iPhone:45, iPad:32, MacBook:18, AirPods:67.\n",
    "Find products with stock < 40.\n"
   ]
  },
  {
   "cell_type": "code",
   "execution_count": 19,
   "id": "127850d0",
   "metadata": {},
   "outputs": [
    {
     "name": "stdout",
     "output_type": "stream",
     "text": [
      "Product stock < 40: \n",
      "iPad       32\n",
      "MacBook    18\n",
      "Name: stock count, dtype: int64\n"
     ]
    }
   ],
   "source": [
    "# Your turn\n",
    "product = ['iPhone', 'iPad', 'MacBook', 'AirPods']\n",
    "inventory = pd.Series([45,32,18,67], index=product, name = 'stock count')\n",
    "print(f\"Product stock < 40: \\n{inventory[inventory<40]}\")"
   ]
  },
  {
   "cell_type": "markdown",
   "id": "22f25302",
   "metadata": {},
   "source": [
    "<details>\n",
    "<summary><b>Solution</b></summary>\n",
    "\n",
    "```python\n",
    "inventory = pd.Series(\n",
    "    {'iPhone': 45, 'iPad': 32, 'MacBook': 18, 'AirPods': 67},\n",
    "    name='Stock Count'\n",
    ")\n",
    "print(\"Current Inventory:\")\n",
    "print(inventory)\n",
    "print(\"\\nLow stock items (< 40):\")\n",
    "print(inventory[inventory < 40])\n",
    "```\n",
    "</details>"
   ]
  },
  {
   "cell_type": "markdown",
   "id": "86ac1848",
   "metadata": {},
   "source": [
    "## 3. Series Operations & Methods"
   ]
  },
  {
   "cell_type": "code",
   "execution_count": 42,
   "id": "ddf3b8ab",
   "metadata": {},
   "outputs": [
    {
     "name": "stdout",
     "output_type": "stream",
     "text": [
      "Original prices:\n",
      "Basic        99.99\n",
      "Standard    149.99\n",
      "Premium     199.99\n",
      "Student      79.99\n",
      "dtype: float64\n",
      "\n",
      "After 20% discount:\n",
      "Basic        79.99\n",
      "Standard    119.99\n",
      "Premium     159.99\n",
      "Student      63.99\n",
      "dtype: float64\n",
      "\n",
      "Price stats:\n",
      "Mean: $132.49\n",
      "Median: $124.99\n",
      "Std Dev: $53.77\n"
     ]
    }
   ],
   "source": [
    "# Mathematical operations work element-wise\n",
    "prices = pd.Series([99.99, 149.99, 199.99, 79.99], \n",
    "                   index=['Basic', 'Standard', 'Premium', 'Student'])\n",
    "\n",
    "# Apply 20% discount\n",
    "discounted = prices * 0.8\n",
    "print(\"Original prices:\")\n",
    "print(prices)\n",
    "print(\"\\nAfter 20% discount:\")\n",
    "print(discounted.round(2))\n",
    "\n",
    "# Useful methods\n",
    "print(f\"\\nPrice stats:\")\n",
    "print(f\"Mean: ${prices.mean():.2f}\")\n",
    "print(f\"Median: ${prices.median():.2f}\")\n",
    "print(f\"Std Dev: ${prices.std():.2f}\")"
   ]
  },
  {
   "cell_type": "markdown",
   "id": "f8c85c5e",
   "metadata": {},
   "source": [
    "## 4. Handling Missing Data"
   ]
  },
  {
   "cell_type": "code",
   "execution_count": 43,
   "id": "afdbd6b9",
   "metadata": {},
   "outputs": [
    {
     "name": "stdout",
     "output_type": "stream",
     "text": [
      "Sales with missing data:\n",
      "Mon    1200.0\n",
      "Tue       NaN\n",
      "Wed    1450.0\n",
      "Thu     980.0\n",
      "Fri       NaN\n",
      "Sat    1680.0\n",
      "dtype: float64\n",
      "\n",
      "Count of missing: 2\n",
      "Mean (ignoring NaN): $1327.50\n",
      "\n",
      "After filling with mean:\n",
      "Mon    1200.0\n",
      "Tue    1327.5\n",
      "Wed    1450.0\n",
      "Thu     980.0\n",
      "Fri    1327.5\n",
      "Sat    1680.0\n",
      "dtype: float64\n"
     ]
    }
   ],
   "source": [
    "# Real data often has missing values\n",
    "sales = pd.Series([1200, None, 1450, 980, None, 1680],\n",
    "                  index=['Mon', 'Tue', 'Wed', 'Thu', 'Fri', 'Sat'])\n",
    "print(\"Sales with missing data:\")\n",
    "print(sales)\n",
    "print(f\"\\nCount of missing: {sales.isna().sum()}\")\n",
    "print(f\"Mean (ignoring NaN): ${sales.mean():.2f}\")\n",
    "\n",
    "# Fill missing values\n",
    "sales_filled = sales.fillna(sales.mean())\n",
    "print(\"\\nAfter filling with mean:\")\n",
    "print(sales_filled.round(2))"
   ]
  },
  {
   "cell_type": "markdown",
   "id": "17f39466",
   "metadata": {},
   "source": [
    "**Exercise 3 — Temperature Analysis (medium)**  \n",
    "Given a week of temperatures with some missing values, fill them with the median and find days above average.\n"
   ]
  },
  {
   "cell_type": "code",
   "execution_count": 50,
   "id": "00ca09fe-3bcf-474e-baa1-6f0a7711a5bf",
   "metadata": {},
   "outputs": [
    {
     "name": "stdout",
     "output_type": "stream",
     "text": [
      "Original temperature: \n",
      "Mon    22.5\n",
      "Tue     NaN\n",
      "Wed    24.1\n",
      "Thu    23.8\n",
      "Fri     NaN\n",
      "Sat    25.2\n",
      "Sun    21.9\n",
      "dtype: float64\n",
      "\n",
      "Replace the missing value with temperature median (23.8 degC)\n",
      "\n",
      "New temperature: \n",
      "Mon    22.5\n",
      "Tue    23.8\n",
      "Wed    24.1\n",
      "Thu    23.8\n",
      "Fri    23.8\n",
      "Sat    25.2\n",
      "Sun    21.9\n",
      "dtype: float64\n",
      "\n",
      "Days above average temperature (23.6 degC):\n",
      "Tue    23.8\n",
      "Wed    24.1\n",
      "Thu    23.8\n",
      "Fri    23.8\n",
      "Sat    25.2\n",
      "dtype: float64\n"
     ]
    }
   ],
   "source": [
    "temps = pd.Series([22.5, None, 24.1, 23.8, None, 25.2, 21.9],\n",
    "                  index=['Mon', 'Tue', 'Wed', 'Thu', 'Fri', 'Sat', 'Sun'])\n",
    "temps_filled = temps.fillna(temps.median())\n",
    "print(f\"Original temperature: \\n{temps}\")\n",
    "print(f\"\\nReplace the missing value with temperature median ({temps.median():.1f} degC)\")\n",
    "print(f\"\\nNew temperature: \\n{temps_filled}\")\n",
    "print(f\"\\nDays above average temperature ({temps_filled.mean():.1f} degC):\\n{temps_filled[temps_filled>temps_filled.mean()]}\")\n"
   ]
  },
  {
   "cell_type": "markdown",
   "id": "a54870cb",
   "metadata": {},
   "source": [
    "<details>\n",
    "<summary><b>Solution</b></summary>\n",
    "\n",
    "```python\n",
    "temps = pd.Series([22.5, None, 24.1, 23.8, None, 25.2, 21.9],\n",
    "                  index=['Mon', 'Tue', 'Wed', 'Thu', 'Fri', 'Sat', 'Sun'])\n",
    "print(\"Original temperatures:\")\n",
    "print(temps)\n",
    "\n",
    "# Fill with median\n",
    "temps_filled = temps.fillna(temps.median())\n",
    "print(\"\\nFilled temperatures:\")\n",
    "print(temps_filled)\n",
    "\n",
    "# Find above average days\n",
    "avg_temp = temps_filled.mean()\n",
    "print(f\"\\nAverage: {avg_temp:.1f}°C\")\n",
    "print(\"\\nDays above average:\")\n",
    "print(temps_filled[temps_filled > avg_temp])\n",
    "```\n",
    "</details>"
   ]
  },
  {
   "cell_type": "markdown",
   "id": "b93813ac",
   "metadata": {},
   "source": [
    "## 5. Series Alignment & Combining"
   ]
  },
  {
   "cell_type": "code",
   "execution_count": 20,
   "id": "9f70e311",
   "metadata": {},
   "outputs": [
    {
     "name": "stdout",
     "output_type": "stream",
     "text": [
      "Q1 Sales:\n",
      "Product_A    100\n",
      "Product_B    150\n",
      "Product_C    200\n",
      "dtype: int64\n",
      "\n",
      "Q2 Sales:\n",
      "Product_B    180\n",
      "Product_C    220\n",
      "Product_D     90\n",
      "dtype: int64\n",
      "\n",
      "Total Sales (Q1 + Q2):\n",
      "Product_A    100.0\n",
      "Product_B    330.0\n",
      "Product_C    420.0\n",
      "Product_D     90.0\n",
      "dtype: float64\n"
     ]
    }
   ],
   "source": [
    "# Pandas aligns by index automatically!\n",
    "q1_sales = pd.Series({'Product_A': 100, 'Product_B': 150, 'Product_C': 200})\n",
    "q2_sales = pd.Series({'Product_B': 180, 'Product_C': 220, 'Product_D': 90})\n",
    "\n",
    "print(\"Q1 Sales:\")\n",
    "print(q1_sales)\n",
    "print(\"\\nQ2 Sales:\")\n",
    "print(q2_sales)\n",
    "\n",
    "# Addition aligns by index\n",
    "total_sales = q1_sales.add(q2_sales, fill_value=0)\n",
    "print(\"\\nTotal Sales (Q1 + Q2):\")\n",
    "print(total_sales)"
   ]
  },
  {
   "cell_type": "markdown",
   "id": "de98963a",
   "metadata": {},
   "source": [
    "**Exercise 4 — Revenue Calculator (hard)**  \n",
    "Given prices and quantities sold, calculate total revenue per product and overall total.\n"
   ]
  },
  {
   "cell_type": "code",
   "execution_count": 40,
   "id": "9b7b1b10",
   "metadata": {},
   "outputs": [
    {
     "name": "stdout",
     "output_type": "stream",
     "text": [
      "Total revenue per product ($): \n",
      "Keyboard    2400.0\n",
      "Laptop      6000.0\n",
      "Monitor        NaN\n",
      "Mouse       1125.0\n",
      "Webcam         NaN\n",
      "dtype: float64\n",
      "\n",
      "Overall total revenue: $9525\n",
      "\n",
      "Best seller: Laptop with revenue of $6000\n"
     ]
    }
   ],
   "source": [
    "# Your turn\n",
    "prices = pd.Series({'Laptop': 1200, 'Mouse': 25, 'Keyboard': 80, 'Monitor': 350})\n",
    "quantities = pd.Series({'Laptop': 5, 'Mouse': 45, 'Keyboard': 30, 'Webcam': 15})\n",
    "revenue = prices*quantities\n",
    "\n",
    "print(f\"Total revenue per product ($): \\n{revenue}\")\n",
    "print(f\"\\nOverall total revenue: ${revenue.sum():.0f}\")\n",
    "print(f\"\\nBest seller: {revenue.idxmax()} with revenue of ${revenue.max():.0f}\")"
   ]
  },
  {
   "cell_type": "markdown",
   "id": "4cecfa82",
   "metadata": {},
   "source": [
    "<details>\n",
    "<summary><b>Solution</b></summary>\n",
    "\n",
    "```python\n",
    "prices = pd.Series({'Laptop': 1200, 'Mouse': 25, 'Keyboard': 80, 'Monitor': 350})\n",
    "quantities = pd.Series({'Laptop': 5, 'Mouse': 45, 'Keyboard': 30, 'Webcam': 15})\n",
    "\n",
    "# Calculate revenue (handles mismatched indices)\n",
    "revenue = prices * quantities\n",
    "print(\"Revenue per product:\")\n",
    "print(revenue.dropna())  # Drop products we can't calculate\n",
    "\n",
    "print(f\"\\nTotal revenue: ${revenue.sum():.2f}\")\n",
    "print(f\"Best seller: {revenue.idxmax()} (${revenue.max():.2f})\")\n",
    "```\n",
    "</details>"
   ]
  },
  {
   "cell_type": "markdown",
   "id": "8f88bba8",
   "metadata": {},
   "source": [
    "## 6. Mini-Challenges\n",
    "- **M1 (easy):** Create a Series of 10 random numbers and find values > mean\n",
    "- **M2 (medium):** Create a grade Series, convert letter grades to numeric (A=4, B=3, etc.)\n",
    "- **M3 (hard):** Combine two Series with different indices and calculate percentage change"
   ]
  },
  {
   "cell_type": "code",
   "execution_count": 60,
   "id": "0f834bfd",
   "metadata": {},
   "outputs": [
    {
     "name": "stdout",
     "output_type": "stream",
     "text": [
      "Ten Random Numbers:\n",
      "0    52\n",
      "1    82\n",
      "2    24\n",
      "3    97\n",
      "4    48\n",
      "5    10\n",
      "6    26\n",
      "7    22\n",
      "8    98\n",
      "9    53\n",
      "dtype: int32\n",
      "\n",
      "Mean = 51.2\n",
      "\n",
      "Numbers Above Average:\n",
      "0    52\n",
      "1    82\n",
      "3    97\n",
      "8    98\n",
      "9    53\n",
      "dtype: int32\n"
     ]
    }
   ],
   "source": [
    "# Your turn - try the challenges!\n",
    "# M1\n",
    "random_numbers = pd.Series(np.random.randint(1,101, size=10))\n",
    "print(f\"Ten Random Numbers:\\n{random_numbers}\")\n",
    "print(f\"\\nMean = {random_numbers.mean()}\")\n",
    "print(f\"\\nNumbers Above Average:\\n{random_numbers[random_numbers>random_numbers.mean()]}\")"
   ]
  },
  {
   "cell_type": "code",
   "execution_count": 71,
   "id": "3989fe10-11c1-4ac2-af33-4fcef67f4a0a",
   "metadata": {},
   "outputs": [
    {
     "name": "stdout",
     "output_type": "stream",
     "text": [
      "  Grades  GPA\n",
      "0      A    4\n",
      "1      B    3\n",
      "2      C    2\n",
      "3      B    3\n",
      "4      B    3\n",
      "5      D    1\n",
      "6      D    1\n",
      "7      D    1\n"
     ]
    }
   ],
   "source": [
    "# M2\n",
    "grades = pd.Series(np.random.choice(['A','B','C','D'], size=8))\n",
    "grade_map = {'A':4,'B':3,'C':2,'D':1}\n",
    "numeric_grades = grades.map(grade_map)\n",
    "grade_series = pd.DataFrame({\"Grades\":grades,\"GPA\":numeric_grades})\n",
    "print(grade_series)"
   ]
  },
  {
   "cell_type": "code",
   "execution_count": 78,
   "id": "2243ef86-1a27-4079-a62c-0cb76448ea21",
   "metadata": {},
   "outputs": [
    {
     "name": "stdout",
     "output_type": "stream",
     "text": [
      "Percentage of rainfall change from July to June 2025: \n",
      "Week 1   -80.00\n",
      "Week 2   -50.00\n",
      "Week 3    66.67\n",
      "Week 4   -50.00\n",
      "dtype: float64\n"
     ]
    }
   ],
   "source": [
    "# M3\n",
    "June = pd.Series({'Week 1':25,'Week 2':100,'Week 3':15,'Week 4':100})\n",
    "July = pd.Series({'Week 1':5,'Week 2':50,'Week 3':25,'Week 4':50,'Week 5':150})\n",
    "percentage_rainfall_change = round((July-June)/June*100,2)\n",
    "print(f\"Percentage of rainfall change from July to June 2025: \\n{percentage_rainfall_change.dropna()}\")"
   ]
  },
  {
   "cell_type": "markdown",
   "id": "b1a2e9d0",
   "metadata": {},
   "source": [
    "<details>\n",
    "<summary><b>Solutions</b></summary>\n",
    "\n",
    "```python\n",
    "# M1\n",
    "random_series = pd.Series(np.random.randn(10))\n",
    "print(random_series[random_series > random_series.mean()])\n",
    "\n",
    "# M2\n",
    "grades = pd.Series(['A', 'B', 'A', 'C', 'B', 'D'])\n",
    "grade_map = {'A': 4, 'B': 3, 'C': 2, 'D': 1, 'F': 0}\n",
    "numeric_grades = grades.map(grade_map)\n",
    "print(f\"GPA: {numeric_grades.mean():.2f}\")\n",
    "\n",
    "# M3\n",
    "jan = pd.Series({'A': 100, 'B': 200, 'C': 150})\n",
    "feb = pd.Series({'B': 220, 'C': 140, 'D': 80})\n",
    "pct_change = ((feb - jan) / jan * 100).round(2)\n",
    "print(pct_change.dropna())\n",
    "```\n",
    "</details>"
   ]
  },
  {
   "cell_type": "markdown",
   "id": "aba28e65",
   "metadata": {},
   "source": [
    "## Wrap-Up & Next Steps\n",
    "✅ You've mastered Series - the building block of DataFrames!  \n",
    "✅ You can create, filter, and manipulate data efficiently  \n",
    "✅ You understand index alignment and missing data handling  \n",
    "\n",
    "**Next:** DataFrames - think of them as multiple Series combined into a table!\n"
   ]
  }
 ],
 "metadata": {
  "kernelspec": {
   "display_name": "Python 3 (ipykernel)",
   "language": "python",
   "name": "python3"
  },
  "language_info": {
   "codemirror_mode": {
    "name": "ipython",
    "version": 3
   },
   "file_extension": ".py",
   "mimetype": "text/x-python",
   "name": "python",
   "nbconvert_exporter": "python",
   "pygments_lexer": "ipython3",
   "version": "3.13.7"
  }
 },
 "nbformat": 4,
 "nbformat_minor": 5
}
