{
 "cells": [
  {
   "cell_type": "markdown",
   "metadata": {},
   "source": [
    "# **AI TECH INSTITUTE** · *Intermediate AI & Data Science*\n",
    "### Week 04 · Notebook 03 — Descriptive Statistics\n",
    "**Instructor:** Amir Charkhi  |  **Goal:** Master descriptive statistics to understand and summarize your data like a pro.\n",
    "\n",
    "> Format: short theory → quick practice → build understanding → mini-challenges.\n"
   ]
  },
  {
   "cell_type": "markdown",
   "metadata": {},
   "source": [
    "---\n",
    "## Learning Objectives\n",
    "- Calculate and interpret measures of central tendency (mean, median, mode)\n",
    "- Calculate and interpret measures of variability (variance, standard deviation)\n",
    "- Understand when to use different measures\n",
    "- Calculate z-scores and identify outliers\n",
    "- Create professional summary statistics tables"
   ]
  },
  {
   "cell_type": "markdown",
   "metadata": {},
   "source": [
    "## 1. The Statistics Toolkit\n",
    "**Your data compass**: These numbers tell you where your data lives and how it behaves!"
   ]
  },
  {
   "cell_type": "code",
   "execution_count": 1,
   "metadata": {},
   "outputs": [],
   "source": [
    "import numpy as np\n",
    "import pandas as pd\n",
    "import matplotlib.pyplot as plt\n",
    "import seaborn as sns\n",
    "from scipy import stats\n",
    "\n",
    "# Set style for nice plots\n",
    "sns.set_style('whitegrid')\n",
    "plt.rcParams['figure.figsize'] = (8, 4)\n",
    "%matplotlib inline"
   ]
  },
  {
   "cell_type": "code",
   "execution_count": 2,
   "metadata": {},
   "outputs": [
    {
     "name": "stdout",
     "output_type": "stream",
     "text": [
      "💰 Company Salary Data (20 employees)\n",
      "Range: $45,000 to $150,000\n",
      "First 10 salaries: [45000 52000 48000 67000 71000 58000 62000 55000 49000 73000]\n"
     ]
    }
   ],
   "source": [
    "# Real employee salary data with a story\n",
    "np.random.seed(42)\n",
    "salaries = np.array([45000, 52000, 48000, 67000, 71000, 58000, 62000, 55000, \n",
    "                    49000, 73000, 46000, 59000, 68000, 54000, 61000, \n",
    "                    47000, 65000, 70000, 53000, 150000])  # 👀 Spot the outlier!\n",
    "\n",
    "print(f\"💰 Company Salary Data ({len(salaries)} employees)\")\n",
    "print(f\"Range: ${min(salaries):,} to ${max(salaries):,}\")\n",
    "print(f\"First 10 salaries: {salaries[:10]}\")"
   ]
  },
  {
   "cell_type": "markdown",
   "metadata": {},
   "source": [
    "## 2. Central Tendency: Finding the \"Center\""
   ]
  },
  {
   "cell_type": "markdown",
   "metadata": {},
   "source": [
    "### 2.1 Mean: The Classic Average"
   ]
  },
  {
   "cell_type": "code",
   "execution_count": 3,
   "metadata": {},
   "outputs": [
    {
     "name": "stdout",
     "output_type": "stream",
     "text": [
      "📊 Mean salary: $62,650.00\n",
      "📝 Manual calculation: $62,650.00\n",
      "\n",
      "💡 Formula: (sum of all values) ÷ (number of values)\n"
     ]
    }
   ],
   "source": [
    "# Mean calculation\n",
    "mean_salary = np.mean(salaries)\n",
    "print(f\"📊 Mean salary: ${mean_salary:,.2f}\")\n",
    "\n",
    "# Show the math behind it\n",
    "manual_mean = sum(salaries) / len(salaries)\n",
    "print(f\"📝 Manual calculation: ${manual_mean:,.2f}\")\n",
    "print(f\"\\n💡 Formula: (sum of all values) ÷ (number of values)\")"
   ]
  },
  {
   "cell_type": "markdown",
   "metadata": {},
   "source": [
    "### 2.2 Median: The Middle Ground"
   ]
  },
  {
   "cell_type": "code",
   "execution_count": 4,
   "metadata": {},
   "outputs": [
    {
     "name": "stdout",
     "output_type": "stream",
     "text": [
      "🎯 Median salary: $58,500.00\n",
      "\n",
      "📋 Sorted salaries (middle at position 10):\n",
      "First 5: [45000 46000 47000 48000 49000]\n",
      "Last 5: [ 68000  70000  71000  73000 150000]\n",
      "\n",
      "💡 Median = middle value when data is sorted\n"
     ]
    }
   ],
   "source": [
    "# Median calculation\n",
    "median_salary = np.median(salaries)\n",
    "print(f\"🎯 Median salary: ${median_salary:,.2f}\")\n",
    "\n",
    "# Show the sorted data\n",
    "sorted_salaries = np.sort(salaries)\n",
    "middle_pos = len(salaries) // 2\n",
    "print(f\"\\n📋 Sorted salaries (middle at position {middle_pos}):\")\n",
    "print(f\"First 5: {sorted_salaries[:5]}\")\n",
    "print(f\"Last 5: {sorted_salaries[-5:]}\")\n",
    "print(f\"\\n💡 Median = middle value when data is sorted\")"
   ]
  },
  {
   "cell_type": "markdown",
   "metadata": {},
   "source": [
    "### 2.3 Mode: The Popular Choice"
   ]
  },
  {
   "cell_type": "code",
   "execution_count": null,
   "metadata": {},
   "outputs": [],
   "source": [
    "# Mode calculation\n",
    "mode_result = stats.mode(salaries, keepdims=True)\n",
    "print(f\"🔢 Mode: ${mode_result.mode[0]:,} (appears {mode_result.count[0]} time)\")\n",
    "\n",
    "# Show value frequencies\n",
    "unique, counts = np.unique(salaries, return_counts=True)\n",
    "print(f\"\\n📈 Most values appear only once in this dataset\")\n",
    "print(f\"💡 Mode is most useful for categorical data!\")"
   ]
  },
  {
   "cell_type": "markdown",
   "metadata": {},
   "source": [
    "**Exercise 1 — The Outlier Effect (easy)**  \n",
    "Compare mean vs median with and without the outlier.\n"
   ]
  },
  {
   "cell_type": "code",
   "execution_count": null,
   "metadata": {},
   "outputs": [],
   "source": [
    "# Your turn - remove the outlier and see what happens\n",
    "salaries_no_outlier = salaries[salaries < 100000]  # Remove $150k salary\n",
    "\n",
    "# Calculate both versions\n"
   ]
  },
  {
   "cell_type": "markdown",
   "metadata": {},
   "source": [
    "<details>\n",
    "<summary><b>Solution</b></summary>\n",
    "\n",
    "```python\n",
    "# With outlier\n",
    "mean_with = np.mean(salaries)\n",
    "median_with = np.median(salaries)\n",
    "\n",
    "# Without outlier\n",
    "mean_without = np.mean(salaries_no_outlier)\n",
    "median_without = np.median(salaries_no_outlier)\n",
    "\n",
    "print(\"📊 Outlier Impact Analysis:\")\n",
    "print(f\"Mean with outlier:    ${mean_with:,.0f}\")\n",
    "print(f\"Mean without outlier: ${mean_without:,.0f}\")\n",
    "print(f\"Difference: ${mean_with - mean_without:,.0f}\")\n",
    "print()\n",
    "print(f\"Median with outlier:    ${median_with:,.0f}\")\n",
    "print(f\"Median without outlier: ${median_without:,.0f}\")\n",
    "print(f\"Difference: ${median_with - median_without:,.0f}\")\n",
    "print()\n",
    "print(\"🎯 Key insight: Median is much more robust to outliers!\")\n",
    "```\n",
    "</details>"
   ]
  },
  {
   "cell_type": "markdown",
   "metadata": {},
   "source": [
    "### 2.4 Visual Comparison"
   ]
  },
  {
   "cell_type": "code",
   "execution_count": null,
   "metadata": {},
   "outputs": [],
   "source": [
    "# Show all measures together\n",
    "plt.figure(figsize=(10, 6))\n",
    "plt.hist(salaries, bins=8, alpha=0.7, color='skyblue', edgecolor='black')\n",
    "plt.axvline(mean_salary, color='red', linestyle='--', linewidth=2, \n",
    "           label=f'Mean: ${mean_salary:,.0f}')\n",
    "plt.axvline(median_salary, color='green', linestyle='-', linewidth=2, \n",
    "           label=f'Median: ${median_salary:,.0f}')\n",
    "\n",
    "plt.title('💰 Salary Distribution: Mean vs Median')\n",
    "plt.xlabel('Salary ($)')\n",
    "plt.ylabel('Number of Employees')\n",
    "plt.legend()\n",
    "plt.grid(True, alpha=0.3)\n",
    "plt.show()\n",
    "\n",
    "print(\"🔍 Notice: Mean is pulled right by the $150k outlier!\")"
   ]
  },
  {
   "cell_type": "markdown",
   "metadata": {},
   "source": [
    "## 3. Variability: How Spread Out Is Your Data?"
   ]
  },
  {
   "cell_type": "markdown",
   "metadata": {},
   "source": [
    "### 3.1 Range: The Simplest Measure"
   ]
  },
  {
   "cell_type": "code",
   "execution_count": null,
   "metadata": {},
   "outputs": [],
   "source": [
    "# Range calculation\n",
    "salary_range = np.max(salaries) - np.min(salaries)\n",
    "print(f\"📏 Salary range: ${salary_range:,}\")\n",
    "print(f\"   Min: ${np.min(salaries):,}\")\n",
    "print(f\"   Max: ${np.max(salaries):,}\")\n",
    "print(f\"\\n⚠️  Problem: Range is dominated by outliers!\")"
   ]
  },
  {
   "cell_type": "markdown",
   "metadata": {},
   "source": [
    "### 3.2 Standard Deviation: The Goldilocks Measure"
   ]
  },
  {
   "cell_type": "code",
   "execution_count": null,
   "metadata": {},
   "outputs": [],
   "source": [
    "# Standard deviation (the star of the show!)\n",
    "sample_std = np.std(salaries, ddof=1)  # Sample standard deviation\n",
    "print(f\"⭐ Standard Deviation: ${sample_std:,.2f}\")\n",
    "print(f\"\\n💡 This means most salaries are within ${sample_std:,.0f} of the mean\")\n",
    "\n",
    "# Show the concept visually\n",
    "print(f\"\\n📊 Salary ranges:\")\n",
    "print(f\"   68% likely in: ${mean_salary - sample_std:,.0f} to ${mean_salary + sample_std:,.0f}\")\n",
    "print(f\"   95% likely in: ${mean_salary - 2*sample_std:,.0f} to ${mean_salary + 2*sample_std:,.0f}\")"
   ]
  },
  {
   "cell_type": "markdown",
   "metadata": {},
   "source": [
    "### 3.3 Variance: Standard Deviation's Squared Cousin"
   ]
  },
  {
   "cell_type": "code",
   "execution_count": null,
   "metadata": {},
   "outputs": [],
   "source": [
    "# Variance calculation\n",
    "sample_variance = np.var(salaries, ddof=1)\n",
    "print(f\"📐 Variance: ${sample_variance:,.2f}\")\n",
    "print(f\"🔢 Standard Deviation: ${sample_std:,.2f}\")\n",
    "print(f\"\\n✅ Verification: sqrt(variance) = {np.sqrt(sample_variance):,.2f}\")\n",
    "print(f\"\\n💡 Variance is in squared units, std dev is in original units\")"
   ]
  },
  {
   "cell_type": "markdown",
   "metadata": {},
   "source": [
    "**Exercise 2 — Sample vs Population (medium)**  \n",
    "Understand the difference between sample and population statistics.\n"
   ]
  },
  {
   "cell_type": "code",
   "execution_count": null,
   "metadata": {},
   "outputs": [],
   "source": [
    "# Your turn - compare sample vs population formulas\n",
    "population_std = np.std(salaries, ddof=0)  # Population (divide by n)\n",
    "sample_std = np.std(salaries, ddof=1)      # Sample (divide by n-1)\n",
    "\n",
    "# Explain the difference\n"
   ]
  },
  {
   "cell_type": "markdown",
   "metadata": {},
   "source": [
    "<details>\n",
    "<summary><b>Solution</b></summary>\n",
    "\n",
    "```python\n",
    "print(\"📊 Sample vs Population Statistics:\")\n",
    "print(f\"Population std (÷{len(salaries)}):   ${population_std:,.2f}\")\n",
    "print(f\"Sample std (÷{len(salaries)-1}):     ${sample_std:,.2f}\")\n",
    "print(f\"Difference:         ${sample_std - population_std:,.2f}\")\n",
    "print()\n",
    "print(\"🎯 When to use which:\")\n",
    "print(\"📈 Population (ddof=0): When you have ALL the data\")\n",
    "print(\"📊 Sample (ddof=1): When your data is a sample (most common!)\")\n",
    "print()\n",
    "print(\"💡 Sample std is larger because we 'lose' 1 degree of freedom\")\n",
    "print(\"   This corrects for the uncertainty of estimating from a sample\")\n",
    "```\n",
    "</details>"
   ]
  },
  {
   "cell_type": "markdown",
   "metadata": {},
   "source": [
    "## 4. Z-Scores: Your Outlier Detector"
   ]
  },
  {
   "cell_type": "markdown",
   "metadata": {},
   "source": [
    "### 4.1 Understanding Z-Scores"
   ]
  },
  {
   "cell_type": "code",
   "execution_count": null,
   "metadata": {},
   "outputs": [],
   "source": [
    "# Calculate z-scores\n",
    "z_scores = (salaries - mean_salary) / sample_std\n",
    "\n",
    "# Create summary table\n",
    "salary_analysis = pd.DataFrame({\n",
    "    'Salary': salaries,\n",
    "    'Z_Score': z_scores.round(2),\n",
    "    'Interpretation': ['Normal' if abs(z) <= 2 else '⚠️ Outlier' for z in z_scores]\n",
    "})\n",
    "\n",
    "print(\"🔍 Z-Score Analysis (top 10 by absolute z-score):\")\n",
    "top_outliers = salary_analysis.reindex(salary_analysis['Z_Score'].abs().sort_values(ascending=False).index)\n",
    "print(top_outliers.head(10).to_string(index=False))"
   ]
  },
  {
   "cell_type": "markdown",
   "metadata": {},
   "source": [
    "### 4.2 Z-Score Interpretation Guide"
   ]
  },
  {
   "cell_type": "code",
   "execution_count": null,
   "metadata": {},
   "outputs": [],
   "source": [
    "# Find and explain outliers\n",
    "outliers = salary_analysis[np.abs(salary_analysis['Z_Score']) > 2]\n",
    "print(f\"🚨 Outliers Found (|z| > 2): {len(outliers)}\")\n",
    "if len(outliers) > 0:\n",
    "    print(outliers.to_string(index=False))\n",
    "\n",
    "print(f\"\\n📋 Z-Score Interpretation:\")\n",
    "print(f\"   z = 0:  Exactly at the mean\")\n",
    "print(f\"   z = 1:  One standard deviation above mean\")\n",
    "print(f\"   z = -1: One standard deviation below mean\")\n",
    "print(f\"   |z| > 2: Potential outlier (unusual value)\")\n",
    "print(f\"   |z| > 3: Definite outlier (very unusual)\")"
   ]
  },
  {
   "cell_type": "markdown",
   "metadata": {},
   "source": [
    "**Exercise 3 — Build Your Own Analysis (hard)**  \n",
    "Analyze a new dataset and create a complete statistical summary.\n"
   ]
  },
  {
   "cell_type": "code",
   "execution_count": null,
   "metadata": {},
   "outputs": [],
   "source": [
    "# Student performance dataset\n",
    "np.random.seed(123)\n",
    "student_scores = {\n",
    "    'math': np.random.normal(78, 12, 50).round(0).astype(int),\n",
    "    'reading': np.random.normal(82, 10, 50).round(0).astype(int),\n",
    "    'science': np.random.normal(75, 15, 50).round(0).astype(int)\n",
    "}\n",
    "\n",
    "scores_df = pd.DataFrame(student_scores)\n",
    "print(\"📚 Student Scores Dataset:\")\n",
    "print(scores_df.head())\n",
    "\n",
    "# Your tasks:\n",
    "# 1. Calculate mean, median, std for each subject\n",
    "# 2. Find which subject has highest variability\n",
    "# 3. Identify outlier students in math using z-scores\n",
    "# 4. Create a summary table\n"
   ]
  },
  {
   "cell_type": "markdown",
   "metadata": {},
   "source": [
    "<details>\n",
    "<summary><b>Solution</b></summary>\n",
    "\n",
    "```python\n",
    "# Task 1: Basic statistics\n",
    "print(\"📊 Task 1 - Descriptive Statistics:\")\n",
    "summary_stats = scores_df.describe().round(2)\n",
    "print(summary_stats)\n",
    "\n",
    "# Task 2: Highest variability\n",
    "print(\"\\n📈 Task 2 - Variability Analysis:\")\n",
    "std_devs = scores_df.std().round(2)\n",
    "print(std_devs)\n",
    "highest_var = std_devs.idxmax()\n",
    "print(f\"\\n🎯 {highest_var.title()} has the highest variability (std = {std_devs[highest_var]})\")\n",
    "\n",
    "# Task 3: Math outliers\n",
    "print(\"\\n🔍 Task 3 - Math Score Outliers:\")\n",
    "math_mean = scores_df['math'].mean()\n",
    "math_std = scores_df['math'].std()\n",
    "math_z_scores = (scores_df['math'] - math_mean) / math_std\n",
    "\n",
    "outlier_students = scores_df[np.abs(math_z_scores) > 2].copy()\n",
    "outlier_students['math_z_score'] = math_z_scores[np.abs(math_z_scores) > 2].round(2)\n",
    "print(f\"Found {len(outlier_students)} outlier students:\")\n",
    "if len(outlier_students) > 0:\n",
    "    print(outlier_students)\n",
    "else:\n",
    "    print(\"No significant outliers found\")\n",
    "\n",
    "# Task 4: Professional summary\n",
    "print(\"\\n📋 Task 4 - Executive Summary:\")\n",
    "summary_table = pd.DataFrame({\n",
    "    'Subject': ['Math', 'Reading', 'Science'],\n",
    "    'Mean': [scores_df['math'].mean(), scores_df['reading'].mean(), scores_df['science'].mean()],\n",
    "    'Median': [scores_df['math'].median(), scores_df['reading'].median(), scores_df['science'].median()],\n",
    "    'Std_Dev': [scores_df['math'].std(), scores_df['reading'].std(), scores_df['science'].std()],\n",
    "    'Outliers': [len(scores_df[np.abs((scores_df['math'] - scores_df['math'].mean()) / scores_df['math'].std()) > 2]),\n",
    "                len(scores_df[np.abs((scores_df['reading'] - scores_df['reading'].mean()) / scores_df['reading'].std()) > 2]),\n",
    "                len(scores_df[np.abs((scores_df['science'] - scores_df['science'].mean()) / scores_df['science'].std()) > 2])]\n",
    "}).round(1)\n",
    "\n",
    "print(summary_table.to_string(index=False))\n",
    "```\n",
    "</details>"
   ]
  },
  {
   "cell_type": "markdown",
   "metadata": {},
   "source": [
    "## 5. Pandas Power Tools"
   ]
  },
  {
   "cell_type": "code",
   "execution_count": null,
   "metadata": {},
   "outputs": [],
   "source": [
    "# Create realistic company dataset\n",
    "np.random.seed(42)\n",
    "company_data = pd.DataFrame({\n",
    "    'salary': salaries,\n",
    "    'department': np.random.choice(['Engineering', 'Sales', 'Marketing', 'HR'], len(salaries)),\n",
    "    'experience': np.random.randint(0, 15, len(salaries))\n",
    "})\n",
    "\n",
    "print(\"🏢 Company Dataset:\")\n",
    "print(company_data.head())"
   ]
  },
  {
   "cell_type": "code",
   "execution_count": null,
   "metadata": {},
   "outputs": [],
   "source": [
    "# One-line statistical summaries\n",
    "print(\"⚡ Quick Statistical Summary:\")\n",
    "print(company_data['salary'].describe())\n",
    "\n",
    "print(\"\\n🏢 Statistics by Department:\")\n",
    "dept_stats = company_data.groupby('department')['salary'].agg([\n",
    "    'count', 'mean', 'median', 'std'\n",
    "]).round(0)\n",
    "print(dept_stats)"
   ]
  },
  {
   "cell_type": "markdown",
   "metadata": {},
   "source": [
    "## 6. Avoiding Common Pitfalls"
   ]
  },
  {
   "cell_type": "code",
   "execution_count": null,
   "metadata": {},
   "outputs": [],
   "source": [
    "# Pitfall 1: Mean with skewed data\n",
    "skewed_income = np.concatenate([\n",
    "    np.random.normal(50000, 10000, 90),  # Regular earners\n",
    "    np.random.normal(200000, 50000, 10)  # High earners\n",
    "])\n",
    "\n",
    "print(\"⚠️  Pitfall: Using Mean with Skewed Data\")\n",
    "print(f\"Mean income: ${np.mean(skewed_income):,.0f}\")\n",
    "print(f\"Median income: ${np.median(skewed_income):,.0f}\")\n",
    "print(f\"\\n🎯 Which better represents 'typical' income? The median!\")\n",
    "\n",
    "# Pitfall 2: Wrong standard deviation formula\n",
    "print(f\"\\n⚠️  Pitfall: Sample vs Population Formulas\")\n",
    "small_sample = [10, 20, 30, 40, 50]\n",
    "print(f\"Population std (ddof=0): {np.std(small_sample, ddof=0):.2f}\")\n",
    "print(f\"Sample std (ddof=1):     {np.std(small_sample, ddof=1):.2f}\")\n",
    "print(f\"\\n🎯 Use ddof=1 for samples (most cases)!\")"
   ]
  },
  {
   "cell_type": "markdown",
   "metadata": {},
   "source": [
    "## 7. Mini-Challenges\n",
    "- **M1 (easy):** Create a statistical report comparing performance across different teams\n",
    "- **M2 (medium):** Build an outlier detection system using z-scores with automatic flagging\n",
    "- **M3 (hard):** Design a dashboard that shows when mean vs median should be used based on data distribution"
   ]
  },
  {
   "cell_type": "code",
   "execution_count": null,
   "metadata": {},
   "outputs": [],
   "source": [
    "# Your turn - try the challenges!\n",
    "# M1 Data:\n",
    "team_performance = {\n",
    "    'team': ['Alpha', 'Beta', 'Gamma'] * 10,\n",
    "    'score': np.random.normal([85, 78, 92], [8, 12, 6], 30).flatten()\n",
    "}\n",
    "\n",
    "# M2: Use any dataset and create z-score alerts\n",
    "# M3: Create multiple datasets with different distributions\n"
   ]
  },
  {
   "cell_type": "markdown",
   "metadata": {},
   "source": [
    "<details>\n",
    "<summary><b>Solutions</b></summary>\n",
    "\n",
    "```python\n",
    "# M1 - Team Performance Report\n",
    "team_df = pd.DataFrame(team_performance)\n",
    "team_df['score'] = team_df['score'].round(1)\n",
    "\n",
    "print(\"🏆 M1 - Team Performance Report:\")\n",
    "team_summary = team_df.groupby('team')['score'].agg([\n",
    "    'count', 'mean', 'median', 'std', 'min', 'max'\n",
    "]).round(2)\n",
    "team_summary.columns = ['Size', 'Mean', 'Median', 'Std Dev', 'Min', 'Max']\n",
    "print(team_summary)\n",
    "\n",
    "# Find best performing team\n",
    "best_team = team_summary['Mean'].idxmax()\n",
    "most_consistent = team_summary['Std Dev'].idxmin()\n",
    "print(f\"\\n🥇 Highest average: Team {best_team}\")\n",
    "print(f\"🎯 Most consistent: Team {most_consistent}\")\n",
    "\n",
    "# M2 - Outlier Detection System\n",
    "def outlier_detector(data, threshold=2):\n",
    "    mean_val = np.mean(data)\n",
    "    std_val = np.std(data, ddof=1)\n",
    "    z_scores = (data - mean_val) / std_val\n",
    "    \n",
    "    outliers = []\n",
    "    for i, (value, z) in enumerate(zip(data, z_scores)):\n",
    "        if abs(z) > threshold:\n",
    "            outliers.append({\n",
    "                'index': i,\n",
    "                'value': value,\n",
    "                'z_score': round(z, 2),\n",
    "                'alert': '🚨 EXTREME' if abs(z) > 3 else '⚠️ WARNING'\n",
    "            })\n",
    "    return outliers\n",
    "\n",
    "print(\"\\n🔍 M2 - Outlier Detection System:\")\n",
    "outliers_found = outlier_detector(salaries)\n",
    "if outliers_found:\n",
    "    for outlier in outliers_found:\n",
    "        print(f\"{outlier['alert']} Index {outlier['index']}: ${outlier['value']:,} (z={outlier['z_score']})\")\n",
    "else:\n",
    "    print(\"✅ No outliers detected\")\n",
    "\n",
    "# M3 - Mean vs Median Advisor\n",
    "def distribution_advisor(data):\n",
    "    mean_val = np.mean(data)\n",
    "    median_val = np.median(data)\n",
    "    skewness = stats.skew(data)\n",
    "    \n",
    "    print(f\"📊 Distribution Analysis:\")\n",
    "    print(f\"   Mean: {mean_val:.2f}\")\n",
    "    print(f\"   Median: {median_val:.2f}\")\n",
    "    print(f\"   Skewness: {skewness:.2f}\")\n",
    "    \n",
    "    if abs(skewness) < 0.5:\n",
    "        recommendation = \"📊 Use MEAN (symmetric distribution)\"\n",
    "    elif abs(mean_val - median_val) / median_val > 0.1:\n",
    "        recommendation = \"🎯 Use MEDIAN (significant skewness/outliers)\"\n",
    "    else:\n",
    "        recommendation = \"⚖️  Either MEAN or MEDIAN (slight skewness)\"\n",
    "    \n",
    "    print(f\"\\n💡 Recommendation: {recommendation}\")\n",
    "    return recommendation\n",
    "\n",
    "print(\"\\n🎯 M3 - Distribution Advisor:\")\n",
    "distribution_advisor(salaries)\n",
    "```\n",
    "</details>"
   ]
  },
  {
   "cell_type": "markdown",
   "metadata": {},
   "source": [
    "## 8. Real-World Applications"
   ]
  },
  {
   "cell_type": "code",
   "execution_count": null,
   "metadata": {},
   "outputs": [],
   "source": [
    "# Compare two business scenarios\n",
    "scenario_a = np.random.normal(100, 5, 100)   # Consistent performance\n",
    "scenario_b = np.random.normal(100, 20, 100)  # Variable performance\n",
    "\n",
    "fig, (ax1, ax2) = plt.subplots(1, 2, figsize=(12, 5))\n",
    "\n",
    "ax1.hist(scenario_a, bins=15, alpha=0.7, color='lightblue')\n",
    "ax1.set_title(f'📈 Consistent Business\\nStd: {np.std(scenario_a):.1f}')\n",
    "ax1.set_xlabel('Performance Score')\n",
    "\n",
    "ax2.hist(scenario_b, bins=15, alpha=0.7, color='lightcoral')\n",
    "ax2.set_title(f'🎢 Variable Business\\nStd: {np.std(scenario_b):.1f}')\n",
    "ax2.set_xlabel('Performance Score')\n",
    "\n",
    "plt.tight_layout()\n",
    "plt.show()\n",
    "\n",
    "print(\"💼 Business Insight: Same mean, very different reliability!\")\n",
    "print(f\"   Consistent: You can predict performance within ±{np.std(scenario_a):.1f} points\")\n",
    "print(f\"   Variable: Performance varies by ±{np.std(scenario_b):.1f} points\")"
   ]
  },
  {
   "cell_type": "markdown",
   "metadata": {},
   "source": [
    "## Wrap-Up & Next Steps\n",
    "✅ You can calculate and interpret measures of central tendency  \n",
    "✅ You understand when to use mean vs median  \n",
    "✅ You can measure and interpret variability with standard deviation  \n",
    "✅ You can identify outliers using z-scores  \n",
    "✅ You can create professional statistical summaries  \n",
    "\n",
    "**Quick Reference Card:**\n",
    "- 📊 **Mean**: Best for normal distributions, sensitive to outliers\n",
    "- 🎯 **Median**: Best for skewed data, robust to outliers  \n",
    "- 📏 **Standard Deviation**: Measures spread in original units\n",
    "- 🔍 **Z-Score**: Identifies outliers (|z| > 2 is unusual)\n",
    "- ⚡ **Pandas**: Use `.describe()` for quick summaries\n",
    "\n",
    "**Next:** Probability Distributions - Learn how data follows predictable patterns!\n"
   ]
  }
 ],
 "metadata": {
  "kernelspec": {
   "display_name": "Python 3 (ipykernel)",
   "language": "python",
   "name": "python3"
  },
  "language_info": {
   "codemirror_mode": {
    "name": "ipython",
    "version": 3
   },
   "file_extension": ".py",
   "mimetype": "text/x-python",
   "name": "python",
   "nbconvert_exporter": "python",
   "pygments_lexer": "ipython3",
   "version": "3.13.7"
  }
 },
 "nbformat": 4,
 "nbformat_minor": 4
}
